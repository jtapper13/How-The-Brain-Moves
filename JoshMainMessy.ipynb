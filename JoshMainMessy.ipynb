{
  "cells": [
    {
      "cell_type": "code",
      "execution_count": 1,
      "metadata": {
        "colab": {
          "base_uri": "https://localhost:8080/"
        },
        "id": "ZPLb6P4ntfjY",
        "outputId": "95a3bbf1-12b1-4a16-b0ca-7d429cbbdf33"
      },
      "outputs": [
        {
          "output_type": "stream",
          "name": "stdout",
          "text": [
            "Mounted at /content/drive\n"
          ]
        }
      ],
      "source": [
        "from google.colab import drive\n",
        "drive.mount('/content/drive', force_remount=True)"
      ]
    },
    {
      "cell_type": "code",
      "source": [
        "# Code for Josh to access data with other accounts\n",
        "from google.colab import drive\n",
        "drive.mount('/content/drive', force_remount=True)\n",
        "\n",
        "import os\n",
        "# Change directory to the shared folder\n",
        "# The folder path is: '/content/drive/My Drive/path/to/shared/folder/'\n",
        "shared_folder = '/content/drive/MyDrive/data'\n",
        "os.chdir(shared_folder)"
      ],
      "metadata": {
        "colab": {
          "base_uri": "https://localhost:8080/"
        },
        "id": "RqeYvpkF9Lud",
        "outputId": "ad9b0436-3682-41f9-99e1-a92400685189"
      },
      "execution_count": null,
      "outputs": [
        {
          "output_type": "stream",
          "name": "stdout",
          "text": [
            "Mounted at /content/drive\n"
          ]
        }
      ]
    },
    {
      "cell_type": "code",
      "execution_count": 2,
      "metadata": {
        "colab": {
          "base_uri": "https://localhost:8080/"
        },
        "id": "CZ1TRsWrACG1",
        "outputId": "696f621e-c682-4da3-b376-3c0a3e244a0b"
      },
      "outputs": [
        {
          "output_type": "stream",
          "name": "stdout",
          "text": [
            "Collecting hdf5storage\n",
            "  Downloading hdf5storage-0.2.0-py3-none-any.whl.metadata (44 kB)\n",
            "\u001b[?25l     \u001b[90m━━━━━━━━━━━━━━━━━━━━━━━━━━━━━━━━━━━━━━━━\u001b[0m \u001b[32m0.0/44.1 kB\u001b[0m \u001b[31m?\u001b[0m eta \u001b[36m-:--:--\u001b[0m\r\u001b[2K     \u001b[90m━━━━━━━━━━━━━━━━━━━━━━━━━━━━━━━━━━━━━━━━\u001b[0m \u001b[32m44.1/44.1 kB\u001b[0m \u001b[31m2.6 MB/s\u001b[0m eta \u001b[36m0:00:00\u001b[0m\n",
            "\u001b[?25hRequirement already satisfied: h5py>=3.9 in /usr/local/lib/python3.11/dist-packages (from hdf5storage) (3.13.0)\n",
            "Requirement already satisfied: numpy>=1.26 in /usr/local/lib/python3.11/dist-packages (from hdf5storage) (2.0.2)\n",
            "Downloading hdf5storage-0.2.0-py3-none-any.whl (75 kB)\n",
            "\u001b[?25l   \u001b[90m━━━━━━━━━━━━━━━━━━━━━━━━━━━━━━━━━━━━━━━━\u001b[0m \u001b[32m0.0/75.5 kB\u001b[0m \u001b[31m?\u001b[0m eta \u001b[36m-:--:--\u001b[0m\r\u001b[2K   \u001b[90m━━━━━━━━━━━━━━━━━━━━━━━━━━━━━━━━━━━━━━━━\u001b[0m \u001b[32m75.5/75.5 kB\u001b[0m \u001b[31m4.5 MB/s\u001b[0m eta \u001b[36m0:00:00\u001b[0m\n",
            "\u001b[?25hInstalling collected packages: hdf5storage\n",
            "Successfully installed hdf5storage-0.2.0\n"
          ]
        }
      ],
      "source": [
        "# Imports\n",
        "import numpy as np\n",
        "import matplotlib\n",
        "from matplotlib import pyplot as plt\n",
        "import os\n",
        "import time\n",
        "import gc\n",
        "import math\n",
        "\n",
        "from pandas import DataFrame\n",
        "from pandas.io.parsers import read_csv\n",
        "from sklearn.utils import shuffle\n",
        "from sklearn.metrics import accuracy_score\n",
        "import tensorflow as tf\n",
        "from tensorflow import keras\n",
        "from tensorflow.keras import layers\n",
        "\n",
        "!pip install hdf5storage\n",
        "import hdf5storage\n",
        "from scipy.signal import butter, filtfilt, savgol_filter\n",
        "from sklearn.decomposition import PCA\n",
        "from sklearn.linear_model import LogisticRegression\n",
        "from sklearn.model_selection import StratifiedShuffleSplit, train_test_split\n",
        "from sklearn.preprocessing import StandardScaler\n",
        "from sklearn.decomposition import PCA\n",
        "\n",
        "from scipy.fft import fft, fftfreq, fft2, rfft\n",
        "from scipy.signal import iirnotch, freqz\n",
        "from scipy.signal import spectrogram"
      ]
    },
    {
      "cell_type": "code",
      "execution_count": null,
      "metadata": {
        "id": "0Mas-o2obSV9",
        "cellView": "form"
      },
      "outputs": [],
      "source": [
        "# @title\n",
        "# Adding Michael's utils.py here so we can both reference it easily\n",
        "\n",
        "import builtins\n",
        "# Monkey-patch np.unicode_ to np.str_\n",
        "if not hasattr(builtins, \"unicode\"):\n",
        "  builtins.unicode = str\n",
        "  np.unicode_ = np.str_\n",
        "  #importlib.reload(hdf5storage)\n",
        "\n",
        "def import_mat(fn):\n",
        "    data = hdf5storage.loadmat(fn)\n",
        "    raw = data[\"data\"][\"raw\"][0][0]\n",
        "    epoched = data[\"data\"][\"epoched\"][0][0]\n",
        "    event_times = data[\"data\"][\"event_times\"][0][0]\n",
        "    event_names = data[\"data\"][\"event_names\"][0][0]\n",
        "    param_dict = {}\n",
        "    param_dict[\"hand\"] = data[\"data\"][\"hand\"][0][0][0]\n",
        "    param_dict[\"spikes\"] = data[\"data\"][\"spikes\"][0][0][0][0][0]\n",
        "    param_dict[\"aligned_to\"] = data[\"data\"][\"alignedTo\"][0][0][0][0][0]\n",
        "    param_dict[\"angle\"] = data[\"data\"][\"angle\"][0][0][0]\n",
        "    param_dict[\"event_times\"] = event_times\n",
        "    param_dict[\"event_names\"] = event_names\n",
        "    return raw, epoched, param_dict\n",
        "\n",
        "\n",
        "def automatic_bad_channel_detection(lfp, verbose=False):\n",
        "    \"\"\"\n",
        "    Automatic Iterative Standard Deviation method (Komosar, et al. 2022)\n",
        "    Input: lfp (channels x time x trials)\n",
        "    Output: remaining_channels (i.e. \"clean\" channels)\n",
        "    \"\"\"\n",
        "    remaining_channels = np.arange(lfp.shape[0])\n",
        "    k = 0  # iteration counter\n",
        "    sd_pk = np.inf  # std of all individual channel std's\n",
        "    while sd_pk > 5:\n",
        "        if verbose:\n",
        "            print(sd_pk)\n",
        "        if k > 0:\n",
        "            remaining_channels = np.setdiff1d(remaining_channels, bad_channels_k)\n",
        "        sd_k = np.median(\n",
        "            np.std(lfp[remaining_channels, :, :], axis=1), axis=1\n",
        "        )  # std of each channel (median across trials)\n",
        "        m_k = np.median(sd_k)  # median of channel std's\n",
        "        third_quartile = np.percentile(sd_k, 75)\n",
        "        if sd_pk == np.std(sd_k):  # if no channels are removed (not in paper)\n",
        "            break\n",
        "        sd_pk = np.std(sd_k)\n",
        "        bad_channels_k = []\n",
        "        for ch in remaining_channels:\n",
        "            sd_jk = np.std(lfp[ch, :, :])\n",
        "            if sd_jk < 10e-4:\n",
        "                bad_channels_k.append(ch)\n",
        "            elif sd_jk > 100:\n",
        "                bad_channels_k.append(ch)\n",
        "            elif abs(sd_jk - m_k) > third_quartile:\n",
        "                bad_channels_k.append(ch)\n",
        "        k += 1\n",
        "    return remaining_channels\n",
        "\n",
        "\n",
        "def butter_bandpass(lowcut, highcut, fs, order=2):\n",
        "    \"\"\"\n",
        "    Compute the filter coefficients for a Butterworth bandpass filter.\n",
        "    \"\"\"\n",
        "    # Compute the Nyquist frequency\n",
        "    nyq = 0.5 * fs\n",
        "    # Compute the low and high frequencies\n",
        "    low = lowcut / nyq\n",
        "    high = highcut / nyq\n",
        "    # Compute the filter coefficients\n",
        "    b, a = butter(order, [low, high], btype=\"band\")\n",
        "    # Return the filter coefficients\n",
        "    return b, a\n",
        "\n",
        "\n",
        "def bandpass_filter(lfp, fs, lowcut, highcut):\n",
        "    \"\"\"\n",
        "    Apply a bandpass filter to the LFP signal.\n",
        "    \"\"\"\n",
        "    # Compute the filter coefficients\n",
        "    b, a = butter_bandpass(lowcut, highcut, fs)\n",
        "    # Apply the filter\n",
        "    lfp_filtered = filtfilt(b, a, lfp, axis=1)\n",
        "    # Return the filtered LFP signal\n",
        "    return lfp_filtered\n",
        "\n",
        "\n",
        "def trajectory_plot_2d(mua, cond_names, data_type, save_dir):\n",
        "    mua_mean = np.mean(mua, axis=2)\n",
        "    mua_mean = mua_mean.reshape(\n",
        "        mua_mean.shape[0], mua_mean.shape[1] * mua_mean.shape[2]\n",
        "    )\n",
        "    pca = PCA(n_components=2)\n",
        "    pca.fit(mua_mean.T)\n",
        "    ev = pca.explained_variance_ratio_\n",
        "    X_new = pca.transform(mua_mean.T).T\n",
        "    X_new = X_new.reshape((2, mua.shape[1], mua.shape[3]))\n",
        "    # plot\n",
        "    f = plt.figure()\n",
        "    for c in range(mua.shape[3]):\n",
        "        plt.plot(X_new[0, :, c], X_new[1, :, c], label=cond_names[c])\n",
        "    plt.xlabel(f\"PC 1 ({ev[0] * 100:.2f}%)\")\n",
        "    plt.ylabel(f\"PC 2 ({ev[1] * 100:.2f}%)\")\n",
        "    plt.legend()\n",
        "    # box off\n",
        "    ax = plt.gca()\n",
        "    ax.spines[\"top\"].set_visible(False)\n",
        "    ax.spines[\"right\"].set_visible(False)\n",
        "    plt.title(f\"{data_type} Trajectories\")\n",
        "    plt.savefig(os.path.join(save_dir, data_type + \"_pca.png\"))\n",
        "    plt.close(f)\n",
        "\n",
        "\n",
        "def classify_trajectories(mua, import_conds, nw, nt_ac):\n",
        "    npc = 2  # number of principal components\n",
        "    # project onto first 2 PCs\n",
        "    mua_mean = np.mean(mua, axis=2)\n",
        "    mua_mean = mua_mean.reshape(\n",
        "        mua_mean.shape[0], mua_mean.shape[1] * mua_mean.shape[2]\n",
        "    )\n",
        "    pca = PCA(n_components=npc)\n",
        "    pca.fit(mua_mean.T)\n",
        "    pc = pca.components_\n",
        "    ev = pca.explained_variance_ratio_\n",
        "\n",
        "    projected = np.empty((npc, nw, nt_ac, len(import_conds)))\n",
        "    for t in range(nt_ac):\n",
        "        X = mua[:, :, t, :].reshape((mua.shape[0], mua.shape[1] * mua.shape[3])).T\n",
        "        X_new = np.matmul(X, pc.T)\n",
        "        X_new = X_new.reshape((nw, len(import_conds), npc))\n",
        "        projected[:, :, t, :] = X_new.transpose((2, 0, 1))\n",
        "\n",
        "    X = projected.transpose((2, 3, 0, 1))\n",
        "    X = X.reshape((nt_ac * len(import_conds), X.shape[2], X.shape[3]))\n",
        "    X = X.reshape((X.shape[0], X.shape[1] * X.shape[2]))\n",
        "    # y = np.repeat(np.arange(len(import_conds)), nt_ac)\n",
        "    y = np.tile(np.arange(len(import_conds)), nt_ac)\n",
        "\n",
        "    sss = StratifiedShuffleSplit(n_splits=100, test_size=0.2, random_state=0)\n",
        "    sss.get_n_splits(X, y)\n",
        "    acc = []\n",
        "    for i, (train_index, test_index) in enumerate(sss.split(X, y)):\n",
        "        X_train = X[train_index, :]\n",
        "        X_train = StandardScaler().fit_transform(X_train)\n",
        "        X_test = X[test_index, :]\n",
        "        X_test = StandardScaler().fit_transform(X_test)\n",
        "        y_train = y[train_index]\n",
        "        y_test = y[test_index]\n",
        "        clf = LogisticRegression(max_iter=2000, random_state=0).fit(X_train, y_train)\n",
        "        acc.append(clf.score(X_test, y_test))\n",
        "    return acc\n",
        "\n",
        "\n",
        "def box_plot(data, edge_color, fill_color):\n",
        "    bp = plt.boxplot(data, patch_artist=True, showfliers=False)\n",
        "\n",
        "    for element in [\"boxes\", \"whiskers\", \"fliers\", \"means\", \"medians\", \"caps\"]:\n",
        "        plt.setp(bp[element], color=edge_color)\n",
        "\n",
        "    for patch in bp[\"boxes\"]:\n",
        "        patch.set(facecolor=fill_color)\n",
        "\n",
        "    return bp\n",
        "\n",
        "#Adding Luca's functions\n",
        "# Computes the spectogram of EEGs\n",
        "def compute_eeg_fft_spectrogram(eeg_data, fs=1000, window_size=25, step_size=10, fmax=50):\n",
        "    num_channels, num_samples = eeg_data.shape\n",
        "    freqs = np.fft.rfftfreq(window_size, d=1/fs)\n",
        "    max_bin = np.argmax(freqs > fmax) if np.any(freqs > fmax) else len(freqs)\n",
        "    num_windows = (num_samples - window_size) // step_size + 1\n",
        "    spec = np.zeros((num_channels, max_bin, num_windows))\n",
        "\n",
        "    for ch in range(num_channels):\n",
        "        for i in range(num_windows):\n",
        "            start = i * step_size\n",
        "            end = start + window_size\n",
        "            segment = eeg_data[ch, start:end]\n",
        "            fft_vals = np.abs(rfft(segment))[:max_bin]\n",
        "            spec[ch, :, i] = fft_vals\n",
        "\n",
        "    return spec, freqs[:max_bin]\n",
        "\n",
        "\n",
        "# Visualize the spectogram of EEGs\n",
        "def visualize_spectogram(spectrogram, title):\n",
        "  plt.figure(figsize=(10, 6))\n",
        "  plt.imshow(\n",
        "      spectrogram,\n",
        "      origin='lower',\n",
        "      aspect='auto',\n",
        "      cmap='viridis',\n",
        "      extent=[0, spectrogram.shape[1], 0, spectrogram.shape[0]]\n",
        "  )\n",
        "  plt.title(title)\n",
        "  plt.xlabel(\"Time Window\")\n",
        "  plt.ylabel(\"Frequency (Hz)\")\n",
        "  plt.colorbar(label=\"Magnitude\")\n",
        "  plt.tight_layout()\n",
        "  plt.show()\n",
        "\n",
        "\n",
        "def EEG_pipeline(X, clip_values = 500, fs = 1000, lowcut = 50, highcut = 100,\n",
        "                 fmax = 100, window_size = 100, step_size = 25):\n",
        "  epoched = X.copy()\n",
        "\n",
        "  # Train/test splits\n",
        "  X_Multichannel = epoched.reshape(1575, 508, X.shape[1], 1)   # We rearrange such that we have n_trials x Time x Channels\n",
        "  #y = np.tile(np.arange(5), 315)  # Labels follow a repeating pattern from 0 to 4\n",
        "\n",
        "  print(\"New X shape:\", X_Multichannel.shape)  # (1575, 508, 256, 1)\n",
        "  print(\"New y shape:\", y.shape)  # (1575,)\n",
        "\n",
        "  plt.plot(X_Multichannel[0, :, 0, 0])\n",
        "  plt.show()\n",
        "\n",
        "\n",
        "  plt.plot(X_Multichannel[0, :, :, 0])\n",
        "  plt.show()\n",
        "\n",
        "  #X_clipped = np.clip(X_Multichannel, -clip_values, clip_values)\n",
        "\n",
        "  #print(\"Epoched clipped at values\", clip_values)\n",
        "\n",
        "  ffts_images = []\n",
        "  for i in range(X_Multichannel.shape[0]):# Get a longer EEG window (1 second)\n",
        "    real_epoched = X_Multichannel[i, :, :, 0].T  # (channels, samples)\n",
        "    ffts_images.append(compute_eeg_fft_spectrogram(real_epoched, fs=fs,\n",
        "            window_size=window_size, step_size=step_size, fmax=fmax)[0])\n",
        "            # Note that there will be 1575 instances of 255 spectograms\n",
        "\n",
        "  imgs_stacked = np.stack(ffts_images, axis=0)\n",
        "\n",
        "  return ffts_images, X_Multichannel, imgs_stacked"
      ]
    },
    {
      "cell_type": "code",
      "source": [
        "# @title\n",
        "# Luca code\n",
        "def import_mat(fn):\n",
        "    data = hdf5storage.loadmat(fn)\n",
        "    raw = data[\"data\"][\"raw\"][0][0]\n",
        "    epoched = data[\"data\"][\"epoched\"][0][0]\n",
        "    event_times = data[\"data\"][\"event_times\"][0][0]\n",
        "    event_names = data[\"data\"][\"event_names\"][0][0]\n",
        "    param_dict = {}\n",
        "    param_dict[\"hand\"] = data[\"data\"][\"hand\"][0][0][0]\n",
        "    param_dict[\"spikes\"] = data[\"data\"][\"spikes\"][0][0][0][0][0]\n",
        "    param_dict[\"aligned_to\"] = data[\"data\"][\"alignedTo\"][0][0][0][0][0]\n",
        "    param_dict[\"angle\"] = data[\"data\"][\"angle\"][0][0][0]\n",
        "    param_dict[\"event_times\"] = event_times\n",
        "    param_dict[\"event_names\"] = event_names\n",
        "    return raw, epoched, param_dict\n",
        "\n",
        "\n",
        "def automatic_bad_channel_detection(lfp, verbose=False):\n",
        "    \"\"\"\n",
        "    Automatic Iterative Standard Deviation method (Komosar, et al. 2022)\n",
        "    Input: lfp (channels x time x trials)\n",
        "    Output: remaining_channels (i.e. \"clean\" channels)\n",
        "    \"\"\"\n",
        "    remaining_channels = np.arange(lfp.shape[0])\n",
        "    k = 0  # iteration counter\n",
        "    sd_pk = np.inf  # std of all individual channel std's\n",
        "    while sd_pk > 5:\n",
        "        if verbose:\n",
        "            print(sd_pk)\n",
        "        if k > 0:\n",
        "            remaining_channels = np.setdiff1d(remaining_channels, bad_channels_k)\n",
        "        sd_k = np.median(\n",
        "            np.std(lfp[remaining_channels, :, :], axis=1), axis=1\n",
        "        )  # std of each channel (median across trials)\n",
        "        m_k = np.median(sd_k)  # median of channel std's\n",
        "        third_quartile = np.percentile(sd_k, 75)\n",
        "        if sd_pk == np.std(sd_k):  # if no channels are removed (not in paper)\n",
        "            break\n",
        "        sd_pk = np.std(sd_k)\n",
        "        bad_channels_k = []\n",
        "        for ch in remaining_channels:\n",
        "            sd_jk = np.std(lfp[ch, :, :])\n",
        "            if sd_jk < 10e-4:\n",
        "                bad_channels_k.append(ch)\n",
        "            elif sd_jk > 100:\n",
        "                bad_channels_k.append(ch)\n",
        "            elif abs(sd_jk - m_k) > third_quartile:\n",
        "                bad_channels_k.append(ch)\n",
        "        k += 1\n",
        "    return remaining_channels\n",
        "\n",
        "\n",
        "def butter_bandpass(lowcut, highcut, fs, order=2):\n",
        "    \"\"\"\n",
        "    Compute the filter coefficients for a Butterworth bandpass filter.\n",
        "    \"\"\"\n",
        "    # Compute the Nyquist frequency\n",
        "    nyq = 0.5 * fs\n",
        "    # Compute the low and high frequencies\n",
        "    low = lowcut / nyq\n",
        "    high = highcut / nyq\n",
        "    # Compute the filter coefficients\n",
        "    b, a = butter(order, [low, high], btype=\"band\")\n",
        "    # Return the filter coefficients\n",
        "    return b, a\n",
        "\n",
        "\n",
        "def bandpass_filter(lfp, fs, lowcut, highcut):\n",
        "    \"\"\"\n",
        "    Apply a bandpass filter to the LFP signal.\n",
        "    \"\"\"\n",
        "    # Compute the filter coefficients\n",
        "    b, a = butter_bandpass(lowcut, highcut, fs)\n",
        "    # Apply the filter\n",
        "    lfp_filtered = filtfilt(b, a, lfp, axis=0)\n",
        "    # Return the filtered LFP signal\n",
        "    return lfp_filtered\n",
        "\n",
        "\n",
        "def trajectory_plot_2d(mua, cond_names, data_type, save_dir):\n",
        "    mua_mean = np.mean(mua, axis=2)\n",
        "    mua_mean = mua_mean.reshape(\n",
        "        mua_mean.shape[0], mua_mean.shape[1] * mua_mean.shape[2]\n",
        "    )\n",
        "    pca = PCA(n_components=2)\n",
        "    pca.fit(mua_mean.T)\n",
        "    ev = pca.explained_variance_ratio_\n",
        "    X_new = pca.transform(mua_mean.T).T\n",
        "    X_new = X_new.reshape((2, mua.shape[1], mua.shape[3]))\n",
        "    # plot\n",
        "    f = plt.figure()\n",
        "    for c in range(mua.shape[3]):\n",
        "        plt.plot(X_new[0, :, c], X_new[1, :, c], label=cond_names[c])\n",
        "    plt.xlabel(f\"PC 1 ({ev[0] * 100:.2f}%)\")\n",
        "    plt.ylabel(f\"PC 2 ({ev[1] * 100:.2f}%)\")\n",
        "    plt.legend()\n",
        "    # box off\n",
        "    ax = plt.gca()\n",
        "    ax.spines[\"top\"].set_visible(False)\n",
        "    ax.spines[\"right\"].set_visible(False)\n",
        "    plt.title(f\"{data_type} Trajectories\")\n",
        "    plt.savefig(os.path.join(save_dir, data_type + \"_pca.png\"))\n",
        "    plt.close(f)\n",
        "\n",
        "\n",
        "def classify_trajectories(mua, import_conds, nw, nt_ac):\n",
        "    npc = 2  # number of principal components\n",
        "    # project onto first 2 PCs\n",
        "    mua_mean = np.mean(mua, axis=2)\n",
        "    mua_mean = mua_mean.reshape(\n",
        "        mua_mean.shape[0], mua_mean.shape[1] * mua_mean.shape[2]\n",
        "    )\n",
        "    pca = PCA(n_components=npc)\n",
        "    pca.fit(mua_mean.T)\n",
        "    pc = pca.components_\n",
        "    ev = pca.explained_variance_ratio_\n",
        "\n",
        "    projected = np.empty((npc, nw, nt_ac, len(import_conds)))\n",
        "    for t in range(nt_ac):\n",
        "        X = mua[:, :, t, :].reshape((mua.shape[0], mua.shape[1] * mua.shape[3])).T\n",
        "        X_new = np.matmul(X, pc.T)\n",
        "        X_new = X_new.reshape((nw, len(import_conds), npc))\n",
        "        projected[:, :, t, :] = X_new.transpose((2, 0, 1))\n",
        "\n",
        "    X = projected.transpose((2, 3, 0, 1))\n",
        "    X = X.reshape((nt_ac * len(import_conds), X.shape[2], X.shape[3]))\n",
        "    X = X.reshape((X.shape[0], X.shape[1] * X.shape[2]))\n",
        "    # y = np.repeat(np.arange(len(import_conds)), nt_ac)\n",
        "    y = np.tile(np.arange(len(import_conds)), nt_ac)\n",
        "\n",
        "    sss = StratifiedShuffleSplit(n_splits=100, test_size=0.2, random_state=0)\n",
        "    sss.get_n_splits(X, y)\n",
        "    acc = []\n",
        "    for i, (train_index, test_index) in enumerate(sss.split(X, y)):\n",
        "        X_train = X[train_index, :]\n",
        "        X_train = StandardScaler().fit_transform(X_train)\n",
        "        X_test = X[test_index, :]\n",
        "        X_test = StandardScaler().fit_transform(X_test)\n",
        "        y_train = y[train_index]\n",
        "        y_test = y[test_index]\n",
        "        clf = LogisticRegression(max_iter=2000, random_state=0).fit(X_train, y_train)\n",
        "        acc.append(clf.score(X_test, y_test))\n",
        "    return acc\n",
        "\n",
        "\n",
        "def box_plot(data, edge_color, fill_color):\n",
        "    bp = plt.boxplot(data, patch_artist=True, showfliers=False)\n",
        "\n",
        "    for element in [\"boxes\", \"whiskers\", \"fliers\", \"means\", \"medians\", \"caps\"]:\n",
        "        plt.setp(bp[element], color=edge_color)\n",
        "\n",
        "    for patch in bp[\"boxes\"]:\n",
        "        patch.set(facecolor=fill_color)\n",
        "\n",
        "    return bp\n",
        "\n",
        "\n",
        "# Placeholder for any processing we might want to do while loading\n",
        "def load_data(filename):\n",
        "  '''We might need separate functions. It takes a long time to upload the\n",
        "  .mat files to colab, so if Colab can just find the files stored on our\n",
        "  computer that might be better. Or perhaps upload the files to Google drive'''\n",
        "  raw, epoched, param_dict = import_mat(filename)\n",
        "  return raw, epoched, param_dict\n",
        "\n",
        "\n",
        "# Placeholder for any processing we might want to do while loading\n",
        "def load_all_datasets(n_classes):\n",
        "  # When loading all data, we must do it seperatly due to memory constraints\n",
        "  raw1, _, _ = import_mat('/content/drive/MyDrive/data/1_data_left_0.mat')\n",
        "  raw2, _, _ = import_mat('/content/drive/MyDrive/data/2_data_left_45.mat')\n",
        "  raw = np.concatenate((raw1, raw2), axis=2)\n",
        "  del raw1, raw2\n",
        "  raw3, _, _ = import_mat('/content/drive/MyDrive/data/3_data_left_90.mat')\n",
        "  raw = np.concatenate((raw, raw3), axis=2)\n",
        "  del raw3\n",
        "  raw4, _, _= import_mat('/content/drive/MyDrive/data/4_data_left_135.mat')\n",
        "  raw = np.concatenate((raw, raw4), axis=2)\n",
        "  del raw4\n",
        "  raw5, _, _ = import_mat('/content/drive/MyDrive/data/5_data_right_0.mat')\n",
        "  raw = np.concatenate((raw, raw5), axis=2)\n",
        "  del raw5\n",
        "  raw6, _, _ = import_mat('/content/drive/MyDrive/data/6_data_right_45.mat')\n",
        "  raw = np.concatenate((raw, raw6), axis=2)\n",
        "  del raw6\n",
        "  raw7, _, _ = import_mat('/content/drive/MyDrive/data/7_data_right_90.mat')\n",
        "  raw = np.concatenate((raw, raw7), axis=2)\n",
        "  del raw7\n",
        "  raw8, _, _ = import_mat('/content/drive/MyDrive/data/8_data_right_135.mat')\n",
        "  raw = np.concatenate((raw, raw8), axis=2)\n",
        "  del raw8\n",
        "  good_channels, bad_channel = std_bad_channels(raw)\n",
        "  print(\"Bad Channel: \", bad_channel)\n",
        "  del raw\n",
        "  _, epoched1, _ = import_mat('/content/drive/MyDrive/data/1_data_left_0.mat')\n",
        "  _, epoched2, _ = import_mat('/content/drive/MyDrive/data/2_data_left_45.mat')\n",
        "  epoched_left = np.concatenate((epoched1, epoched2), axis=2)\n",
        "  del epoched1, epoched2\n",
        "  _, epoched3, _ = import_mat('/content/drive/MyDrive/data/3_data_left_90.mat')\n",
        "  epoched_left = np.concatenate((epoched_left, epoched3), axis=2)\n",
        "  del epoched3\n",
        "  _, epoched4, _= import_mat('/content/drive/MyDrive/data/4_data_left_135.mat')\n",
        "  epoched_left = np.concatenate((epoched_left, epoched4), axis=2)\n",
        "  del epoched4\n",
        "  if n_classes == 10:\n",
        "      y_left = np.repeat(np.arange(0, 5), int(epoched_left.shape[2]))\n",
        "      print(\"Y_LEFt\", y_left.shape)\n",
        "      print(\"epoched_left\", epoched_left.shape)\n",
        "  _, epoched5, _ = import_mat('/content/drive/MyDrive/data/5_data_right_0.mat')\n",
        "  _, epoched6, _ = import_mat('/content/drive/MyDrive/data/6_data_right_45.mat')\n",
        "  epoched_right = np.concatenate((epoched5, epoched6), axis=2)\n",
        "  del epoched6\n",
        "  _, epoched7, _ = import_mat('/content/drive/MyDrive/data/7_data_right_90.mat')\n",
        "  epoched_right = np.concatenate((epoched_right, epoched7), axis=2)\n",
        "  del epoched7\n",
        "  _, epoched8, _ = import_mat('/content/drive/MyDrive/data/8_data_right_135.mat')\n",
        "  epoched_right = np.concatenate((epoched_right, epoched8), axis=2)\n",
        "  del epoched8\n",
        "  epoched = np.concatenate((epoched_left, epoched_right), axis=2)\n",
        "  print(\"EPOCHED SHAPE\", epoched_right.shape)\n",
        "  print(\"EPOCHED SHAPE\", epoched_left.shape)\n",
        "  if n_classes == 10:\n",
        "      y_right = np.repeat(np.arange(5, 10), int(epoched_right.shape[2]))\n",
        "      print(\"Y_Right\", y_right.shape)\n",
        "      print(\"epoched_right\", epoched_right.shape)\n",
        "      y_labels_10 = np.concatenate((y_left, y_right), axis = 0)\n",
        "      print(\"y_labels\", y_labels_10.shape)\n",
        "      y_labels_5 = np.repeat(np.arange(0, 5), int(epoched.shape[2]))\n",
        "      epoched = epoched[good_channels]\n",
        "      return epoched, y_labels_5, y_labels_10\n",
        "\n",
        "  else:\n",
        "       y_labels = np.repeat(np.arange(0, 4), int(epoched.shape[2]))\n",
        "  del epoched_left, epoched_right\n",
        "  #del y_left, y_right\n",
        "  epoched = epoched[good_channels]\n",
        "  return epoched, y_labels, _\n",
        "\n",
        "def std_bad_channels(lfp):\n",
        "    # Automatic Iterative Standard Deviation method (Komosar, et al. 2022)\n",
        "    # Adapted to Python by @madepass\n",
        "    # Improved by @ManuelHernadezA\n",
        "    # Arguments\n",
        "    # =========\n",
        "    # lfp: (n_channels, n timepoints, n_trials)\n",
        "    all_channels = np.arange(lfp.shape[0])\n",
        "    remaining_channels = all_channels.copy()\n",
        "    k = 0  # iteration counter\n",
        "    sd_pk = np.inf  # std of all individual channel std's\n",
        "    std_all = np.std(lfp, axis=1)\n",
        "    if len(std_all.shape) > 1:  # if lfp split into epochs (channels x time x trials)\n",
        "        std_all = np.median(std_all, axis=1)\n",
        "    while sd_pk > 5:\n",
        "        sd_k = std_all[remaining_channels]  # std of each channel\n",
        "        m_k = np.median(sd_k)  # median of channel std's\n",
        "        third_quartile = np.percentile(sd_k, 75)\n",
        "        temp = np.std(sd_k)\n",
        "        if sd_pk == temp:  # if no channels are removed (not in paper)\n",
        "            break\n",
        "        sd_pk = temp\n",
        "        bad_channels_k = []\n",
        "        for ch in remaining_channels:\n",
        "            sd_jk = std_all[ch]\n",
        "            if sd_jk < 10e-1:\n",
        "                bad_channels_k.append(ch)\n",
        "            elif sd_jk > 100:\n",
        "                bad_channels_k.append(ch)\n",
        "            elif abs(sd_jk - m_k) > third_quartile:\n",
        "                bad_channels_k.append(ch)\n",
        "        remaining_channels = np.setdiff1d(remaining_channels, bad_channels_k)\n",
        "        k += 1\n",
        "    bad_channels = np.setdiff1d(all_channels, remaining_channels)\n",
        "    return remaining_channels, bad_channels\n",
        "\n",
        "# Find the avg of the previous values for all outlier values\n",
        "def smooth_outliers(EEG, multiplier=2.0, prev_points=5, visualize=False, fs=2000):\n",
        "    if visualize:\n",
        "      EEG_original = EEG.copy()\n",
        "    n_timepoints, n_channels = EEG.shape\n",
        "    # We use the avg std to better remove outliers without impacting the data\n",
        "    std_mean = np.mean(np.std(EEG, axis=0, keepdims=True))\n",
        "    # Determine the threshold based on STD\n",
        "    thresh = multiplier * std_mean\n",
        "    for ch in range(n_channels):\n",
        "        for t in range(n_timepoints):\n",
        "          # For initial points, just clip\n",
        "          if t < prev_points:\n",
        "            EEG[t, ch] = np.clip(EEG[t, ch], -thresh, thresh)\n",
        "            continue\n",
        "          val = EEG[t, ch]\n",
        "          # For outlier values, use the mean of previous values\n",
        "          if np.abs(val) > thresh:\n",
        "              replacement = np.mean(EEG[t - prev_points:t, ch])\n",
        "              EEG[t, ch] = replacement\n",
        "    # Helps us visualize the changes made, as well as the threshold\n",
        "    if visualize:\n",
        "        time = np.arange(n_timepoints) / fs\n",
        "        for ch in range(n_channels):\n",
        "            plt.figure(figsize=(10, 4))\n",
        "            plt.plot(time, EEG_original[:, ch], label='Original', alpha=0.5, color='gray')\n",
        "            plt.plot(time, EEG[:, ch], label='Cleaned', color='green')\n",
        "            plt.axhline(thresh, linestyle='--', color='red', label='+2×STD')\n",
        "            plt.axhline(thresh, linestyle='--', color='blue', label='−2×STD')\n",
        "            plt.title(f\"EEG Cleaning - Channel {ch}\")\n",
        "            plt.xlabel(\"Time (s)\")\n",
        "            plt.ylabel(\"Amplitude\")\n",
        "            plt.legend()\n",
        "            plt.tight_layout()\n",
        "            plt.show()\n",
        "    return EEG\n",
        "\n",
        "\n",
        "def compute_eeg_spectrograms(data, fs=2000, nperseg=200, noverlap=100):\n",
        "    # Data should be n_trials x n_timepoints x n_channels\n",
        "    # Output should be n_trials x n_channels x spectogram\n",
        "    spectograms = []\n",
        "    for trial_idx in range(data.shape[0]):  # Loop over trials\n",
        "        spectograms_per_trail = []\n",
        "        for channel_idx in range(data.shape[2]):  # Loop over channels\n",
        "            f, t, Sxx = spectrogram(data[trial_idx, :, channel_idx], fs=fs, nperseg=nperseg, noverlap=noverlap)\n",
        "            spectograms_per_trail.append(Sxx)\n",
        "        spectograms.append(spectograms_per_trail)\n",
        "    return f, t, spectograms\n",
        "\n",
        "def visualize_spectogram(Sxx, f, t, title = \"Spectogram\", normalize=True):\n",
        "    # Normalize each frequency bin by its mean (or max) across time\n",
        "    if normalize:\n",
        "        Sxx_max = np.max(Sxx, axis=1, keepdims=True)\n",
        "        Sxx_min = np.min(Sxx, axis=1, keepdims=True)\n",
        "        Sxx = (Sxx - Sxx_min) / (Sxx_max - Sxx_min)\n",
        "    plt.imshow(Sxx, aspect='auto', origin='lower',\n",
        "              extent=[t[0], t[-1], f[0], f[-1]], cmap='viridis')\n",
        "\n",
        "    plt.xlabel('Time (s)')\n",
        "    plt.ylabel('Frequency (Hz)')\n",
        "    plt.colorbar()\n",
        "    plt.title(title)\n",
        "\n",
        "    num_yticks = len(f)\n",
        "    yticks = np.linspace(f[0], f[-1], num_yticks)\n",
        "    plt.yticks(yticks, labels=np.round(yticks))\n",
        "\n",
        "    num_xticks = len(t)\n",
        "    xticks = np.linspace(t[0], t[-1], num_xticks)\n",
        "    plt.xticks(xticks, labels=np.round(xticks, 3), rotation=45)\n",
        "    plt.show()\n",
        "\n",
        "def visualize_spectogram_multiple(Sxx_list, f, t, normalize=True):\n",
        "    # Create a plot with 5 subbplots, where each acts like visualize_spectogram\n",
        "    fig, axs = plt.subplots(3, 2, figsize=(20, 20))\n",
        "    num_yticks = len(f)\n",
        "    yticks = np.linspace(f[0], f[-1], num_yticks)\n",
        "    num_xticks = len(t)\n",
        "    xticks = np.linspace(t[0], t[-1], num_xticks)\n",
        "    for i in range(len(Sxx_list)):\n",
        "        Sxx = Sxx_list[i]\n",
        "        if normalize:\n",
        "            Sxx_max = np.max(Sxx, axis=1, keepdims=True)\n",
        "            Sxx_min = np.min(Sxx, axis=1, keepdims=True)\n",
        "            Sxx = (Sxx - Sxx_min) / (Sxx_max - Sxx_min)\n",
        "        im = axs[int(i/2)][i%2].imshow(Sxx, aspect='auto', origin='lower',\n",
        "                      extent=[t[0], t[-1], f[0], f[-1]], cmap='viridis')\n",
        "        axs[int(i/2)][i%2].set_title(f'State {i+1}')\n",
        "        axs[int(i/2)][i%2].set_xlabel('Time (s)')\n",
        "        axs[int(i/2)][i%2].set_ylabel('Frequency (Hz)')\n",
        "        axs[int(i/2)][i%2].set_xticks(xticks)\n",
        "        axs[int(i/2)][i%2].set_yticks(yticks)\n",
        "        fig.colorbar(im, ax=axs[int(i/2)][i%2])\n",
        "    plt.tight_layout()\n",
        "    plt.show()\n",
        "\n",
        "def visualize_spectogram_difference(Sxx_list, f, t, normalize=True):\n",
        "    # Normalize by both spectograms!\n",
        "    for i in range(len(Sxx_list)):\n",
        "        print(\"Difference of states compared to state\", i)\n",
        "        Sxx_diff = []\n",
        "        # We take the state we want to compare with\n",
        "        Sxx_base = Sxx_list[i]\n",
        "        for j in range(len(Sxx_list)):\n",
        "            # We take the state we want to compare to\n",
        "            Sxx_temp = Sxx_list[j]\n",
        "            if normalize:\n",
        "                # We normalize it by the time axis\n",
        "                Sxx_diff_temp_max = np.max(np.maximum(np.max(Sxx_temp, axis=1, keepdims=True), np.max(Sxx_base, axis=1, keepdims=True)), axis=1,  keepdims=True)\n",
        "                Sxx_diff_temp_min = np.min(np.minimum(np.min(Sxx_temp, axis=1, keepdims=True), np.min(Sxx_base, axis=1, keepdims=True)), axis=1, keepdims=True)\n",
        "                Sxx_temp = (Sxx_temp - Sxx_diff_temp_min) / (Sxx_diff_temp_max - Sxx_diff_temp_min)\n",
        "                Sxx_base = (Sxx_base - Sxx_diff_temp_min) / (Sxx_diff_temp_max - Sxx_diff_temp_min)\n",
        "            # We get the abs value (we care about the distance)\n",
        "            Sxx_diff_temp = np.abs(Sxx_base - Sxx_temp)\n",
        "            Sxx_diff.append(Sxx_diff_temp)\n",
        "\n",
        "        visualize_spectogram_multiple(Sxx_diff, f, t, normalize=True)\n",
        "\n",
        "\n",
        "def clean_spectograms(spectograms, f, remove_freqs, fs, window_size, upper_bound):\n",
        "    cleaned_spectograms = []\n",
        "    lower_bound = int(math.ceil(fs / window_size / 10.0) * 10)\n",
        "    lower_bound_indx = np.where(f >= lower_bound)[0][0]\n",
        "    upper_bound_indx = np.where(f <= upper_bound)[0][-1]\n",
        "    mask = (f >= remove_freqs-2) & (f <= remove_freqs+2)\n",
        "    for trial in spectograms:\n",
        "        cleaned_spectogram_per_trial = []\n",
        "        for channel in trial:\n",
        "            cleaned_spectogram = channel\n",
        "            cleaned_spectogram[mask, :] = 0\n",
        "            cleaned_spectogram = cleaned_spectogram[lower_bound_indx:upper_bound_indx]\n",
        "            cleaned_spectogram_per_trial.append(cleaned_spectogram)\n",
        "        cleaned_spectograms.append(cleaned_spectogram_per_trial)\n",
        "    f = f[lower_bound_indx:upper_bound_indx]\n",
        "    return np.array(cleaned_spectograms), f\n",
        "\n",
        "def EEG_FFT_pipeline(fs = 2000, window_size = 200, noverlap = 100, classes = 5):\n",
        "    epoched, _, y_labeled = load_all_datasets(classes)\n",
        "    epoched = epoched.reshape(epoched.shape[2] * epoched.shape[3], epoched.shape[1], epoched.shape[0])   # We rearrange such that we have n_trials x Time x Channels\n",
        "    #EEG_smoothed = []\n",
        "    #for i in range(epoched.shape[0]):\n",
        "        #EEG_smoothed.append(smooth_outliers(epoched[i, :, :]))\n",
        "    #del epoched\n",
        "    #EEG_smoothed = np.array(EEG_smoothed)\n",
        "    EEG_cleaned = epoched\n",
        "    del epoched\n",
        "    y_cleaned = y_labeled\n",
        "    f, t, spectograms = compute_eeg_spectrograms(EEG_cleaned, fs=fs, nperseg=window_size, noverlap = noverlap)\n",
        "    cleaned_spectogram, f = clean_spectograms(spectograms, f, remove_freqs=60, fs=fs, window_size=window_size, upper_bound=500)\n",
        "    del spectograms\n",
        "    return f, t, cleaned_spectogram, y_cleaned"
      ],
      "metadata": {
        "id": "fXQe_Hrosrrz",
        "cellView": "form"
      },
      "execution_count": 3,
      "outputs": []
    },
    {
      "cell_type": "code",
      "source": [
        "# @title\n",
        "_, epoched1, _ = import_mat('/content/drive/MyDrive/data/1_data_left_0.mat')\n",
        "_, epoched2, _ = import_mat('/content/drive/MyDrive/data/2_data_left_45.mat')\n",
        "_, epoched3, _ = import_mat('/content/drive/MyDrive/data/3_data_left_90.mat')\n",
        "_, epoched4, _ = import_mat('/content/drive/MyDrive/data/4_data_left_135.mat')\n",
        "_, epoched5, _ = import_mat('/content/drive/MyDrive/data/5_data_right_0.mat')\n",
        "_, epoched6, _ = import_mat('/content/drive/MyDrive/data/6_data_right_45.mat')\n",
        "_, epoched7, _ = import_mat('/content/drive/MyDrive/data/7_data_right_90.mat')\n",
        "_, epoched8, _ = import_mat('/content/drive/MyDrive/data/8_data_right_135.mat')"
      ],
      "metadata": {
        "id": "-DpXAoJRMuMM"
      },
      "execution_count": 4,
      "outputs": []
    },
    {
      "cell_type": "code",
      "execution_count": 5,
      "metadata": {
        "colab": {
          "base_uri": "https://localhost:8080/"
        },
        "id": "PWvzli0SmnjE",
        "outputId": "997e64fe-163a-4b43-f1be-8b79a8f97dcd"
      },
      "outputs": [
        {
          "output_type": "stream",
          "name": "stdout",
          "text": [
            "155\n",
            "160\n"
          ]
        },
        {
          "output_type": "execute_result",
          "data": {
            "text/plain": [
              "0"
            ]
          },
          "metadata": {},
          "execution_count": 5
        }
      ],
      "source": [
        "# @title\n",
        "# Train/test splits\n",
        "import gc\n",
        "\n",
        "#epoched_total = np.concatenate((epoched1, epoched2, epoched3, epoched4, epoched5, epoched6, epoched7, epoched8), axis=2)\n",
        "epoched_left = np.concatenate((epoched1, epoched2, epoched3, epoched4), axis=2)\n",
        "epoched_right = np.concatenate((epoched5, epoched6, epoched7, epoched8), axis=2)\n",
        "left_trials = epoched1.shape[2] + epoched2.shape[2] + epoched3.shape[2] + epoched4.shape[2]\n",
        "right_trials = epoched5.shape[2] + epoched6.shape[2] + epoched7.shape[2] + epoched8.shape[2]\n",
        "print(left_trials)\n",
        "print(right_trials)\n",
        "\n",
        "# Delete individual datasets to free memory\n",
        "del epoched1, epoched2, epoched3, epoched4, epoched5, epoched6, epoched7, epoched8\n",
        "del _\n",
        "\n",
        "# Force garbage collection\n",
        "gc.collect()\n",
        "\n"
      ]
    },
    {
      "cell_type": "code",
      "source": [
        "# @title\n",
        "# Code for smoothing\n",
        "EEG_left_smoothed = np.empty_like(epoched_left)\n",
        "for trial_idx in range(epoched_left.shape[2]):\n",
        "    for class_idx in range(epoched_left.shape[3]):\n",
        "        # Extract the time x channel data for the current trial and class\n",
        "        eeg_trial_class = epoched_left[:, :, trial_idx, class_idx].T # Transpose to get (time, channels)\n",
        "        # Apply smoothing and assign to the new array\n",
        "        EEG_left_smoothed[:, :, trial_idx, class_idx] = smooth_outliers(eeg_trial_class).T # Transpose back to original shape\n",
        "\n",
        "del epoched_left\n",
        "\n",
        "EEG_right_smoothed = np.empty_like(epoched_right)\n",
        "for trial_idx in range(epoched_right.shape[2]):\n",
        "    for class_idx in range(epoched_right.shape[3]):\n",
        "        # Extract the time x channel data for the current trial and class\n",
        "        eeg_trial_class = epoched_right[:, :, trial_idx, class_idx].T # Transpose to get (time, channels)\n",
        "        # Apply smoothing and assign to the new array\n",
        "        EEG_right_smoothed[:, :, trial_idx, class_idx] = smooth_outliers(eeg_trial_class).T # Transpose back to original shape\n",
        "\n",
        "del epoched_right"
      ],
      "metadata": {
        "cellView": "form",
        "id": "vJe1vg3QQxxr"
      },
      "execution_count": null,
      "outputs": []
    },
    {
      "cell_type": "code",
      "source": [
        "# Using when trying to make spectrograms before feeding autoencoder\n",
        "\n",
        "from scipy.signal import spectrogram\n",
        "import numpy as np\n",
        "\n",
        "def compute_eeg_spectrograms(data, fs=2000, nperseg=200, noverlap=100):\n",
        "    \"\"\"\n",
        "    Compute spectrograms for each neuron in EEG data.\n",
        "\n",
        "    Parameters:\n",
        "    - data: ndarray of shape (256, 508, num_trials, 5)\n",
        "    - fs: Sampling frequency\n",
        "    - nperseg: Length of each FFT segment\n",
        "    - noverlap: Overlap between segments\n",
        "\n",
        "    Returns:\n",
        "    - spectrograms: ndarray of shape (num_total_trials, 256, n_freq_bins, n_time_windows)\n",
        "    \"\"\"\n",
        "    n_neurons, n_time, n_trials, n_classes = data.shape\n",
        "    all_specs = []\n",
        "\n",
        "    for cls in range(n_classes):\n",
        "        for trial in range(n_trials):\n",
        "            trial_specs = []\n",
        "            for neuron in range(n_neurons):\n",
        "                signal = data[neuron, :, trial, cls]\n",
        "                f, t, Sxx = spectrogram(signal, fs=fs, nperseg=nperseg, noverlap=noverlap)\n",
        "                trial_specs.append(Sxx)  # Sxx shape: (n_freq_bins, n_time_windows)\n",
        "            trial_specs = np.stack(trial_specs, axis=0)  # Shape: (256, n_freq_bins, n_time_windows)\n",
        "            all_specs.append(trial_specs)\n",
        "\n",
        "    all_specs = np.stack(all_specs, axis=0)  # Shape: (n_total_trials, 256, n_freq_bins, n_time_windows)\n",
        "    return f, all_specs.transpose(0, 2, 3, 1)\n"
      ],
      "metadata": {
        "id": "A_DKo_p1Pr39"
      },
      "execution_count": 6,
      "outputs": []
    },
    {
      "cell_type": "code",
      "source": [
        "# @title\n",
        "fl, specs_left = compute_eeg_spectrograms(epoched_left)\n",
        "fr, specs_right = compute_eeg_spectrograms(epoched_right)\n",
        "#fl, specs_left = compute_eeg_spectrograms(EEG_left_smoothed)\n",
        "#fr, specs_right = compute_eeg_spectrograms(EEG_right_smoothed)\n",
        "print(specs_left.shape)\n",
        "print(specs_right.shape)"
      ],
      "metadata": {
        "colab": {
          "base_uri": "https://localhost:8080/"
        },
        "id": "PXb1VG8utnOv",
        "outputId": "dca4c600-f7ea-4bec-a405-4beb79040510"
      },
      "execution_count": 7,
      "outputs": [
        {
          "output_type": "stream",
          "name": "stdout",
          "text": [
            "(775, 101, 4, 256)\n",
            "(800, 101, 4, 256)\n"
          ]
        }
      ]
    },
    {
      "cell_type": "code",
      "source": [
        "y_left = np.repeat(np.arange(0, 5), epoched_left.shape[2])\n",
        "zeros = np.zeros(epoched_right.shape[2])\n",
        "y_part_right = np.repeat(np.arange(5, 9), epoched_right.shape[2])\n",
        "y_right = np.concatenate([zeros, y_part_right])\n",
        "y_total = np.concatenate((y_left, y_right), axis=0)\n",
        "\n",
        "X_total = np.concatenate((specs_left, specs_right), axis=0)\n",
        "X_total = X_total.transpose(0, 3, 1, 2)\n",
        "X_final, f = clean_spectograms(X_total, fl, remove_freqs=60, fs=2000, window_size=200, upper_bound=500)\n",
        "X_final = X_final.transpose(0, 2, 3, 1)\n",
        "print(X_final.shape)\n",
        "\n",
        "channels_to_remove = [0, 1, 3, 5, 9, 30, 52, 63, 81, 88, 92]\n",
        "channels_to_keep = [i for i in range(X_final.shape[-1]) if i not in channels_to_remove]\n",
        "X_final = X_final[:, :, :, channels_to_keep]\n",
        "\n",
        "print(X_final.shape)"
      ],
      "metadata": {
        "colab": {
          "base_uri": "https://localhost:8080/"
        },
        "id": "3WBOv6zeHuas",
        "outputId": "50b4e0d5-a0c5-4d0d-d86b-f1dfea79dad9"
      },
      "execution_count": 8,
      "outputs": [
        {
          "output_type": "stream",
          "name": "stdout",
          "text": [
            "(1575, 49, 4, 256)\n",
            "(1575, 49, 4, 245)\n"
          ]
        }
      ]
    },
    {
      "cell_type": "code",
      "source": [
        "del X_total, specs_left, specs_right, y_left, y_right, fl, fr\n",
        "gc.collect()"
      ],
      "metadata": {
        "colab": {
          "base_uri": "https://localhost:8080/"
        },
        "id": "gZ7-QAf-KQEF",
        "outputId": "6f9d0015-fe4b-4330-ae57-54036717130b"
      },
      "execution_count": 9,
      "outputs": [
        {
          "output_type": "execute_result",
          "data": {
            "text/plain": [
              "0"
            ]
          },
          "metadata": {},
          "execution_count": 9
        }
      ]
    },
    {
      "cell_type": "code",
      "source": [
        "# @title\n",
        "X_train, X_test, y_train, y_test = train_test_split(X_final, y_total, test_size=0.2, random_state=42)\n",
        "print(X_train.shape)\n",
        "print(X_test.shape)\n",
        "print(y_train.shape)\n",
        "print(y_test.shape)"
      ],
      "metadata": {
        "colab": {
          "base_uri": "https://localhost:8080/"
        },
        "id": "tHPZMwkcf6e8",
        "outputId": "4953824a-5fa1-4dfe-ed5c-5bdcea1bdf9a",
        "collapsed": true
      },
      "execution_count": 10,
      "outputs": [
        {
          "output_type": "stream",
          "name": "stdout",
          "text": [
            "(1260, 49, 4, 245)\n",
            "(315, 49, 4, 245)\n",
            "(1260,)\n",
            "(315,)\n"
          ]
        }
      ]
    },
    {
      "cell_type": "code",
      "source": [
        "del epoched_left, epoched_right\n",
        "gc.collect()"
      ],
      "metadata": {
        "colab": {
          "base_uri": "https://localhost:8080/"
        },
        "id": "pN_VYL2t8B8o",
        "outputId": "63335c8f-b2fb-425a-b7a5-51103e1d1bed"
      },
      "execution_count": 11,
      "outputs": [
        {
          "output_type": "execute_result",
          "data": {
            "text/plain": [
              "0"
            ]
          },
          "metadata": {},
          "execution_count": 11
        }
      ]
    },
    {
      "cell_type": "code",
      "source": [
        "# Putting it all together\n",
        "import tensorflow as tf\n",
        "from tensorflow.keras import layers, models\n",
        "from tensorflow.keras.layers import Lambda\n",
        "from tensorflow.keras import Sequential\n",
        "from tensorflow.keras.layers import Conv2D, MaxPooling2D, Flatten, Dense, Dropout, InputLayer\n",
        "from tensorflow.keras.layers import Permute, TimeDistributed, BatchNormalization, concatenate\n",
        "from tensorflow.keras.optimizers import Adam\n",
        "from tensorflow.keras.layers import Reshape, LSTM\n",
        "\n",
        "def build_autoencoder(input_shape, dim_size):\n",
        "  model = models.Sequential(name=\"Encoder\")\n",
        "  model.add(layers.Input(shape=input_shape))\n",
        "  model.add(layers.Conv2D(128, (5, dim_size), padding='same', activation='relu', name='encoded_1'))\n",
        "  model.add(layers.Conv2D(64, (5, dim_size), padding='same', activation='relu'))\n",
        "  model.add(layers.Conv2D(32, (3, dim_size), padding='same', activation='relu', name='bottle'))\n",
        "  return model\n",
        "\n",
        "def build_cnn(input_shape, layer1, kernel1, layer2, kernel2, pool_size,\n",
        "              denselayer, layer_dropout, end_dropout, num_classes=9):\n",
        "  model = Sequential(name=\"ConvClassifier\")\n",
        "  model.add(InputLayer(input_shape=input_shape))\n",
        "  model.add(Conv2D(layer1, kernel_size=kernel1, activation='relu', padding='same'))\n",
        "  model.add(Conv2D(layer1, kernel_size=kernel1, activation='relu', padding='same'))\n",
        "  model.add(MaxPooling2D(pool_size=pool_size, padding='same'))\n",
        "  model.add(Dropout(layer_dropout))\n",
        "  model.add(Conv2D(layer2, kernel_size=kernel2, activation='relu', padding='same'))\n",
        "  model.add(Conv2D(layer2, kernel_size=kernel2, activation='relu', padding='same'))\n",
        "  model.add(MaxPooling2D(pool_size=pool_size, padding='same'))\n",
        "  model.add(Dropout(layer_dropout))\n",
        "  model.add(Flatten())\n",
        "  model.add(Dense(denselayer, activation='relu'))\n",
        "  model.add(Dropout(end_dropout))\n",
        "  model.add(Dense(num_classes, activation='softmax'))\n",
        "  return model\n",
        "\n",
        "def build_cnn_lstm(input_shape, layer1, kernel1, layer2, kernel2, pool_size, lstm_size,\n",
        "              denselayer, cnn_dropout, lstm_dropout, end_dropout, num_classes=9):\n",
        "  model = Sequential()\n",
        "\n",
        "  model.add(InputLayer(input_shape=input_shape))\n",
        "  model.add(Conv2D(layer1, kernel1, activation='relu', padding='same'))\n",
        "  model.add(Conv2D(layer1, kernel1, activation='relu', padding='same'))\n",
        "  model.add(MaxPooling2D(pool_size))\n",
        "  model.add(Dropout(cnn_dropout))\n",
        "\n",
        "  model.add(Conv2D(layer2, kernel2, activation='relu', padding='same'))\n",
        "  model.add(Conv2D(layer2, kernel2, activation='relu', padding='same'))\n",
        "  model.add(MaxPooling2D(pool_size))\n",
        "  model.add(Dropout(cnn_dropout))\n",
        "\n",
        "  # Flattening CNN output\n",
        "  model.add(Flatten())\n",
        "\n",
        "  # Reshaping for LSTM (time steps, features)\n",
        "  model.add(Reshape((-1, layer2)))  # Adjust the second dimension based on your CNN output size\n",
        "\n",
        "  # LSTM Layers (Temporal Sequence Learning)\n",
        "  model.add(LSTM(lstm_size, return_sequences=True))\n",
        "  model.add(LSTM(lstm_size))\n",
        "  model.add(Dropout(lstm_dropout))\n",
        "\n",
        "  # Dense Layers for Classification\n",
        "  model.add(Dense(denselayer, activation='relu'))\n",
        "  model.add(Dropout(end_dropout))\n",
        "  model.add(Dense(9, activation='softmax'))  # Assuming 10 classes for classification\n",
        "\n",
        "  return model\n",
        "\n",
        "def build_parallel_model(input_shape, layer1, kernel1, layer2, kernel2, pool_size, lstm_size,\n",
        "                         cnn_dense, denselayer, cnn_dropout, lstm_dropout, end_dropout, num_classes=9):\n",
        "  input = keras.Input(shape=input_shape, name='input')\n",
        "\n",
        "  # CNN branch\n",
        "  x = Conv2D(layer1, kernel_size=kernel1, activation='relu', padding='same')(input)\n",
        "  x = Conv2D(layer1, kernel_size=kernel1, activation='relu', padding='same')(x)\n",
        "  x = MaxPooling2D(pool_size=pool_size)(x)\n",
        "  x = Conv2D(layer2, kernel_size=kernel2, activation='relu', padding='same')(x)\n",
        "  x = Conv2D(layer2, kernel_size=kernel2, activation='relu', padding='same')(x)\n",
        "  x = MaxPooling2D(pool_size=pool_size)(x)\n",
        "  x = Flatten()(x)\n",
        "  cnn_out = Dense(cnn_dense, activation='relu')(x)\n",
        "  cnn_out = Dropout(cnn_dropout)(cnn_out)\n",
        "\n",
        "  # LSTM branch: reshape to (time_steps, freq_bins)\n",
        "  y = Reshape((input_shape[1], input_shape[0] * input_shape[2]))(input)\n",
        "  lstm_out = LSTM(lstm_size, return_sequences=True)(y)\n",
        "  lstm_out = LSTM(lstm_size, return_sequences=False)(y)\n",
        "  lstm_out = Dropout(lstm_dropout)(lstm_out)\n",
        "\n",
        "  # Combine branches\n",
        "  combined = concatenate([cnn_out, lstm_out], axis=-1)\n",
        "\n",
        "  # Final classification layers\n",
        "  z = Dense(denselayer, activation='relu')(combined)\n",
        "  z = Dropout(end_dropout)(z)\n",
        "  output = Dense(num_classes, activation='softmax', name='classification_output')(z)\n",
        "\n",
        "  model = models.Model(inputs=input, outputs=output)\n",
        "  return model\n",
        "\n",
        "def build_cnn_model(dim_size, layer1, kernel1, layer2, kernel2, pool_size,\n",
        "              denselayer, layer_dropout, end_dropout, num_classes=9):\n",
        "    input_layer = keras.Input(shape=(49, 4, 245))  # EEG trials\n",
        "\n",
        "    encoder = build_autoencoder((49, 4, 245), dim_size)\n",
        "\n",
        "    encoded_input = encoder(input_layer)\n",
        "    cnn_input_shape = encoded_input.shape[1:]\n",
        "    cnn = build_cnn(cnn_input_shape, layer1, kernel1, layer2, kernel2, pool_size,\n",
        "              denselayer, layer_dropout, end_dropout, num_classes=num_classes)\n",
        "\n",
        "    outputs = cnn(encoded_input)\n",
        "\n",
        "    model = models.Model(inputs=input_layer, outputs=outputs, name=\"CNN\")\n",
        "    return model\n",
        "\n",
        "def build_full_model(dim_size, layer1, kernel1, layer2, kernel2, pool_size, lstm_size,\n",
        "              denselayer, cnn_dropout, lstm_dropout, end_dropout, num_classes):\n",
        "    input_layer = keras.Input(shape=(49, 4, 245))  # EEG trials\n",
        "\n",
        "    encoder = build_autoencoder((49, 4, 245), dim_size)\n",
        "\n",
        "    encoded_input = encoder(input_layer)\n",
        "    cnn_input_shape = encoded_input.shape[1:]\n",
        "    cnn = build_cnn_lstm(cnn_input_shape, layer1, kernel1, layer2, kernel2, pool_size, lstm_size,\n",
        "              denselayer, cnn_dropout, lstm_dropout, end_dropout, num_classes=num_classes)\n",
        "\n",
        "    outputs = cnn(encoded_input)\n",
        "\n",
        "    model = models.Model(inputs=input_layer, outputs=outputs, name=\"Parallel\")\n",
        "    return model\n",
        "\n",
        "def build_full_parallel(dim_size, layer1, kernel1, layer2, kernel2, pool_size, lstm_size,\n",
        "                         cnn_dense, denselayer, cnn_dropout, lstm_dropout, end_dropout, num_classes=9):\n",
        "    input_layer = keras.Input(shape=(49, 4, 245))  # EEG trials\n",
        "\n",
        "    encoder = build_autoencoder((49, 4, 245), dim_size)\n",
        "\n",
        "    encoded_input = encoder(input_layer)\n",
        "    cnn_input_shape = encoded_input.shape[1:]\n",
        "\n",
        "    parallel = build_parallel_model(cnn_input_shape, layer1, kernel1, layer2,\n",
        "                                    kernel2, pool_size, lstm_size, cnn_dense,\n",
        "                                    denselayer, cnn_dropout, lstm_dropout,\n",
        "                                    end_dropout, num_classes=num_classes)\n",
        "\n",
        "    outputs = parallel(encoded_input)\n",
        "\n",
        "    model = models.Model(inputs=input_layer, outputs=outputs)\n",
        "    return model\n"
      ],
      "metadata": {
        "id": "N7loUjLThXnu"
      },
      "execution_count": 12,
      "outputs": []
    },
    {
      "cell_type": "code",
      "source": [
        "# @title\n",
        "# Code to test single model\n",
        "\n",
        "#model = build_full_parallel(dim_size=1, layer1=16, kernel1=(5,3), layer2=32, kernel2=(7,3), pool_size=(2,2), lstm_size=64, cnn_dense=64, denselayer=64, cnn_dropout=0.5, lstm_dropout=0.5, end_dropout=0.5, num_classes=9)\n",
        "model = build_cnn_model(dim_size=1, layer1=32, kernel1=(5,3), layer2=64, kernel2=(5,3), denselayer=128, pool_size=(2,2), layer_dropout=0.5, end_dropout=0.5, num_classes=9)\n",
        "#model = build_full_model(dim_size=1, layer1=32, kernel1=(5,3), layer2=64, kernel2=(5,3), pool_size=(2,2), lstm_size=64, denselayer=128, cnn_dropout=0.2, lstm_dropout=0.2, end_dropout=0.5, num_classes=9)\n",
        "optimizer = Adam(learning_rate=0.001, clipnorm=1.0)\n",
        "early_stopping = tf.keras.callbacks.EarlyStopping(monitor='val_loss', patience=15,\n",
        "                                              restore_best_weights=True)\n",
        "reduce_lr = tf.keras.callbacks.ReduceLROnPlateau(monitor='val_loss', factor=0.95,\n",
        "                          patience=5, min_lr=0.00001)\n",
        "\n",
        "# Compile with current learning rate\n",
        "model.compile(optimizer=optimizer, loss='sparse_categorical_crossentropy',\n",
        "              metrics=['accuracy'])\n",
        "\n",
        "# Train with early stopping\n",
        "history = model.fit(\n",
        "    X_train, y_train,\n",
        "    callbacks=[early_stopping, reduce_lr],\n",
        "    validation_split=0.2,\n",
        "    batch_size=64,\n",
        "    epochs=150,\n",
        "    verbose=1\n",
        ")"
      ],
      "metadata": {
        "colab": {
          "base_uri": "https://localhost:8080/"
        },
        "collapsed": true,
        "id": "uLX756aVRpII",
        "outputId": "9e913a6c-b173-4039-b046-eb6e346f0e27",
        "cellView": "form"
      },
      "execution_count": null,
      "outputs": [
        {
          "output_type": "stream",
          "name": "stderr",
          "text": [
            "/usr/local/lib/python3.11/dist-packages/keras/src/layers/core/input_layer.py:27: UserWarning: Argument `input_shape` is deprecated. Use `shape` instead.\n",
            "  warnings.warn(\n"
          ]
        },
        {
          "output_type": "stream",
          "name": "stdout",
          "text": [
            "Epoch 1/150\n",
            "\u001b[1m16/16\u001b[0m \u001b[32m━━━━━━━━━━━━━━━━━━━━\u001b[0m\u001b[37m\u001b[0m \u001b[1m19s\u001b[0m 510ms/step - accuracy: 0.1710 - loss: 2.4493 - val_accuracy: 0.1825 - val_loss: 2.1575 - learning_rate: 0.0010\n",
            "Epoch 2/150\n",
            "\u001b[1m16/16\u001b[0m \u001b[32m━━━━━━━━━━━━━━━━━━━━\u001b[0m\u001b[37m\u001b[0m \u001b[1m9s\u001b[0m 52ms/step - accuracy: 0.2104 - loss: 3.1261 - val_accuracy: 0.1825 - val_loss: 2.1264 - learning_rate: 0.0010\n",
            "Epoch 3/150\n",
            "\u001b[1m16/16\u001b[0m \u001b[32m━━━━━━━━━━━━━━━━━━━━\u001b[0m\u001b[37m\u001b[0m \u001b[1m1s\u001b[0m 33ms/step - accuracy: 0.2007 - loss: 3.8034 - val_accuracy: 0.1825 - val_loss: 2.0728 - learning_rate: 0.0010\n",
            "Epoch 4/150\n",
            "\u001b[1m16/16\u001b[0m \u001b[32m━━━━━━━━━━━━━━━━━━━━\u001b[0m\u001b[37m\u001b[0m \u001b[1m1s\u001b[0m 57ms/step - accuracy: 0.2274 - loss: 3.4909 - val_accuracy: 0.1825 - val_loss: 1.9906 - learning_rate: 0.0010\n",
            "Epoch 5/150\n",
            "\u001b[1m16/16\u001b[0m \u001b[32m━━━━━━━━━━━━━━━━━━━━\u001b[0m\u001b[37m\u001b[0m \u001b[1m1s\u001b[0m 51ms/step - accuracy: 0.2449 - loss: 2.0689 - val_accuracy: 0.3135 - val_loss: 1.8529 - learning_rate: 0.0010\n",
            "Epoch 6/150\n",
            "\u001b[1m16/16\u001b[0m \u001b[32m━━━━━━━━━━━━━━━━━━━━\u001b[0m\u001b[37m\u001b[0m \u001b[1m1s\u001b[0m 54ms/step - accuracy: 0.2763 - loss: 2.0552 - val_accuracy: 0.3730 - val_loss: 1.7202 - learning_rate: 0.0010\n",
            "Epoch 7/150\n",
            "\u001b[1m16/16\u001b[0m \u001b[32m━━━━━━━━━━━━━━━━━━━━\u001b[0m\u001b[37m\u001b[0m \u001b[1m1s\u001b[0m 40ms/step - accuracy: 0.3397 - loss: 2.1926 - val_accuracy: 0.4008 - val_loss: 1.6969 - learning_rate: 0.0010\n",
            "Epoch 8/150\n",
            "\u001b[1m16/16\u001b[0m \u001b[32m━━━━━━━━━━━━━━━━━━━━\u001b[0m\u001b[37m\u001b[0m \u001b[1m1s\u001b[0m 31ms/step - accuracy: 0.3701 - loss: 1.6923 - val_accuracy: 0.4286 - val_loss: 1.5297 - learning_rate: 0.0010\n",
            "Epoch 9/150\n",
            "\u001b[1m16/16\u001b[0m \u001b[32m━━━━━━━━━━━━━━━━━━━━\u001b[0m\u001b[37m\u001b[0m \u001b[1m1s\u001b[0m 32ms/step - accuracy: 0.4406 - loss: 1.5414 - val_accuracy: 0.5119 - val_loss: 1.3138 - learning_rate: 0.0010\n",
            "Epoch 10/150\n",
            "\u001b[1m16/16\u001b[0m \u001b[32m━━━━━━━━━━━━━━━━━━━━\u001b[0m\u001b[37m\u001b[0m \u001b[1m1s\u001b[0m 31ms/step - accuracy: 0.4923 - loss: 1.6558 - val_accuracy: 0.5595 - val_loss: 1.2649 - learning_rate: 0.0010\n",
            "Epoch 11/150\n",
            "\u001b[1m16/16\u001b[0m \u001b[32m━━━━━━━━━━━━━━━━━━━━\u001b[0m\u001b[37m\u001b[0m \u001b[1m1s\u001b[0m 60ms/step - accuracy: 0.5052 - loss: 1.5017 - val_accuracy: 0.5516 - val_loss: 1.2603 - learning_rate: 0.0010\n",
            "Epoch 12/150\n",
            "\u001b[1m16/16\u001b[0m \u001b[32m━━━━━━━━━━━━━━━━━━━━\u001b[0m\u001b[37m\u001b[0m \u001b[1m1s\u001b[0m 45ms/step - accuracy: 0.5452 - loss: 1.9972 - val_accuracy: 0.6429 - val_loss: 1.0493 - learning_rate: 0.0010\n",
            "Epoch 13/150\n",
            "\u001b[1m16/16\u001b[0m \u001b[32m━━━━━━━━━━━━━━━━━━━━\u001b[0m\u001b[37m\u001b[0m \u001b[1m1s\u001b[0m 45ms/step - accuracy: 0.6138 - loss: 1.8119 - val_accuracy: 0.6468 - val_loss: 1.0060 - learning_rate: 0.0010\n",
            "Epoch 14/150\n",
            "\u001b[1m16/16\u001b[0m \u001b[32m━━━━━━━━━━━━━━━━━━━━\u001b[0m\u001b[37m\u001b[0m \u001b[1m1s\u001b[0m 29ms/step - accuracy: 0.5851 - loss: 1.1224 - val_accuracy: 0.6429 - val_loss: 0.9419 - learning_rate: 0.0010\n",
            "Epoch 15/150\n",
            "\u001b[1m16/16\u001b[0m \u001b[32m━━━━━━━━━━━━━━━━━━━━\u001b[0m\u001b[37m\u001b[0m \u001b[1m1s\u001b[0m 31ms/step - accuracy: 0.6965 - loss: 0.8786 - val_accuracy: 0.5833 - val_loss: 1.1433 - learning_rate: 0.0010\n",
            "Epoch 16/150\n",
            "\u001b[1m16/16\u001b[0m \u001b[32m━━━━━━━━━━━━━━━━━━━━\u001b[0m\u001b[37m\u001b[0m \u001b[1m1s\u001b[0m 33ms/step - accuracy: 0.6698 - loss: 0.9172 - val_accuracy: 0.5556 - val_loss: 1.1579 - learning_rate: 0.0010\n",
            "Epoch 17/150\n",
            "\u001b[1m16/16\u001b[0m \u001b[32m━━━━━━━━━━━━━━━━━━━━\u001b[0m\u001b[37m\u001b[0m \u001b[1m1s\u001b[0m 40ms/step - accuracy: 0.6580 - loss: 0.9693 - val_accuracy: 0.7143 - val_loss: 0.9148 - learning_rate: 0.0010\n",
            "Epoch 18/150\n",
            "\u001b[1m16/16\u001b[0m \u001b[32m━━━━━━━━━━━━━━━━━━━━\u001b[0m\u001b[37m\u001b[0m \u001b[1m1s\u001b[0m 33ms/step - accuracy: 0.7268 - loss: 0.8308 - val_accuracy: 0.6706 - val_loss: 0.9755 - learning_rate: 0.0010\n",
            "Epoch 19/150\n",
            "\u001b[1m16/16\u001b[0m \u001b[32m━━━━━━━━━━━━━━━━━━━━\u001b[0m\u001b[37m\u001b[0m \u001b[1m1s\u001b[0m 37ms/step - accuracy: 0.7445 - loss: 0.8468 - val_accuracy: 0.7222 - val_loss: 0.8204 - learning_rate: 0.0010\n",
            "Epoch 20/150\n",
            "\u001b[1m16/16\u001b[0m \u001b[32m━━━━━━━━━━━━━━━━━━━━\u001b[0m\u001b[37m\u001b[0m \u001b[1m1s\u001b[0m 39ms/step - accuracy: 0.7533 - loss: 0.8100 - val_accuracy: 0.6905 - val_loss: 0.8684 - learning_rate: 0.0010\n",
            "Epoch 21/150\n",
            "\u001b[1m16/16\u001b[0m \u001b[32m━━━━━━━━━━━━━━━━━━━━\u001b[0m\u001b[37m\u001b[0m \u001b[1m1s\u001b[0m 37ms/step - accuracy: 0.7246 - loss: 0.8714 - val_accuracy: 0.6905 - val_loss: 0.9924 - learning_rate: 0.0010\n",
            "Epoch 22/150\n",
            "\u001b[1m16/16\u001b[0m \u001b[32m━━━━━━━━━━━━━━━━━━━━\u001b[0m\u001b[37m\u001b[0m \u001b[1m1s\u001b[0m 45ms/step - accuracy: 0.7832 - loss: 0.6260 - val_accuracy: 0.7579 - val_loss: 0.8488 - learning_rate: 0.0010\n",
            "Epoch 23/150\n",
            "\u001b[1m16/16\u001b[0m \u001b[32m━━━━━━━━━━━━━━━━━━━━\u001b[0m\u001b[37m\u001b[0m \u001b[1m1s\u001b[0m 40ms/step - accuracy: 0.8303 - loss: 0.4816 - val_accuracy: 0.6865 - val_loss: 0.9562 - learning_rate: 0.0010\n",
            "Epoch 24/150\n",
            "\u001b[1m16/16\u001b[0m \u001b[32m━━━━━━━━━━━━━━━━━━━━\u001b[0m\u001b[37m\u001b[0m \u001b[1m1s\u001b[0m 45ms/step - accuracy: 0.8049 - loss: 0.6147 - val_accuracy: 0.7421 - val_loss: 0.7832 - learning_rate: 0.0010\n",
            "Epoch 25/150\n",
            "\u001b[1m16/16\u001b[0m \u001b[32m━━━━━━━━━━━━━━━━━━━━\u001b[0m\u001b[37m\u001b[0m \u001b[1m2s\u001b[0m 70ms/step - accuracy: 0.8542 - loss: 0.7438 - val_accuracy: 0.6984 - val_loss: 0.9818 - learning_rate: 0.0010\n",
            "Epoch 26/150\n",
            "\u001b[1m16/16\u001b[0m \u001b[32m━━━━━━━━━━━━━━━━━━━━\u001b[0m\u001b[37m\u001b[0m \u001b[1m1s\u001b[0m 45ms/step - accuracy: 0.8431 - loss: 0.4478 - val_accuracy: 0.7183 - val_loss: 1.1690 - learning_rate: 0.0010\n",
            "Epoch 27/150\n",
            "\u001b[1m16/16\u001b[0m \u001b[32m━━━━━━━━━━━━━━━━━━━━\u001b[0m\u001b[37m\u001b[0m \u001b[1m1s\u001b[0m 36ms/step - accuracy: 0.8127 - loss: 0.6309 - val_accuracy: 0.7540 - val_loss: 0.8709 - learning_rate: 0.0010\n",
            "Epoch 28/150\n",
            "\u001b[1m16/16\u001b[0m \u001b[32m━━━━━━━━━━━━━━━━━━━━\u001b[0m\u001b[37m\u001b[0m \u001b[1m1s\u001b[0m 31ms/step - accuracy: 0.8766 - loss: 0.3661 - val_accuracy: 0.7262 - val_loss: 0.9431 - learning_rate: 0.0010\n",
            "Epoch 29/150\n",
            "\u001b[1m16/16\u001b[0m \u001b[32m━━━━━━━━━━━━━━━━━━━━\u001b[0m\u001b[37m\u001b[0m \u001b[1m1s\u001b[0m 33ms/step - accuracy: 0.8732 - loss: 0.4277 - val_accuracy: 0.7738 - val_loss: 0.8865 - learning_rate: 0.0010\n",
            "Epoch 30/150\n",
            "\u001b[1m16/16\u001b[0m \u001b[32m━━━━━━━━━━━━━━━━━━━━\u001b[0m\u001b[37m\u001b[0m \u001b[1m1s\u001b[0m 32ms/step - accuracy: 0.8645 - loss: 0.3805 - val_accuracy: 0.7381 - val_loss: 0.8815 - learning_rate: 9.5000e-04\n",
            "Epoch 31/150\n",
            "\u001b[1m16/16\u001b[0m \u001b[32m━━━━━━━━━━━━━━━━━━━━\u001b[0m\u001b[37m\u001b[0m \u001b[1m1s\u001b[0m 33ms/step - accuracy: 0.8986 - loss: 0.4620 - val_accuracy: 0.7738 - val_loss: 0.8492 - learning_rate: 9.5000e-04\n",
            "Epoch 32/150\n",
            "\u001b[1m16/16\u001b[0m \u001b[32m━━━━━━━━━━━━━━━━━━━━\u001b[0m\u001b[37m\u001b[0m \u001b[1m1s\u001b[0m 34ms/step - accuracy: 0.8885 - loss: 0.2898 - val_accuracy: 0.7817 - val_loss: 0.8952 - learning_rate: 9.5000e-04\n",
            "Epoch 33/150\n",
            "\u001b[1m16/16\u001b[0m \u001b[32m━━━━━━━━━━━━━━━━━━━━\u001b[0m\u001b[37m\u001b[0m \u001b[1m1s\u001b[0m 31ms/step - accuracy: 0.9204 - loss: 0.3561 - val_accuracy: 0.7421 - val_loss: 1.0242 - learning_rate: 9.5000e-04\n",
            "Epoch 34/150\n",
            "\u001b[1m16/16\u001b[0m \u001b[32m━━━━━━━━━━━━━━━━━━━━\u001b[0m\u001b[37m\u001b[0m \u001b[1m1s\u001b[0m 35ms/step - accuracy: 0.8987 - loss: 0.3522 - val_accuracy: 0.7103 - val_loss: 1.0317 - learning_rate: 9.5000e-04\n",
            "Epoch 35/150\n",
            "\u001b[1m16/16\u001b[0m \u001b[32m━━━━━━━━━━━━━━━━━━━━\u001b[0m\u001b[37m\u001b[0m \u001b[1m1s\u001b[0m 32ms/step - accuracy: 0.9057 - loss: 0.3836 - val_accuracy: 0.7460 - val_loss: 1.0067 - learning_rate: 9.0250e-04\n",
            "Epoch 36/150\n",
            "\u001b[1m16/16\u001b[0m \u001b[32m━━━━━━━━━━━━━━━━━━━━\u001b[0m\u001b[37m\u001b[0m \u001b[1m1s\u001b[0m 34ms/step - accuracy: 0.9320 - loss: 0.2022 - val_accuracy: 0.7341 - val_loss: 1.1497 - learning_rate: 9.0250e-04\n",
            "Epoch 37/150\n",
            "\u001b[1m16/16\u001b[0m \u001b[32m━━━━━━━━━━━━━━━━━━━━\u001b[0m\u001b[37m\u001b[0m \u001b[1m1s\u001b[0m 29ms/step - accuracy: 0.8838 - loss: 0.3337 - val_accuracy: 0.7698 - val_loss: 0.9113 - learning_rate: 9.0250e-04\n",
            "Epoch 38/150\n",
            "\u001b[1m16/16\u001b[0m \u001b[32m━━━━━━━━━━━━━━━━━━━━\u001b[0m\u001b[37m\u001b[0m \u001b[1m1s\u001b[0m 31ms/step - accuracy: 0.8939 - loss: 0.8440 - val_accuracy: 0.7579 - val_loss: 1.1588 - learning_rate: 9.0250e-04\n",
            "Epoch 39/150\n",
            "\u001b[1m16/16\u001b[0m \u001b[32m━━━━━━━━━━━━━━━━━━━━\u001b[0m\u001b[37m\u001b[0m \u001b[1m1s\u001b[0m 34ms/step - accuracy: 0.9043 - loss: 0.3164 - val_accuracy: 0.6825 - val_loss: 1.4053 - learning_rate: 9.0250e-04\n"
          ]
        }
      ]
    },
    {
      "cell_type": "code",
      "source": [
        "# @title\n",
        "from sklearn.metrics import confusion_matrix, precision_score, recall_score, classification_report\n",
        "import seaborn as sns\n",
        "\n",
        "classes = np.arange(0, 9)\n",
        "\n",
        "y_pred = model.predict(X_test)\n",
        "y_pred_classes = np.argmax(y_pred, axis=1)\n",
        "\n",
        "accuracy = accuracy_score(y_test, y_pred_classes)\n",
        "precision = precision_score(y_test, y_pred_classes, average='macro')\n",
        "recall = recall_score(y_test, y_pred_classes, average='macro')\n",
        "\n",
        "\n",
        "cm = confusion_matrix(y_test, y_pred_classes)\n",
        "\n",
        "plt.figure(figsize=(10, 8))\n",
        "sns.heatmap(cm, annot=True, fmt='d', cmap='Blues')\n",
        "plt.xlabel('Predicted Label')\n",
        "plt.ylabel('True Label')\n",
        "plt.title('Confusion Matrix')\n",
        "plt.show()\n",
        "\n",
        "print(\"Accuracy: \", accuracy)\n",
        "print(\"Precision: \", precision)\n",
        "print(\"Recall: \", recall)\n",
        "print(classification_report(y_test, y_pred_classes))"
      ],
      "metadata": {
        "colab": {
          "base_uri": "https://localhost:8080/",
          "height": 1000
        },
        "id": "9OITBNvIhU26",
        "outputId": "c327ebde-8ff3-46d4-b750-55135566df3f",
        "collapsed": true,
        "cellView": "form"
      },
      "execution_count": null,
      "outputs": [
        {
          "output_type": "stream",
          "name": "stdout",
          "text": [
            "\u001b[1m10/10\u001b[0m \u001b[32m━━━━━━━━━━━━━━━━━━━━\u001b[0m\u001b[37m\u001b[0m \u001b[1m3s\u001b[0m 134ms/step\n"
          ]
        },
        {
          "output_type": "display_data",
          "data": {
            "text/plain": [
              "<Figure size 1000x800 with 2 Axes>"
            ],
            "image/png": "[encoded data removed]"
          },
          "metadata": {}
        },
        {
          "output_type": "stream",
          "name": "stdout",
          "text": [
            "Accuracy:  0.7555555555555555\n",
            "Precision:  0.7943600918041117\n",
            "Recall:  0.7646199981494098\n",
            "              precision    recall  f1-score   support\n",
            "\n",
            "         0.0       0.58      0.75      0.66        56\n",
            "         1.0       0.83      0.29      0.43        35\n",
            "         2.0       0.87      0.77      0.82        35\n",
            "         3.0       0.87      0.92      0.89        37\n",
            "         4.0       0.59      0.79      0.68        34\n",
            "         5.0       0.77      0.69      0.73        35\n",
            "         6.0       0.97      0.88      0.92        34\n",
            "         7.0       0.83      0.96      0.89        25\n",
            "         8.0       0.83      0.83      0.83        24\n",
            "\n",
            "    accuracy                           0.76       315\n",
            "   macro avg       0.79      0.76      0.76       315\n",
            "weighted avg       0.78      0.76      0.75       315\n",
            "\n"
          ]
        }
      ]
    },
    {
      "cell_type": "code",
      "source": [
        "# PCA decomposition\n",
        "\n",
        "n_samples, n_freq, n_time, n_channels = X_final.shape\n",
        "X = X_final.reshape(-1, n_channels)\n",
        "\n",
        "# Apply PCA to reduce channels (e.g., 3 → 2)\n",
        "pca = PCA(n_components=32)\n",
        "X_reduced = pca.fit_transform(X)  # Shape: (100*128*50, 2)\n",
        "\n",
        "# Reshape back to (num_samples, freq, time_window, k)\n",
        "reduced_data = X_reduced.reshape(n_samples, n_freq, n_time, 32)\n",
        "print(\"Reduced shape:\", reduced_data.shape)  # (100, 128, 50, 2)\n",
        "\n",
        "X_pca_train, X_pca_test, y_pca_train, y_pca_test = train_test_split(reduced_data, y_total, test_size=0.2, random_state=42)\n",
        "print(X_pca_train.shape)\n",
        "print(X_pca_test.shape)"
      ],
      "metadata": {
        "colab": {
          "base_uri": "https://localhost:8080/"
        },
        "id": "smzmgPL7pytn",
        "outputId": "24f882e2-876a-464e-a1e8-ec71420a0b2e"
      },
      "execution_count": 26,
      "outputs": [
        {
          "output_type": "stream",
          "name": "stdout",
          "text": [
            "Reduced shape: (1575, 49, 4, 32)\n",
            "(1260, 49, 4, 32)\n",
            "(315, 49, 4, 32)\n"
          ]
        }
      ]
    },
    {
      "cell_type": "code",
      "source": [
        "# Preparing grid search for PCA data\n",
        "from keras import backend as K\n",
        "from itertools import product\n",
        "\n",
        "# Define parameter options\n",
        "param_options = {\n",
        "    'input_shape': [(49, 4, 32)],\n",
        "    'layer1': [16, 32],\n",
        "    'kernel1': [(3, 3), (5,3)],\n",
        "    'layer2': [32, 64],\n",
        "    'kernel2': [(5,3), (7,3)],\n",
        "    'pool_size': [(2,2), (3, 3)],\n",
        "    'denselayer': [64, 128],\n",
        "    'layer_dropout': [0.3, 0.4],\n",
        "    'end_dropout': [0.4, 0.5],\n",
        "    'batch_size': [128],\n",
        "    'epochs': [100],\n",
        "}\n",
        "\n",
        "# Generate all combinations\n",
        "all_params = [dict(zip(param_options.keys(), values))\n",
        "             for values in product(*param_options.values())]\n",
        "\n",
        "# Code to start gridsearch from place where colab GPU finishes\n",
        "'''last_completed_parallel = {'dim_size': 1, 'layer1': 16, 'kernel1': (5, 3),\n",
        "                                          'layer2': 64, 'kernel2': (7, 3), 'cnn_dense': 64,\n",
        "                                           'denselayer': 128, 'pool_size': (2, 2), 'lstm_size': 128,\n",
        "                                           'cnn_dropout': 0.4, 'lstm_dropout': 0.4, 'end_dropout': 0.5,\n",
        "                                           'batch_size': 128, 'epochs': 100}\n",
        "start_index = next(i for i, param in enumerate(all_params) if param == last_completed) + 1'''\n",
        "\n",
        "best_score = 0\n",
        "best_params = None\n",
        "\n",
        "results = []\n",
        "\n",
        "#for params in all_params[start_index:]:\n",
        "for params in all_params:\n",
        "    print(f\"\\nTesting params: {params}\")\n",
        "\n",
        "    tf.keras.backend.clear_session()\n",
        "    tf.config.run_functions_eagerly(True)\n",
        "\n",
        "    # Build model\n",
        "    model = build_cnn(\n",
        "        input_shape = params['input_shape'],\n",
        "        layer1 = params['layer1'],\n",
        "        kernel1 = params['kernel1'],\n",
        "        layer2 = params['layer2'],\n",
        "        kernel2 = params['kernel2'],\n",
        "        pool_size = params['pool_size'],\n",
        "        denselayer = params['denselayer'],\n",
        "        layer_dropout = params['layer_dropout'],\n",
        "        end_dropout = params['end_dropout'],\n",
        "    )\n",
        "\n",
        "    optimizer = Adam(learning_rate=0.001, clipnorm=1.0)\n",
        "    early_stopping = tf.keras.callbacks.EarlyStopping(monitor='val_loss', patience=15,\n",
        "                                                  restore_best_weights=True)\n",
        "    reduce_lr = tf.keras.callbacks.ReduceLROnPlateau(monitor='val_loss', factor=0.95,\n",
        "                              patience=5, min_lr=0.00001)\n",
        "\n",
        "    # Compile with current learning rate\n",
        "    model.compile(optimizer=optimizer, loss='sparse_categorical_crossentropy',\n",
        "                  metrics=['accuracy'])\n",
        "\n",
        "    # Train with early stopping\n",
        "    history = model.fit(\n",
        "        X_pca_train, y_pca_train,\n",
        "        callbacks=[early_stopping, reduce_lr],\n",
        "        validation_split=0.2,\n",
        "        batch_size=params['batch_size'],\n",
        "        epochs=params['epochs'],\n",
        "        verbose=0\n",
        "    )\n",
        "\n",
        "    # Get best validation accuracy\n",
        "    val_acc = max(history.history['val_accuracy'])\n",
        "\n",
        "    results.append({\n",
        "        **params,\n",
        "        'val_acc': val_acc\n",
        "    })\n",
        "\n",
        "    if val_acc > best_score:\n",
        "        best_score = val_acc\n",
        "        best_params = params\n",
        "        print(f\"New best val_acc: {best_score:.4f}\")\n",
        "\n",
        "print(\"\\nFinal best parameters:\")\n",
        "print(best_params)\n",
        "print(f\"Best validation accuracy: {best_score:.4f}\")\n",
        "\n"
      ],
      "metadata": {
        "colab": {
          "base_uri": "https://localhost:8080/"
        },
        "id": "ddmK9nOD1kKq",
        "outputId": "fe06b74a-842c-4a6b-dad5-b8e2c232cf81"
      },
      "execution_count": null,
      "outputs": [
        {
          "output_type": "stream",
          "name": "stdout",
          "text": [
            "\n",
            "Testing params: {'input_shape': (49, 4, 32), 'layer1': 16, 'kernel1': (3, 3), 'layer2': 32, 'kernel2': (5, 3), 'pool_size': (2, 2), 'denselayer': 64, 'layer_dropout': 0.3, 'end_dropout': 0.4, 'batch_size': 128, 'epochs': 100}\n"
          ]
        },
        {
          "output_type": "stream",
          "name": "stderr",
          "text": [
            "/usr/local/lib/python3.11/dist-packages/keras/src/layers/core/input_layer.py:27: UserWarning: Argument `input_shape` is deprecated. Use `shape` instead.\n",
            "  warnings.warn(\n",
            "/usr/local/lib/python3.11/dist-packages/tensorflow/python/data/ops/structured_function.py:258: UserWarning: Even though the `tf.config.experimental_run_functions_eagerly` option is set, this option does not apply to tf.data functions. To force eager execution of tf.data functions, please use `tf.data.experimental.enable_debug_mode()`.\n",
            "  warnings.warn(\n"
          ]
        },
        {
          "output_type": "stream",
          "name": "stdout",
          "text": [
            "New best val_acc: 0.7421\n",
            "\n",
            "Testing params: {'input_shape': (49, 4, 32), 'layer1': 16, 'kernel1': (3, 3), 'layer2': 32, 'kernel2': (5, 3), 'pool_size': (2, 2), 'denselayer': 64, 'layer_dropout': 0.3, 'end_dropout': 0.5, 'batch_size': 128, 'epochs': 100}\n",
            "\n",
            "Testing params: {'input_shape': (49, 4, 32), 'layer1': 16, 'kernel1': (3, 3), 'layer2': 32, 'kernel2': (5, 3), 'pool_size': (2, 2), 'denselayer': 64, 'layer_dropout': 0.4, 'end_dropout': 0.4, 'batch_size': 128, 'epochs': 100}\n",
            "\n",
            "Testing params: {'input_shape': (49, 4, 32), 'layer1': 16, 'kernel1': (3, 3), 'layer2': 32, 'kernel2': (5, 3), 'pool_size': (2, 2), 'denselayer': 64, 'layer_dropout': 0.4, 'end_dropout': 0.5, 'batch_size': 128, 'epochs': 100}\n",
            "\n",
            "Testing params: {'input_shape': (49, 4, 32), 'layer1': 16, 'kernel1': (3, 3), 'layer2': 32, 'kernel2': (5, 3), 'pool_size': (2, 2), 'denselayer': 128, 'layer_dropout': 0.3, 'end_dropout': 0.4, 'batch_size': 128, 'epochs': 100}\n",
            "New best val_acc: 0.7579\n",
            "\n",
            "Testing params: {'input_shape': (49, 4, 32), 'layer1': 16, 'kernel1': (3, 3), 'layer2': 32, 'kernel2': (5, 3), 'pool_size': (2, 2), 'denselayer': 128, 'layer_dropout': 0.3, 'end_dropout': 0.5, 'batch_size': 128, 'epochs': 100}\n",
            "\n",
            "Testing params: {'input_shape': (49, 4, 32), 'layer1': 16, 'kernel1': (3, 3), 'layer2': 32, 'kernel2': (5, 3), 'pool_size': (2, 2), 'denselayer': 128, 'layer_dropout': 0.4, 'end_dropout': 0.4, 'batch_size': 128, 'epochs': 100}\n",
            "\n",
            "Testing params: {'input_shape': (49, 4, 32), 'layer1': 16, 'kernel1': (3, 3), 'layer2': 32, 'kernel2': (5, 3), 'pool_size': (2, 2), 'denselayer': 128, 'layer_dropout': 0.4, 'end_dropout': 0.5, 'batch_size': 128, 'epochs': 100}\n",
            "\n",
            "Testing params: {'input_shape': (49, 4, 32), 'layer1': 16, 'kernel1': (3, 3), 'layer2': 32, 'kernel2': (5, 3), 'pool_size': (3, 3), 'denselayer': 64, 'layer_dropout': 0.3, 'end_dropout': 0.4, 'batch_size': 128, 'epochs': 100}\n",
            "\n",
            "Testing params: {'input_shape': (49, 4, 32), 'layer1': 16, 'kernel1': (3, 3), 'layer2': 32, 'kernel2': (5, 3), 'pool_size': (3, 3), 'denselayer': 64, 'layer_dropout': 0.3, 'end_dropout': 0.5, 'batch_size': 128, 'epochs': 100}\n",
            "New best val_acc: 0.7619\n",
            "\n",
            "Testing params: {'input_shape': (49, 4, 32), 'layer1': 16, 'kernel1': (3, 3), 'layer2': 32, 'kernel2': (5, 3), 'pool_size': (3, 3), 'denselayer': 64, 'layer_dropout': 0.4, 'end_dropout': 0.4, 'batch_size': 128, 'epochs': 100}\n",
            "\n",
            "Testing params: {'input_shape': (49, 4, 32), 'layer1': 16, 'kernel1': (3, 3), 'layer2': 32, 'kernel2': (5, 3), 'pool_size': (3, 3), 'denselayer': 64, 'layer_dropout': 0.4, 'end_dropout': 0.5, 'batch_size': 128, 'epochs': 100}\n",
            "\n",
            "Testing params: {'input_shape': (49, 4, 32), 'layer1': 16, 'kernel1': (3, 3), 'layer2': 32, 'kernel2': (5, 3), 'pool_size': (3, 3), 'denselayer': 128, 'layer_dropout': 0.3, 'end_dropout': 0.4, 'batch_size': 128, 'epochs': 100}\n",
            "\n",
            "Testing params: {'input_shape': (49, 4, 32), 'layer1': 16, 'kernel1': (3, 3), 'layer2': 32, 'kernel2': (5, 3), 'pool_size': (3, 3), 'denselayer': 128, 'layer_dropout': 0.3, 'end_dropout': 0.5, 'batch_size': 128, 'epochs': 100}\n"
          ]
        }
      ]
    },
    {
      "cell_type": "code",
      "source": [
        "# @title\n",
        "# Preparing grid search\n",
        "from keras import backend as K\n",
        "from itertools import product\n",
        "\n",
        "# Define parameter options\n",
        "param_options = {\n",
        "    'dim_size': [1],\n",
        "    'layer1': [16, 32],\n",
        "    'kernel1': [(3, 3), (5,3)],\n",
        "    'layer2': [32, 64],\n",
        "    'kernel2': [(5,3), (5,3)],\n",
        "    'pool_size': [(2,2)],\n",
        "    'lstm_size': [32, 64, 128],\n",
        "    'denselayer': [64, 128],\n",
        "    'cnn_dropout': [0.3, 0.4],\n",
        "    'lstm_dropout': [0.3, 0.4],\n",
        "    'end_dropout': [0.4, 0.5],\n",
        "    'batch_size': [128],\n",
        "    'epochs': [100],\n",
        "}\n",
        "\n",
        "# Generate all combinations\n",
        "all_params = [dict(zip(param_options.keys(), values))\n",
        "             for values in product(*param_options.values())]\n",
        "\n",
        "# Code to start gridsearch from place where colab GPU finishes\n",
        "'''last_completed_parallel = {'dim_size': 1, 'layer1': 16, 'kernel1': (5, 3),\n",
        "                                          'layer2': 64, 'kernel2': (7, 3), 'cnn_dense': 64,\n",
        "                                           'denselayer': 128, 'pool_size': (2, 2), 'lstm_size': 128,\n",
        "                                           'cnn_dropout': 0.4, 'lstm_dropout': 0.4, 'end_dropout': 0.5,\n",
        "                                           'batch_size': 128, 'epochs': 100}\n",
        "start_index = next(i for i, param in enumerate(all_params) if param == last_completed) + 1'''\n",
        "\n",
        "# For full model\n",
        "'''last_completed_full = {'dim_size': 1, 'layer1': 16, 'kernel1': (3, 3), 'layer2': 64,\n",
        "                       'kernel2': (5, 3), 'pool_size': (2, 2), 'lstm_size': 128, 'denselayer': 64,\n",
        "                       'cnn_dropout': 0.4, 'lstm_dropout': 0.4, 'end_dropout': 0.4, 'batch_size': 128, 'epochs': 100}\n",
        "start_index = next(i for i, param in enumerate(all_params) if param == last_completed_full) + 1'''\n",
        "\n",
        "best_score = 0\n",
        "best_params = None\n",
        "\n",
        "results = []\n",
        "\n",
        "for params in all_params[start_index:]:\n",
        "#for params in all_params:\n",
        "    print(f\"\\nTesting params: {params}\")\n",
        "\n",
        "    tf.keras.backend.clear_session()\n",
        "    tf.config.run_functions_eagerly(True)\n",
        "\n",
        "    # Build model\n",
        "    model = build_full_model(\n",
        "        dim_size=params['dim_size'],\n",
        "        layer1=params['layer1'],\n",
        "        kernel1=params['kernel1'],\n",
        "        layer2=params['layer2'],\n",
        "        kernel2=params['kernel2'],\n",
        "        pool_size=params['pool_size'],\n",
        "        lstm_size=params['lstm_size'],\n",
        "        denselayer=params['denselayer'],\n",
        "        cnn_dropout=params['cnn_dropout'],\n",
        "        lstm_dropout=params['lstm_dropout'],\n",
        "        end_dropout=params['end_dropout'],\n",
        "        num_classes=9\n",
        "    )\n",
        "\n",
        "    optimizer = Adam(learning_rate=0.001, clipnorm=1.0)\n",
        "    early_stopping = tf.keras.callbacks.EarlyStopping(monitor='val_loss', patience=15,\n",
        "                                                  restore_best_weights=True)\n",
        "    reduce_lr = tf.keras.callbacks.ReduceLROnPlateau(monitor='val_loss', factor=0.95,\n",
        "                              patience=5, min_lr=0.00001)\n",
        "\n",
        "    # Compile with current learning rate\n",
        "    model.compile(optimizer=optimizer, loss='sparse_categorical_crossentropy',\n",
        "                  metrics=['accuracy'])\n",
        "\n",
        "    # Train with early stopping\n",
        "    history = model.fit(\n",
        "        X_train, y_train,\n",
        "        callbacks=[early_stopping, reduce_lr],\n",
        "        validation_split=0.2,\n",
        "        batch_size=params['batch_size'],\n",
        "        epochs=params['epochs'],\n",
        "        verbose=0\n",
        "    )\n",
        "\n",
        "    # Get best validation accuracy\n",
        "    val_acc = max(history.history['val_accuracy'])\n",
        "\n",
        "    results.append({\n",
        "        **params,\n",
        "        'val_acc': val_acc\n",
        "    })\n",
        "\n",
        "    if val_acc > best_score:\n",
        "        best_score = val_acc\n",
        "        best_params = params\n",
        "        print(f\"New best val_acc: {best_score:.4f}\")\n",
        "\n",
        "print(\"\\nFinal best parameters:\")\n",
        "print(best_params)\n",
        "print(f\"Best validation accuracy: {best_score:.4f}\")\n",
        "\n"
      ],
      "metadata": {
        "colab": {
          "base_uri": "https://localhost:8080/"
        },
        "id": "tA9E_xc930YK",
        "outputId": "0f68890f-b27a-4e6f-be20-0d030621db95",
        "collapsed": true,
        "cellView": "form"
      },
      "execution_count": null,
      "outputs": [
        {
          "output_type": "stream",
          "name": "stdout",
          "text": [
            "\n",
            "Testing params: {'dim_size': 1, 'layer1': 16, 'kernel1': (3, 3), 'layer2': 32, 'kernel2': (5, 3), 'pool_size': (2, 2), 'lstm_size': 128, 'denselayer': 128, 'cnn_dropout': 0.3, 'lstm_dropout': 0.4, 'end_dropout': 0.5, 'batch_size': 128, 'epochs': 100}\n"
          ]
        },
        {
          "output_type": "stream",
          "name": "stderr",
          "text": [
            "/usr/local/lib/python3.11/dist-packages/keras/src/layers/core/input_layer.py:27: UserWarning: Argument `input_shape` is deprecated. Use `shape` instead.\n",
            "  warnings.warn(\n",
            "/usr/local/lib/python3.11/dist-packages/tensorflow/python/data/ops/structured_function.py:258: UserWarning: Even though the `tf.config.experimental_run_functions_eagerly` option is set, this option does not apply to tf.data functions. To force eager execution of tf.data functions, please use `tf.data.experimental.enable_debug_mode()`.\n",
            "  warnings.warn(\n"
          ]
        },
        {
          "output_type": "stream",
          "name": "stdout",
          "text": [
            "New best val_acc: 0.8056\n",
            "\n",
            "Testing params: {'dim_size': 1, 'layer1': 16, 'kernel1': (3, 3), 'layer2': 32, 'kernel2': (5, 3), 'pool_size': (2, 2), 'lstm_size': 128, 'denselayer': 128, 'cnn_dropout': 0.4, 'lstm_dropout': 0.3, 'end_dropout': 0.4, 'batch_size': 128, 'epochs': 100}\n",
            "\n",
            "Testing params: {'dim_size': 1, 'layer1': 16, 'kernel1': (3, 3), 'layer2': 32, 'kernel2': (5, 3), 'pool_size': (2, 2), 'lstm_size': 128, 'denselayer': 128, 'cnn_dropout': 0.4, 'lstm_dropout': 0.3, 'end_dropout': 0.5, 'batch_size': 128, 'epochs': 100}\n",
            "New best val_acc: 0.8095\n",
            "\n",
            "Testing params: {'dim_size': 1, 'layer1': 16, 'kernel1': (3, 3), 'layer2': 32, 'kernel2': (5, 3), 'pool_size': (2, 2), 'lstm_size': 128, 'denselayer': 128, 'cnn_dropout': 0.4, 'lstm_dropout': 0.4, 'end_dropout': 0.4, 'batch_size': 128, 'epochs': 100}\n",
            "\n",
            "Testing params: {'dim_size': 1, 'layer1': 16, 'kernel1': (3, 3), 'layer2': 32, 'kernel2': (5, 3), 'pool_size': (2, 2), 'lstm_size': 128, 'denselayer': 128, 'cnn_dropout': 0.4, 'lstm_dropout': 0.4, 'end_dropout': 0.5, 'batch_size': 128, 'epochs': 100}\n",
            "\n",
            "Testing params: {'dim_size': 1, 'layer1': 16, 'kernel1': (3, 3), 'layer2': 32, 'kernel2': (5, 3), 'pool_size': (2, 2), 'lstm_size': 32, 'denselayer': 64, 'cnn_dropout': 0.3, 'lstm_dropout': 0.3, 'end_dropout': 0.4, 'batch_size': 128, 'epochs': 100}\n",
            "\n",
            "Testing params: {'dim_size': 1, 'layer1': 16, 'kernel1': (3, 3), 'layer2': 32, 'kernel2': (5, 3), 'pool_size': (2, 2), 'lstm_size': 32, 'denselayer': 64, 'cnn_dropout': 0.3, 'lstm_dropout': 0.3, 'end_dropout': 0.5, 'batch_size': 128, 'epochs': 100}\n",
            "\n",
            "Testing params: {'dim_size': 1, 'layer1': 16, 'kernel1': (3, 3), 'layer2': 32, 'kernel2': (5, 3), 'pool_size': (2, 2), 'lstm_size': 32, 'denselayer': 64, 'cnn_dropout': 0.3, 'lstm_dropout': 0.4, 'end_dropout': 0.4, 'batch_size': 128, 'epochs': 100}\n",
            "\n",
            "Testing params: {'dim_size': 1, 'layer1': 16, 'kernel1': (3, 3), 'layer2': 32, 'kernel2': (5, 3), 'pool_size': (2, 2), 'lstm_size': 32, 'denselayer': 64, 'cnn_dropout': 0.3, 'lstm_dropout': 0.4, 'end_dropout': 0.5, 'batch_size': 128, 'epochs': 100}\n",
            "\n",
            "Testing params: {'dim_size': 1, 'layer1': 16, 'kernel1': (3, 3), 'layer2': 32, 'kernel2': (5, 3), 'pool_size': (2, 2), 'lstm_size': 32, 'denselayer': 64, 'cnn_dropout': 0.4, 'lstm_dropout': 0.3, 'end_dropout': 0.4, 'batch_size': 128, 'epochs': 100}\n",
            "\n",
            "Testing params: {'dim_size': 1, 'layer1': 16, 'kernel1': (3, 3), 'layer2': 32, 'kernel2': (5, 3), 'pool_size': (2, 2), 'lstm_size': 32, 'denselayer': 64, 'cnn_dropout': 0.4, 'lstm_dropout': 0.3, 'end_dropout': 0.5, 'batch_size': 128, 'epochs': 100}\n",
            "\n",
            "Testing params: {'dim_size': 1, 'layer1': 16, 'kernel1': (3, 3), 'layer2': 32, 'kernel2': (5, 3), 'pool_size': (2, 2), 'lstm_size': 32, 'denselayer': 64, 'cnn_dropout': 0.4, 'lstm_dropout': 0.4, 'end_dropout': 0.4, 'batch_size': 128, 'epochs': 100}\n",
            "\n",
            "Testing params: {'dim_size': 1, 'layer1': 16, 'kernel1': (3, 3), 'layer2': 32, 'kernel2': (5, 3), 'pool_size': (2, 2), 'lstm_size': 32, 'denselayer': 64, 'cnn_dropout': 0.4, 'lstm_dropout': 0.4, 'end_dropout': 0.5, 'batch_size': 128, 'epochs': 100}\n",
            "\n",
            "Testing params: {'dim_size': 1, 'layer1': 16, 'kernel1': (3, 3), 'layer2': 32, 'kernel2': (5, 3), 'pool_size': (2, 2), 'lstm_size': 32, 'denselayer': 128, 'cnn_dropout': 0.3, 'lstm_dropout': 0.3, 'end_dropout': 0.4, 'batch_size': 128, 'epochs': 100}\n",
            "\n",
            "Testing params: {'dim_size': 1, 'layer1': 16, 'kernel1': (3, 3), 'layer2': 32, 'kernel2': (5, 3), 'pool_size': (2, 2), 'lstm_size': 32, 'denselayer': 128, 'cnn_dropout': 0.3, 'lstm_dropout': 0.3, 'end_dropout': 0.5, 'batch_size': 128, 'epochs': 100}\n",
            "\n",
            "Testing params: {'dim_size': 1, 'layer1': 16, 'kernel1': (3, 3), 'layer2': 32, 'kernel2': (5, 3), 'pool_size': (2, 2), 'lstm_size': 32, 'denselayer': 128, 'cnn_dropout': 0.3, 'lstm_dropout': 0.4, 'end_dropout': 0.4, 'batch_size': 128, 'epochs': 100}\n",
            "\n",
            "Testing params: {'dim_size': 1, 'layer1': 16, 'kernel1': (3, 3), 'layer2': 32, 'kernel2': (5, 3), 'pool_size': (2, 2), 'lstm_size': 32, 'denselayer': 128, 'cnn_dropout': 0.3, 'lstm_dropout': 0.4, 'end_dropout': 0.5, 'batch_size': 128, 'epochs': 100}\n",
            "\n",
            "Testing params: {'dim_size': 1, 'layer1': 16, 'kernel1': (3, 3), 'layer2': 32, 'kernel2': (5, 3), 'pool_size': (2, 2), 'lstm_size': 32, 'denselayer': 128, 'cnn_dropout': 0.4, 'lstm_dropout': 0.3, 'end_dropout': 0.4, 'batch_size': 128, 'epochs': 100}\n",
            "\n",
            "Testing params: {'dim_size': 1, 'layer1': 16, 'kernel1': (3, 3), 'layer2': 32, 'kernel2': (5, 3), 'pool_size': (2, 2), 'lstm_size': 32, 'denselayer': 128, 'cnn_dropout': 0.4, 'lstm_dropout': 0.3, 'end_dropout': 0.5, 'batch_size': 128, 'epochs': 100}\n",
            "New best val_acc: 0.8175\n",
            "\n",
            "Testing params: {'dim_size': 1, 'layer1': 16, 'kernel1': (3, 3), 'layer2': 32, 'kernel2': (5, 3), 'pool_size': (2, 2), 'lstm_size': 32, 'denselayer': 128, 'cnn_dropout': 0.4, 'lstm_dropout': 0.4, 'end_dropout': 0.4, 'batch_size': 128, 'epochs': 100}\n",
            "\n",
            "Testing params: {'dim_size': 1, 'layer1': 16, 'kernel1': (3, 3), 'layer2': 32, 'kernel2': (5, 3), 'pool_size': (2, 2), 'lstm_size': 32, 'denselayer': 128, 'cnn_dropout': 0.4, 'lstm_dropout': 0.4, 'end_dropout': 0.5, 'batch_size': 128, 'epochs': 100}\n",
            "\n",
            "Testing params: {'dim_size': 1, 'layer1': 16, 'kernel1': (3, 3), 'layer2': 32, 'kernel2': (5, 3), 'pool_size': (2, 2), 'lstm_size': 64, 'denselayer': 64, 'cnn_dropout': 0.3, 'lstm_dropout': 0.3, 'end_dropout': 0.4, 'batch_size': 128, 'epochs': 100}\n",
            "\n",
            "Testing params: {'dim_size': 1, 'layer1': 16, 'kernel1': (3, 3), 'layer2': 32, 'kernel2': (5, 3), 'pool_size': (2, 2), 'lstm_size': 64, 'denselayer': 64, 'cnn_dropout': 0.3, 'lstm_dropout': 0.3, 'end_dropout': 0.5, 'batch_size': 128, 'epochs': 100}\n",
            "\n",
            "Testing params: {'dim_size': 1, 'layer1': 16, 'kernel1': (3, 3), 'layer2': 32, 'kernel2': (5, 3), 'pool_size': (2, 2), 'lstm_size': 64, 'denselayer': 64, 'cnn_dropout': 0.3, 'lstm_dropout': 0.4, 'end_dropout': 0.4, 'batch_size': 128, 'epochs': 100}\n",
            "\n",
            "Testing params: {'dim_size': 1, 'layer1': 16, 'kernel1': (3, 3), 'layer2': 32, 'kernel2': (5, 3), 'pool_size': (2, 2), 'lstm_size': 64, 'denselayer': 64, 'cnn_dropout': 0.3, 'lstm_dropout': 0.4, 'end_dropout': 0.5, 'batch_size': 128, 'epochs': 100}\n",
            "\n",
            "Testing params: {'dim_size': 1, 'layer1': 16, 'kernel1': (3, 3), 'layer2': 32, 'kernel2': (5, 3), 'pool_size': (2, 2), 'lstm_size': 64, 'denselayer': 64, 'cnn_dropout': 0.4, 'lstm_dropout': 0.3, 'end_dropout': 0.4, 'batch_size': 128, 'epochs': 100}\n",
            "\n",
            "Testing params: {'dim_size': 1, 'layer1': 16, 'kernel1': (3, 3), 'layer2': 32, 'kernel2': (5, 3), 'pool_size': (2, 2), 'lstm_size': 64, 'denselayer': 64, 'cnn_dropout': 0.4, 'lstm_dropout': 0.3, 'end_dropout': 0.5, 'batch_size': 128, 'epochs': 100}\n",
            "\n",
            "Testing params: {'dim_size': 1, 'layer1': 16, 'kernel1': (3, 3), 'layer2': 32, 'kernel2': (5, 3), 'pool_size': (2, 2), 'lstm_size': 64, 'denselayer': 64, 'cnn_dropout': 0.4, 'lstm_dropout': 0.4, 'end_dropout': 0.4, 'batch_size': 128, 'epochs': 100}\n",
            "\n",
            "Testing params: {'dim_size': 1, 'layer1': 16, 'kernel1': (3, 3), 'layer2': 32, 'kernel2': (5, 3), 'pool_size': (2, 2), 'lstm_size': 64, 'denselayer': 64, 'cnn_dropout': 0.4, 'lstm_dropout': 0.4, 'end_dropout': 0.5, 'batch_size': 128, 'epochs': 100}\n",
            "\n",
            "Testing params: {'dim_size': 1, 'layer1': 16, 'kernel1': (3, 3), 'layer2': 32, 'kernel2': (5, 3), 'pool_size': (2, 2), 'lstm_size': 64, 'denselayer': 128, 'cnn_dropout': 0.3, 'lstm_dropout': 0.3, 'end_dropout': 0.4, 'batch_size': 128, 'epochs': 100}\n",
            "\n",
            "Testing params: {'dim_size': 1, 'layer1': 16, 'kernel1': (3, 3), 'layer2': 32, 'kernel2': (5, 3), 'pool_size': (2, 2), 'lstm_size': 64, 'denselayer': 128, 'cnn_dropout': 0.3, 'lstm_dropout': 0.3, 'end_dropout': 0.5, 'batch_size': 128, 'epochs': 100}\n",
            "New best val_acc: 0.8413\n",
            "\n",
            "Testing params: {'dim_size': 1, 'layer1': 16, 'kernel1': (3, 3), 'layer2': 32, 'kernel2': (5, 3), 'pool_size': (2, 2), 'lstm_size': 64, 'denselayer': 128, 'cnn_dropout': 0.3, 'lstm_dropout': 0.4, 'end_dropout': 0.4, 'batch_size': 128, 'epochs': 100}\n",
            "\n",
            "Testing params: {'dim_size': 1, 'layer1': 16, 'kernel1': (3, 3), 'layer2': 32, 'kernel2': (5, 3), 'pool_size': (2, 2), 'lstm_size': 64, 'denselayer': 128, 'cnn_dropout': 0.3, 'lstm_dropout': 0.4, 'end_dropout': 0.5, 'batch_size': 128, 'epochs': 100}\n",
            "\n",
            "Testing params: {'dim_size': 1, 'layer1': 16, 'kernel1': (3, 3), 'layer2': 32, 'kernel2': (5, 3), 'pool_size': (2, 2), 'lstm_size': 64, 'denselayer': 128, 'cnn_dropout': 0.4, 'lstm_dropout': 0.3, 'end_dropout': 0.4, 'batch_size': 128, 'epochs': 100}\n",
            "\n",
            "Testing params: {'dim_size': 1, 'layer1': 16, 'kernel1': (3, 3), 'layer2': 32, 'kernel2': (5, 3), 'pool_size': (2, 2), 'lstm_size': 64, 'denselayer': 128, 'cnn_dropout': 0.4, 'lstm_dropout': 0.3, 'end_dropout': 0.5, 'batch_size': 128, 'epochs': 100}\n",
            "\n",
            "Testing params: {'dim_size': 1, 'layer1': 16, 'kernel1': (3, 3), 'layer2': 32, 'kernel2': (5, 3), 'pool_size': (2, 2), 'lstm_size': 64, 'denselayer': 128, 'cnn_dropout': 0.4, 'lstm_dropout': 0.4, 'end_dropout': 0.4, 'batch_size': 128, 'epochs': 100}\n",
            "\n",
            "Testing params: {'dim_size': 1, 'layer1': 16, 'kernel1': (3, 3), 'layer2': 32, 'kernel2': (5, 3), 'pool_size': (2, 2), 'lstm_size': 64, 'denselayer': 128, 'cnn_dropout': 0.4, 'lstm_dropout': 0.4, 'end_dropout': 0.5, 'batch_size': 128, 'epochs': 100}\n",
            "\n",
            "Testing params: {'dim_size': 1, 'layer1': 16, 'kernel1': (3, 3), 'layer2': 32, 'kernel2': (5, 3), 'pool_size': (2, 2), 'lstm_size': 128, 'denselayer': 64, 'cnn_dropout': 0.3, 'lstm_dropout': 0.3, 'end_dropout': 0.4, 'batch_size': 128, 'epochs': 100}\n",
            "\n",
            "Testing params: {'dim_size': 1, 'layer1': 16, 'kernel1': (3, 3), 'layer2': 32, 'kernel2': (5, 3), 'pool_size': (2, 2), 'lstm_size': 128, 'denselayer': 64, 'cnn_dropout': 0.3, 'lstm_dropout': 0.3, 'end_dropout': 0.5, 'batch_size': 128, 'epochs': 100}\n",
            "\n",
            "Testing params: {'dim_size': 1, 'layer1': 16, 'kernel1': (3, 3), 'layer2': 32, 'kernel2': (5, 3), 'pool_size': (2, 2), 'lstm_size': 128, 'denselayer': 64, 'cnn_dropout': 0.3, 'lstm_dropout': 0.4, 'end_dropout': 0.4, 'batch_size': 128, 'epochs': 100}\n",
            "\n",
            "Testing params: {'dim_size': 1, 'layer1': 16, 'kernel1': (3, 3), 'layer2': 32, 'kernel2': (5, 3), 'pool_size': (2, 2), 'lstm_size': 128, 'denselayer': 64, 'cnn_dropout': 0.3, 'lstm_dropout': 0.4, 'end_dropout': 0.5, 'batch_size': 128, 'epochs': 100}\n",
            "\n",
            "Testing params: {'dim_size': 1, 'layer1': 16, 'kernel1': (3, 3), 'layer2': 32, 'kernel2': (5, 3), 'pool_size': (2, 2), 'lstm_size': 128, 'denselayer': 64, 'cnn_dropout': 0.4, 'lstm_dropout': 0.3, 'end_dropout': 0.4, 'batch_size': 128, 'epochs': 100}\n",
            "\n",
            "Testing params: {'dim_size': 1, 'layer1': 16, 'kernel1': (3, 3), 'layer2': 32, 'kernel2': (5, 3), 'pool_size': (2, 2), 'lstm_size': 128, 'denselayer': 64, 'cnn_dropout': 0.4, 'lstm_dropout': 0.3, 'end_dropout': 0.5, 'batch_size': 128, 'epochs': 100}\n",
            "\n",
            "Testing params: {'dim_size': 1, 'layer1': 16, 'kernel1': (3, 3), 'layer2': 32, 'kernel2': (5, 3), 'pool_size': (2, 2), 'lstm_size': 128, 'denselayer': 64, 'cnn_dropout': 0.4, 'lstm_dropout': 0.4, 'end_dropout': 0.4, 'batch_size': 128, 'epochs': 100}\n",
            "\n",
            "Testing params: {'dim_size': 1, 'layer1': 16, 'kernel1': (3, 3), 'layer2': 32, 'kernel2': (5, 3), 'pool_size': (2, 2), 'lstm_size': 128, 'denselayer': 64, 'cnn_dropout': 0.4, 'lstm_dropout': 0.4, 'end_dropout': 0.5, 'batch_size': 128, 'epochs': 100}\n",
            "\n",
            "Testing params: {'dim_size': 1, 'layer1': 16, 'kernel1': (3, 3), 'layer2': 32, 'kernel2': (5, 3), 'pool_size': (2, 2), 'lstm_size': 128, 'denselayer': 128, 'cnn_dropout': 0.3, 'lstm_dropout': 0.3, 'end_dropout': 0.4, 'batch_size': 128, 'epochs': 100}\n",
            "\n",
            "Testing params: {'dim_size': 1, 'layer1': 16, 'kernel1': (3, 3), 'layer2': 32, 'kernel2': (5, 3), 'pool_size': (2, 2), 'lstm_size': 128, 'denselayer': 128, 'cnn_dropout': 0.3, 'lstm_dropout': 0.3, 'end_dropout': 0.5, 'batch_size': 128, 'epochs': 100}\n",
            "\n",
            "Testing params: {'dim_size': 1, 'layer1': 16, 'kernel1': (3, 3), 'layer2': 32, 'kernel2': (5, 3), 'pool_size': (2, 2), 'lstm_size': 128, 'denselayer': 128, 'cnn_dropout': 0.3, 'lstm_dropout': 0.4, 'end_dropout': 0.4, 'batch_size': 128, 'epochs': 100}\n",
            "\n",
            "Testing params: {'dim_size': 1, 'layer1': 16, 'kernel1': (3, 3), 'layer2': 32, 'kernel2': (5, 3), 'pool_size': (2, 2), 'lstm_size': 128, 'denselayer': 128, 'cnn_dropout': 0.3, 'lstm_dropout': 0.4, 'end_dropout': 0.5, 'batch_size': 128, 'epochs': 100}\n",
            "New best val_acc: 0.8532\n",
            "\n",
            "Testing params: {'dim_size': 1, 'layer1': 16, 'kernel1': (3, 3), 'layer2': 32, 'kernel2': (5, 3), 'pool_size': (2, 2), 'lstm_size': 128, 'denselayer': 128, 'cnn_dropout': 0.4, 'lstm_dropout': 0.3, 'end_dropout': 0.4, 'batch_size': 128, 'epochs': 100}\n",
            "\n",
            "Testing params: {'dim_size': 1, 'layer1': 16, 'kernel1': (3, 3), 'layer2': 32, 'kernel2': (5, 3), 'pool_size': (2, 2), 'lstm_size': 128, 'denselayer': 128, 'cnn_dropout': 0.4, 'lstm_dropout': 0.3, 'end_dropout': 0.5, 'batch_size': 128, 'epochs': 100}\n",
            "\n",
            "Testing params: {'dim_size': 1, 'layer1': 16, 'kernel1': (3, 3), 'layer2': 32, 'kernel2': (5, 3), 'pool_size': (2, 2), 'lstm_size': 128, 'denselayer': 128, 'cnn_dropout': 0.4, 'lstm_dropout': 0.4, 'end_dropout': 0.4, 'batch_size': 128, 'epochs': 100}\n",
            "\n",
            "Testing params: {'dim_size': 1, 'layer1': 16, 'kernel1': (3, 3), 'layer2': 32, 'kernel2': (5, 3), 'pool_size': (2, 2), 'lstm_size': 128, 'denselayer': 128, 'cnn_dropout': 0.4, 'lstm_dropout': 0.4, 'end_dropout': 0.5, 'batch_size': 128, 'epochs': 100}\n",
            "\n",
            "Testing params: {'dim_size': 1, 'layer1': 16, 'kernel1': (3, 3), 'layer2': 64, 'kernel2': (5, 3), 'pool_size': (2, 2), 'lstm_size': 32, 'denselayer': 64, 'cnn_dropout': 0.3, 'lstm_dropout': 0.3, 'end_dropout': 0.4, 'batch_size': 128, 'epochs': 100}\n",
            "\n",
            "Testing params: {'dim_size': 1, 'layer1': 16, 'kernel1': (3, 3), 'layer2': 64, 'kernel2': (5, 3), 'pool_size': (2, 2), 'lstm_size': 32, 'denselayer': 64, 'cnn_dropout': 0.3, 'lstm_dropout': 0.3, 'end_dropout': 0.5, 'batch_size': 128, 'epochs': 100}\n",
            "\n",
            "Testing params: {'dim_size': 1, 'layer1': 16, 'kernel1': (3, 3), 'layer2': 64, 'kernel2': (5, 3), 'pool_size': (2, 2), 'lstm_size': 32, 'denselayer': 64, 'cnn_dropout': 0.3, 'lstm_dropout': 0.4, 'end_dropout': 0.4, 'batch_size': 128, 'epochs': 100}\n",
            "\n",
            "Testing params: {'dim_size': 1, 'layer1': 16, 'kernel1': (3, 3), 'layer2': 64, 'kernel2': (5, 3), 'pool_size': (2, 2), 'lstm_size': 32, 'denselayer': 64, 'cnn_dropout': 0.3, 'lstm_dropout': 0.4, 'end_dropout': 0.5, 'batch_size': 128, 'epochs': 100}\n",
            "\n",
            "Testing params: {'dim_size': 1, 'layer1': 16, 'kernel1': (3, 3), 'layer2': 64, 'kernel2': (5, 3), 'pool_size': (2, 2), 'lstm_size': 32, 'denselayer': 64, 'cnn_dropout': 0.4, 'lstm_dropout': 0.3, 'end_dropout': 0.4, 'batch_size': 128, 'epochs': 100}\n",
            "\n",
            "Testing params: {'dim_size': 1, 'layer1': 16, 'kernel1': (3, 3), 'layer2': 64, 'kernel2': (5, 3), 'pool_size': (2, 2), 'lstm_size': 32, 'denselayer': 64, 'cnn_dropout': 0.4, 'lstm_dropout': 0.3, 'end_dropout': 0.5, 'batch_size': 128, 'epochs': 100}\n",
            "\n",
            "Testing params: {'dim_size': 1, 'layer1': 16, 'kernel1': (3, 3), 'layer2': 64, 'kernel2': (5, 3), 'pool_size': (2, 2), 'lstm_size': 32, 'denselayer': 64, 'cnn_dropout': 0.4, 'lstm_dropout': 0.4, 'end_dropout': 0.4, 'batch_size': 128, 'epochs': 100}\n",
            "\n",
            "Testing params: {'dim_size': 1, 'layer1': 16, 'kernel1': (3, 3), 'layer2': 64, 'kernel2': (5, 3), 'pool_size': (2, 2), 'lstm_size': 32, 'denselayer': 64, 'cnn_dropout': 0.4, 'lstm_dropout': 0.4, 'end_dropout': 0.5, 'batch_size': 128, 'epochs': 100}\n",
            "\n",
            "Testing params: {'dim_size': 1, 'layer1': 16, 'kernel1': (3, 3), 'layer2': 64, 'kernel2': (5, 3), 'pool_size': (2, 2), 'lstm_size': 32, 'denselayer': 128, 'cnn_dropout': 0.3, 'lstm_dropout': 0.3, 'end_dropout': 0.4, 'batch_size': 128, 'epochs': 100}\n",
            "\n",
            "Testing params: {'dim_size': 1, 'layer1': 16, 'kernel1': (3, 3), 'layer2': 64, 'kernel2': (5, 3), 'pool_size': (2, 2), 'lstm_size': 32, 'denselayer': 128, 'cnn_dropout': 0.3, 'lstm_dropout': 0.3, 'end_dropout': 0.5, 'batch_size': 128, 'epochs': 100}\n",
            "\n",
            "Testing params: {'dim_size': 1, 'layer1': 16, 'kernel1': (3, 3), 'layer2': 64, 'kernel2': (5, 3), 'pool_size': (2, 2), 'lstm_size': 32, 'denselayer': 128, 'cnn_dropout': 0.3, 'lstm_dropout': 0.4, 'end_dropout': 0.4, 'batch_size': 128, 'epochs': 100}\n",
            "\n",
            "Testing params: {'dim_size': 1, 'layer1': 16, 'kernel1': (3, 3), 'layer2': 64, 'kernel2': (5, 3), 'pool_size': (2, 2), 'lstm_size': 32, 'denselayer': 128, 'cnn_dropout': 0.3, 'lstm_dropout': 0.4, 'end_dropout': 0.5, 'batch_size': 128, 'epochs': 100}\n",
            "\n",
            "Testing params: {'dim_size': 1, 'layer1': 16, 'kernel1': (3, 3), 'layer2': 64, 'kernel2': (5, 3), 'pool_size': (2, 2), 'lstm_size': 32, 'denselayer': 128, 'cnn_dropout': 0.4, 'lstm_dropout': 0.3, 'end_dropout': 0.4, 'batch_size': 128, 'epochs': 100}\n",
            "\n",
            "Testing params: {'dim_size': 1, 'layer1': 16, 'kernel1': (3, 3), 'layer2': 64, 'kernel2': (5, 3), 'pool_size': (2, 2), 'lstm_size': 32, 'denselayer': 128, 'cnn_dropout': 0.4, 'lstm_dropout': 0.3, 'end_dropout': 0.5, 'batch_size': 128, 'epochs': 100}\n",
            "\n",
            "Testing params: {'dim_size': 1, 'layer1': 16, 'kernel1': (3, 3), 'layer2': 64, 'kernel2': (5, 3), 'pool_size': (2, 2), 'lstm_size': 32, 'denselayer': 128, 'cnn_dropout': 0.4, 'lstm_dropout': 0.4, 'end_dropout': 0.4, 'batch_size': 128, 'epochs': 100}\n",
            "\n",
            "Testing params: {'dim_size': 1, 'layer1': 16, 'kernel1': (3, 3), 'layer2': 64, 'kernel2': (5, 3), 'pool_size': (2, 2), 'lstm_size': 32, 'denselayer': 128, 'cnn_dropout': 0.4, 'lstm_dropout': 0.4, 'end_dropout': 0.5, 'batch_size': 128, 'epochs': 100}\n",
            "\n",
            "Testing params: {'dim_size': 1, 'layer1': 16, 'kernel1': (3, 3), 'layer2': 64, 'kernel2': (5, 3), 'pool_size': (2, 2), 'lstm_size': 64, 'denselayer': 64, 'cnn_dropout': 0.3, 'lstm_dropout': 0.3, 'end_dropout': 0.4, 'batch_size': 128, 'epochs': 100}\n",
            "\n",
            "Testing params: {'dim_size': 1, 'layer1': 16, 'kernel1': (3, 3), 'layer2': 64, 'kernel2': (5, 3), 'pool_size': (2, 2), 'lstm_size': 64, 'denselayer': 64, 'cnn_dropout': 0.3, 'lstm_dropout': 0.3, 'end_dropout': 0.5, 'batch_size': 128, 'epochs': 100}\n",
            "\n",
            "Testing params: {'dim_size': 1, 'layer1': 16, 'kernel1': (3, 3), 'layer2': 64, 'kernel2': (5, 3), 'pool_size': (2, 2), 'lstm_size': 64, 'denselayer': 64, 'cnn_dropout': 0.3, 'lstm_dropout': 0.4, 'end_dropout': 0.4, 'batch_size': 128, 'epochs': 100}\n",
            "\n",
            "Testing params: {'dim_size': 1, 'layer1': 16, 'kernel1': (3, 3), 'layer2': 64, 'kernel2': (5, 3), 'pool_size': (2, 2), 'lstm_size': 64, 'denselayer': 64, 'cnn_dropout': 0.3, 'lstm_dropout': 0.4, 'end_dropout': 0.5, 'batch_size': 128, 'epochs': 100}\n",
            "\n",
            "Testing params: {'dim_size': 1, 'layer1': 16, 'kernel1': (3, 3), 'layer2': 64, 'kernel2': (5, 3), 'pool_size': (2, 2), 'lstm_size': 64, 'denselayer': 64, 'cnn_dropout': 0.4, 'lstm_dropout': 0.3, 'end_dropout': 0.4, 'batch_size': 128, 'epochs': 100}\n",
            "\n",
            "Testing params: {'dim_size': 1, 'layer1': 16, 'kernel1': (3, 3), 'layer2': 64, 'kernel2': (5, 3), 'pool_size': (2, 2), 'lstm_size': 64, 'denselayer': 64, 'cnn_dropout': 0.4, 'lstm_dropout': 0.3, 'end_dropout': 0.5, 'batch_size': 128, 'epochs': 100}\n",
            "\n",
            "Testing params: {'dim_size': 1, 'layer1': 16, 'kernel1': (3, 3), 'layer2': 64, 'kernel2': (5, 3), 'pool_size': (2, 2), 'lstm_size': 64, 'denselayer': 64, 'cnn_dropout': 0.4, 'lstm_dropout': 0.4, 'end_dropout': 0.4, 'batch_size': 128, 'epochs': 100}\n",
            "\n",
            "Testing params: {'dim_size': 1, 'layer1': 16, 'kernel1': (3, 3), 'layer2': 64, 'kernel2': (5, 3), 'pool_size': (2, 2), 'lstm_size': 64, 'denselayer': 64, 'cnn_dropout': 0.4, 'lstm_dropout': 0.4, 'end_dropout': 0.5, 'batch_size': 128, 'epochs': 100}\n",
            "\n",
            "Testing params: {'dim_size': 1, 'layer1': 16, 'kernel1': (3, 3), 'layer2': 64, 'kernel2': (5, 3), 'pool_size': (2, 2), 'lstm_size': 64, 'denselayer': 128, 'cnn_dropout': 0.3, 'lstm_dropout': 0.3, 'end_dropout': 0.4, 'batch_size': 128, 'epochs': 100}\n",
            "\n",
            "Testing params: {'dim_size': 1, 'layer1': 16, 'kernel1': (3, 3), 'layer2': 64, 'kernel2': (5, 3), 'pool_size': (2, 2), 'lstm_size': 64, 'denselayer': 128, 'cnn_dropout': 0.3, 'lstm_dropout': 0.3, 'end_dropout': 0.5, 'batch_size': 128, 'epochs': 100}\n",
            "\n",
            "Testing params: {'dim_size': 1, 'layer1': 16, 'kernel1': (3, 3), 'layer2': 64, 'kernel2': (5, 3), 'pool_size': (2, 2), 'lstm_size': 64, 'denselayer': 128, 'cnn_dropout': 0.3, 'lstm_dropout': 0.4, 'end_dropout': 0.4, 'batch_size': 128, 'epochs': 100}\n",
            "\n",
            "Testing params: {'dim_size': 1, 'layer1': 16, 'kernel1': (3, 3), 'layer2': 64, 'kernel2': (5, 3), 'pool_size': (2, 2), 'lstm_size': 64, 'denselayer': 128, 'cnn_dropout': 0.3, 'lstm_dropout': 0.4, 'end_dropout': 0.5, 'batch_size': 128, 'epochs': 100}\n",
            "\n",
            "Testing params: {'dim_size': 1, 'layer1': 16, 'kernel1': (3, 3), 'layer2': 64, 'kernel2': (5, 3), 'pool_size': (2, 2), 'lstm_size': 64, 'denselayer': 128, 'cnn_dropout': 0.4, 'lstm_dropout': 0.3, 'end_dropout': 0.4, 'batch_size': 128, 'epochs': 100}\n",
            "\n",
            "Testing params: {'dim_size': 1, 'layer1': 16, 'kernel1': (3, 3), 'layer2': 64, 'kernel2': (5, 3), 'pool_size': (2, 2), 'lstm_size': 64, 'denselayer': 128, 'cnn_dropout': 0.4, 'lstm_dropout': 0.3, 'end_dropout': 0.5, 'batch_size': 128, 'epochs': 100}\n",
            "\n",
            "Testing params: {'dim_size': 1, 'layer1': 16, 'kernel1': (3, 3), 'layer2': 64, 'kernel2': (5, 3), 'pool_size': (2, 2), 'lstm_size': 64, 'denselayer': 128, 'cnn_dropout': 0.4, 'lstm_dropout': 0.4, 'end_dropout': 0.4, 'batch_size': 128, 'epochs': 100}\n",
            "\n",
            "Testing params: {'dim_size': 1, 'layer1': 16, 'kernel1': (3, 3), 'layer2': 64, 'kernel2': (5, 3), 'pool_size': (2, 2), 'lstm_size': 64, 'denselayer': 128, 'cnn_dropout': 0.4, 'lstm_dropout': 0.4, 'end_dropout': 0.5, 'batch_size': 128, 'epochs': 100}\n",
            "\n",
            "Testing params: {'dim_size': 1, 'layer1': 16, 'kernel1': (3, 3), 'layer2': 64, 'kernel2': (5, 3), 'pool_size': (2, 2), 'lstm_size': 128, 'denselayer': 64, 'cnn_dropout': 0.3, 'lstm_dropout': 0.3, 'end_dropout': 0.4, 'batch_size': 128, 'epochs': 100}\n",
            "\n",
            "Testing params: {'dim_size': 1, 'layer1': 16, 'kernel1': (3, 3), 'layer2': 64, 'kernel2': (5, 3), 'pool_size': (2, 2), 'lstm_size': 128, 'denselayer': 64, 'cnn_dropout': 0.3, 'lstm_dropout': 0.3, 'end_dropout': 0.5, 'batch_size': 128, 'epochs': 100}\n",
            "\n",
            "Testing params: {'dim_size': 1, 'layer1': 16, 'kernel1': (3, 3), 'layer2': 64, 'kernel2': (5, 3), 'pool_size': (2, 2), 'lstm_size': 128, 'denselayer': 64, 'cnn_dropout': 0.3, 'lstm_dropout': 0.4, 'end_dropout': 0.4, 'batch_size': 128, 'epochs': 100}\n",
            "\n",
            "Testing params: {'dim_size': 1, 'layer1': 16, 'kernel1': (3, 3), 'layer2': 64, 'kernel2': (5, 3), 'pool_size': (2, 2), 'lstm_size': 128, 'denselayer': 64, 'cnn_dropout': 0.3, 'lstm_dropout': 0.4, 'end_dropout': 0.5, 'batch_size': 128, 'epochs': 100}\n",
            "\n",
            "Testing params: {'dim_size': 1, 'layer1': 16, 'kernel1': (3, 3), 'layer2': 64, 'kernel2': (5, 3), 'pool_size': (2, 2), 'lstm_size': 128, 'denselayer': 64, 'cnn_dropout': 0.4, 'lstm_dropout': 0.3, 'end_dropout': 0.4, 'batch_size': 128, 'epochs': 100}\n",
            "\n",
            "Testing params: {'dim_size': 1, 'layer1': 16, 'kernel1': (3, 3), 'layer2': 64, 'kernel2': (5, 3), 'pool_size': (2, 2), 'lstm_size': 128, 'denselayer': 64, 'cnn_dropout': 0.4, 'lstm_dropout': 0.3, 'end_dropout': 0.5, 'batch_size': 128, 'epochs': 100}\n",
            "\n",
            "Testing params: {'dim_size': 1, 'layer1': 16, 'kernel1': (3, 3), 'layer2': 64, 'kernel2': (5, 3), 'pool_size': (2, 2), 'lstm_size': 128, 'denselayer': 64, 'cnn_dropout': 0.4, 'lstm_dropout': 0.4, 'end_dropout': 0.4, 'batch_size': 128, 'epochs': 100}\n",
            "\n",
            "Testing params: {'dim_size': 1, 'layer1': 16, 'kernel1': (3, 3), 'layer2': 64, 'kernel2': (5, 3), 'pool_size': (2, 2), 'lstm_size': 128, 'denselayer': 64, 'cnn_dropout': 0.4, 'lstm_dropout': 0.4, 'end_dropout': 0.5, 'batch_size': 128, 'epochs': 100}\n"
          ]
        }
      ]
    },
    {
      "cell_type": "code",
      "source": [
        "# Test model with best parameters\n",
        "\n",
        "opt_model = build_full_model(dim_size=1, layer1=16, kernel1=(3,3), layer2=32,\n",
        "                                 kernel2=(5,3), denselayer=128, pool_size=(2,2),\n",
        "                                 lstm_size=128, cnn_dropout=0.3, lstm_dropout=0.4,\n",
        "                                 end_dropout=0.5, num_classes=9)\n",
        "optimizer = Adam(learning_rate=0.001, clipnorm=1.0)\n",
        "batch_size = 128\n",
        "epochs = 100\n",
        "early_stopping = tf.keras.callbacks.EarlyStopping(monitor='val_loss', patience=15,\n",
        "                                                  restore_best_weights=True)\n",
        "reduce_lr = tf.keras.callbacks.ReduceLROnPlateau(monitor='val_loss', factor=0.95,\n",
        "                              patience=5, min_lr=0.00001)\n",
        "\n",
        "opt_model.compile(optimizer=optimizer, loss='sparse_categorical_crossentropy', metrics=['accuracy'])\n",
        "\n",
        "hist = opt_model.fit(X_train, y_train, callbacks=[early_stopping, reduce_lr],\n",
        "                 epochs=epochs, batch_size=batch_size, validation_split=0.2, verbose=1)"
      ],
      "metadata": {
        "colab": {
          "base_uri": "https://localhost:8080/"
        },
        "id": "FgdZ_VwSXa-r",
        "outputId": "7bf37f68-7f07-4393-c883-403e5045d166"
      },
      "execution_count": 22,
      "outputs": [
        {
          "output_type": "stream",
          "name": "stderr",
          "text": [
            "/usr/local/lib/python3.11/dist-packages/keras/src/layers/core/input_layer.py:27: UserWarning: Argument `input_shape` is deprecated. Use `shape` instead.\n",
            "  warnings.warn(\n"
          ]
        },
        {
          "output_type": "stream",
          "name": "stdout",
          "text": [
            "Epoch 1/100\n",
            "\u001b[1m8/8\u001b[0m \u001b[32m━━━━━━━━━━━━━━━━━━━━\u001b[0m\u001b[37m\u001b[0m \u001b[1m5s\u001b[0m 137ms/step - accuracy: 0.1410 - loss: 2.1907 - val_accuracy: 0.1825 - val_loss: 2.1520 - learning_rate: 0.0010\n",
            "Epoch 2/100\n",
            "\u001b[1m8/8\u001b[0m \u001b[32m━━━━━━━━━━━━━━━━━━━━\u001b[0m\u001b[37m\u001b[0m \u001b[1m1s\u001b[0m 55ms/step - accuracy: 0.2082 - loss: 2.1616 - val_accuracy: 0.1825 - val_loss: 2.1362 - learning_rate: 0.0010\n",
            "Epoch 3/100\n",
            "\u001b[1m8/8\u001b[0m \u001b[32m━━━━━━━━━━━━━━━━━━━━\u001b[0m\u001b[37m\u001b[0m \u001b[1m1s\u001b[0m 66ms/step - accuracy: 0.2099 - loss: 2.1491 - val_accuracy: 0.1825 - val_loss: 2.1209 - learning_rate: 0.0010\n",
            "Epoch 4/100\n",
            "\u001b[1m8/8\u001b[0m \u001b[32m━━━━━━━━━━━━━━━━━━━━\u001b[0m\u001b[37m\u001b[0m \u001b[1m0s\u001b[0m 52ms/step - accuracy: 0.1870 - loss: 2.1372 - val_accuracy: 0.1825 - val_loss: 2.1108 - learning_rate: 0.0010\n",
            "Epoch 5/100\n",
            "\u001b[1m8/8\u001b[0m \u001b[32m━━━━━━━━━━━━━━━━━━━━\u001b[0m\u001b[37m\u001b[0m \u001b[1m1s\u001b[0m 77ms/step - accuracy: 0.2189 - loss: 2.0800 - val_accuracy: 0.1825 - val_loss: 2.0318 - learning_rate: 0.0010\n",
            "Epoch 6/100\n",
            "\u001b[1m8/8\u001b[0m \u001b[32m━━━━━━━━━━━━━━━━━━━━\u001b[0m\u001b[37m\u001b[0m \u001b[1m0s\u001b[0m 41ms/step - accuracy: 0.2129 - loss: 2.0404 - val_accuracy: 0.2817 - val_loss: 1.9307 - learning_rate: 0.0010\n",
            "Epoch 7/100\n",
            "\u001b[1m8/8\u001b[0m \u001b[32m━━━━━━━━━━━━━━━━━━━━\u001b[0m\u001b[37m\u001b[0m \u001b[1m1s\u001b[0m 40ms/step - accuracy: 0.2906 - loss: 1.9054 - val_accuracy: 0.2738 - val_loss: 1.8470 - learning_rate: 0.0010\n",
            "Epoch 8/100\n",
            "\u001b[1m8/8\u001b[0m \u001b[32m━━━━━━━━━━━━━━━━━━━━\u001b[0m\u001b[37m\u001b[0m \u001b[1m1s\u001b[0m 43ms/step - accuracy: 0.3125 - loss: 1.7982 - val_accuracy: 0.2937 - val_loss: 1.6824 - learning_rate: 0.0010\n",
            "Epoch 9/100\n",
            "\u001b[1m8/8\u001b[0m \u001b[32m━━━━━━━━━━━━━━━━━━━━\u001b[0m\u001b[37m\u001b[0m \u001b[1m0s\u001b[0m 40ms/step - accuracy: 0.3185 - loss: 1.6699 - val_accuracy: 0.3135 - val_loss: 1.6175 - learning_rate: 0.0010\n",
            "Epoch 10/100\n",
            "\u001b[1m8/8\u001b[0m \u001b[32m━━━━━━━━━━━━━━━━━━━━\u001b[0m\u001b[37m\u001b[0m \u001b[1m0s\u001b[0m 41ms/step - accuracy: 0.3510 - loss: 1.6424 - val_accuracy: 0.3611 - val_loss: 1.5511 - learning_rate: 0.0010\n",
            "Epoch 11/100\n",
            "\u001b[1m8/8\u001b[0m \u001b[32m━━━━━━━━━━━━━━━━━━━━\u001b[0m\u001b[37m\u001b[0m \u001b[1m0s\u001b[0m 42ms/step - accuracy: 0.3417 - loss: 1.5896 - val_accuracy: 0.3413 - val_loss: 1.5706 - learning_rate: 0.0010\n",
            "Epoch 12/100\n",
            "\u001b[1m8/8\u001b[0m \u001b[32m━━━━━━━━━━━━━━━━━━━━\u001b[0m\u001b[37m\u001b[0m \u001b[1m0s\u001b[0m 62ms/step - accuracy: 0.3738 - loss: 1.5448 - val_accuracy: 0.3929 - val_loss: 1.4523 - learning_rate: 0.0010\n",
            "Epoch 13/100\n",
            "\u001b[1m8/8\u001b[0m \u001b[32m━━━━━━━━━━━━━━━━━━━━\u001b[0m\u001b[37m\u001b[0m \u001b[1m1s\u001b[0m 78ms/step - accuracy: 0.4568 - loss: 1.3886 - val_accuracy: 0.4484 - val_loss: 1.3073 - learning_rate: 0.0010\n",
            "Epoch 14/100\n",
            "\u001b[1m8/8\u001b[0m \u001b[32m━━━━━━━━━━━━━━━━━━━━\u001b[0m\u001b[37m\u001b[0m \u001b[1m1s\u001b[0m 86ms/step - accuracy: 0.4590 - loss: 1.3465 - val_accuracy: 0.4206 - val_loss: 1.5055 - learning_rate: 0.0010\n",
            "Epoch 15/100\n",
            "\u001b[1m8/8\u001b[0m \u001b[32m━━━━━━━━━━━━━━━━━━━━\u001b[0m\u001b[37m\u001b[0m \u001b[1m1s\u001b[0m 86ms/step - accuracy: 0.4385 - loss: 1.3751 - val_accuracy: 0.5079 - val_loss: 1.2846 - learning_rate: 0.0010\n",
            "Epoch 16/100\n",
            "\u001b[1m8/8\u001b[0m \u001b[32m━━━━━━━━━━━━━━━━━━━━\u001b[0m\u001b[37m\u001b[0m \u001b[1m1s\u001b[0m 86ms/step - accuracy: 0.5238 - loss: 1.1671 - val_accuracy: 0.4206 - val_loss: 1.3676 - learning_rate: 0.0010\n",
            "Epoch 17/100\n",
            "\u001b[1m8/8\u001b[0m \u001b[32m━━━━━━━━━━━━━━━━━━━━\u001b[0m\u001b[37m\u001b[0m \u001b[1m0s\u001b[0m 43ms/step - accuracy: 0.4984 - loss: 1.2236 - val_accuracy: 0.4722 - val_loss: 1.3271 - learning_rate: 0.0010\n",
            "Epoch 18/100\n",
            "\u001b[1m8/8\u001b[0m \u001b[32m━━━━━━━━━━━━━━━━━━━━\u001b[0m\u001b[37m\u001b[0m \u001b[1m0s\u001b[0m 41ms/step - accuracy: 0.4693 - loss: 1.2424 - val_accuracy: 0.5079 - val_loss: 1.2551 - learning_rate: 0.0010\n",
            "Epoch 19/100\n",
            "\u001b[1m8/8\u001b[0m \u001b[32m━━━━━━━━━━━━━━━━━━━━\u001b[0m\u001b[37m\u001b[0m \u001b[1m0s\u001b[0m 42ms/step - accuracy: 0.5545 - loss: 1.1099 - val_accuracy: 0.5079 - val_loss: 1.2532 - learning_rate: 0.0010\n",
            "Epoch 20/100\n",
            "\u001b[1m8/8\u001b[0m \u001b[32m━━━━━━━━━━━━━━━━━━━━\u001b[0m\u001b[37m\u001b[0m \u001b[1m1s\u001b[0m 39ms/step - accuracy: 0.5718 - loss: 1.0071 - val_accuracy: 0.5437 - val_loss: 1.1452 - learning_rate: 0.0010\n",
            "Epoch 21/100\n",
            "\u001b[1m8/8\u001b[0m \u001b[32m━━━━━━━━━━━━━━━━━━━━\u001b[0m\u001b[37m\u001b[0m \u001b[1m0s\u001b[0m 41ms/step - accuracy: 0.5659 - loss: 1.0702 - val_accuracy: 0.5913 - val_loss: 1.1164 - learning_rate: 0.0010\n",
            "Epoch 22/100\n",
            "\u001b[1m8/8\u001b[0m \u001b[32m━━━━━━━━━━━━━━━━━━━━\u001b[0m\u001b[37m\u001b[0m \u001b[1m0s\u001b[0m 41ms/step - accuracy: 0.6317 - loss: 0.9433 - val_accuracy: 0.5794 - val_loss: 1.1568 - learning_rate: 0.0010\n",
            "Epoch 23/100\n",
            "\u001b[1m8/8\u001b[0m \u001b[32m━━━━━━━━━━━━━━━━━━━━\u001b[0m\u001b[37m\u001b[0m \u001b[1m0s\u001b[0m 39ms/step - accuracy: 0.6441 - loss: 0.8817 - val_accuracy: 0.6270 - val_loss: 1.1233 - learning_rate: 0.0010\n",
            "Epoch 24/100\n",
            "\u001b[1m8/8\u001b[0m \u001b[32m━━━━━━━━━━━━━━━━━━━━\u001b[0m\u001b[37m\u001b[0m \u001b[1m0s\u001b[0m 45ms/step - accuracy: 0.7095 - loss: 0.7664 - val_accuracy: 0.6349 - val_loss: 1.1147 - learning_rate: 0.0010\n",
            "Epoch 25/100\n",
            "\u001b[1m8/8\u001b[0m \u001b[32m━━━━━━━━━━━━━━━━━━━━\u001b[0m\u001b[37m\u001b[0m \u001b[1m1s\u001b[0m 62ms/step - accuracy: 0.6819 - loss: 0.7886 - val_accuracy: 0.6508 - val_loss: 1.0708 - learning_rate: 0.0010\n",
            "Epoch 26/100\n",
            "\u001b[1m8/8\u001b[0m \u001b[32m━━━━━━━━━━━━━━━━━━━━\u001b[0m\u001b[37m\u001b[0m \u001b[1m1s\u001b[0m 56ms/step - accuracy: 0.6860 - loss: 0.8108 - val_accuracy: 0.6151 - val_loss: 1.0315 - learning_rate: 0.0010\n",
            "Epoch 27/100\n",
            "\u001b[1m8/8\u001b[0m \u001b[32m━━━━━━━━━━━━━━━━━━━━\u001b[0m\u001b[37m\u001b[0m \u001b[1m1s\u001b[0m 51ms/step - accuracy: 0.6956 - loss: 0.7329 - val_accuracy: 0.6548 - val_loss: 1.0428 - learning_rate: 0.0010\n",
            "Epoch 28/100\n",
            "\u001b[1m8/8\u001b[0m \u001b[32m━━━━━━━━━━━━━━━━━━━━\u001b[0m\u001b[37m\u001b[0m \u001b[1m1s\u001b[0m 65ms/step - accuracy: 0.7225 - loss: 0.7222 - val_accuracy: 0.6270 - val_loss: 1.0937 - learning_rate: 0.0010\n",
            "Epoch 29/100\n",
            "\u001b[1m8/8\u001b[0m \u001b[32m━━━━━━━━━━━━━━━━━━━━\u001b[0m\u001b[37m\u001b[0m \u001b[1m1s\u001b[0m 67ms/step - accuracy: 0.7001 - loss: 0.7821 - val_accuracy: 0.6032 - val_loss: 1.1931 - learning_rate: 0.0010\n",
            "Epoch 30/100\n",
            "\u001b[1m8/8\u001b[0m \u001b[32m━━━━━━━━━━━━━━━━━━━━\u001b[0m\u001b[37m\u001b[0m \u001b[1m0s\u001b[0m 42ms/step - accuracy: 0.6724 - loss: 0.8094 - val_accuracy: 0.6865 - val_loss: 0.9289 - learning_rate: 0.0010\n",
            "Epoch 31/100\n",
            "\u001b[1m8/8\u001b[0m \u001b[32m━━━━━━━━━━━━━━━━━━━━\u001b[0m\u001b[37m\u001b[0m \u001b[1m0s\u001b[0m 40ms/step - accuracy: 0.7205 - loss: 0.6684 - val_accuracy: 0.6429 - val_loss: 1.0060 - learning_rate: 0.0010\n",
            "Epoch 32/100\n",
            "\u001b[1m8/8\u001b[0m \u001b[32m━━━━━━━━━━━━━━━━━━━━\u001b[0m\u001b[37m\u001b[0m \u001b[1m1s\u001b[0m 41ms/step - accuracy: 0.7324 - loss: 0.6635 - val_accuracy: 0.6429 - val_loss: 1.1138 - learning_rate: 0.0010\n",
            "Epoch 33/100\n",
            "\u001b[1m8/8\u001b[0m \u001b[32m━━━━━━━━━━━━━━━━━━━━\u001b[0m\u001b[37m\u001b[0m \u001b[1m1s\u001b[0m 39ms/step - accuracy: 0.7984 - loss: 0.5471 - val_accuracy: 0.6667 - val_loss: 0.9484 - learning_rate: 0.0010\n",
            "Epoch 34/100\n",
            "\u001b[1m8/8\u001b[0m \u001b[32m━━━━━━━━━━━━━━━━━━━━\u001b[0m\u001b[37m\u001b[0m \u001b[1m0s\u001b[0m 42ms/step - accuracy: 0.8030 - loss: 0.5067 - val_accuracy: 0.6429 - val_loss: 1.0857 - learning_rate: 0.0010\n",
            "Epoch 35/100\n",
            "\u001b[1m8/8\u001b[0m \u001b[32m━━━━━━━━━━━━━━━━━━━━\u001b[0m\u001b[37m\u001b[0m \u001b[1m0s\u001b[0m 41ms/step - accuracy: 0.7584 - loss: 0.5776 - val_accuracy: 0.6706 - val_loss: 0.9238 - learning_rate: 0.0010\n",
            "Epoch 36/100\n",
            "\u001b[1m8/8\u001b[0m \u001b[32m━━━━━━━━━━━━━━━━━━━━\u001b[0m\u001b[37m\u001b[0m \u001b[1m1s\u001b[0m 43ms/step - accuracy: 0.7829 - loss: 0.5346 - val_accuracy: 0.6786 - val_loss: 0.9199 - learning_rate: 0.0010\n",
            "Epoch 37/100\n",
            "\u001b[1m8/8\u001b[0m \u001b[32m━━━━━━━━━━━━━━━━━━━━\u001b[0m\u001b[37m\u001b[0m \u001b[1m1s\u001b[0m 39ms/step - accuracy: 0.7488 - loss: 0.6519 - val_accuracy: 0.6230 - val_loss: 1.1875 - learning_rate: 0.0010\n",
            "Epoch 38/100\n",
            "\u001b[1m8/8\u001b[0m \u001b[32m━━━━━━━━━━━━━━━━━━━━\u001b[0m\u001b[37m\u001b[0m \u001b[1m0s\u001b[0m 41ms/step - accuracy: 0.7819 - loss: 0.5730 - val_accuracy: 0.6389 - val_loss: 1.0876 - learning_rate: 0.0010\n",
            "Epoch 39/100\n",
            "\u001b[1m8/8\u001b[0m \u001b[32m━━━━━━━━━━━━━━━━━━━━\u001b[0m\u001b[37m\u001b[0m \u001b[1m0s\u001b[0m 40ms/step - accuracy: 0.8203 - loss: 0.4849 - val_accuracy: 0.6786 - val_loss: 1.0142 - learning_rate: 0.0010\n",
            "Epoch 40/100\n",
            "\u001b[1m8/8\u001b[0m \u001b[32m━━━━━━━━━━━━━━━━━━━━\u001b[0m\u001b[37m\u001b[0m \u001b[1m1s\u001b[0m 37ms/step - accuracy: 0.8349 - loss: 0.4237 - val_accuracy: 0.6627 - val_loss: 1.0672 - learning_rate: 0.0010\n",
            "Epoch 41/100\n",
            "\u001b[1m8/8\u001b[0m \u001b[32m━━━━━━━━━━━━━━━━━━━━\u001b[0m\u001b[37m\u001b[0m \u001b[1m0s\u001b[0m 40ms/step - accuracy: 0.8229 - loss: 0.4483 - val_accuracy: 0.6786 - val_loss: 0.9966 - learning_rate: 0.0010\n",
            "Epoch 42/100\n",
            "\u001b[1m8/8\u001b[0m \u001b[32m━━━━━━━━━━━━━━━━━━━━\u001b[0m\u001b[37m\u001b[0m \u001b[1m1s\u001b[0m 40ms/step - accuracy: 0.8443 - loss: 0.3616 - val_accuracy: 0.6032 - val_loss: 1.2227 - learning_rate: 9.5000e-04\n",
            "Epoch 43/100\n",
            "\u001b[1m8/8\u001b[0m \u001b[32m━━━━━━━━━━━━━━━━━━━━\u001b[0m\u001b[37m\u001b[0m \u001b[1m1s\u001b[0m 41ms/step - accuracy: 0.8161 - loss: 0.4412 - val_accuracy: 0.6706 - val_loss: 1.0303 - learning_rate: 9.5000e-04\n",
            "Epoch 44/100\n",
            "\u001b[1m8/8\u001b[0m \u001b[32m━━━━━━━━━━━━━━━━━━━━\u001b[0m\u001b[37m\u001b[0m \u001b[1m0s\u001b[0m 41ms/step - accuracy: 0.8146 - loss: 0.4441 - val_accuracy: 0.6865 - val_loss: 1.0481 - learning_rate: 9.5000e-04\n",
            "Epoch 45/100\n",
            "\u001b[1m8/8\u001b[0m \u001b[32m━━━━━━━━━━━━━━━━━━━━\u001b[0m\u001b[37m\u001b[0m \u001b[1m1s\u001b[0m 40ms/step - accuracy: 0.8624 - loss: 0.3704 - val_accuracy: 0.6508 - val_loss: 1.1297 - learning_rate: 9.5000e-04\n",
            "Epoch 46/100\n",
            "\u001b[1m8/8\u001b[0m \u001b[32m━━━━━━━━━━━━━━━━━━━━\u001b[0m\u001b[37m\u001b[0m \u001b[1m0s\u001b[0m 40ms/step - accuracy: 0.8304 - loss: 0.3914 - val_accuracy: 0.6706 - val_loss: 1.2679 - learning_rate: 9.5000e-04\n",
            "Epoch 47/100\n",
            "\u001b[1m8/8\u001b[0m \u001b[32m━━━━━━━━━━━━━━━━━━━━\u001b[0m\u001b[37m\u001b[0m \u001b[1m0s\u001b[0m 41ms/step - accuracy: 0.8463 - loss: 0.3446 - val_accuracy: 0.6944 - val_loss: 1.1540 - learning_rate: 9.0250e-04\n",
            "Epoch 48/100\n",
            "\u001b[1m8/8\u001b[0m \u001b[32m━━━━━━━━━━━━━━━━━━━━\u001b[0m\u001b[37m\u001b[0m \u001b[1m1s\u001b[0m 40ms/step - accuracy: 0.8665 - loss: 0.3357 - val_accuracy: 0.7302 - val_loss: 1.0675 - learning_rate: 9.0250e-04\n",
            "Epoch 49/100\n",
            "\u001b[1m8/8\u001b[0m \u001b[32m━━━━━━━━━━━━━━━━━━━━\u001b[0m\u001b[37m\u001b[0m \u001b[1m0s\u001b[0m 41ms/step - accuracy: 0.8753 - loss: 0.3081 - val_accuracy: 0.7262 - val_loss: 1.0097 - learning_rate: 9.0250e-04\n",
            "Epoch 50/100\n",
            "\u001b[1m8/8\u001b[0m \u001b[32m━━━━━━━━━━━━━━━━━━━━\u001b[0m\u001b[37m\u001b[0m \u001b[1m0s\u001b[0m 43ms/step - accuracy: 0.8770 - loss: 0.3006 - val_accuracy: 0.6746 - val_loss: 1.1338 - learning_rate: 9.0250e-04\n",
            "Epoch 51/100\n",
            "\u001b[1m8/8\u001b[0m \u001b[32m━━━━━━━━━━━━━━━━━━━━\u001b[0m\u001b[37m\u001b[0m \u001b[1m1s\u001b[0m 64ms/step - accuracy: 0.8564 - loss: 0.3630 - val_accuracy: 0.6984 - val_loss: 1.0218 - learning_rate: 9.0250e-04\n"
          ]
        }
      ]
    },
    {
      "cell_type": "code",
      "source": [
        "from sklearn.metrics import confusion_matrix, precision_score, recall_score, classification_report\n",
        "import seaborn as sns\n",
        "\n",
        "classes = np.arange(0, 9)\n",
        "\n",
        "y_pred = opt_model.predict(X_test)\n",
        "y_pred_classes = np.argmax(y_pred, axis=1)\n",
        "\n",
        "accuracy = accuracy_score(y_test, y_pred_classes)\n",
        "precision = precision_score(y_test, y_pred_classes, average='macro')\n",
        "recall = recall_score(y_test, y_pred_classes, average='macro')\n",
        "\n",
        "\n",
        "cm = confusion_matrix(y_test, y_pred_classes)\n",
        "\n",
        "plt.figure(figsize=(10, 8))\n",
        "sns.heatmap(cm, annot=True, fmt='d', cmap='Blues')\n",
        "plt.xlabel('Predicted Label')\n",
        "plt.ylabel('True Label')\n",
        "plt.title('Confusion Matrix')\n",
        "plt.show()\n",
        "\n",
        "print(\"Accuracy: \", accuracy)\n",
        "print(\"Precision: \", precision)\n",
        "print(\"Recall: \", recall)\n",
        "print(classification_report(y_test, y_pred_classes))"
      ],
      "metadata": {
        "id": "NFNacKJMJ0FG",
        "colab": {
          "base_uri": "https://localhost:8080/",
          "height": 1000
        },
        "outputId": "2763af88-f23a-46a1-901a-70a5d1c28785"
      },
      "execution_count": 23,
      "outputs": [
        {
          "output_type": "stream",
          "name": "stdout",
          "text": [
            "\u001b[1m10/10\u001b[0m \u001b[32m━━━━━━━━━━━━━━━━━━━━\u001b[0m\u001b[37m\u001b[0m \u001b[1m2s\u001b[0m 102ms/step\n"
          ]
        },
        {
          "output_type": "display_data",
          "data": {
            "text/plain": [
              "<Figure size 1000x800 with 2 Axes>"
            ],
            "image/png": "[encoded data removed]"
          },
          "metadata": {}
        },
        {
          "output_type": "stream",
          "name": "stdout",
          "text": [
            "Accuracy:  0.707936507936508\n",
            "Precision:  0.7374446241494079\n",
            "Recall:  0.7306039232509821\n",
            "              precision    recall  f1-score   support\n",
            "\n",
            "         0.0       0.71      0.39      0.51        56\n",
            "         1.0       0.47      0.77      0.59        35\n",
            "         2.0       0.83      0.83      0.83        35\n",
            "         3.0       0.82      0.89      0.86        37\n",
            "         4.0       0.77      0.50      0.61        34\n",
            "         5.0       0.80      0.80      0.80        35\n",
            "         6.0       0.88      0.88      0.88        34\n",
            "         7.0       0.91      0.80      0.85        25\n",
            "         8.0       0.44      0.71      0.54        24\n",
            "\n",
            "    accuracy                           0.71       315\n",
            "   macro avg       0.74      0.73      0.72       315\n",
            "weighted avg       0.74      0.71      0.71       315\n",
            "\n"
          ]
        }
      ]
    },
    {
      "cell_type": "markdown",
      "source": [
        "# Grid Search Results\n",
        "\n",
        "\n",
        "## Without cleaning\n",
        "\n",
        "\n",
        "#### CNN only\n",
        "opt_model = build_cnn_model(dim_size=1, layer1=32, kernel1=(5,3), layer2=64, kernel2=(5,3),\n",
        "                             denselayer=128, pool_size=(2,2),\n",
        "                             layer_dropout=0.2, end_dropout=0.5, num_classes=9)\n",
        "\n",
        "gets test accuracy of 81.2%\n",
        "\n",
        "#### CNN into LSTM\n",
        "model = build_full_model(dim_size=1, layer1=32, kernel1=(5,3), layer2=64, kernel2=(5,3),\n",
        "                         pool_size=(2,2), lstm_size=64, denselayer=128, cnn_dropout=0.2,\n",
        "                         lstm_dropout=0.2, end_dropout=0.5, num_classes=9)\n",
        "\n",
        "78%\n",
        "\n",
        "#### Parallel CNN and LSTM\n",
        "\n",
        "model = build_full_parallel(dim_size=1, layer1=16, kernel1=(5,3), layer2=32, kernel2=(7,3),\n",
        "                             pool_size=(2,2), lstm_size=64, cnn_dense=64, denselayer=128, cnn_dropout=0.3,\n",
        "                             lstm_dropout=0.3, end_dropout=0.5, num_classes=9)\n",
        "\n",
        "75.5%\n",
        "\n",
        "## With Cleaning\n",
        "\n",
        "### CNN Only\n",
        "\n",
        "opt_model = build_cnn_model(dim_size=1, layer1=16, kernel1=(3,3), layer2=64,\n",
        "                                 kernel2=(7,3), denselayer=128, pool_size=(2,2),\n",
        "                                 layer_dropout = 0.5, end_dropout=0.5, num_classes=9)\n",
        "\n",
        "72.3%\n",
        "\n",
        "opt_model = build_cnn_model(dim_size=1, layer1=32, kernel1=(7,3), layer2=64,\n",
        "                                 kernel2=(7,3), denselayer=128, pool_size=(2,2),\n",
        "                                 layer_dropout = 0.3, end_dropout=0.5, num_classes=9)\n",
        "\n",
        "76.2%\n",
        "\n",
        "#### CNN Into LSTM\n",
        "\n",
        "opt_model = build_full_model(dim_size=1, layer1=16, kernel1=(3,3), layer2=32,\n",
        "                                 kernel2=(5,3), denselayer=128, pool_size=(2,2),\n",
        "                                 lstm_size=64, cnn_dropout=0.3, lstm_dropout=0.3,\n",
        "                                 end_dropout=0.5, num_classes=9)\n",
        "\n",
        "80.6%\n",
        "\n",
        "opt_model = build_full_model(dim_size=1, layer1=16, kernel1=(3,3), layer2=32,\n",
        "                                 kernel2=(5,3), denselayer=128, pool_size=(2,2),\n",
        "                                 lstm_size=32, cnn_dropout=0.4, lstm_dropout=0.4,\n",
        "                                 end_dropout=0.4, num_classes=9)\n",
        "\n",
        "81.9%\n",
        "\n",
        "opt_model = build_full_model(dim_size=1, layer1=16, kernel1=(3,3), layer2=32,\n",
        "                                 kernel2=(5,3), denselayer=128, pool_size=(2,2),\n",
        "                                 lstm_size=128, cnn_dropout=0.3, lstm_dropout=0.4,\n",
        "                                 end_dropout=0.5, num_classes=9)\n",
        "\n",
        "81.6%\n",
        "\n",
        "### Parallel Model\n",
        "opt_model = build_full_parallel(dim_size=1, layer1=16, kernel1=(5,3), layer2=32,\n",
        "                                 kernel2=(5,3), cnn_dense=128, denselayer=64, pool_size=(2,2),\n",
        "                                 lstm_size=64, cnn_dropout=0.3, lstm_dropout = 0.4, end_dropout=0.5, num_classes=9)\n",
        "\n",
        "81.2%\n",
        "\n",
        "opt_model = build_full_parallel(dim_size=1, layer1=16, kernel1=(5,3), layer2=32,\n",
        "                                 kernel2=(7,3), cnn_dense=64, denselayer=128, pool_size=(2,2),\n",
        "                                 lstm_size=64, cnn_dropout=0.4, lstm_dropout = 0.3, end_dropout=0.5, num_classes=9)\n",
        "\n",
        "81.5%"
      ],
      "metadata": {
        "id": "9R2ViwxCZ2IR"
      }
    },
    {
      "cell_type": "code",
      "source": [
        "# PCA on model parameters\n",
        "\n",
        "class_labels = [f\"Class {i}\" for i in range(9)]\n",
        "\n",
        "parallel_model = model.get_layer(\"functional_109\")\n",
        "\n",
        "final_layer = parallel_model.layers[-1]  # Last layer (typically classification)\n",
        "final_layer_weights = final_layer.get_weights()[0]  # Only weights, not biases\n",
        "\n",
        "# Each row is the weight vector for one class (transpose if necessary)\n",
        "#model_parameters = final_layer_weights.reshape(final_layer_weights.shape[0], -1)\n",
        "model_parameters = final_layer_weights.T\n",
        "\n",
        "\n",
        "# Perform PCA on these class weight vectors\n",
        "pca = PCA(n_components=3)\n",
        "pca_result = pca.fit_transform(model_parameters)\n",
        "print(\"PCA Result Shape:\", pca_result.shape)  # (num_classes, 3)\n",
        "\n",
        "# Visualizing in 3D\n",
        "fig = plt.figure(figsize=(10, 7))\n",
        "ax = fig.add_subplot(111, projection='3d')\n",
        "sc = ax.scatter(pca_result[:, 0], pca_result[:, 1], pca_result[:, 2],\n",
        "                c=np.arange(pca_result.shape[0]), cmap='viridis', alpha=0.7)\n",
        "\n",
        "offset = 0.1\n",
        "for i, label in enumerate(class_labels):\n",
        "    ax.text(\n",
        "        pca_result[i, 0] + offset, pca_result[i, 1] + offset, pca_result[i, 2] + offset,  # Coordinates\n",
        "        label,                                                  # Text label\n",
        "        fontsize=9,\n",
        "        ha='center', va='center',\n",
        "        bbox=dict(facecolor='white', alpha=0.7, lw=0)           # Optional: white background\n",
        "    )\n",
        "ax.set_xlabel('PCA Component 1')\n",
        "ax.set_ylabel('PCA Component 2')\n",
        "ax.set_zlabel('PCA Component 3')\n",
        "ax.set_title('3D PCA of Final Layer Weights (Class Separation)')\n",
        "plt.colorbar(sc)\n",
        "plt.show()"
      ],
      "metadata": {
        "colab": {
          "base_uri": "https://localhost:8080/",
          "height": 623
        },
        "id": "QpBJJzO7GINE",
        "outputId": "baa01f05-17c1-428e-ca98-f14f9ada4596"
      },
      "execution_count": null,
      "outputs": [
        {
          "output_type": "stream",
          "name": "stdout",
          "text": [
            "PCA Result Shape: (9, 3)\n"
          ]
        },
        {
          "output_type": "display_data",
          "data": {
            "text/plain": [
              "<Figure size 1000x700 with 2 Axes>"
            ],
            "image/png": "[encoded data removed]"
          },
          "metadata": {}
        }
      ]
    },
    {
      "cell_type": "code",
      "source": [
        "# save model\n",
        "save_path = '/content/drive/MyDrive/cnn_lstm_cleaned_816.h5' # Specify the full path within your Google Drive\n",
        "opt_model.save(save_path)\n",
        "print(f\"Model saved successfully to {save_path}\")"
      ],
      "metadata": {
        "colab": {
          "base_uri": "https://localhost:8080/"
        },
        "id": "YY3Jh2oUOPFn",
        "outputId": "0ce3a778-56e2-44a5-f5c4-9ea26db0b010"
      },
      "execution_count": 15,
      "outputs": [
        {
          "output_type": "stream",
          "name": "stderr",
          "text": [
            "WARNING:absl:You are saving your model as an HDF5 file via `model.save()` or `keras.saving.save_model(model)`. This file format is considered legacy. We recommend using instead the native Keras format, e.g. `model.save('my_model.keras')` or `keras.saving.save_model(model, 'my_model.keras')`. \n"
          ]
        },
        {
          "output_type": "stream",
          "name": "stdout",
          "text": [
            "Model saved successfully to /content/drive/MyDrive/cnn_lstm_cleaned_816.h5\n"
          ]
        }
      ]
    },
    {
      "cell_type": "code",
      "source": [
        "sorted_results = sorted(results, key=lambda x: x['val_acc'], reverse=True)\n",
        "\n",
        "# Print the sorted results\n",
        "for result in sorted_results:\n",
        "    print(result)"
      ],
      "metadata": {
        "colab": {
          "base_uri": "https://localhost:8080/"
        },
        "id": "unpENaS8gzPe",
        "outputId": "5a1a22bf-c421-4907-e7f4-9b0fe3fadb97",
        "collapsed": true
      },
      "execution_count": null,
      "outputs": [
        {
          "output_type": "stream",
          "name": "stdout",
          "text": [
            "{'dim_size': 1, 'layer1': 32, 'kernel1': (5, 3), 'layer2': 128, 'kernel2': (5, 3), 'denselayer': 128, 'pool_size': (2, 2), 'layer_dropout': 0.2, 'end_dropout': 0.4, 'batch_size': 128, 'epochs': 100, 'val_acc': 0.841269850730896}\n",
            "{'dim_size': 1, 'layer1': 32, 'kernel1': (7, 3), 'layer2': 64, 'kernel2': (5, 3), 'denselayer': 128, 'pool_size': (2, 2), 'layer_dropout': 0.2, 'end_dropout': 0.5, 'batch_size': 128, 'epochs': 100, 'val_acc': 0.829365074634552}\n",
            "{'dim_size': 1, 'layer1': 32, 'kernel1': (5, 3), 'layer2': 64, 'kernel2': (7, 3), 'denselayer': 128, 'pool_size': (3, 3), 'layer_dropout': 0.2, 'end_dropout': 0.5, 'batch_size': 128, 'epochs': 100, 'val_acc': 0.8134920597076416}\n",
            "{'dim_size': 1, 'layer1': 32, 'kernel1': (5, 3), 'layer2': 64, 'kernel2': (5, 3), 'denselayer': 128, 'pool_size': (2, 2), 'layer_dropout': 0.1, 'end_dropout': 0.5, 'batch_size': 128, 'epochs': 100, 'val_acc': 0.7936508059501648}\n",
            "{'dim_size': 1, 'layer1': 32, 'kernel1': (5, 3), 'layer2': 128, 'kernel2': (5, 3), 'denselayer': 128, 'pool_size': (2, 2), 'layer_dropout': 0.1, 'end_dropout': 0.5, 'batch_size': 128, 'epochs': 100, 'val_acc': 0.7896825671195984}\n",
            "{'dim_size': 1, 'layer1': 32, 'kernel1': (5, 3), 'layer2': 128, 'kernel2': (5, 3), 'denselayer': 128, 'pool_size': (3, 3), 'layer_dropout': 0.1, 'end_dropout': 0.4, 'batch_size': 128, 'epochs': 100, 'val_acc': 0.7896825671195984}\n",
            "{'dim_size': 1, 'layer1': 32, 'kernel1': (5, 3), 'layer2': 128, 'kernel2': (7, 3), 'denselayer': 128, 'pool_size': (3, 3), 'layer_dropout': 0.1, 'end_dropout': 0.4, 'batch_size': 128, 'epochs': 100, 'val_acc': 0.7896825671195984}\n",
            "{'dim_size': 1, 'layer1': 32, 'kernel1': (7, 3), 'layer2': 128, 'kernel2': (5, 3), 'denselayer': 128, 'pool_size': (2, 2), 'layer_dropout': 0.2, 'end_dropout': 0.4, 'batch_size': 128, 'epochs': 100, 'val_acc': 0.7896825671195984}\n",
            "{'dim_size': 1, 'layer1': 32, 'kernel1': (5, 3), 'layer2': 64, 'kernel2': (5, 3), 'denselayer': 128, 'pool_size': (3, 3), 'layer_dropout': 0.1, 'end_dropout': 0.4, 'batch_size': 128, 'epochs': 100, 'val_acc': 0.7857142686843872}\n",
            "{'dim_size': 1, 'layer1': 32, 'kernel1': (7, 3), 'layer2': 128, 'kernel2': (7, 3), 'denselayer': 128, 'pool_size': (2, 2), 'layer_dropout': 0.1, 'end_dropout': 0.5, 'batch_size': 128, 'epochs': 100, 'val_acc': 0.7857142686843872}\n",
            "{'dim_size': 1, 'layer1': 32, 'kernel1': (7, 3), 'layer2': 64, 'kernel2': (7, 3), 'denselayer': 128, 'pool_size': (2, 2), 'layer_dropout': 0.1, 'end_dropout': 0.5, 'batch_size': 128, 'epochs': 100, 'val_acc': 0.7817460298538208}\n",
            "{'dim_size': 1, 'layer1': 32, 'kernel1': (5, 3), 'layer2': 64, 'kernel2': (5, 3), 'denselayer': 128, 'pool_size': (3, 3), 'layer_dropout': 0.2, 'end_dropout': 0.4, 'batch_size': 128, 'epochs': 100, 'val_acc': 0.7777777910232544}\n",
            "{'dim_size': 1, 'layer1': 32, 'kernel1': (7, 3), 'layer2': 64, 'kernel2': (5, 3), 'denselayer': 128, 'pool_size': (2, 2), 'layer_dropout': 0.1, 'end_dropout': 0.5, 'batch_size': 128, 'epochs': 100, 'val_acc': 0.7777777910232544}\n",
            "{'dim_size': 1, 'layer1': 32, 'kernel1': (7, 3), 'layer2': 64, 'kernel2': (7, 3), 'denselayer': 128, 'pool_size': (2, 2), 'layer_dropout': 0.2, 'end_dropout': 0.4, 'batch_size': 128, 'epochs': 100, 'val_acc': 0.7777777910232544}\n",
            "{'dim_size': 1, 'layer1': 32, 'kernel1': (5, 3), 'layer2': 128, 'kernel2': (5, 3), 'denselayer': 128, 'pool_size': (3, 3), 'layer_dropout': 0.1, 'end_dropout': 0.5, 'batch_size': 128, 'epochs': 100, 'val_acc': 0.773809552192688}\n",
            "{'dim_size': 1, 'layer1': 32, 'kernel1': (7, 3), 'layer2': 128, 'kernel2': (7, 3), 'denselayer': 128, 'pool_size': (2, 2), 'layer_dropout': 0.1, 'end_dropout': 0.4, 'batch_size': 128, 'epochs': 100, 'val_acc': 0.7698412537574768}\n",
            "{'dim_size': 1, 'layer1': 32, 'kernel1': (5, 3), 'layer2': 128, 'kernel2': (7, 3), 'denselayer': 128, 'pool_size': (2, 2), 'layer_dropout': 0.2, 'end_dropout': 0.5, 'batch_size': 128, 'epochs': 100, 'val_acc': 0.7658730149269104}\n",
            "{'dim_size': 1, 'layer1': 32, 'kernel1': (7, 3), 'layer2': 64, 'kernel2': (5, 3), 'denselayer': 128, 'pool_size': (2, 2), 'layer_dropout': 0.1, 'end_dropout': 0.4, 'batch_size': 128, 'epochs': 100, 'val_acc': 0.761904776096344}\n",
            "{'dim_size': 1, 'layer1': 32, 'kernel1': (7, 3), 'layer2': 128, 'kernel2': (5, 3), 'denselayer': 128, 'pool_size': (2, 2), 'layer_dropout': 0.1, 'end_dropout': 0.4, 'batch_size': 128, 'epochs': 100, 'val_acc': 0.761904776096344}\n",
            "{'dim_size': 1, 'layer1': 32, 'kernel1': (5, 3), 'layer2': 64, 'kernel2': (7, 3), 'denselayer': 128, 'pool_size': (2, 2), 'layer_dropout': 0.2, 'end_dropout': 0.4, 'batch_size': 128, 'epochs': 100, 'val_acc': 0.7579365372657776}\n",
            "{'dim_size': 1, 'layer1': 32, 'kernel1': (5, 3), 'layer2': 128, 'kernel2': (5, 3), 'denselayer': 128, 'pool_size': (3, 3), 'layer_dropout': 0.2, 'end_dropout': 0.4, 'batch_size': 128, 'epochs': 100, 'val_acc': 0.7579365372657776}\n",
            "{'dim_size': 1, 'layer1': 32, 'kernel1': (7, 3), 'layer2': 128, 'kernel2': (5, 3), 'denselayer': 128, 'pool_size': (2, 2), 'layer_dropout': 0.1, 'end_dropout': 0.5, 'batch_size': 128, 'epochs': 100, 'val_acc': 0.7579365372657776}\n",
            "{'dim_size': 1, 'layer1': 32, 'kernel1': (7, 3), 'layer2': 128, 'kernel2': (5, 3), 'denselayer': 128, 'pool_size': (3, 3), 'layer_dropout': 0.2, 'end_dropout': 0.4, 'batch_size': 128, 'epochs': 100, 'val_acc': 0.7579365372657776}\n",
            "{'dim_size': 1, 'layer1': 32, 'kernel1': (5, 3), 'layer2': 64, 'kernel2': (5, 3), 'denselayer': 128, 'pool_size': (2, 2), 'layer_dropout': 0.1, 'end_dropout': 0.4, 'batch_size': 128, 'epochs': 100, 'val_acc': 0.7539682388305664}\n",
            "{'dim_size': 1, 'layer1': 32, 'kernel1': (7, 3), 'layer2': 64, 'kernel2': (7, 3), 'denselayer': 128, 'pool_size': (2, 2), 'layer_dropout': 0.2, 'end_dropout': 0.5, 'batch_size': 128, 'epochs': 100, 'val_acc': 0.7539682388305664}\n",
            "{'dim_size': 1, 'layer1': 32, 'kernel1': (5, 3), 'layer2': 128, 'kernel2': (5, 3), 'denselayer': 128, 'pool_size': (3, 3), 'layer_dropout': 0.2, 'end_dropout': 0.5, 'batch_size': 128, 'epochs': 100, 'val_acc': 0.75}\n",
            "{'dim_size': 1, 'layer1': 32, 'kernel1': (7, 3), 'layer2': 64, 'kernel2': (7, 3), 'denselayer': 128, 'pool_size': (3, 3), 'layer_dropout': 0.1, 'end_dropout': 0.4, 'batch_size': 128, 'epochs': 100, 'val_acc': 0.75}\n",
            "{'dim_size': 1, 'layer1': 32, 'kernel1': (5, 3), 'layer2': 64, 'kernel2': (5, 3), 'denselayer': 128, 'pool_size': (2, 2), 'layer_dropout': 0.2, 'end_dropout': 0.5, 'batch_size': 128, 'epochs': 100, 'val_acc': 0.7420634627342224}\n",
            "{'dim_size': 1, 'layer1': 32, 'kernel1': (5, 3), 'layer2': 128, 'kernel2': (5, 3), 'denselayer': 128, 'pool_size': (2, 2), 'layer_dropout': 0.2, 'end_dropout': 0.5, 'batch_size': 128, 'epochs': 100, 'val_acc': 0.7420634627342224}\n",
            "{'dim_size': 1, 'layer1': 32, 'kernel1': (5, 3), 'layer2': 64, 'kernel2': (7, 3), 'denselayer': 128, 'pool_size': (3, 3), 'layer_dropout': 0.2, 'end_dropout': 0.4, 'batch_size': 128, 'epochs': 100, 'val_acc': 0.738095223903656}\n",
            "{'dim_size': 1, 'layer1': 32, 'kernel1': (5, 3), 'layer2': 128, 'kernel2': (5, 3), 'denselayer': 128, 'pool_size': (2, 2), 'layer_dropout': 0.1, 'end_dropout': 0.4, 'batch_size': 128, 'epochs': 100, 'val_acc': 0.738095223903656}\n",
            "{'dim_size': 1, 'layer1': 32, 'kernel1': (5, 3), 'layer2': 128, 'kernel2': (7, 3), 'denselayer': 128, 'pool_size': (3, 3), 'layer_dropout': 0.1, 'end_dropout': 0.5, 'batch_size': 128, 'epochs': 100, 'val_acc': 0.738095223903656}\n",
            "{'dim_size': 1, 'layer1': 32, 'kernel1': (7, 3), 'layer2': 128, 'kernel2': (5, 3), 'denselayer': 128, 'pool_size': (2, 2), 'layer_dropout': 0.2, 'end_dropout': 0.5, 'batch_size': 128, 'epochs': 100, 'val_acc': 0.738095223903656}\n",
            "{'dim_size': 1, 'layer1': 32, 'kernel1': (5, 3), 'layer2': 64, 'kernel2': (5, 3), 'denselayer': 128, 'pool_size': (3, 3), 'layer_dropout': 0.2, 'end_dropout': 0.5, 'batch_size': 128, 'epochs': 100, 'val_acc': 0.7341269850730896}\n",
            "{'dim_size': 1, 'layer1': 32, 'kernel1': (5, 3), 'layer2': 64, 'kernel2': (5, 3), 'denselayer': 128, 'pool_size': (2, 2), 'layer_dropout': 0.2, 'end_dropout': 0.4, 'batch_size': 128, 'epochs': 100, 'val_acc': 0.7301587462425232}\n",
            "{'dim_size': 1, 'layer1': 32, 'kernel1': (5, 3), 'layer2': 64, 'kernel2': (7, 3), 'denselayer': 128, 'pool_size': (2, 2), 'layer_dropout': 0.2, 'end_dropout': 0.5, 'batch_size': 128, 'epochs': 100, 'val_acc': 0.7301587462425232}\n",
            "{'dim_size': 1, 'layer1': 32, 'kernel1': (5, 3), 'layer2': 128, 'kernel2': (7, 3), 'denselayer': 128, 'pool_size': (2, 2), 'layer_dropout': 0.1, 'end_dropout': 0.4, 'batch_size': 128, 'epochs': 100, 'val_acc': 0.7301587462425232}\n",
            "{'dim_size': 1, 'layer1': 32, 'kernel1': (7, 3), 'layer2': 64, 'kernel2': (7, 3), 'denselayer': 128, 'pool_size': (2, 2), 'layer_dropout': 0.1, 'end_dropout': 0.4, 'batch_size': 128, 'epochs': 100, 'val_acc': 0.7301587462425232}\n",
            "{'dim_size': 1, 'layer1': 32, 'kernel1': (5, 3), 'layer2': 64, 'kernel2': (7, 3), 'denselayer': 128, 'pool_size': (2, 2), 'layer_dropout': 0.1, 'end_dropout': 0.4, 'batch_size': 128, 'epochs': 100, 'val_acc': 0.726190447807312}\n",
            "{'dim_size': 1, 'layer1': 32, 'kernel1': (5, 3), 'layer2': 64, 'kernel2': (7, 3), 'denselayer': 128, 'pool_size': (2, 2), 'layer_dropout': 0.1, 'end_dropout': 0.5, 'batch_size': 128, 'epochs': 100, 'val_acc': 0.726190447807312}\n",
            "{'dim_size': 1, 'layer1': 32, 'kernel1': (5, 3), 'layer2': 64, 'kernel2': (7, 3), 'denselayer': 128, 'pool_size': (3, 3), 'layer_dropout': 0.1, 'end_dropout': 0.5, 'batch_size': 128, 'epochs': 100, 'val_acc': 0.726190447807312}\n",
            "{'dim_size': 1, 'layer1': 32, 'kernel1': (5, 3), 'layer2': 64, 'kernel2': (7, 3), 'denselayer': 128, 'pool_size': (3, 3), 'layer_dropout': 0.1, 'end_dropout': 0.4, 'batch_size': 128, 'epochs': 100, 'val_acc': 0.7222222089767456}\n",
            "{'dim_size': 1, 'layer1': 32, 'kernel1': (7, 3), 'layer2': 64, 'kernel2': (7, 3), 'denselayer': 128, 'pool_size': (3, 3), 'layer_dropout': 0.1, 'end_dropout': 0.5, 'batch_size': 128, 'epochs': 100, 'val_acc': 0.7222222089767456}\n",
            "{'dim_size': 1, 'layer1': 32, 'kernel1': (5, 3), 'layer2': 128, 'kernel2': (7, 3), 'denselayer': 128, 'pool_size': (3, 3), 'layer_dropout': 0.2, 'end_dropout': 0.5, 'batch_size': 128, 'epochs': 100, 'val_acc': 0.7103174328804016}\n",
            "{'dim_size': 1, 'layer1': 32, 'kernel1': (7, 3), 'layer2': 64, 'kernel2': (5, 3), 'denselayer': 128, 'pool_size': (3, 3), 'layer_dropout': 0.1, 'end_dropout': 0.4, 'batch_size': 128, 'epochs': 100, 'val_acc': 0.7103174328804016}\n",
            "{'dim_size': 1, 'layer1': 32, 'kernel1': (5, 3), 'layer2': 128, 'kernel2': (7, 3), 'denselayer': 128, 'pool_size': (2, 2), 'layer_dropout': 0.1, 'end_dropout': 0.5, 'batch_size': 128, 'epochs': 100, 'val_acc': 0.7063491940498352}\n",
            "{'dim_size': 1, 'layer1': 32, 'kernel1': (5, 3), 'layer2': 128, 'kernel2': (7, 3), 'denselayer': 128, 'pool_size': (2, 2), 'layer_dropout': 0.2, 'end_dropout': 0.4, 'batch_size': 128, 'epochs': 100, 'val_acc': 0.6984127163887024}\n",
            "{'dim_size': 1, 'layer1': 32, 'kernel1': (7, 3), 'layer2': 64, 'kernel2': (7, 3), 'denselayer': 128, 'pool_size': (3, 3), 'layer_dropout': 0.2, 'end_dropout': 0.4, 'batch_size': 128, 'epochs': 100, 'val_acc': 0.6944444179534912}\n",
            "{'dim_size': 1, 'layer1': 32, 'kernel1': (7, 3), 'layer2': 64, 'kernel2': (7, 3), 'denselayer': 128, 'pool_size': (3, 3), 'layer_dropout': 0.2, 'end_dropout': 0.5, 'batch_size': 128, 'epochs': 100, 'val_acc': 0.6944444179534912}\n",
            "{'dim_size': 1, 'layer1': 32, 'kernel1': (7, 3), 'layer2': 64, 'kernel2': (5, 3), 'denselayer': 128, 'pool_size': (2, 2), 'layer_dropout': 0.2, 'end_dropout': 0.4, 'batch_size': 128, 'epochs': 100, 'val_acc': 0.6904761791229248}\n",
            "{'dim_size': 1, 'layer1': 32, 'kernel1': (7, 3), 'layer2': 128, 'kernel2': (5, 3), 'denselayer': 128, 'pool_size': (3, 3), 'layer_dropout': 0.1, 'end_dropout': 0.4, 'batch_size': 128, 'epochs': 100, 'val_acc': 0.670634925365448}\n",
            "{'dim_size': 1, 'layer1': 32, 'kernel1': (7, 3), 'layer2': 64, 'kernel2': (5, 3), 'denselayer': 128, 'pool_size': (3, 3), 'layer_dropout': 0.1, 'end_dropout': 0.5, 'batch_size': 128, 'epochs': 100, 'val_acc': 0.658730149269104}\n",
            "{'dim_size': 1, 'layer1': 32, 'kernel1': (7, 3), 'layer2': 64, 'kernel2': (5, 3), 'denselayer': 128, 'pool_size': (3, 3), 'layer_dropout': 0.2, 'end_dropout': 0.5, 'batch_size': 128, 'epochs': 100, 'val_acc': 0.6507936716079712}\n",
            "{'dim_size': 1, 'layer1': 32, 'kernel1': (5, 3), 'layer2': 64, 'kernel2': (5, 3), 'denselayer': 128, 'pool_size': (3, 3), 'layer_dropout': 0.1, 'end_dropout': 0.5, 'batch_size': 128, 'epochs': 100, 'val_acc': 0.64682537317276}\n",
            "{'dim_size': 1, 'layer1': 32, 'kernel1': (7, 3), 'layer2': 128, 'kernel2': (7, 3), 'denselayer': 128, 'pool_size': (2, 2), 'layer_dropout': 0.2, 'end_dropout': 0.4, 'batch_size': 128, 'epochs': 100, 'val_acc': 0.6309523582458496}\n",
            "{'dim_size': 1, 'layer1': 32, 'kernel1': (7, 3), 'layer2': 128, 'kernel2': (5, 3), 'denselayer': 128, 'pool_size': (3, 3), 'layer_dropout': 0.2, 'end_dropout': 0.5, 'batch_size': 128, 'epochs': 100, 'val_acc': 0.6190476417541504}\n",
            "{'dim_size': 1, 'layer1': 32, 'kernel1': (7, 3), 'layer2': 64, 'kernel2': (5, 3), 'denselayer': 128, 'pool_size': (3, 3), 'layer_dropout': 0.2, 'end_dropout': 0.4, 'batch_size': 128, 'epochs': 100, 'val_acc': 0.5873016119003296}\n",
            "{'dim_size': 1, 'layer1': 32, 'kernel1': (7, 3), 'layer2': 128, 'kernel2': (5, 3), 'denselayer': 128, 'pool_size': (3, 3), 'layer_dropout': 0.1, 'end_dropout': 0.5, 'batch_size': 128, 'epochs': 100, 'val_acc': 0.5714285969734192}\n",
            "{'dim_size': 1, 'layer1': 32, 'kernel1': (5, 3), 'layer2': 128, 'kernel2': (7, 3), 'denselayer': 128, 'pool_size': (3, 3), 'layer_dropout': 0.2, 'end_dropout': 0.4, 'batch_size': 128, 'epochs': 100, 'val_acc': 0.5277777910232544}\n"
          ]
        }
      ]
    },
    {
      "cell_type": "code",
      "source": [
        "parallel_model = model.get_layer(\"functional_109\")\n",
        "final_layer = parallel_model.layers[-1]  # Last layer (typically classification)\n",
        "final_layer_weights = final_layer.get_weights()[0]  # Only weights, not biases\n",
        "print(final_layer_weights.shape)"
      ],
      "metadata": {
        "colab": {
          "base_uri": "https://localhost:8080/"
        },
        "id": "gxvgR0_Cjabv",
        "outputId": "1e9ccd78-714d-47fa-c0ba-d995e67a6d2b"
      },
      "execution_count": null,
      "outputs": [
        {
          "output_type": "stream",
          "name": "stdout",
          "text": [
            "(32, 9)\n"
          ]
        }
      ]
    },
    {
      "cell_type": "code",
      "source": [
        "opt_model.save('/content/drive/MyDrive/grid_search_84.h5')"
      ],
      "metadata": {
        "colab": {
          "base_uri": "https://localhost:8080/"
        },
        "id": "Fh5w7gQkoeq4",
        "outputId": "8eaa5e8a-b487-49c7-fec3-d3477a2800b4"
      },
      "execution_count": null,
      "outputs": [
        {
          "output_type": "stream",
          "name": "stderr",
          "text": [
            "WARNING:absl:You are saving your model as an HDF5 file via `model.save()` or `keras.saving.save_model(model)`. This file format is considered legacy. We recommend using instead the native Keras format, e.g. `model.save('my_model.keras')` or `keras.saving.save_model(model, 'my_model.keras')`. \n"
          ]
        }
      ]
    },
    {
      "cell_type": "code",
      "source": [
        "from tensorflow.keras.layers import Reshape, LSTM\n",
        "\n",
        "def build_cnn_lstm(input_shape, num_classes=10):\n",
        "  model = Sequential()\n",
        "\n",
        "  model.add(Conv2D(16, (5, 3), activation='relu', padding='same', input_shape=input_shape))\n",
        "  model.add(Conv2D(16, (5, 3), activation='relu', padding='same', input_shape=input_shape))\n",
        "  model.add(MaxPooling2D((2, 2)))\n",
        "  model.add(Dropout(0.1))\n",
        "\n",
        "  model.add(Conv2D(32, (7, 3), activation='relu', padding='same'))\n",
        "  model.add(Conv2D(32, (7, 3), activation='relu', padding='same'))\n",
        "  model.add(MaxPooling2D((2, 2)))\n",
        "  model.add(Dropout(0.1))\n",
        "\n",
        "  # Flattening CNN output\n",
        "  model.add(Flatten())\n",
        "\n",
        "  # Reshaping for LSTM (time steps, features)\n",
        "  model.add(Reshape((-1, 32)))  # Adjust the second dimension based on your CNN output size\n",
        "\n",
        "  # LSTM Layers (Temporal Sequence Learning)\n",
        "  model.add(LSTM(32, return_sequences=True))\n",
        "  model.add(LSTM(32))\n",
        "  model.add(Dropout(0.2))\n",
        "\n",
        "  # Dense Layers for Classification\n",
        "  model.add(Dense(64, activation='relu'))\n",
        "  model.add(Dropout(0.2))\n",
        "  model.add(Dense(9, activation='softmax'))  # Assuming 10 classes for classification\n",
        "\n",
        "  return model\n",
        "\n",
        "top_channels_model = build_cnn_lstm((101, 4, top_k), num_classes=10)\n",
        "top_channels_model.summary()"
      ],
      "metadata": {
        "colab": {
          "base_uri": "https://localhost:8080/",
          "height": 696
        },
        "id": "D-Cp-5h1cwKF",
        "outputId": "e20993f1-562f-4271-ac0d-3eb51a232d5c"
      },
      "execution_count": null,
      "outputs": [
        {
          "output_type": "stream",
          "name": "stderr",
          "text": [
            "/usr/local/lib/python3.11/dist-packages/keras/src/layers/convolutional/base_conv.py:107: UserWarning: Do not pass an `input_shape`/`input_dim` argument to a layer. When using Sequential models, prefer using an `Input(shape)` object as the first layer in the model instead.\n",
            "  super().__init__(activity_regularizer=activity_regularizer, **kwargs)\n"
          ]
        },
        {
          "output_type": "display_data",
          "data": {
            "text/plain": [
              "\u001b[1mModel: \"sequential_9\"\u001b[0m\n"
            ],
            "text/html": [
              "<pre style=\"white-space:pre;overflow-x:auto;line-height:normal;font-family:Menlo,'DejaVu Sans Mono',consolas,'Courier New',monospace\"><span style=\"font-weight: bold\">Model: \"sequential_9\"</span>\n",
              "</pre>\n"
            ]
          },
          "metadata": {}
        },
        {
          "output_type": "display_data",
          "data": {
            "text/plain": [
              "┏━━━━━━━━━━━━━━━━━━━━━━━━━━━━━━━━━┳━━━━━━━━━━━━━━━━━━━━━━━━┳━━━━━━━━━━━━━━━┓\n",
              "┃\u001b[1m \u001b[0m\u001b[1mLayer (type)                   \u001b[0m\u001b[1m \u001b[0m┃\u001b[1m \u001b[0m\u001b[1mOutput Shape          \u001b[0m\u001b[1m \u001b[0m┃\u001b[1m \u001b[0m\u001b[1m      Param #\u001b[0m\u001b[1m \u001b[0m┃\n",
              "┡━━━━━━━━━━━━━━━━━━━━━━━━━━━━━━━━━╇━━━━━━━━━━━━━━━━━━━━━━━━╇━━━━━━━━━━━━━━━┩\n",
              "│ conv2d_51 (\u001b[38;5;33mConv2D\u001b[0m)              │ (\u001b[38;5;45mNone\u001b[0m, \u001b[38;5;34m101\u001b[0m, \u001b[38;5;34m4\u001b[0m, \u001b[38;5;34m16\u001b[0m)     │         \u001b[38;5;34m4,816\u001b[0m │\n",
              "├─────────────────────────────────┼────────────────────────┼───────────────┤\n",
              "│ conv2d_52 (\u001b[38;5;33mConv2D\u001b[0m)              │ (\u001b[38;5;45mNone\u001b[0m, \u001b[38;5;34m101\u001b[0m, \u001b[38;5;34m4\u001b[0m, \u001b[38;5;34m16\u001b[0m)     │         \u001b[38;5;34m3,856\u001b[0m │\n",
              "├─────────────────────────────────┼────────────────────────┼───────────────┤\n",
              "│ max_pooling2d_24 (\u001b[38;5;33mMaxPooling2D\u001b[0m) │ (\u001b[38;5;45mNone\u001b[0m, \u001b[38;5;34m50\u001b[0m, \u001b[38;5;34m2\u001b[0m, \u001b[38;5;34m16\u001b[0m)      │             \u001b[38;5;34m0\u001b[0m │\n",
              "├─────────────────────────────────┼────────────────────────┼───────────────┤\n",
              "│ dropout_40 (\u001b[38;5;33mDropout\u001b[0m)            │ (\u001b[38;5;45mNone\u001b[0m, \u001b[38;5;34m50\u001b[0m, \u001b[38;5;34m2\u001b[0m, \u001b[38;5;34m16\u001b[0m)      │             \u001b[38;5;34m0\u001b[0m │\n",
              "├─────────────────────────────────┼────────────────────────┼───────────────┤\n",
              "│ conv2d_53 (\u001b[38;5;33mConv2D\u001b[0m)              │ (\u001b[38;5;45mNone\u001b[0m, \u001b[38;5;34m50\u001b[0m, \u001b[38;5;34m2\u001b[0m, \u001b[38;5;34m32\u001b[0m)      │        \u001b[38;5;34m10,784\u001b[0m │\n",
              "├─────────────────────────────────┼────────────────────────┼───────────────┤\n",
              "│ conv2d_54 (\u001b[38;5;33mConv2D\u001b[0m)              │ (\u001b[38;5;45mNone\u001b[0m, \u001b[38;5;34m50\u001b[0m, \u001b[38;5;34m2\u001b[0m, \u001b[38;5;34m32\u001b[0m)      │        \u001b[38;5;34m21,536\u001b[0m │\n",
              "├─────────────────────────────────┼────────────────────────┼───────────────┤\n",
              "│ max_pooling2d_25 (\u001b[38;5;33mMaxPooling2D\u001b[0m) │ (\u001b[38;5;45mNone\u001b[0m, \u001b[38;5;34m25\u001b[0m, \u001b[38;5;34m1\u001b[0m, \u001b[38;5;34m32\u001b[0m)      │             \u001b[38;5;34m0\u001b[0m │\n",
              "├─────────────────────────────────┼────────────────────────┼───────────────┤\n",
              "│ dropout_41 (\u001b[38;5;33mDropout\u001b[0m)            │ (\u001b[38;5;45mNone\u001b[0m, \u001b[38;5;34m25\u001b[0m, \u001b[38;5;34m1\u001b[0m, \u001b[38;5;34m32\u001b[0m)      │             \u001b[38;5;34m0\u001b[0m │\n",
              "├─────────────────────────────────┼────────────────────────┼───────────────┤\n",
              "│ flatten_12 (\u001b[38;5;33mFlatten\u001b[0m)            │ (\u001b[38;5;45mNone\u001b[0m, \u001b[38;5;34m800\u001b[0m)            │             \u001b[38;5;34m0\u001b[0m │\n",
              "├─────────────────────────────────┼────────────────────────┼───────────────┤\n",
              "│ reshape_9 (\u001b[38;5;33mReshape\u001b[0m)             │ (\u001b[38;5;45mNone\u001b[0m, \u001b[38;5;34m25\u001b[0m, \u001b[38;5;34m32\u001b[0m)         │             \u001b[38;5;34m0\u001b[0m │\n",
              "├─────────────────────────────────┼────────────────────────┼───────────────┤\n",
              "│ lstm_16 (\u001b[38;5;33mLSTM\u001b[0m)                  │ (\u001b[38;5;45mNone\u001b[0m, \u001b[38;5;34m25\u001b[0m, \u001b[38;5;34m32\u001b[0m)         │         \u001b[38;5;34m8,320\u001b[0m │\n",
              "├─────────────────────────────────┼────────────────────────┼───────────────┤\n",
              "│ lstm_17 (\u001b[38;5;33mLSTM\u001b[0m)                  │ (\u001b[38;5;45mNone\u001b[0m, \u001b[38;5;34m32\u001b[0m)             │         \u001b[38;5;34m8,320\u001b[0m │\n",
              "├─────────────────────────────────┼────────────────────────┼───────────────┤\n",
              "│ dropout_42 (\u001b[38;5;33mDropout\u001b[0m)            │ (\u001b[38;5;45mNone\u001b[0m, \u001b[38;5;34m32\u001b[0m)             │             \u001b[38;5;34m0\u001b[0m │\n",
              "├─────────────────────────────────┼────────────────────────┼───────────────┤\n",
              "│ dense_22 (\u001b[38;5;33mDense\u001b[0m)                │ (\u001b[38;5;45mNone\u001b[0m, \u001b[38;5;34m64\u001b[0m)             │         \u001b[38;5;34m2,112\u001b[0m │\n",
              "├─────────────────────────────────┼────────────────────────┼───────────────┤\n",
              "│ dropout_43 (\u001b[38;5;33mDropout\u001b[0m)            │ (\u001b[38;5;45mNone\u001b[0m, \u001b[38;5;34m64\u001b[0m)             │             \u001b[38;5;34m0\u001b[0m │\n",
              "├─────────────────────────────────┼────────────────────────┼───────────────┤\n",
              "│ dense_23 (\u001b[38;5;33mDense\u001b[0m)                │ (\u001b[38;5;45mNone\u001b[0m, \u001b[38;5;34m9\u001b[0m)              │           \u001b[38;5;34m585\u001b[0m │\n",
              "└─────────────────────────────────┴────────────────────────┴───────────────┘\n"
            ],
            "text/html": [
              "<pre style=\"white-space:pre;overflow-x:auto;line-height:normal;font-family:Menlo,'DejaVu Sans Mono',consolas,'Courier New',monospace\">┏━━━━━━━━━━━━━━━━━━━━━━━━━━━━━━━━━┳━━━━━━━━━━━━━━━━━━━━━━━━┳━━━━━━━━━━━━━━━┓\n",
              "┃<span style=\"font-weight: bold\"> Layer (type)                    </span>┃<span style=\"font-weight: bold\"> Output Shape           </span>┃<span style=\"font-weight: bold\">       Param # </span>┃\n",
              "┡━━━━━━━━━━━━━━━━━━━━━━━━━━━━━━━━━╇━━━━━━━━━━━━━━━━━━━━━━━━╇━━━━━━━━━━━━━━━┩\n",
              "│ conv2d_51 (<span style=\"color: #0087ff; text-decoration-color: #0087ff\">Conv2D</span>)              │ (<span style=\"color: #00d7ff; text-decoration-color: #00d7ff\">None</span>, <span style=\"color: #00af00; text-decoration-color: #00af00\">101</span>, <span style=\"color: #00af00; text-decoration-color: #00af00\">4</span>, <span style=\"color: #00af00; text-decoration-color: #00af00\">16</span>)     │         <span style=\"color: #00af00; text-decoration-color: #00af00\">4,816</span> │\n",
              "├─────────────────────────────────┼────────────────────────┼───────────────┤\n",
              "│ conv2d_52 (<span style=\"color: #0087ff; text-decoration-color: #0087ff\">Conv2D</span>)              │ (<span style=\"color: #00d7ff; text-decoration-color: #00d7ff\">None</span>, <span style=\"color: #00af00; text-decoration-color: #00af00\">101</span>, <span style=\"color: #00af00; text-decoration-color: #00af00\">4</span>, <span style=\"color: #00af00; text-decoration-color: #00af00\">16</span>)     │         <span style=\"color: #00af00; text-decoration-color: #00af00\">3,856</span> │\n",
              "├─────────────────────────────────┼────────────────────────┼───────────────┤\n",
              "│ max_pooling2d_24 (<span style=\"color: #0087ff; text-decoration-color: #0087ff\">MaxPooling2D</span>) │ (<span style=\"color: #00d7ff; text-decoration-color: #00d7ff\">None</span>, <span style=\"color: #00af00; text-decoration-color: #00af00\">50</span>, <span style=\"color: #00af00; text-decoration-color: #00af00\">2</span>, <span style=\"color: #00af00; text-decoration-color: #00af00\">16</span>)      │             <span style=\"color: #00af00; text-decoration-color: #00af00\">0</span> │\n",
              "├─────────────────────────────────┼────────────────────────┼───────────────┤\n",
              "│ dropout_40 (<span style=\"color: #0087ff; text-decoration-color: #0087ff\">Dropout</span>)            │ (<span style=\"color: #00d7ff; text-decoration-color: #00d7ff\">None</span>, <span style=\"color: #00af00; text-decoration-color: #00af00\">50</span>, <span style=\"color: #00af00; text-decoration-color: #00af00\">2</span>, <span style=\"color: #00af00; text-decoration-color: #00af00\">16</span>)      │             <span style=\"color: #00af00; text-decoration-color: #00af00\">0</span> │\n",
              "├─────────────────────────────────┼────────────────────────┼───────────────┤\n",
              "│ conv2d_53 (<span style=\"color: #0087ff; text-decoration-color: #0087ff\">Conv2D</span>)              │ (<span style=\"color: #00d7ff; text-decoration-color: #00d7ff\">None</span>, <span style=\"color: #00af00; text-decoration-color: #00af00\">50</span>, <span style=\"color: #00af00; text-decoration-color: #00af00\">2</span>, <span style=\"color: #00af00; text-decoration-color: #00af00\">32</span>)      │        <span style=\"color: #00af00; text-decoration-color: #00af00\">10,784</span> │\n",
              "├─────────────────────────────────┼────────────────────────┼───────────────┤\n",
              "│ conv2d_54 (<span style=\"color: #0087ff; text-decoration-color: #0087ff\">Conv2D</span>)              │ (<span style=\"color: #00d7ff; text-decoration-color: #00d7ff\">None</span>, <span style=\"color: #00af00; text-decoration-color: #00af00\">50</span>, <span style=\"color: #00af00; text-decoration-color: #00af00\">2</span>, <span style=\"color: #00af00; text-decoration-color: #00af00\">32</span>)      │        <span style=\"color: #00af00; text-decoration-color: #00af00\">21,536</span> │\n",
              "├─────────────────────────────────┼────────────────────────┼───────────────┤\n",
              "│ max_pooling2d_25 (<span style=\"color: #0087ff; text-decoration-color: #0087ff\">MaxPooling2D</span>) │ (<span style=\"color: #00d7ff; text-decoration-color: #00d7ff\">None</span>, <span style=\"color: #00af00; text-decoration-color: #00af00\">25</span>, <span style=\"color: #00af00; text-decoration-color: #00af00\">1</span>, <span style=\"color: #00af00; text-decoration-color: #00af00\">32</span>)      │             <span style=\"color: #00af00; text-decoration-color: #00af00\">0</span> │\n",
              "├─────────────────────────────────┼────────────────────────┼───────────────┤\n",
              "│ dropout_41 (<span style=\"color: #0087ff; text-decoration-color: #0087ff\">Dropout</span>)            │ (<span style=\"color: #00d7ff; text-decoration-color: #00d7ff\">None</span>, <span style=\"color: #00af00; text-decoration-color: #00af00\">25</span>, <span style=\"color: #00af00; text-decoration-color: #00af00\">1</span>, <span style=\"color: #00af00; text-decoration-color: #00af00\">32</span>)      │             <span style=\"color: #00af00; text-decoration-color: #00af00\">0</span> │\n",
              "├─────────────────────────────────┼────────────────────────┼───────────────┤\n",
              "│ flatten_12 (<span style=\"color: #0087ff; text-decoration-color: #0087ff\">Flatten</span>)            │ (<span style=\"color: #00d7ff; text-decoration-color: #00d7ff\">None</span>, <span style=\"color: #00af00; text-decoration-color: #00af00\">800</span>)            │             <span style=\"color: #00af00; text-decoration-color: #00af00\">0</span> │\n",
              "├─────────────────────────────────┼────────────────────────┼───────────────┤\n",
              "│ reshape_9 (<span style=\"color: #0087ff; text-decoration-color: #0087ff\">Reshape</span>)             │ (<span style=\"color: #00d7ff; text-decoration-color: #00d7ff\">None</span>, <span style=\"color: #00af00; text-decoration-color: #00af00\">25</span>, <span style=\"color: #00af00; text-decoration-color: #00af00\">32</span>)         │             <span style=\"color: #00af00; text-decoration-color: #00af00\">0</span> │\n",
              "├─────────────────────────────────┼────────────────────────┼───────────────┤\n",
              "│ lstm_16 (<span style=\"color: #0087ff; text-decoration-color: #0087ff\">LSTM</span>)                  │ (<span style=\"color: #00d7ff; text-decoration-color: #00d7ff\">None</span>, <span style=\"color: #00af00; text-decoration-color: #00af00\">25</span>, <span style=\"color: #00af00; text-decoration-color: #00af00\">32</span>)         │         <span style=\"color: #00af00; text-decoration-color: #00af00\">8,320</span> │\n",
              "├─────────────────────────────────┼────────────────────────┼───────────────┤\n",
              "│ lstm_17 (<span style=\"color: #0087ff; text-decoration-color: #0087ff\">LSTM</span>)                  │ (<span style=\"color: #00d7ff; text-decoration-color: #00d7ff\">None</span>, <span style=\"color: #00af00; text-decoration-color: #00af00\">32</span>)             │         <span style=\"color: #00af00; text-decoration-color: #00af00\">8,320</span> │\n",
              "├─────────────────────────────────┼────────────────────────┼───────────────┤\n",
              "│ dropout_42 (<span style=\"color: #0087ff; text-decoration-color: #0087ff\">Dropout</span>)            │ (<span style=\"color: #00d7ff; text-decoration-color: #00d7ff\">None</span>, <span style=\"color: #00af00; text-decoration-color: #00af00\">32</span>)             │             <span style=\"color: #00af00; text-decoration-color: #00af00\">0</span> │\n",
              "├─────────────────────────────────┼────────────────────────┼───────────────┤\n",
              "│ dense_22 (<span style=\"color: #0087ff; text-decoration-color: #0087ff\">Dense</span>)                │ (<span style=\"color: #00d7ff; text-decoration-color: #00d7ff\">None</span>, <span style=\"color: #00af00; text-decoration-color: #00af00\">64</span>)             │         <span style=\"color: #00af00; text-decoration-color: #00af00\">2,112</span> │\n",
              "├─────────────────────────────────┼────────────────────────┼───────────────┤\n",
              "│ dropout_43 (<span style=\"color: #0087ff; text-decoration-color: #0087ff\">Dropout</span>)            │ (<span style=\"color: #00d7ff; text-decoration-color: #00d7ff\">None</span>, <span style=\"color: #00af00; text-decoration-color: #00af00\">64</span>)             │             <span style=\"color: #00af00; text-decoration-color: #00af00\">0</span> │\n",
              "├─────────────────────────────────┼────────────────────────┼───────────────┤\n",
              "│ dense_23 (<span style=\"color: #0087ff; text-decoration-color: #0087ff\">Dense</span>)                │ (<span style=\"color: #00d7ff; text-decoration-color: #00d7ff\">None</span>, <span style=\"color: #00af00; text-decoration-color: #00af00\">9</span>)              │           <span style=\"color: #00af00; text-decoration-color: #00af00\">585</span> │\n",
              "└─────────────────────────────────┴────────────────────────┴───────────────┘\n",
              "</pre>\n"
            ]
          },
          "metadata": {}
        },
        {
          "output_type": "display_data",
          "data": {
            "text/plain": [
              "\u001b[1m Total params: \u001b[0m\u001b[38;5;34m60,329\u001b[0m (235.66 KB)\n"
            ],
            "text/html": [
              "<pre style=\"white-space:pre;overflow-x:auto;line-height:normal;font-family:Menlo,'DejaVu Sans Mono',consolas,'Courier New',monospace\"><span style=\"font-weight: bold\"> Total params: </span><span style=\"color: #00af00; text-decoration-color: #00af00\">60,329</span> (235.66 KB)\n",
              "</pre>\n"
            ]
          },
          "metadata": {}
        },
        {
          "output_type": "display_data",
          "data": {
            "text/plain": [
              "\u001b[1m Trainable params: \u001b[0m\u001b[38;5;34m60,329\u001b[0m (235.66 KB)\n"
            ],
            "text/html": [
              "<pre style=\"white-space:pre;overflow-x:auto;line-height:normal;font-family:Menlo,'DejaVu Sans Mono',consolas,'Courier New',monospace\"><span style=\"font-weight: bold\"> Trainable params: </span><span style=\"color: #00af00; text-decoration-color: #00af00\">60,329</span> (235.66 KB)\n",
              "</pre>\n"
            ]
          },
          "metadata": {}
        },
        {
          "output_type": "display_data",
          "data": {
            "text/plain": [
              "\u001b[1m Non-trainable params: \u001b[0m\u001b[38;5;34m0\u001b[0m (0.00 B)\n"
            ],
            "text/html": [
              "<pre style=\"white-space:pre;overflow-x:auto;line-height:normal;font-family:Menlo,'DejaVu Sans Mono',consolas,'Courier New',monospace\"><span style=\"font-weight: bold\"> Non-trainable params: </span><span style=\"color: #00af00; text-decoration-color: #00af00\">0</span> (0.00 B)\n",
              "</pre>\n"
            ]
          },
          "metadata": {}
        }
      ]
    },
    {
      "cell_type": "code",
      "source": [
        "optimizer = Adam(learning_rate=0.001, clipnorm=1.0)\n",
        "batch_size = 64\n",
        "epochs = 100\n",
        "early_stopping = tf.keras.callbacks.EarlyStopping(monitor='val_loss', patience=15,\n",
        "                                                  restore_best_weights=True)\n",
        "reduce_lr = tf.keras.callbacks.ReduceLROnPlateau(monitor='val_loss', factor=0.95,\n",
        "                              patience=5, min_lr=0.00001)\n",
        "\n",
        "top_channels_model.compile(optimizer=optimizer, loss='sparse_categorical_crossentropy', metrics=['accuracy'])\n",
        "\n",
        "hist = top_channels_model.fit(X_train_top_channels, y_train, callbacks=[early_stopping, reduce_lr],\n",
        "                 epochs=epochs, batch_size=batch_size, validation_split=0.2)\n"
      ],
      "metadata": {
        "colab": {
          "base_uri": "https://localhost:8080/"
        },
        "id": "_OT7PiujY-dj",
        "outputId": "5fcf5b4c-7fb3-48ec-c0ed-2da62a7d945c"
      },
      "execution_count": null,
      "outputs": [
        {
          "output_type": "stream",
          "name": "stdout",
          "text": [
            "Epoch 1/100\n",
            "\u001b[1m16/16\u001b[0m \u001b[32m━━━━━━━━━━━━━━━━━━━━\u001b[0m\u001b[37m\u001b[0m \u001b[1m8s\u001b[0m 46ms/step - accuracy: 0.1701 - loss: 2.1894 - val_accuracy: 0.1825 - val_loss: 2.1686 - learning_rate: 0.0010\n",
            "Epoch 2/100\n",
            "\u001b[1m16/16\u001b[0m \u001b[32m━━━━━━━━━━━━━━━━━━━━\u001b[0m\u001b[37m\u001b[0m \u001b[1m0s\u001b[0m 19ms/step - accuracy: 0.1910 - loss: 2.1736 - val_accuracy: 0.1825 - val_loss: 2.1574 - learning_rate: 0.0010\n",
            "Epoch 3/100\n",
            "\u001b[1m16/16\u001b[0m \u001b[32m━━━━━━━━━━━━━━━━━━━━\u001b[0m\u001b[37m\u001b[0m \u001b[1m1s\u001b[0m 19ms/step - accuracy: 0.2131 - loss: 2.1504 - val_accuracy: 0.1825 - val_loss: 2.1378 - learning_rate: 0.0010\n",
            "Epoch 4/100\n",
            "\u001b[1m16/16\u001b[0m \u001b[32m━━━━━━━━━━━━━━━━━━━━\u001b[0m\u001b[37m\u001b[0m \u001b[1m0s\u001b[0m 18ms/step - accuracy: 0.2080 - loss: 2.1218 - val_accuracy: 0.1825 - val_loss: 2.0847 - learning_rate: 0.0010\n",
            "Epoch 5/100\n",
            "\u001b[1m16/16\u001b[0m \u001b[32m━━━━━━━━━━━━━━━━━━━━\u001b[0m\u001b[37m\u001b[0m \u001b[1m0s\u001b[0m 17ms/step - accuracy: 0.2130 - loss: 2.0702 - val_accuracy: 0.1984 - val_loss: 2.0003 - learning_rate: 0.0010\n",
            "Epoch 6/100\n",
            "\u001b[1m16/16\u001b[0m \u001b[32m━━━━━━━━━━━━━━━━━━━━\u001b[0m\u001b[37m\u001b[0m \u001b[1m0s\u001b[0m 16ms/step - accuracy: 0.2334 - loss: 2.0179 - val_accuracy: 0.2659 - val_loss: 1.9134 - learning_rate: 0.0010\n",
            "Epoch 7/100\n",
            "\u001b[1m16/16\u001b[0m \u001b[32m━━━━━━━━━━━━━━━━━━━━\u001b[0m\u001b[37m\u001b[0m \u001b[1m0s\u001b[0m 18ms/step - accuracy: 0.2330 - loss: 1.9534 - val_accuracy: 0.2778 - val_loss: 1.8255 - learning_rate: 0.0010\n",
            "Epoch 8/100\n",
            "\u001b[1m16/16\u001b[0m \u001b[32m━━━━━━━━━━━━━━━━━━━━\u001b[0m\u001b[37m\u001b[0m \u001b[1m0s\u001b[0m 17ms/step - accuracy: 0.2800 - loss: 1.8253 - val_accuracy: 0.2540 - val_loss: 1.8466 - learning_rate: 0.0010\n",
            "Epoch 9/100\n",
            "\u001b[1m16/16\u001b[0m \u001b[32m━━━━━━━━━━━━━━━━━━━━\u001b[0m\u001b[37m\u001b[0m \u001b[1m0s\u001b[0m 19ms/step - accuracy: 0.2684 - loss: 1.7868 - val_accuracy: 0.2659 - val_loss: 1.7399 - learning_rate: 0.0010\n",
            "Epoch 10/100\n",
            "\u001b[1m16/16\u001b[0m \u001b[32m━━━━━━━━━━━━━━━━━━━━\u001b[0m\u001b[37m\u001b[0m \u001b[1m1s\u001b[0m 15ms/step - accuracy: 0.3139 - loss: 1.7237 - val_accuracy: 0.3532 - val_loss: 1.6659 - learning_rate: 0.0010\n",
            "Epoch 11/100\n",
            "\u001b[1m16/16\u001b[0m \u001b[32m━━━━━━━━━━━━━━━━━━━━\u001b[0m\u001b[37m\u001b[0m \u001b[1m0s\u001b[0m 16ms/step - accuracy: 0.3049 - loss: 1.6925 - val_accuracy: 0.2897 - val_loss: 1.8420 - learning_rate: 0.0010\n",
            "Epoch 12/100\n",
            "\u001b[1m16/16\u001b[0m \u001b[32m━━━━━━━━━━━━━━━━━━━━\u001b[0m\u001b[37m\u001b[0m \u001b[1m0s\u001b[0m 16ms/step - accuracy: 0.3054 - loss: 1.6944 - val_accuracy: 0.3730 - val_loss: 1.6058 - learning_rate: 0.0010\n",
            "Epoch 13/100\n",
            "\u001b[1m16/16\u001b[0m \u001b[32m━━━━━━━━━━━━━━━━━━━━\u001b[0m\u001b[37m\u001b[0m \u001b[1m0s\u001b[0m 16ms/step - accuracy: 0.3686 - loss: 1.5254 - val_accuracy: 0.4246 - val_loss: 1.5217 - learning_rate: 0.0010\n",
            "Epoch 14/100\n",
            "\u001b[1m16/16\u001b[0m \u001b[32m━━━━━━━━━━━━━━━━━━━━\u001b[0m\u001b[37m\u001b[0m \u001b[1m0s\u001b[0m 18ms/step - accuracy: 0.3647 - loss: 1.5812 - val_accuracy: 0.3175 - val_loss: 1.8023 - learning_rate: 0.0010\n",
            "Epoch 15/100\n",
            "\u001b[1m16/16\u001b[0m \u001b[32m━━━━━━━━━━━━━━━━━━━━\u001b[0m\u001b[37m\u001b[0m \u001b[1m0s\u001b[0m 19ms/step - accuracy: 0.3851 - loss: 1.5485 - val_accuracy: 0.4643 - val_loss: 1.4138 - learning_rate: 0.0010\n",
            "Epoch 16/100\n",
            "\u001b[1m16/16\u001b[0m \u001b[32m━━━━━━━━━━━━━━━━━━━━\u001b[0m\u001b[37m\u001b[0m \u001b[1m0s\u001b[0m 17ms/step - accuracy: 0.4490 - loss: 1.3800 - val_accuracy: 0.4563 - val_loss: 1.4195 - learning_rate: 0.0010\n",
            "Epoch 17/100\n",
            "\u001b[1m16/16\u001b[0m \u001b[32m━━━━━━━━━━━━━━━━━━━━\u001b[0m\u001b[37m\u001b[0m \u001b[1m0s\u001b[0m 18ms/step - accuracy: 0.4946 - loss: 1.2813 - val_accuracy: 0.4683 - val_loss: 1.3457 - learning_rate: 0.0010\n",
            "Epoch 18/100\n",
            "\u001b[1m16/16\u001b[0m \u001b[32m━━━━━━━━━━━━━━━━━━━━\u001b[0m\u001b[37m\u001b[0m \u001b[1m0s\u001b[0m 26ms/step - accuracy: 0.4745 - loss: 1.3248 - val_accuracy: 0.5278 - val_loss: 1.3014 - learning_rate: 0.0010\n",
            "Epoch 19/100\n",
            "\u001b[1m16/16\u001b[0m \u001b[32m━━━━━━━━━━━━━━━━━━━━\u001b[0m\u001b[37m\u001b[0m \u001b[1m0s\u001b[0m 21ms/step - accuracy: 0.5377 - loss: 1.1905 - val_accuracy: 0.4484 - val_loss: 1.4039 - learning_rate: 0.0010\n",
            "Epoch 20/100\n",
            "\u001b[1m16/16\u001b[0m \u001b[32m━━━━━━━━━━━━━━━━━━━━\u001b[0m\u001b[37m\u001b[0m \u001b[1m0s\u001b[0m 25ms/step - accuracy: 0.5564 - loss: 1.1274 - val_accuracy: 0.5317 - val_loss: 1.2446 - learning_rate: 0.0010\n",
            "Epoch 21/100\n",
            "\u001b[1m16/16\u001b[0m \u001b[32m━━━━━━━━━━━━━━━━━━━━\u001b[0m\u001b[37m\u001b[0m \u001b[1m1s\u001b[0m 24ms/step - accuracy: 0.6095 - loss: 1.0707 - val_accuracy: 0.5159 - val_loss: 1.3109 - learning_rate: 0.0010\n",
            "Epoch 22/100\n",
            "\u001b[1m16/16\u001b[0m \u001b[32m━━━━━━━━━━━━━━━━━━━━\u001b[0m\u001b[37m\u001b[0m \u001b[1m1s\u001b[0m 25ms/step - accuracy: 0.5617 - loss: 1.1561 - val_accuracy: 0.4762 - val_loss: 1.2769 - learning_rate: 0.0010\n",
            "Epoch 23/100\n",
            "\u001b[1m16/16\u001b[0m \u001b[32m━━━━━━━━━━━━━━━━━━━━\u001b[0m\u001b[37m\u001b[0m \u001b[1m0s\u001b[0m 24ms/step - accuracy: 0.6188 - loss: 1.0479 - val_accuracy: 0.5476 - val_loss: 1.3215 - learning_rate: 0.0010\n",
            "Epoch 24/100\n",
            "\u001b[1m16/16\u001b[0m \u001b[32m━━━━━━━━━━━━━━━━━━━━\u001b[0m\u001b[37m\u001b[0m \u001b[1m0s\u001b[0m 17ms/step - accuracy: 0.6005 - loss: 1.0126 - val_accuracy: 0.5397 - val_loss: 1.2341 - learning_rate: 0.0010\n",
            "Epoch 25/100\n",
            "\u001b[1m16/16\u001b[0m \u001b[32m━━━━━━━━━━━━━━━━━━━━\u001b[0m\u001b[37m\u001b[0m \u001b[1m0s\u001b[0m 17ms/step - accuracy: 0.6525 - loss: 0.9264 - val_accuracy: 0.5675 - val_loss: 1.1527 - learning_rate: 0.0010\n",
            "Epoch 26/100\n",
            "\u001b[1m16/16\u001b[0m \u001b[32m━━━━━━━━━━━━━━━━━━━━\u001b[0m\u001b[37m\u001b[0m \u001b[1m0s\u001b[0m 17ms/step - accuracy: 0.6399 - loss: 0.9853 - val_accuracy: 0.5833 - val_loss: 1.1387 - learning_rate: 0.0010\n",
            "Epoch 27/100\n",
            "\u001b[1m16/16\u001b[0m \u001b[32m━━━━━━━━━━━━━━━━━━━━\u001b[0m\u001b[37m\u001b[0m \u001b[1m0s\u001b[0m 17ms/step - accuracy: 0.6508 - loss: 0.9056 - val_accuracy: 0.5913 - val_loss: 1.1240 - learning_rate: 0.0010\n",
            "Epoch 28/100\n",
            "\u001b[1m16/16\u001b[0m \u001b[32m━━━━━━━━━━━━━━━━━━━━\u001b[0m\u001b[37m\u001b[0m \u001b[1m0s\u001b[0m 15ms/step - accuracy: 0.6448 - loss: 0.9138 - val_accuracy: 0.5913 - val_loss: 1.1332 - learning_rate: 0.0010\n",
            "Epoch 29/100\n",
            "\u001b[1m16/16\u001b[0m \u001b[32m━━━━━━━━━━━━━━━━━━━━\u001b[0m\u001b[37m\u001b[0m \u001b[1m0s\u001b[0m 18ms/step - accuracy: 0.6842 - loss: 0.8647 - val_accuracy: 0.5794 - val_loss: 1.1715 - learning_rate: 0.0010\n",
            "Epoch 30/100\n",
            "\u001b[1m16/16\u001b[0m \u001b[32m━━━━━━━━━━━━━━━━━━━━\u001b[0m\u001b[37m\u001b[0m \u001b[1m0s\u001b[0m 15ms/step - accuracy: 0.7291 - loss: 0.7650 - val_accuracy: 0.5833 - val_loss: 1.2176 - learning_rate: 0.0010\n",
            "Epoch 31/100\n",
            "\u001b[1m16/16\u001b[0m \u001b[32m━━━━━━━━━━━━━━━━━━━━\u001b[0m\u001b[37m\u001b[0m \u001b[1m0s\u001b[0m 16ms/step - accuracy: 0.7114 - loss: 0.7656 - val_accuracy: 0.6071 - val_loss: 1.0557 - learning_rate: 0.0010\n",
            "Epoch 32/100\n",
            "\u001b[1m16/16\u001b[0m \u001b[32m━━━━━━━━━━━━━━━━━━━━\u001b[0m\u001b[37m\u001b[0m \u001b[1m0s\u001b[0m 16ms/step - accuracy: 0.6982 - loss: 0.7718 - val_accuracy: 0.5714 - val_loss: 1.2427 - learning_rate: 0.0010\n",
            "Epoch 33/100\n",
            "\u001b[1m16/16\u001b[0m \u001b[32m━━━━━━━━━━━━━━━━━━━━\u001b[0m\u001b[37m\u001b[0m \u001b[1m0s\u001b[0m 15ms/step - accuracy: 0.7337 - loss: 0.7331 - val_accuracy: 0.6071 - val_loss: 1.1451 - learning_rate: 0.0010\n",
            "Epoch 34/100\n",
            "\u001b[1m16/16\u001b[0m \u001b[32m━━━━━━━━━━━━━━━━━━━━\u001b[0m\u001b[37m\u001b[0m \u001b[1m0s\u001b[0m 17ms/step - accuracy: 0.7882 - loss: 0.6287 - val_accuracy: 0.5635 - val_loss: 1.2491 - learning_rate: 0.0010\n",
            "Epoch 35/100\n",
            "\u001b[1m16/16\u001b[0m \u001b[32m━━━━━━━━━━━━━━━━━━━━\u001b[0m\u001b[37m\u001b[0m \u001b[1m0s\u001b[0m 15ms/step - accuracy: 0.7284 - loss: 0.7074 - val_accuracy: 0.5357 - val_loss: 1.3261 - learning_rate: 0.0010\n",
            "Epoch 36/100\n",
            "\u001b[1m16/16\u001b[0m \u001b[32m━━━━━━━━━━━━━━━━━━━━\u001b[0m\u001b[37m\u001b[0m \u001b[1m0s\u001b[0m 18ms/step - accuracy: 0.7536 - loss: 0.6717 - val_accuracy: 0.5794 - val_loss: 1.2558 - learning_rate: 0.0010\n",
            "Epoch 37/100\n",
            "\u001b[1m16/16\u001b[0m \u001b[32m━━━━━━━━━━━━━━━━━━━━\u001b[0m\u001b[37m\u001b[0m \u001b[1m0s\u001b[0m 15ms/step - accuracy: 0.7691 - loss: 0.6216 - val_accuracy: 0.6111 - val_loss: 1.1930 - learning_rate: 9.5000e-04\n",
            "Epoch 38/100\n",
            "\u001b[1m16/16\u001b[0m \u001b[32m━━━━━━━━━━━━━━━━━━━━\u001b[0m\u001b[37m\u001b[0m \u001b[1m0s\u001b[0m 15ms/step - accuracy: 0.8120 - loss: 0.5600 - val_accuracy: 0.5794 - val_loss: 1.2067 - learning_rate: 9.5000e-04\n",
            "Epoch 39/100\n",
            "\u001b[1m16/16\u001b[0m \u001b[32m━━━━━━━━━━━━━━━━━━━━\u001b[0m\u001b[37m\u001b[0m \u001b[1m0s\u001b[0m 16ms/step - accuracy: 0.7780 - loss: 0.6088 - val_accuracy: 0.5992 - val_loss: 1.2222 - learning_rate: 9.5000e-04\n",
            "Epoch 40/100\n",
            "\u001b[1m16/16\u001b[0m \u001b[32m━━━━━━━━━━━━━━━━━━━━\u001b[0m\u001b[37m\u001b[0m \u001b[1m0s\u001b[0m 15ms/step - accuracy: 0.7644 - loss: 0.6679 - val_accuracy: 0.5992 - val_loss: 1.2419 - learning_rate: 9.5000e-04\n",
            "Epoch 41/100\n",
            "\u001b[1m16/16\u001b[0m \u001b[32m━━━━━━━━━━━━━━━━━━━━\u001b[0m\u001b[37m\u001b[0m \u001b[1m0s\u001b[0m 16ms/step - accuracy: 0.7729 - loss: 0.6012 - val_accuracy: 0.5952 - val_loss: 1.2860 - learning_rate: 9.5000e-04\n",
            "Epoch 42/100\n",
            "\u001b[1m16/16\u001b[0m \u001b[32m━━━━━━━━━━━━━━━━━━━━\u001b[0m\u001b[37m\u001b[0m \u001b[1m0s\u001b[0m 16ms/step - accuracy: 0.8232 - loss: 0.4980 - val_accuracy: 0.6032 - val_loss: 1.3287 - learning_rate: 9.0250e-04\n",
            "Epoch 43/100\n",
            "\u001b[1m16/16\u001b[0m \u001b[32m━━━━━━━━━━━━━━━━━━━━\u001b[0m\u001b[37m\u001b[0m \u001b[1m0s\u001b[0m 17ms/step - accuracy: 0.7910 - loss: 0.5610 - val_accuracy: 0.5952 - val_loss: 1.4330 - learning_rate: 9.0250e-04\n",
            "Epoch 44/100\n",
            "\u001b[1m16/16\u001b[0m \u001b[32m━━━━━━━━━━━━━━━━━━━━\u001b[0m\u001b[37m\u001b[0m \u001b[1m0s\u001b[0m 15ms/step - accuracy: 0.8068 - loss: 0.5185 - val_accuracy: 0.6151 - val_loss: 1.2176 - learning_rate: 9.0250e-04\n",
            "Epoch 45/100\n",
            "\u001b[1m16/16\u001b[0m \u001b[32m━━━━━━━━━━━━━━━━━━━━\u001b[0m\u001b[37m\u001b[0m \u001b[1m0s\u001b[0m 15ms/step - accuracy: 0.8587 - loss: 0.4283 - val_accuracy: 0.5833 - val_loss: 1.3284 - learning_rate: 9.0250e-04\n",
            "Epoch 46/100\n",
            "\u001b[1m16/16\u001b[0m \u001b[32m━━━━━━━━━━━━━━━━━━━━\u001b[0m\u001b[37m\u001b[0m \u001b[1m0s\u001b[0m 15ms/step - accuracy: 0.8559 - loss: 0.4251 - val_accuracy: 0.6071 - val_loss: 1.3130 - learning_rate: 9.0250e-04\n"
          ]
        }
      ]
    },
    {
      "cell_type": "code",
      "source": [
        "y_pred = top_channels_model.predict(X_test_top_channels)\n",
        "y_pred_classes = np.argmax(y_pred, axis=1)\n",
        "accuracy = accuracy_score(y_test, y_pred_classes)\n",
        "print(accuracy)"
      ],
      "metadata": {
        "colab": {
          "base_uri": "https://localhost:8080/"
        },
        "id": "qKFlctynZb4K",
        "outputId": "ecb6caf2-7b29-4c71-d16f-08128fad2660"
      },
      "execution_count": null,
      "outputs": [
        {
          "output_type": "stream",
          "name": "stdout",
          "text": [
            "\u001b[1m10/10\u001b[0m \u001b[32m━━━━━━━━━━━━━━━━━━━━\u001b[0m\u001b[37m\u001b[0m \u001b[1m0s\u001b[0m 29ms/step\n",
            "0.6063492063492063\n"
          ]
        }
      ]
    },
    {
      "cell_type": "markdown",
      "source": [
        "# More Notes\n",
        "\n",
        "got a 67.6% accuracy when model that produced top results was 60%"
      ],
      "metadata": {
        "id": "gh43fW9u5-UP"
      }
    },
    {
      "cell_type": "markdown",
      "source": [
        "For notes later:\n",
        "\n",
        "In general validation loss is stayign quite high\n",
        "\n",
        "full 11 x 11 kernels: 41.5%\n",
        "\n",
        "11 x 11 -> 15 x 15: 54.6%\n",
        "\n",
        "13 x 13 -> 19 x 19: 40%\n",
        "\n",
        "13, 15 -> 19, 23: 33.7%\n",
        "\n",
        "11-> 31: 59.4%\n",
        "\n",
        "11 x 3 -> 31 x 5: 58.7%\n",
        "\n",
        "11 x 5 -> 31 x 7: 65.1%\n",
        "\n",
        "11 x 5 -> 51 x 7: 65.4%\n",
        "\n",
        "11 x 5 -> 51 x 11: 66.3%\n",
        "\n",
        "11 x 5 -> 51 x 9: 55.9%\n",
        "\n",
        "31 x 5 -> 51 x 11: 60.3%\n",
        "\n",
        "11 x 5, 31 x 9, 51 x 15: 50.8%\n",
        "\n",
        "11 x 5, 31 x 9, 51 x 11: 55. 2%\n",
        "\n",
        "41 x 5, 51 x 7: 46%\n",
        "\n",
        "3 x 3 -> 11 x 5 -> 51 x 11: 55.6%\n",
        "\n",
        "5 x 5 -> 11 x 5 -> 51 x 11: 61.6%\n",
        "\n",
        "1 x 1 -> 11 x 5 -> 51 x 11: 64.8%\n",
        "\n",
        "11 x 3, 3 x 2 -> 64.8%"
      ],
      "metadata": {
        "id": "2lERHzonblsx"
      }
    },
    {
      "cell_type": "code",
      "source": [
        "pca_model = build_cnn(input_shape=(51, 5, 32), num_classes=10)\n",
        "pca_model.summary()"
      ],
      "metadata": {
        "colab": {
          "base_uri": "https://localhost:8080/",
          "height": 568
        },
        "id": "jEJNkXj3rTJe",
        "outputId": "fab11041-27ea-43d2-b66f-ed73a68b9949"
      },
      "execution_count": null,
      "outputs": [
        {
          "output_type": "stream",
          "name": "stderr",
          "text": [
            "/usr/local/lib/python3.11/dist-packages/keras/src/layers/core/input_layer.py:27: UserWarning: Argument `input_shape` is deprecated. Use `shape` instead.\n",
            "  warnings.warn(\n"
          ]
        },
        {
          "output_type": "display_data",
          "data": {
            "text/plain": [
              "\u001b[1mModel: \"ConvClassifier\"\u001b[0m\n"
            ],
            "text/html": [
              "<pre style=\"white-space:pre;overflow-x:auto;line-height:normal;font-family:Menlo,'DejaVu Sans Mono',consolas,'Courier New',monospace\"><span style=\"font-weight: bold\">Model: \"ConvClassifier\"</span>\n",
              "</pre>\n"
            ]
          },
          "metadata": {}
        },
        {
          "output_type": "display_data",
          "data": {
            "text/plain": [
              "┏━━━━━━━━━━━━━━━━━━━━━━━━━━━━━━━━━┳━━━━━━━━━━━━━━━━━━━━━━━━┳━━━━━━━━━━━━━━━┓\n",
              "┃\u001b[1m \u001b[0m\u001b[1mLayer (type)                   \u001b[0m\u001b[1m \u001b[0m┃\u001b[1m \u001b[0m\u001b[1mOutput Shape          \u001b[0m\u001b[1m \u001b[0m┃\u001b[1m \u001b[0m\u001b[1m      Param #\u001b[0m\u001b[1m \u001b[0m┃\n",
              "┡━━━━━━━━━━━━━━━━━━━━━━━━━━━━━━━━━╇━━━━━━━━━━━━━━━━━━━━━━━━╇━━━━━━━━━━━━━━━┩\n",
              "│ conv2d_17 (\u001b[38;5;33mConv2D\u001b[0m)              │ (\u001b[38;5;45mNone\u001b[0m, \u001b[38;5;34m51\u001b[0m, \u001b[38;5;34m5\u001b[0m, \u001b[38;5;34m64\u001b[0m)      │        \u001b[38;5;34m18,496\u001b[0m │\n",
              "├─────────────────────────────────┼────────────────────────┼───────────────┤\n",
              "│ conv2d_18 (\u001b[38;5;33mConv2D\u001b[0m)              │ (\u001b[38;5;45mNone\u001b[0m, \u001b[38;5;34m51\u001b[0m, \u001b[38;5;34m5\u001b[0m, \u001b[38;5;34m64\u001b[0m)      │        \u001b[38;5;34m36,928\u001b[0m │\n",
              "├─────────────────────────────────┼────────────────────────┼───────────────┤\n",
              "│ max_pooling2d_7 (\u001b[38;5;33mMaxPooling2D\u001b[0m)  │ (\u001b[38;5;45mNone\u001b[0m, \u001b[38;5;34m26\u001b[0m, \u001b[38;5;34m3\u001b[0m, \u001b[38;5;34m64\u001b[0m)      │             \u001b[38;5;34m0\u001b[0m │\n",
              "├─────────────────────────────────┼────────────────────────┼───────────────┤\n",
              "│ dropout_22 (\u001b[38;5;33mDropout\u001b[0m)            │ (\u001b[38;5;45mNone\u001b[0m, \u001b[38;5;34m26\u001b[0m, \u001b[38;5;34m3\u001b[0m, \u001b[38;5;34m64\u001b[0m)      │             \u001b[38;5;34m0\u001b[0m │\n",
              "├─────────────────────────────────┼────────────────────────┼───────────────┤\n",
              "│ conv2d_19 (\u001b[38;5;33mConv2D\u001b[0m)              │ (\u001b[38;5;45mNone\u001b[0m, \u001b[38;5;34m26\u001b[0m, \u001b[38;5;34m3\u001b[0m, \u001b[38;5;34m128\u001b[0m)     │       \u001b[38;5;34m204,928\u001b[0m │\n",
              "├─────────────────────────────────┼────────────────────────┼───────────────┤\n",
              "│ conv2d_20 (\u001b[38;5;33mConv2D\u001b[0m)              │ (\u001b[38;5;45mNone\u001b[0m, \u001b[38;5;34m26\u001b[0m, \u001b[38;5;34m3\u001b[0m, \u001b[38;5;34m128\u001b[0m)     │       \u001b[38;5;34m409,728\u001b[0m │\n",
              "├─────────────────────────────────┼────────────────────────┼───────────────┤\n",
              "│ max_pooling2d_8 (\u001b[38;5;33mMaxPooling2D\u001b[0m)  │ (\u001b[38;5;45mNone\u001b[0m, \u001b[38;5;34m13\u001b[0m, \u001b[38;5;34m2\u001b[0m, \u001b[38;5;34m128\u001b[0m)     │             \u001b[38;5;34m0\u001b[0m │\n",
              "├─────────────────────────────────┼────────────────────────┼───────────────┤\n",
              "│ dropout_23 (\u001b[38;5;33mDropout\u001b[0m)            │ (\u001b[38;5;45mNone\u001b[0m, \u001b[38;5;34m13\u001b[0m, \u001b[38;5;34m2\u001b[0m, \u001b[38;5;34m128\u001b[0m)     │             \u001b[38;5;34m0\u001b[0m │\n",
              "├─────────────────────────────────┼────────────────────────┼───────────────┤\n",
              "│ flatten_6 (\u001b[38;5;33mFlatten\u001b[0m)             │ (\u001b[38;5;45mNone\u001b[0m, \u001b[38;5;34m3328\u001b[0m)           │             \u001b[38;5;34m0\u001b[0m │\n",
              "├─────────────────────────────────┼────────────────────────┼───────────────┤\n",
              "│ dense_12 (\u001b[38;5;33mDense\u001b[0m)                │ (\u001b[38;5;45mNone\u001b[0m, \u001b[38;5;34m128\u001b[0m)            │       \u001b[38;5;34m426,112\u001b[0m │\n",
              "├─────────────────────────────────┼────────────────────────┼───────────────┤\n",
              "│ dropout_24 (\u001b[38;5;33mDropout\u001b[0m)            │ (\u001b[38;5;45mNone\u001b[0m, \u001b[38;5;34m128\u001b[0m)            │             \u001b[38;5;34m0\u001b[0m │\n",
              "├─────────────────────────────────┼────────────────────────┼───────────────┤\n",
              "│ dense_13 (\u001b[38;5;33mDense\u001b[0m)                │ (\u001b[38;5;45mNone\u001b[0m, \u001b[38;5;34m10\u001b[0m)             │         \u001b[38;5;34m1,290\u001b[0m │\n",
              "└─────────────────────────────────┴────────────────────────┴───────────────┘\n"
            ],
            "text/html": [
              "<pre style=\"white-space:pre;overflow-x:auto;line-height:normal;font-family:Menlo,'DejaVu Sans Mono',consolas,'Courier New',monospace\">┏━━━━━━━━━━━━━━━━━━━━━━━━━━━━━━━━━┳━━━━━━━━━━━━━━━━━━━━━━━━┳━━━━━━━━━━━━━━━┓\n",
              "┃<span style=\"font-weight: bold\"> Layer (type)                    </span>┃<span style=\"font-weight: bold\"> Output Shape           </span>┃<span style=\"font-weight: bold\">       Param # </span>┃\n",
              "┡━━━━━━━━━━━━━━━━━━━━━━━━━━━━━━━━━╇━━━━━━━━━━━━━━━━━━━━━━━━╇━━━━━━━━━━━━━━━┩\n",
              "│ conv2d_17 (<span style=\"color: #0087ff; text-decoration-color: #0087ff\">Conv2D</span>)              │ (<span style=\"color: #00d7ff; text-decoration-color: #00d7ff\">None</span>, <span style=\"color: #00af00; text-decoration-color: #00af00\">51</span>, <span style=\"color: #00af00; text-decoration-color: #00af00\">5</span>, <span style=\"color: #00af00; text-decoration-color: #00af00\">64</span>)      │        <span style=\"color: #00af00; text-decoration-color: #00af00\">18,496</span> │\n",
              "├─────────────────────────────────┼────────────────────────┼───────────────┤\n",
              "│ conv2d_18 (<span style=\"color: #0087ff; text-decoration-color: #0087ff\">Conv2D</span>)              │ (<span style=\"color: #00d7ff; text-decoration-color: #00d7ff\">None</span>, <span style=\"color: #00af00; text-decoration-color: #00af00\">51</span>, <span style=\"color: #00af00; text-decoration-color: #00af00\">5</span>, <span style=\"color: #00af00; text-decoration-color: #00af00\">64</span>)      │        <span style=\"color: #00af00; text-decoration-color: #00af00\">36,928</span> │\n",
              "├─────────────────────────────────┼────────────────────────┼───────────────┤\n",
              "│ max_pooling2d_7 (<span style=\"color: #0087ff; text-decoration-color: #0087ff\">MaxPooling2D</span>)  │ (<span style=\"color: #00d7ff; text-decoration-color: #00d7ff\">None</span>, <span style=\"color: #00af00; text-decoration-color: #00af00\">26</span>, <span style=\"color: #00af00; text-decoration-color: #00af00\">3</span>, <span style=\"color: #00af00; text-decoration-color: #00af00\">64</span>)      │             <span style=\"color: #00af00; text-decoration-color: #00af00\">0</span> │\n",
              "├─────────────────────────────────┼────────────────────────┼───────────────┤\n",
              "│ dropout_22 (<span style=\"color: #0087ff; text-decoration-color: #0087ff\">Dropout</span>)            │ (<span style=\"color: #00d7ff; text-decoration-color: #00d7ff\">None</span>, <span style=\"color: #00af00; text-decoration-color: #00af00\">26</span>, <span style=\"color: #00af00; text-decoration-color: #00af00\">3</span>, <span style=\"color: #00af00; text-decoration-color: #00af00\">64</span>)      │             <span style=\"color: #00af00; text-decoration-color: #00af00\">0</span> │\n",
              "├─────────────────────────────────┼────────────────────────┼───────────────┤\n",
              "│ conv2d_19 (<span style=\"color: #0087ff; text-decoration-color: #0087ff\">Conv2D</span>)              │ (<span style=\"color: #00d7ff; text-decoration-color: #00d7ff\">None</span>, <span style=\"color: #00af00; text-decoration-color: #00af00\">26</span>, <span style=\"color: #00af00; text-decoration-color: #00af00\">3</span>, <span style=\"color: #00af00; text-decoration-color: #00af00\">128</span>)     │       <span style=\"color: #00af00; text-decoration-color: #00af00\">204,928</span> │\n",
              "├─────────────────────────────────┼────────────────────────┼───────────────┤\n",
              "│ conv2d_20 (<span style=\"color: #0087ff; text-decoration-color: #0087ff\">Conv2D</span>)              │ (<span style=\"color: #00d7ff; text-decoration-color: #00d7ff\">None</span>, <span style=\"color: #00af00; text-decoration-color: #00af00\">26</span>, <span style=\"color: #00af00; text-decoration-color: #00af00\">3</span>, <span style=\"color: #00af00; text-decoration-color: #00af00\">128</span>)     │       <span style=\"color: #00af00; text-decoration-color: #00af00\">409,728</span> │\n",
              "├─────────────────────────────────┼────────────────────────┼───────────────┤\n",
              "│ max_pooling2d_8 (<span style=\"color: #0087ff; text-decoration-color: #0087ff\">MaxPooling2D</span>)  │ (<span style=\"color: #00d7ff; text-decoration-color: #00d7ff\">None</span>, <span style=\"color: #00af00; text-decoration-color: #00af00\">13</span>, <span style=\"color: #00af00; text-decoration-color: #00af00\">2</span>, <span style=\"color: #00af00; text-decoration-color: #00af00\">128</span>)     │             <span style=\"color: #00af00; text-decoration-color: #00af00\">0</span> │\n",
              "├─────────────────────────────────┼────────────────────────┼───────────────┤\n",
              "│ dropout_23 (<span style=\"color: #0087ff; text-decoration-color: #0087ff\">Dropout</span>)            │ (<span style=\"color: #00d7ff; text-decoration-color: #00d7ff\">None</span>, <span style=\"color: #00af00; text-decoration-color: #00af00\">13</span>, <span style=\"color: #00af00; text-decoration-color: #00af00\">2</span>, <span style=\"color: #00af00; text-decoration-color: #00af00\">128</span>)     │             <span style=\"color: #00af00; text-decoration-color: #00af00\">0</span> │\n",
              "├─────────────────────────────────┼────────────────────────┼───────────────┤\n",
              "│ flatten_6 (<span style=\"color: #0087ff; text-decoration-color: #0087ff\">Flatten</span>)             │ (<span style=\"color: #00d7ff; text-decoration-color: #00d7ff\">None</span>, <span style=\"color: #00af00; text-decoration-color: #00af00\">3328</span>)           │             <span style=\"color: #00af00; text-decoration-color: #00af00\">0</span> │\n",
              "├─────────────────────────────────┼────────────────────────┼───────────────┤\n",
              "│ dense_12 (<span style=\"color: #0087ff; text-decoration-color: #0087ff\">Dense</span>)                │ (<span style=\"color: #00d7ff; text-decoration-color: #00d7ff\">None</span>, <span style=\"color: #00af00; text-decoration-color: #00af00\">128</span>)            │       <span style=\"color: #00af00; text-decoration-color: #00af00\">426,112</span> │\n",
              "├─────────────────────────────────┼────────────────────────┼───────────────┤\n",
              "│ dropout_24 (<span style=\"color: #0087ff; text-decoration-color: #0087ff\">Dropout</span>)            │ (<span style=\"color: #00d7ff; text-decoration-color: #00d7ff\">None</span>, <span style=\"color: #00af00; text-decoration-color: #00af00\">128</span>)            │             <span style=\"color: #00af00; text-decoration-color: #00af00\">0</span> │\n",
              "├─────────────────────────────────┼────────────────────────┼───────────────┤\n",
              "│ dense_13 (<span style=\"color: #0087ff; text-decoration-color: #0087ff\">Dense</span>)                │ (<span style=\"color: #00d7ff; text-decoration-color: #00d7ff\">None</span>, <span style=\"color: #00af00; text-decoration-color: #00af00\">10</span>)             │         <span style=\"color: #00af00; text-decoration-color: #00af00\">1,290</span> │\n",
              "└─────────────────────────────────┴────────────────────────┴───────────────┘\n",
              "</pre>\n"
            ]
          },
          "metadata": {}
        },
        {
          "output_type": "display_data",
          "data": {
            "text/plain": [
              "\u001b[1m Total params: \u001b[0m\u001b[38;5;34m1,097,482\u001b[0m (4.19 MB)\n"
            ],
            "text/html": [
              "<pre style=\"white-space:pre;overflow-x:auto;line-height:normal;font-family:Menlo,'DejaVu Sans Mono',consolas,'Courier New',monospace\"><span style=\"font-weight: bold\"> Total params: </span><span style=\"color: #00af00; text-decoration-color: #00af00\">1,097,482</span> (4.19 MB)\n",
              "</pre>\n"
            ]
          },
          "metadata": {}
        },
        {
          "output_type": "display_data",
          "data": {
            "text/plain": [
              "\u001b[1m Trainable params: \u001b[0m\u001b[38;5;34m1,097,482\u001b[0m (4.19 MB)\n"
            ],
            "text/html": [
              "<pre style=\"white-space:pre;overflow-x:auto;line-height:normal;font-family:Menlo,'DejaVu Sans Mono',consolas,'Courier New',monospace\"><span style=\"font-weight: bold\"> Trainable params: </span><span style=\"color: #00af00; text-decoration-color: #00af00\">1,097,482</span> (4.19 MB)\n",
              "</pre>\n"
            ]
          },
          "metadata": {}
        },
        {
          "output_type": "display_data",
          "data": {
            "text/plain": [
              "\u001b[1m Non-trainable params: \u001b[0m\u001b[38;5;34m0\u001b[0m (0.00 B)\n"
            ],
            "text/html": [
              "<pre style=\"white-space:pre;overflow-x:auto;line-height:normal;font-family:Menlo,'DejaVu Sans Mono',consolas,'Courier New',monospace\"><span style=\"font-weight: bold\"> Non-trainable params: </span><span style=\"color: #00af00; text-decoration-color: #00af00\">0</span> (0.00 B)\n",
              "</pre>\n"
            ]
          },
          "metadata": {}
        }
      ]
    },
    {
      "cell_type": "code",
      "source": [
        "# Training autoencoder + CNN\n",
        "\n",
        "optimizer = Adam(learning_rate=0.001, clipnorm=1.0)\n",
        "batch_size = 128\n",
        "epochs = 100\n",
        "early_stopping = tf.keras.callbacks.EarlyStopping(monitor='val_loss', patience=15,\n",
        "                                                  restore_best_weights=True)\n",
        "reduce_lr = tf.keras.callbacks.ReduceLROnPlateau(monitor='val_loss', factor=0.95,\n",
        "                              patience=5, min_lr=0.00001)\n",
        "\n",
        "pca_model.compile(optimizer=optimizer, loss='sparse_categorical_crossentropy', metrics=['accuracy'])\n",
        "\n",
        "hist = pca_model.fit(X_pca_train, y_pca_train, callbacks=[early_stopping, reduce_lr],\n",
        "                 epochs=epochs, batch_size=batch_size, validation_split=0.2)\n"
      ],
      "metadata": {
        "colab": {
          "base_uri": "https://localhost:8080/"
        },
        "id": "ljalCr6irw3X",
        "outputId": "afc6b9e1-f0a4-437e-a97a-291a3470d514"
      },
      "execution_count": null,
      "outputs": [
        {
          "output_type": "stream",
          "name": "stdout",
          "text": [
            "Epoch 1/100\n",
            "\u001b[1m8/8\u001b[0m \u001b[32m━━━━━━━━━━━━━━━━━━━━\u001b[0m\u001b[37m\u001b[0m \u001b[1m11s\u001b[0m 718ms/step - accuracy: 0.0955 - loss: 1068.4323 - val_accuracy: 0.0794 - val_loss: 57.5287 - learning_rate: 0.0010\n",
            "Epoch 2/100\n",
            "\u001b[1m8/8\u001b[0m \u001b[32m━━━━━━━━━━━━━━━━━━━━\u001b[0m\u001b[37m\u001b[0m \u001b[1m0s\u001b[0m 45ms/step - accuracy: 0.1117 - loss: 29.4635 - val_accuracy: 0.1270 - val_loss: 2.2998 - learning_rate: 0.0010\n",
            "Epoch 3/100\n",
            "\u001b[1m8/8\u001b[0m \u001b[32m━━━━━━━━━━━━━━━━━━━━\u001b[0m\u001b[37m\u001b[0m \u001b[1m1s\u001b[0m 34ms/step - accuracy: 0.0868 - loss: 2.4491 - val_accuracy: 0.0992 - val_loss: 2.3026 - learning_rate: 0.0010\n",
            "Epoch 4/100\n",
            "\u001b[1m8/8\u001b[0m \u001b[32m━━━━━━━━━━━━━━━━━━━━\u001b[0m\u001b[37m\u001b[0m \u001b[1m0s\u001b[0m 29ms/step - accuracy: 0.0872 - loss: 2.3063 - val_accuracy: 0.0992 - val_loss: 2.3026 - learning_rate: 0.0010\n",
            "Epoch 5/100\n",
            "\u001b[1m8/8\u001b[0m \u001b[32m━━━━━━━━━━━━━━━━━━━━\u001b[0m\u001b[37m\u001b[0m \u001b[1m0s\u001b[0m 26ms/step - accuracy: 0.1046 - loss: 2.3258 - val_accuracy: 0.0992 - val_loss: 2.3026 - learning_rate: 0.0010\n",
            "Epoch 6/100\n",
            "\u001b[1m8/8\u001b[0m \u001b[32m━━━━━━━━━━━━━━━━━━━━\u001b[0m\u001b[37m\u001b[0m \u001b[1m0s\u001b[0m 31ms/step - accuracy: 0.0944 - loss: 2.3026 - val_accuracy: 0.0992 - val_loss: 2.3026 - learning_rate: 0.0010\n",
            "Epoch 7/100\n",
            "\u001b[1m8/8\u001b[0m \u001b[32m━━━━━━━━━━━━━━━━━━━━\u001b[0m\u001b[37m\u001b[0m \u001b[1m0s\u001b[0m 26ms/step - accuracy: 0.1052 - loss: 2.3024 - val_accuracy: 0.0992 - val_loss: 2.3026 - learning_rate: 0.0010\n",
            "Epoch 8/100\n",
            "\u001b[1m8/8\u001b[0m \u001b[32m━━━━━━━━━━━━━━━━━━━━\u001b[0m\u001b[37m\u001b[0m \u001b[1m0s\u001b[0m 27ms/step - accuracy: 0.0956 - loss: 2.3024 - val_accuracy: 0.1032 - val_loss: 2.3026 - learning_rate: 9.5000e-04\n",
            "Epoch 9/100\n",
            "\u001b[1m8/8\u001b[0m \u001b[32m━━━━━━━━━━━━━━━━━━━━\u001b[0m\u001b[37m\u001b[0m \u001b[1m0s\u001b[0m 26ms/step - accuracy: 0.1070 - loss: 2.3672 - val_accuracy: 0.1032 - val_loss: 2.3025 - learning_rate: 9.5000e-04\n",
            "Epoch 10/100\n",
            "\u001b[1m8/8\u001b[0m \u001b[32m━━━━━━━━━━━━━━━━━━━━\u001b[0m\u001b[37m\u001b[0m \u001b[1m0s\u001b[0m 26ms/step - accuracy: 0.1107 - loss: 2.4188 - val_accuracy: 0.1032 - val_loss: 2.3025 - learning_rate: 9.5000e-04\n",
            "Epoch 11/100\n",
            "\u001b[1m8/8\u001b[0m \u001b[32m━━━━━━━━━━━━━━━━━━━━\u001b[0m\u001b[37m\u001b[0m \u001b[1m0s\u001b[0m 26ms/step - accuracy: 0.0963 - loss: 2.3027 - val_accuracy: 0.1032 - val_loss: 2.3025 - learning_rate: 9.5000e-04\n",
            "Epoch 12/100\n",
            "\u001b[1m8/8\u001b[0m \u001b[32m━━━━━━━━━━━━━━━━━━━━\u001b[0m\u001b[37m\u001b[0m \u001b[1m0s\u001b[0m 31ms/step - accuracy: 0.0977 - loss: 2.3025 - val_accuracy: 0.1032 - val_loss: 2.3025 - learning_rate: 9.5000e-04\n",
            "Epoch 13/100\n",
            "\u001b[1m8/8\u001b[0m \u001b[32m━━━━━━━━━━━━━━━━━━━━\u001b[0m\u001b[37m\u001b[0m \u001b[1m0s\u001b[0m 31ms/step - accuracy: 0.1039 - loss: 2.3110 - val_accuracy: 0.1032 - val_loss: 2.3026 - learning_rate: 9.0250e-04\n",
            "Epoch 14/100\n",
            "\u001b[1m8/8\u001b[0m \u001b[32m━━━━━━━━━━━━━━━━━━━━\u001b[0m\u001b[37m\u001b[0m \u001b[1m0s\u001b[0m 26ms/step - accuracy: 0.1091 - loss: 2.3022 - val_accuracy: 0.1032 - val_loss: 2.3026 - learning_rate: 9.0250e-04\n",
            "Epoch 15/100\n",
            "\u001b[1m8/8\u001b[0m \u001b[32m━━━━━━━━━━━━━━━━━━━━\u001b[0m\u001b[37m\u001b[0m \u001b[1m0s\u001b[0m 31ms/step - accuracy: 0.1026 - loss: 2.3122 - val_accuracy: 0.1032 - val_loss: 2.3026 - learning_rate: 9.0250e-04\n",
            "Epoch 16/100\n",
            "\u001b[1m8/8\u001b[0m \u001b[32m━━━━━━━━━━━━━━━━━━━━\u001b[0m\u001b[37m\u001b[0m \u001b[1m0s\u001b[0m 26ms/step - accuracy: 0.0997 - loss: 2.3033 - val_accuracy: 0.1032 - val_loss: 2.3026 - learning_rate: 9.0250e-04\n",
            "Epoch 17/100\n",
            "\u001b[1m8/8\u001b[0m \u001b[32m━━━━━━━━━━━━━━━━━━━━\u001b[0m\u001b[37m\u001b[0m \u001b[1m0s\u001b[0m 30ms/step - accuracy: 0.1186 - loss: 2.3020 - val_accuracy: 0.1032 - val_loss: 2.3026 - learning_rate: 9.0250e-04\n"
          ]
        }
      ]
    },
    {
      "cell_type": "markdown",
      "source": [
        "Below is the encoder + CNN separate"
      ],
      "metadata": {
        "id": "Zp5z6q55J1Fl"
      }
    },
    {
      "cell_type": "code",
      "source": [
        "epoched_total = epoched_total.transpose(2, 3, 1, 0)\n",
        "\n",
        "print(epoched_total.shape)"
      ],
      "metadata": {
        "colab": {
          "base_uri": "https://localhost:8080/"
        },
        "id": "_Jf_p_iIZUr0",
        "outputId": "2b2dd409-5d97-41cf-fa89-e4e95fe0a1e4"
      },
      "execution_count": null,
      "outputs": [
        {
          "output_type": "stream",
          "name": "stdout",
          "text": [
            "(315, 5, 508, 256)\n"
          ]
        }
      ]
    },
    {
      "cell_type": "code",
      "source": [
        "epoched_total = epoched_total.reshape(-1, 508, 256)\n",
        "print(epoched_total.shape)"
      ],
      "metadata": {
        "colab": {
          "base_uri": "https://localhost:8080/"
        },
        "id": "ElyZZOMaZ_JH",
        "outputId": "7b174cb4-8dd5-4944-b53d-14b6ea95a253"
      },
      "execution_count": null,
      "outputs": [
        {
          "output_type": "stream",
          "name": "stdout",
          "text": [
            "(1575, 508, 256)\n"
          ]
        }
      ]
    },
    {
      "cell_type": "code",
      "source": [
        "import tensorflow as tf\n",
        "from tensorflow.keras import layers, models\n",
        "\n",
        "input_shape = (51, 5, 256)\n",
        "\n",
        "inputs = layers.Input(shape=input_shape)\n",
        "\n",
        "# --- ENCODER ---\n",
        "x = layers.Conv2D(128, (5, 1), activation='relu', padding='same', name='encoded_1')(inputs)\n",
        "x = layers.Conv2D(64, (5, 1), activation='relu', padding='same')(x)\n",
        "bottleneck = layers.Conv2D(32, (3, 1), activation='relu', padding='same', name='bottle')(x)\n",
        "\n",
        "# --- DECODER ---\n",
        "x = layers.Conv2D(64, (5, 1), activation='relu', padding='same')(bottleneck)\n",
        "x = layers.Conv2D(128, (5, 1), activation='relu', padding='same')(x)\n",
        "decoded = layers.Conv2D(256, (5, 1), activation='linear', padding='same')(x)\n",
        "# Model\n",
        "autoencoder = models.Model(inputs, decoded)\n",
        "autoencoder.compile(optimizer='adam', loss='mse')\n",
        "autoencoder.summary()\n"
      ],
      "metadata": {
        "colab": {
          "base_uri": "https://localhost:8080/",
          "height": 353
        },
        "id": "vrJaLbXg6MGG",
        "outputId": "33a10a24-5cc0-4176-a89d-2e2854f14792"
      },
      "execution_count": null,
      "outputs": [
        {
          "output_type": "display_data",
          "data": {
            "text/plain": [
              "\u001b[1mModel: \"functional\"\u001b[0m\n"
            ],
            "text/html": [
              "<pre style=\"white-space:pre;overflow-x:auto;line-height:normal;font-family:Menlo,'DejaVu Sans Mono',consolas,'Courier New',monospace\"><span style=\"font-weight: bold\">Model: \"functional\"</span>\n",
              "</pre>\n"
            ]
          },
          "metadata": {}
        },
        {
          "output_type": "display_data",
          "data": {
            "text/plain": [
              "┏━━━━━━━━━━━━━━━━━━━━━━━━━━━━━━━━━┳━━━━━━━━━━━━━━━━━━━━━━━━┳━━━━━━━━━━━━━━━┓\n",
              "┃\u001b[1m \u001b[0m\u001b[1mLayer (type)                   \u001b[0m\u001b[1m \u001b[0m┃\u001b[1m \u001b[0m\u001b[1mOutput Shape          \u001b[0m\u001b[1m \u001b[0m┃\u001b[1m \u001b[0m\u001b[1m      Param #\u001b[0m\u001b[1m \u001b[0m┃\n",
              "┡━━━━━━━━━━━━━━━━━━━━━━━━━━━━━━━━━╇━━━━━━━━━━━━━━━━━━━━━━━━╇━━━━━━━━━━━━━━━┩\n",
              "│ input_layer_2 (\u001b[38;5;33mInputLayer\u001b[0m)      │ (\u001b[38;5;45mNone\u001b[0m, \u001b[38;5;34m51\u001b[0m, \u001b[38;5;34m5\u001b[0m, \u001b[38;5;34m256\u001b[0m)     │             \u001b[38;5;34m0\u001b[0m │\n",
              "├─────────────────────────────────┼────────────────────────┼───────────────┤\n",
              "│ encoded_1 (\u001b[38;5;33mConv2D\u001b[0m)              │ (\u001b[38;5;45mNone\u001b[0m, \u001b[38;5;34m51\u001b[0m, \u001b[38;5;34m5\u001b[0m, \u001b[38;5;34m128\u001b[0m)     │       \u001b[38;5;34m163,968\u001b[0m │\n",
              "├─────────────────────────────────┼────────────────────────┼───────────────┤\n",
              "│ conv2d_1 (\u001b[38;5;33mConv2D\u001b[0m)               │ (\u001b[38;5;45mNone\u001b[0m, \u001b[38;5;34m51\u001b[0m, \u001b[38;5;34m5\u001b[0m, \u001b[38;5;34m64\u001b[0m)      │        \u001b[38;5;34m41,024\u001b[0m │\n",
              "├─────────────────────────────────┼────────────────────────┼───────────────┤\n",
              "│ bottle (\u001b[38;5;33mConv2D\u001b[0m)                 │ (\u001b[38;5;45mNone\u001b[0m, \u001b[38;5;34m51\u001b[0m, \u001b[38;5;34m5\u001b[0m, \u001b[38;5;34m32\u001b[0m)      │         \u001b[38;5;34m6,176\u001b[0m │\n",
              "├─────────────────────────────────┼────────────────────────┼───────────────┤\n",
              "│ conv2d_2 (\u001b[38;5;33mConv2D\u001b[0m)               │ (\u001b[38;5;45mNone\u001b[0m, \u001b[38;5;34m51\u001b[0m, \u001b[38;5;34m5\u001b[0m, \u001b[38;5;34m64\u001b[0m)      │        \u001b[38;5;34m10,304\u001b[0m │\n",
              "├─────────────────────────────────┼────────────────────────┼───────────────┤\n",
              "│ conv2d_3 (\u001b[38;5;33mConv2D\u001b[0m)               │ (\u001b[38;5;45mNone\u001b[0m, \u001b[38;5;34m51\u001b[0m, \u001b[38;5;34m5\u001b[0m, \u001b[38;5;34m128\u001b[0m)     │        \u001b[38;5;34m41,088\u001b[0m │\n",
              "├─────────────────────────────────┼────────────────────────┼───────────────┤\n",
              "│ conv2d_4 (\u001b[38;5;33mConv2D\u001b[0m)               │ (\u001b[38;5;45mNone\u001b[0m, \u001b[38;5;34m51\u001b[0m, \u001b[38;5;34m5\u001b[0m, \u001b[38;5;34m256\u001b[0m)     │       \u001b[38;5;34m164,096\u001b[0m │\n",
              "└─────────────────────────────────┴────────────────────────┴───────────────┘\n"
            ],
            "text/html": [
              "<pre style=\"white-space:pre;overflow-x:auto;line-height:normal;font-family:Menlo,'DejaVu Sans Mono',consolas,'Courier New',monospace\">┏━━━━━━━━━━━━━━━━━━━━━━━━━━━━━━━━━┳━━━━━━━━━━━━━━━━━━━━━━━━┳━━━━━━━━━━━━━━━┓\n",
              "┃<span style=\"font-weight: bold\"> Layer (type)                    </span>┃<span style=\"font-weight: bold\"> Output Shape           </span>┃<span style=\"font-weight: bold\">       Param # </span>┃\n",
              "┡━━━━━━━━━━━━━━━━━━━━━━━━━━━━━━━━━╇━━━━━━━━━━━━━━━━━━━━━━━━╇━━━━━━━━━━━━━━━┩\n",
              "│ input_layer_2 (<span style=\"color: #0087ff; text-decoration-color: #0087ff\">InputLayer</span>)      │ (<span style=\"color: #00d7ff; text-decoration-color: #00d7ff\">None</span>, <span style=\"color: #00af00; text-decoration-color: #00af00\">51</span>, <span style=\"color: #00af00; text-decoration-color: #00af00\">5</span>, <span style=\"color: #00af00; text-decoration-color: #00af00\">256</span>)     │             <span style=\"color: #00af00; text-decoration-color: #00af00\">0</span> │\n",
              "├─────────────────────────────────┼────────────────────────┼───────────────┤\n",
              "│ encoded_1 (<span style=\"color: #0087ff; text-decoration-color: #0087ff\">Conv2D</span>)              │ (<span style=\"color: #00d7ff; text-decoration-color: #00d7ff\">None</span>, <span style=\"color: #00af00; text-decoration-color: #00af00\">51</span>, <span style=\"color: #00af00; text-decoration-color: #00af00\">5</span>, <span style=\"color: #00af00; text-decoration-color: #00af00\">128</span>)     │       <span style=\"color: #00af00; text-decoration-color: #00af00\">163,968</span> │\n",
              "├─────────────────────────────────┼────────────────────────┼───────────────┤\n",
              "│ conv2d_1 (<span style=\"color: #0087ff; text-decoration-color: #0087ff\">Conv2D</span>)               │ (<span style=\"color: #00d7ff; text-decoration-color: #00d7ff\">None</span>, <span style=\"color: #00af00; text-decoration-color: #00af00\">51</span>, <span style=\"color: #00af00; text-decoration-color: #00af00\">5</span>, <span style=\"color: #00af00; text-decoration-color: #00af00\">64</span>)      │        <span style=\"color: #00af00; text-decoration-color: #00af00\">41,024</span> │\n",
              "├─────────────────────────────────┼────────────────────────┼───────────────┤\n",
              "│ bottle (<span style=\"color: #0087ff; text-decoration-color: #0087ff\">Conv2D</span>)                 │ (<span style=\"color: #00d7ff; text-decoration-color: #00d7ff\">None</span>, <span style=\"color: #00af00; text-decoration-color: #00af00\">51</span>, <span style=\"color: #00af00; text-decoration-color: #00af00\">5</span>, <span style=\"color: #00af00; text-decoration-color: #00af00\">32</span>)      │         <span style=\"color: #00af00; text-decoration-color: #00af00\">6,176</span> │\n",
              "├─────────────────────────────────┼────────────────────────┼───────────────┤\n",
              "│ conv2d_2 (<span style=\"color: #0087ff; text-decoration-color: #0087ff\">Conv2D</span>)               │ (<span style=\"color: #00d7ff; text-decoration-color: #00d7ff\">None</span>, <span style=\"color: #00af00; text-decoration-color: #00af00\">51</span>, <span style=\"color: #00af00; text-decoration-color: #00af00\">5</span>, <span style=\"color: #00af00; text-decoration-color: #00af00\">64</span>)      │        <span style=\"color: #00af00; text-decoration-color: #00af00\">10,304</span> │\n",
              "├─────────────────────────────────┼────────────────────────┼───────────────┤\n",
              "│ conv2d_3 (<span style=\"color: #0087ff; text-decoration-color: #0087ff\">Conv2D</span>)               │ (<span style=\"color: #00d7ff; text-decoration-color: #00d7ff\">None</span>, <span style=\"color: #00af00; text-decoration-color: #00af00\">51</span>, <span style=\"color: #00af00; text-decoration-color: #00af00\">5</span>, <span style=\"color: #00af00; text-decoration-color: #00af00\">128</span>)     │        <span style=\"color: #00af00; text-decoration-color: #00af00\">41,088</span> │\n",
              "├─────────────────────────────────┼────────────────────────┼───────────────┤\n",
              "│ conv2d_4 (<span style=\"color: #0087ff; text-decoration-color: #0087ff\">Conv2D</span>)               │ (<span style=\"color: #00d7ff; text-decoration-color: #00d7ff\">None</span>, <span style=\"color: #00af00; text-decoration-color: #00af00\">51</span>, <span style=\"color: #00af00; text-decoration-color: #00af00\">5</span>, <span style=\"color: #00af00; text-decoration-color: #00af00\">256</span>)     │       <span style=\"color: #00af00; text-decoration-color: #00af00\">164,096</span> │\n",
              "└─────────────────────────────────┴────────────────────────┴───────────────┘\n",
              "</pre>\n"
            ]
          },
          "metadata": {}
        },
        {
          "output_type": "display_data",
          "data": {
            "text/plain": [
              "\u001b[1m Total params: \u001b[0m\u001b[38;5;34m426,656\u001b[0m (1.63 MB)\n"
            ],
            "text/html": [
              "<pre style=\"white-space:pre;overflow-x:auto;line-height:normal;font-family:Menlo,'DejaVu Sans Mono',consolas,'Courier New',monospace\"><span style=\"font-weight: bold\"> Total params: </span><span style=\"color: #00af00; text-decoration-color: #00af00\">426,656</span> (1.63 MB)\n",
              "</pre>\n"
            ]
          },
          "metadata": {}
        },
        {
          "output_type": "display_data",
          "data": {
            "text/plain": [
              "\u001b[1m Trainable params: \u001b[0m\u001b[38;5;34m426,656\u001b[0m (1.63 MB)\n"
            ],
            "text/html": [
              "<pre style=\"white-space:pre;overflow-x:auto;line-height:normal;font-family:Menlo,'DejaVu Sans Mono',consolas,'Courier New',monospace\"><span style=\"font-weight: bold\"> Trainable params: </span><span style=\"color: #00af00; text-decoration-color: #00af00\">426,656</span> (1.63 MB)\n",
              "</pre>\n"
            ]
          },
          "metadata": {}
        },
        {
          "output_type": "display_data",
          "data": {
            "text/plain": [
              "\u001b[1m Non-trainable params: \u001b[0m\u001b[38;5;34m0\u001b[0m (0.00 B)\n"
            ],
            "text/html": [
              "<pre style=\"white-space:pre;overflow-x:auto;line-height:normal;font-family:Menlo,'DejaVu Sans Mono',consolas,'Courier New',monospace\"><span style=\"font-weight: bold\"> Non-trainable params: </span><span style=\"color: #00af00; text-decoration-color: #00af00\">0</span> (0.00 B)\n",
              "</pre>\n"
            ]
          },
          "metadata": {}
        }
      ]
    },
    {
      "cell_type": "code",
      "source": [
        "X_auto = specs.copy()\n",
        "print(X_auto.shape)\n",
        "#X_auto = (X_auto - np.mean(X_auto)) / np.std(X_auto)\n",
        "\n",
        "early_stopping = tf.keras.callbacks.EarlyStopping(monitor='val_loss', patience=15,\n",
        "                                                  restore_best_weights=True)\n",
        "\n",
        "autoencoder.fit(X_auto, X_auto,  # X is both input and target\n",
        "                epochs=100,\n",
        "                batch_size=16,\n",
        "                validation_split=0.1,\n",
        "                callbacks=[early_stopping],\n",
        "                shuffle=True)"
      ],
      "metadata": {
        "colab": {
          "base_uri": "https://localhost:8080/"
        },
        "id": "MNWBb6pj8sh8",
        "outputId": "6704f71a-76c4-47a6-a126-3702845995ff",
        "collapsed": true
      },
      "execution_count": null,
      "outputs": [
        {
          "output_type": "stream",
          "name": "stdout",
          "text": [
            "(1575, 51, 5, 256)\n",
            "Epoch 1/100\n",
            "\u001b[1m89/89\u001b[0m \u001b[32m━━━━━━━━━━━━━━━━━━━━\u001b[0m\u001b[37m\u001b[0m \u001b[1m9s\u001b[0m 44ms/step - loss: 5448995.0000 - val_loss: 239528.9688\n",
            "Epoch 2/100\n",
            "\u001b[1m89/89\u001b[0m \u001b[32m━━━━━━━━━━━━━━━━━━━━\u001b[0m\u001b[37m\u001b[0m \u001b[1m1s\u001b[0m 9ms/step - loss: 896832.8125 - val_loss: 680031.3750\n",
            "Epoch 3/100\n",
            "\u001b[1m89/89\u001b[0m \u001b[32m━━━━━━━━━━━━━━━━━━━━\u001b[0m\u001b[37m\u001b[0m \u001b[1m1s\u001b[0m 9ms/step - loss: 754874.0625 - val_loss: 531803.6250\n",
            "Epoch 4/100\n",
            "\u001b[1m89/89\u001b[0m \u001b[32m━━━━━━━━━━━━━━━━━━━━\u001b[0m\u001b[37m\u001b[0m \u001b[1m1s\u001b[0m 9ms/step - loss: 869924.1875 - val_loss: 112888.0625\n",
            "Epoch 5/100\n",
            "\u001b[1m89/89\u001b[0m \u001b[32m━━━━━━━━━━━━━━━━━━━━\u001b[0m\u001b[37m\u001b[0m \u001b[1m1s\u001b[0m 9ms/step - loss: 1543751.5000 - val_loss: 124228.0156\n",
            "Epoch 6/100\n",
            "\u001b[1m89/89\u001b[0m \u001b[32m━━━━━━━━━━━━━━━━━━━━\u001b[0m\u001b[37m\u001b[0m \u001b[1m1s\u001b[0m 11ms/step - loss: 376150.7812 - val_loss: 69096.9141\n",
            "Epoch 7/100\n",
            "\u001b[1m89/89\u001b[0m \u001b[32m━━━━━━━━━━━━━━━━━━━━\u001b[0m\u001b[37m\u001b[0m \u001b[1m1s\u001b[0m 12ms/step - loss: 173946.2500 - val_loss: 254601.2969\n",
            "Epoch 8/100\n",
            "\u001b[1m89/89\u001b[0m \u001b[32m━━━━━━━━━━━━━━━━━━━━\u001b[0m\u001b[37m\u001b[0m \u001b[1m1s\u001b[0m 11ms/step - loss: 435574.0000 - val_loss: 123940.1641\n",
            "Epoch 9/100\n",
            "\u001b[1m89/89\u001b[0m \u001b[32m━━━━━━━━━━━━━━━━━━━━\u001b[0m\u001b[37m\u001b[0m \u001b[1m1s\u001b[0m 10ms/step - loss: 140764.4062 - val_loss: 32103.6738\n",
            "Epoch 10/100\n",
            "\u001b[1m89/89\u001b[0m \u001b[32m━━━━━━━━━━━━━━━━━━━━\u001b[0m\u001b[37m\u001b[0m \u001b[1m1s\u001b[0m 9ms/step - loss: 121947.8594 - val_loss: 148845.2344\n",
            "Epoch 11/100\n",
            "\u001b[1m89/89\u001b[0m \u001b[32m━━━━━━━━━━━━━━━━━━━━\u001b[0m\u001b[37m\u001b[0m \u001b[1m1s\u001b[0m 9ms/step - loss: 142312.9688 - val_loss: 50332.1055\n",
            "Epoch 12/100\n",
            "\u001b[1m89/89\u001b[0m \u001b[32m━━━━━━━━━━━━━━━━━━━━\u001b[0m\u001b[37m\u001b[0m \u001b[1m1s\u001b[0m 9ms/step - loss: 451294.5312 - val_loss: 62464.8047\n",
            "Epoch 13/100\n",
            "\u001b[1m89/89\u001b[0m \u001b[32m━━━━━━━━━━━━━━━━━━━━\u001b[0m\u001b[37m\u001b[0m \u001b[1m1s\u001b[0m 9ms/step - loss: 269805.1562 - val_loss: 111719.6719\n",
            "Epoch 14/100\n",
            "\u001b[1m89/89\u001b[0m \u001b[32m━━━━━━━━━━━━━━━━━━━━\u001b[0m\u001b[37m\u001b[0m \u001b[1m1s\u001b[0m 9ms/step - loss: 485308.6875 - val_loss: 131759.2656\n",
            "Epoch 15/100\n",
            "\u001b[1m89/89\u001b[0m \u001b[32m━━━━━━━━━━━━━━━━━━━━\u001b[0m\u001b[37m\u001b[0m \u001b[1m2s\u001b[0m 15ms/step - loss: 622855.7500 - val_loss: 25942.9473\n",
            "Epoch 16/100\n",
            "\u001b[1m89/89\u001b[0m \u001b[32m━━━━━━━━━━━━━━━━━━━━\u001b[0m\u001b[37m\u001b[0m \u001b[1m1s\u001b[0m 9ms/step - loss: 277394.8750 - val_loss: 86761.8281\n",
            "Epoch 17/100\n",
            "\u001b[1m89/89\u001b[0m \u001b[32m━━━━━━━━━━━━━━━━━━━━\u001b[0m\u001b[37m\u001b[0m \u001b[1m1s\u001b[0m 9ms/step - loss: 189327.0000 - val_loss: 21734.1426\n",
            "Epoch 18/100\n",
            "\u001b[1m89/89\u001b[0m \u001b[32m━━━━━━━━━━━━━━━━━━━━\u001b[0m\u001b[37m\u001b[0m \u001b[1m1s\u001b[0m 12ms/step - loss: 461754.0312 - val_loss: 41980.9414\n",
            "Epoch 19/100\n",
            "\u001b[1m89/89\u001b[0m \u001b[32m━━━━━━━━━━━━━━━━━━━━\u001b[0m\u001b[37m\u001b[0m \u001b[1m1s\u001b[0m 12ms/step - loss: 277169.2500 - val_loss: 38602.7734\n",
            "Epoch 20/100\n",
            "\u001b[1m89/89\u001b[0m \u001b[32m━━━━━━━━━━━━━━━━━━━━\u001b[0m\u001b[37m\u001b[0m \u001b[1m1s\u001b[0m 11ms/step - loss: 249020.2344 - val_loss: 28520.3535\n",
            "Epoch 21/100\n",
            "\u001b[1m89/89\u001b[0m \u001b[32m━━━━━━━━━━━━━━━━━━━━\u001b[0m\u001b[37m\u001b[0m \u001b[1m1s\u001b[0m 10ms/step - loss: 54603.8086 - val_loss: 19740.3945\n",
            "Epoch 22/100\n",
            "\u001b[1m89/89\u001b[0m \u001b[32m━━━━━━━━━━━━━━━━━━━━\u001b[0m\u001b[37m\u001b[0m \u001b[1m1s\u001b[0m 9ms/step - loss: 87561.1406 - val_loss: 20124.3496\n",
            "Epoch 23/100\n",
            "\u001b[1m89/89\u001b[0m \u001b[32m━━━━━━━━━━━━━━━━━━━━\u001b[0m\u001b[37m\u001b[0m \u001b[1m1s\u001b[0m 9ms/step - loss: 91976.0469 - val_loss: 182229.9219\n",
            "Epoch 24/100\n",
            "\u001b[1m89/89\u001b[0m \u001b[32m━━━━━━━━━━━━━━━━━━━━\u001b[0m\u001b[37m\u001b[0m \u001b[1m1s\u001b[0m 9ms/step - loss: 672547.5625 - val_loss: 16112.3115\n",
            "Epoch 25/100\n",
            "\u001b[1m89/89\u001b[0m \u001b[32m━━━━━━━━━━━━━━━━━━━━\u001b[0m\u001b[37m\u001b[0m \u001b[1m1s\u001b[0m 9ms/step - loss: 325720.6562 - val_loss: 356844.7188\n",
            "Epoch 26/100\n",
            "\u001b[1m89/89\u001b[0m \u001b[32m━━━━━━━━━━━━━━━━━━━━\u001b[0m\u001b[37m\u001b[0m \u001b[1m1s\u001b[0m 10ms/step - loss: 617221.8125 - val_loss: 76139.3438\n",
            "Epoch 27/100\n",
            "\u001b[1m89/89\u001b[0m \u001b[32m━━━━━━━━━━━━━━━━━━━━\u001b[0m\u001b[37m\u001b[0m \u001b[1m1s\u001b[0m 9ms/step - loss: 143424.0312 - val_loss: 126961.1797\n",
            "Epoch 28/100\n",
            "\u001b[1m89/89\u001b[0m \u001b[32m━━━━━━━━━━━━━━━━━━━━\u001b[0m\u001b[37m\u001b[0m \u001b[1m1s\u001b[0m 9ms/step - loss: 109130.0391 - val_loss: 17199.0508\n",
            "Epoch 29/100\n",
            "\u001b[1m89/89\u001b[0m \u001b[32m━━━━━━━━━━━━━━━━━━━━\u001b[0m\u001b[37m\u001b[0m \u001b[1m1s\u001b[0m 9ms/step - loss: 91515.5938 - val_loss: 23102.1953\n",
            "Epoch 30/100\n",
            "\u001b[1m89/89\u001b[0m \u001b[32m━━━━━━━━━━━━━━━━━━━━\u001b[0m\u001b[37m\u001b[0m \u001b[1m1s\u001b[0m 11ms/step - loss: 91329.7578 - val_loss: 37383.1992\n",
            "Epoch 31/100\n",
            "\u001b[1m89/89\u001b[0m \u001b[32m━━━━━━━━━━━━━━━━━━━━\u001b[0m\u001b[37m\u001b[0m \u001b[1m1s\u001b[0m 12ms/step - loss: 166514.9219 - val_loss: 16396.5117\n",
            "Epoch 32/100\n",
            "\u001b[1m89/89\u001b[0m \u001b[32m━━━━━━━━━━━━━━━━━━━━\u001b[0m\u001b[37m\u001b[0m \u001b[1m1s\u001b[0m 12ms/step - loss: 81781.3984 - val_loss: 12120.1768\n",
            "Epoch 33/100\n",
            "\u001b[1m89/89\u001b[0m \u001b[32m━━━━━━━━━━━━━━━━━━━━\u001b[0m\u001b[37m\u001b[0m \u001b[1m1s\u001b[0m 11ms/step - loss: 49702.4688 - val_loss: 15663.4512\n",
            "Epoch 34/100\n",
            "\u001b[1m89/89\u001b[0m \u001b[32m━━━━━━━━━━━━━━━━━━━━\u001b[0m\u001b[37m\u001b[0m \u001b[1m1s\u001b[0m 9ms/step - loss: 215459.9375 - val_loss: 17440.5000\n",
            "Epoch 35/100\n",
            "\u001b[1m89/89\u001b[0m \u001b[32m━━━━━━━━━━━━━━━━━━━━\u001b[0m\u001b[37m\u001b[0m \u001b[1m1s\u001b[0m 9ms/step - loss: 66530.5859 - val_loss: 19671.6230\n",
            "Epoch 36/100\n",
            "\u001b[1m89/89\u001b[0m \u001b[32m━━━━━━━━━━━━━━━━━━━━\u001b[0m\u001b[37m\u001b[0m \u001b[1m1s\u001b[0m 9ms/step - loss: 56100.3750 - val_loss: 156960.1562\n",
            "Epoch 37/100\n",
            "\u001b[1m89/89\u001b[0m \u001b[32m━━━━━━━━━━━━━━━━━━━━\u001b[0m\u001b[37m\u001b[0m \u001b[1m1s\u001b[0m 8ms/step - loss: 97173.8984 - val_loss: 16246.9268\n",
            "Epoch 38/100\n",
            "\u001b[1m89/89\u001b[0m \u001b[32m━━━━━━━━━━━━━━━━━━━━\u001b[0m\u001b[37m\u001b[0m \u001b[1m1s\u001b[0m 10ms/step - loss: 29699.0645 - val_loss: 31079.4941\n",
            "Epoch 39/100\n",
            "\u001b[1m89/89\u001b[0m \u001b[32m━━━━━━━━━━━━━━━━━━━━\u001b[0m\u001b[37m\u001b[0m \u001b[1m1s\u001b[0m 10ms/step - loss: 88578.2578 - val_loss: 20045.2773\n",
            "Epoch 40/100\n",
            "\u001b[1m89/89\u001b[0m \u001b[32m━━━━━━━━━━━━━━━━━━━━\u001b[0m\u001b[37m\u001b[0m \u001b[1m1s\u001b[0m 9ms/step - loss: 84492.9688 - val_loss: 194711.2812\n",
            "Epoch 41/100\n",
            "\u001b[1m89/89\u001b[0m \u001b[32m━━━━━━━━━━━━━━━━━━━━\u001b[0m\u001b[37m\u001b[0m \u001b[1m1s\u001b[0m 10ms/step - loss: 91671.2891 - val_loss: 29566.2383\n",
            "Epoch 42/100\n",
            "\u001b[1m89/89\u001b[0m \u001b[32m━━━━━━━━━━━━━━━━━━━━\u001b[0m\u001b[37m\u001b[0m \u001b[1m1s\u001b[0m 10ms/step - loss: 331506.1875 - val_loss: 2219058.0000\n",
            "Epoch 43/100\n",
            "\u001b[1m89/89\u001b[0m \u001b[32m━━━━━━━━━━━━━━━━━━━━\u001b[0m\u001b[37m\u001b[0m \u001b[1m1s\u001b[0m 9ms/step - loss: 1839966.3750 - val_loss: 72697.3359\n",
            "Epoch 44/100\n",
            "\u001b[1m89/89\u001b[0m \u001b[32m━━━━━━━━━━━━━━━━━━━━\u001b[0m\u001b[37m\u001b[0m \u001b[1m1s\u001b[0m 12ms/step - loss: 115602.5625 - val_loss: 38647.6289\n",
            "Epoch 45/100\n",
            "\u001b[1m89/89\u001b[0m \u001b[32m━━━━━━━━━━━━━━━━━━━━\u001b[0m\u001b[37m\u001b[0m \u001b[1m1s\u001b[0m 12ms/step - loss: 197239.4375 - val_loss: 105421.5469\n",
            "Epoch 46/100\n",
            "\u001b[1m89/89\u001b[0m \u001b[32m━━━━━━━━━━━━━━━━━━━━\u001b[0m\u001b[37m\u001b[0m \u001b[1m1s\u001b[0m 11ms/step - loss: 203497.5312 - val_loss: 28190.7969\n",
            "Epoch 47/100\n",
            "\u001b[1m89/89\u001b[0m \u001b[32m━━━━━━━━━━━━━━━━━━━━\u001b[0m\u001b[37m\u001b[0m \u001b[1m1s\u001b[0m 9ms/step - loss: 67846.3438 - val_loss: 51541.6836\n"
          ]
        },
        {
          "output_type": "execute_result",
          "data": {
            "text/plain": [
              "<keras.src.callbacks.history.History at 0x7f2a935f7490>"
            ]
          },
          "metadata": {},
          "execution_count": 12
        }
      ]
    },
    {
      "cell_type": "code",
      "source": [
        "# Extract encoder model\n",
        "# Assume autoencoder is your trained model\n",
        "encoder = models.Model(autoencoder.input, autoencoder.get_layer('bottle').output)\n",
        "\n",
        "# Apply the encoder to your data (e.g., X_train)\n",
        "decoded_data = encoder.predict(specs)\n",
        "#decoded_data = decoded_data.transpose(0, 2, 1)\n",
        "\n",
        "decoded_data.shape"
      ],
      "metadata": {
        "colab": {
          "base_uri": "https://localhost:8080/"
        },
        "id": "inPLbdWgKEk7",
        "outputId": "5dfeaab8-8763-455b-981d-96af7beae1ce"
      },
      "execution_count": null,
      "outputs": [
        {
          "output_type": "stream",
          "name": "stdout",
          "text": [
            "\u001b[1m50/50\u001b[0m \u001b[32m━━━━━━━━━━━━━━━━━━━━\u001b[0m\u001b[37m\u001b[0m \u001b[1m1s\u001b[0m 11ms/step\n"
          ]
        },
        {
          "output_type": "execute_result",
          "data": {
            "text/plain": [
              "(1575, 51, 5, 32)"
            ]
          },
          "metadata": {},
          "execution_count": 13
        }
      ]
    },
    {
      "cell_type": "code",
      "source": [
        "del X_auto\n",
        "gc.collect()"
      ],
      "metadata": {
        "colab": {
          "base_uri": "https://localhost:8080/"
        },
        "id": "_9kDi6luxnSq",
        "outputId": "e133513b-1a8b-41fc-cc4d-ba51a3ee4330"
      },
      "execution_count": null,
      "outputs": [
        {
          "output_type": "execute_result",
          "data": {
            "text/plain": [
              "1377"
            ]
          },
          "metadata": {},
          "execution_count": 14
        }
      ]
    },
    {
      "cell_type": "code",
      "source": [
        "# @title\n",
        "import numpy as np\n",
        "from scipy.signal import spectrogram\n",
        "\n",
        "def compute_spectrograms(data, fs=500, nperseg=25, noverlap=10):\n",
        "    \"\"\"\n",
        "    Compute spectrograms for each (trial, channel) in EEG data.\n",
        "\n",
        "    Parameters:\n",
        "    - data: shape (num_samples, num_channels, num_timepoints)\n",
        "    - fs: sampling frequency\n",
        "    - nperseg: window size for FFT\n",
        "    - noverlap: number of points to overlap between segments\n",
        "\n",
        "    Returns:\n",
        "    - specs: numpy array of shape (num_samples, num_channels, num_freq_bins, num_time_windows)\n",
        "    \"\"\"\n",
        "    num_samples, num_channels, num_timepoints = data.shape\n",
        "\n",
        "    # Use one example to get spectrogram shape\n",
        "    freqs, times, Sxx_ = spectrogram(data[0, 0], fs=fs, nperseg=nperseg, noverlap=noverlap)\n",
        "    num_freqs = len(freqs)\n",
        "    num_windows = len(times)\n",
        "\n",
        "    # Initialize output array\n",
        "    specs = np.zeros((num_samples, num_channels, num_freqs, num_windows), dtype=np.float32)\n",
        "\n",
        "    for i in range(num_samples):\n",
        "        for ch in range(num_channels):\n",
        "            _, _, Sxx = spectrogram(data[i, ch], fs=fs, nperseg=nperseg, noverlap=noverlap)\n",
        "            specs[i, ch] = Sxx\n",
        "\n",
        "    return specs"
      ],
      "metadata": {
        "id": "q4aue90INIcT",
        "cellView": "form"
      },
      "execution_count": null,
      "outputs": []
    },
    {
      "cell_type": "code",
      "source": [
        "# @title\n",
        "specs = compute_spectrograms(decoded_data, nperseg=50, noverlap=0)\n",
        "print(specs.shape)\n",
        "specs.shape"
      ],
      "metadata": {
        "id": "Div6UfxV3856",
        "colab": {
          "base_uri": "https://localhost:8080/"
        },
        "outputId": "2e16c34c-8474-44b1-dd08-505ebaa13ca5",
        "cellView": "form"
      },
      "execution_count": null,
      "outputs": [
        {
          "output_type": "stream",
          "name": "stdout",
          "text": [
            "(1575, 32, 26, 10)\n"
          ]
        },
        {
          "output_type": "execute_result",
          "data": {
            "text/plain": [
              "(1575, 32, 26, 10)"
            ]
          },
          "metadata": {},
          "execution_count": 15
        }
      ]
    },
    {
      "cell_type": "code",
      "source": [
        "# @title\n",
        "specs = specs.transpose(0, 2, 3, 1)\n",
        "print(specs.shape)\n",
        "\n",
        "y_left = np.tile(np.arange(5), left_trials)\n",
        "y_right = np.tile(np.arange(5, 10), right_trials)\n",
        "y = np.concatenate((y_left, y_right), axis=0)\n",
        "print(y.shape)\n",
        "\n",
        "# seeing if accuracy is better with 5 classes\n",
        "y_full = np.tile(np.arange(5), total_trials)\n",
        "print(y_full.shape)\n",
        "\n",
        "X_train, X_test, y_train, y_test = train_test_split(specs, y_full, test_size=0.2, random_state=42)\n",
        "print(X_train.shape)\n",
        "print(X_test.shape)\n",
        "print(y_train.shape)\n",
        "print(y_test.shape)"
      ],
      "metadata": {
        "colab": {
          "base_uri": "https://localhost:8080/"
        },
        "id": "X1gk-CSl5Mn1",
        "outputId": "ac179fbe-dbb2-4155-f843-3e6d4b5ed67d",
        "cellView": "form"
      },
      "execution_count": null,
      "outputs": [
        {
          "output_type": "stream",
          "name": "stdout",
          "text": [
            "(1575, 26, 10, 32)\n",
            "(1575,)\n",
            "(1575,)\n",
            "(1260, 26, 10, 32)\n",
            "(315, 26, 10, 32)\n",
            "(1260,)\n",
            "(315,)\n"
          ]
        }
      ]
    },
    {
      "cell_type": "code",
      "source": [
        "X_train, X_test, y_train, y_test = train_test_split(specs, y, test_size=0.2, random_state=42)\n",
        "print(X_train.shape)\n",
        "print(X_test.shape)\n",
        "print(y_train.shape)\n",
        "print(y_test.shape)"
      ],
      "metadata": {
        "colab": {
          "base_uri": "https://localhost:8080/"
        },
        "id": "bpHn-L27hjov",
        "outputId": "ae279b1a-6a57-4401-b817-530257410537"
      },
      "execution_count": null,
      "outputs": [
        {
          "output_type": "stream",
          "name": "stdout",
          "text": [
            "(1260, 51, 5, 256)\n",
            "(315, 51, 5, 256)\n",
            "(1260,)\n",
            "(315,)\n"
          ]
        }
      ]
    },
    {
      "cell_type": "code",
      "source": [
        "del specs, y\n",
        "gc.collect()"
      ],
      "metadata": {
        "colab": {
          "base_uri": "https://localhost:8080/"
        },
        "id": "VIA48yuNx1cD",
        "outputId": "3241d056-72e0-4302-fe0e-3d8bb99f5e92"
      },
      "execution_count": null,
      "outputs": [
        {
          "output_type": "execute_result",
          "data": {
            "text/plain": [
              "28010"
            ]
          },
          "metadata": {},
          "execution_count": 38
        }
      ]
    },
    {
      "cell_type": "code",
      "source": [
        "# 2D CNN for training on spectrograms\n",
        "input_shape = (51, 5, 32)\n",
        "output_shape = 5\n",
        "\n",
        "cnn = keras.Sequential(\n",
        "    [\n",
        "        keras.Input(shape=input_shape),\n",
        "        layers.Conv2D(512, kernel_size=(3, 3), activation=\"relu\", padding=\"same\"),\n",
        "        layers.Conv2D(512, kernel_size=(3, 3), activation=\"relu\", padding=\"same\"),\n",
        "        layers.MaxPooling2D(pool_size=(2, 2)),\n",
        "        layers.Dropout(0.1),\n",
        "        layers.Conv2D(1024, kernel_size=(3, 3), activation=\"relu\", padding=\"same\"),\n",
        "        layers.Conv2D(1024, kernel_size=(3, 3), activation=\"relu\", padding=\"same\"),\n",
        "        layers.MaxPooling2D(pool_size=(2, 2), padding='same'),\n",
        "        layers.Dropout(0.1),\n",
        "        layers.Conv2D(2048, kernel_size=(3, 3), activation=\"relu\", padding=\"same\"),\n",
        "        layers.Conv2D(2048, kernel_size=(3, 3), activation=\"relu\", padding=\"same\"),\n",
        "        layers.MaxPooling2D(pool_size=(2, 2), padding='same'),\n",
        "        layers.Dropout(0.1),\n",
        "        layers.Flatten(),\n",
        "        layers.Dense(1024, activation=\"relu\"),\n",
        "        layers.Dropout(0.1),\n",
        "        layers.Dense(output_shape, activation=\"softmax\"),\n",
        "    ]\n",
        ")\n",
        "\n",
        "cnn.summary()"
      ],
      "metadata": {
        "colab": {
          "base_uri": "https://localhost:8080/",
          "height": 641
        },
        "id": "1B4H1_X1vD85",
        "outputId": "4f7b3059-b6d6-4006-c916-ae2d30352f25"
      },
      "execution_count": null,
      "outputs": [
        {
          "output_type": "display_data",
          "data": {
            "text/plain": [
              "\u001b[1mModel: \"sequential_7\"\u001b[0m\n"
            ],
            "text/html": [
              "<pre style=\"white-space:pre;overflow-x:auto;line-height:normal;font-family:Menlo,'DejaVu Sans Mono',consolas,'Courier New',monospace\"><span style=\"font-weight: bold\">Model: \"sequential_7\"</span>\n",
              "</pre>\n"
            ]
          },
          "metadata": {}
        },
        {
          "output_type": "display_data",
          "data": {
            "text/plain": [
              "┏━━━━━━━━━━━━━━━━━━━━━━━━━━━━━━━━━┳━━━━━━━━━━━━━━━━━━━━━━━━┳━━━━━━━━━━━━━━━┓\n",
              "┃\u001b[1m \u001b[0m\u001b[1mLayer (type)                   \u001b[0m\u001b[1m \u001b[0m┃\u001b[1m \u001b[0m\u001b[1mOutput Shape          \u001b[0m\u001b[1m \u001b[0m┃\u001b[1m \u001b[0m\u001b[1m      Param #\u001b[0m\u001b[1m \u001b[0m┃\n",
              "┡━━━━━━━━━━━━━━━━━━━━━━━━━━━━━━━━━╇━━━━━━━━━━━━━━━━━━━━━━━━╇━━━━━━━━━━━━━━━┩\n",
              "│ conv2d_47 (\u001b[38;5;33mConv2D\u001b[0m)              │ (\u001b[38;5;45mNone\u001b[0m, \u001b[38;5;34m51\u001b[0m, \u001b[38;5;34m5\u001b[0m, \u001b[38;5;34m512\u001b[0m)     │       \u001b[38;5;34m147,968\u001b[0m │\n",
              "├─────────────────────────────────┼────────────────────────┼───────────────┤\n",
              "│ conv2d_48 (\u001b[38;5;33mConv2D\u001b[0m)              │ (\u001b[38;5;45mNone\u001b[0m, \u001b[38;5;34m51\u001b[0m, \u001b[38;5;34m5\u001b[0m, \u001b[38;5;34m512\u001b[0m)     │     \u001b[38;5;34m2,359,808\u001b[0m │\n",
              "├─────────────────────────────────┼────────────────────────┼───────────────┤\n",
              "│ max_pooling2d_21 (\u001b[38;5;33mMaxPooling2D\u001b[0m) │ (\u001b[38;5;45mNone\u001b[0m, \u001b[38;5;34m25\u001b[0m, \u001b[38;5;34m2\u001b[0m, \u001b[38;5;34m512\u001b[0m)     │             \u001b[38;5;34m0\u001b[0m │\n",
              "├─────────────────────────────────┼────────────────────────┼───────────────┤\n",
              "│ dropout_23 (\u001b[38;5;33mDropout\u001b[0m)            │ (\u001b[38;5;45mNone\u001b[0m, \u001b[38;5;34m25\u001b[0m, \u001b[38;5;34m2\u001b[0m, \u001b[38;5;34m512\u001b[0m)     │             \u001b[38;5;34m0\u001b[0m │\n",
              "├─────────────────────────────────┼────────────────────────┼───────────────┤\n",
              "│ conv2d_49 (\u001b[38;5;33mConv2D\u001b[0m)              │ (\u001b[38;5;45mNone\u001b[0m, \u001b[38;5;34m25\u001b[0m, \u001b[38;5;34m2\u001b[0m, \u001b[38;5;34m1024\u001b[0m)    │     \u001b[38;5;34m4,719,616\u001b[0m │\n",
              "├─────────────────────────────────┼────────────────────────┼───────────────┤\n",
              "│ conv2d_50 (\u001b[38;5;33mConv2D\u001b[0m)              │ (\u001b[38;5;45mNone\u001b[0m, \u001b[38;5;34m25\u001b[0m, \u001b[38;5;34m2\u001b[0m, \u001b[38;5;34m1024\u001b[0m)    │     \u001b[38;5;34m9,438,208\u001b[0m │\n",
              "├─────────────────────────────────┼────────────────────────┼───────────────┤\n",
              "│ max_pooling2d_22 (\u001b[38;5;33mMaxPooling2D\u001b[0m) │ (\u001b[38;5;45mNone\u001b[0m, \u001b[38;5;34m13\u001b[0m, \u001b[38;5;34m1\u001b[0m, \u001b[38;5;34m1024\u001b[0m)    │             \u001b[38;5;34m0\u001b[0m │\n",
              "├─────────────────────────────────┼────────────────────────┼───────────────┤\n",
              "│ dropout_24 (\u001b[38;5;33mDropout\u001b[0m)            │ (\u001b[38;5;45mNone\u001b[0m, \u001b[38;5;34m13\u001b[0m, \u001b[38;5;34m1\u001b[0m, \u001b[38;5;34m1024\u001b[0m)    │             \u001b[38;5;34m0\u001b[0m │\n",
              "├─────────────────────────────────┼────────────────────────┼───────────────┤\n",
              "│ conv2d_51 (\u001b[38;5;33mConv2D\u001b[0m)              │ (\u001b[38;5;45mNone\u001b[0m, \u001b[38;5;34m13\u001b[0m, \u001b[38;5;34m1\u001b[0m, \u001b[38;5;34m2048\u001b[0m)    │    \u001b[38;5;34m18,876,416\u001b[0m │\n",
              "├─────────────────────────────────┼────────────────────────┼───────────────┤\n",
              "│ conv2d_52 (\u001b[38;5;33mConv2D\u001b[0m)              │ (\u001b[38;5;45mNone\u001b[0m, \u001b[38;5;34m13\u001b[0m, \u001b[38;5;34m1\u001b[0m, \u001b[38;5;34m2048\u001b[0m)    │    \u001b[38;5;34m37,750,784\u001b[0m │\n",
              "├─────────────────────────────────┼────────────────────────┼───────────────┤\n",
              "│ max_pooling2d_23 (\u001b[38;5;33mMaxPooling2D\u001b[0m) │ (\u001b[38;5;45mNone\u001b[0m, \u001b[38;5;34m7\u001b[0m, \u001b[38;5;34m1\u001b[0m, \u001b[38;5;34m2048\u001b[0m)     │             \u001b[38;5;34m0\u001b[0m │\n",
              "├─────────────────────────────────┼────────────────────────┼───────────────┤\n",
              "│ dropout_25 (\u001b[38;5;33mDropout\u001b[0m)            │ (\u001b[38;5;45mNone\u001b[0m, \u001b[38;5;34m7\u001b[0m, \u001b[38;5;34m1\u001b[0m, \u001b[38;5;34m2048\u001b[0m)     │             \u001b[38;5;34m0\u001b[0m │\n",
              "├─────────────────────────────────┼────────────────────────┼───────────────┤\n",
              "│ flatten_7 (\u001b[38;5;33mFlatten\u001b[0m)             │ (\u001b[38;5;45mNone\u001b[0m, \u001b[38;5;34m14336\u001b[0m)          │             \u001b[38;5;34m0\u001b[0m │\n",
              "├─────────────────────────────────┼────────────────────────┼───────────────┤\n",
              "│ dense_14 (\u001b[38;5;33mDense\u001b[0m)                │ (\u001b[38;5;45mNone\u001b[0m, \u001b[38;5;34m1024\u001b[0m)           │    \u001b[38;5;34m14,681,088\u001b[0m │\n",
              "├─────────────────────────────────┼────────────────────────┼───────────────┤\n",
              "│ dropout_26 (\u001b[38;5;33mDropout\u001b[0m)            │ (\u001b[38;5;45mNone\u001b[0m, \u001b[38;5;34m1024\u001b[0m)           │             \u001b[38;5;34m0\u001b[0m │\n",
              "├─────────────────────────────────┼────────────────────────┼───────────────┤\n",
              "│ dense_15 (\u001b[38;5;33mDense\u001b[0m)                │ (\u001b[38;5;45mNone\u001b[0m, \u001b[38;5;34m5\u001b[0m)              │         \u001b[38;5;34m5,125\u001b[0m │\n",
              "└─────────────────────────────────┴────────────────────────┴───────────────┘\n"
            ],
            "text/html": [
              "<pre style=\"white-space:pre;overflow-x:auto;line-height:normal;font-family:Menlo,'DejaVu Sans Mono',consolas,'Courier New',monospace\">┏━━━━━━━━━━━━━━━━━━━━━━━━━━━━━━━━━┳━━━━━━━━━━━━━━━━━━━━━━━━┳━━━━━━━━━━━━━━━┓\n",
              "┃<span style=\"font-weight: bold\"> Layer (type)                    </span>┃<span style=\"font-weight: bold\"> Output Shape           </span>┃<span style=\"font-weight: bold\">       Param # </span>┃\n",
              "┡━━━━━━━━━━━━━━━━━━━━━━━━━━━━━━━━━╇━━━━━━━━━━━━━━━━━━━━━━━━╇━━━━━━━━━━━━━━━┩\n",
              "│ conv2d_47 (<span style=\"color: #0087ff; text-decoration-color: #0087ff\">Conv2D</span>)              │ (<span style=\"color: #00d7ff; text-decoration-color: #00d7ff\">None</span>, <span style=\"color: #00af00; text-decoration-color: #00af00\">51</span>, <span style=\"color: #00af00; text-decoration-color: #00af00\">5</span>, <span style=\"color: #00af00; text-decoration-color: #00af00\">512</span>)     │       <span style=\"color: #00af00; text-decoration-color: #00af00\">147,968</span> │\n",
              "├─────────────────────────────────┼────────────────────────┼───────────────┤\n",
              "│ conv2d_48 (<span style=\"color: #0087ff; text-decoration-color: #0087ff\">Conv2D</span>)              │ (<span style=\"color: #00d7ff; text-decoration-color: #00d7ff\">None</span>, <span style=\"color: #00af00; text-decoration-color: #00af00\">51</span>, <span style=\"color: #00af00; text-decoration-color: #00af00\">5</span>, <span style=\"color: #00af00; text-decoration-color: #00af00\">512</span>)     │     <span style=\"color: #00af00; text-decoration-color: #00af00\">2,359,808</span> │\n",
              "├─────────────────────────────────┼────────────────────────┼───────────────┤\n",
              "│ max_pooling2d_21 (<span style=\"color: #0087ff; text-decoration-color: #0087ff\">MaxPooling2D</span>) │ (<span style=\"color: #00d7ff; text-decoration-color: #00d7ff\">None</span>, <span style=\"color: #00af00; text-decoration-color: #00af00\">25</span>, <span style=\"color: #00af00; text-decoration-color: #00af00\">2</span>, <span style=\"color: #00af00; text-decoration-color: #00af00\">512</span>)     │             <span style=\"color: #00af00; text-decoration-color: #00af00\">0</span> │\n",
              "├─────────────────────────────────┼────────────────────────┼───────────────┤\n",
              "│ dropout_23 (<span style=\"color: #0087ff; text-decoration-color: #0087ff\">Dropout</span>)            │ (<span style=\"color: #00d7ff; text-decoration-color: #00d7ff\">None</span>, <span style=\"color: #00af00; text-decoration-color: #00af00\">25</span>, <span style=\"color: #00af00; text-decoration-color: #00af00\">2</span>, <span style=\"color: #00af00; text-decoration-color: #00af00\">512</span>)     │             <span style=\"color: #00af00; text-decoration-color: #00af00\">0</span> │\n",
              "├─────────────────────────────────┼────────────────────────┼───────────────┤\n",
              "│ conv2d_49 (<span style=\"color: #0087ff; text-decoration-color: #0087ff\">Conv2D</span>)              │ (<span style=\"color: #00d7ff; text-decoration-color: #00d7ff\">None</span>, <span style=\"color: #00af00; text-decoration-color: #00af00\">25</span>, <span style=\"color: #00af00; text-decoration-color: #00af00\">2</span>, <span style=\"color: #00af00; text-decoration-color: #00af00\">1024</span>)    │     <span style=\"color: #00af00; text-decoration-color: #00af00\">4,719,616</span> │\n",
              "├─────────────────────────────────┼────────────────────────┼───────────────┤\n",
              "│ conv2d_50 (<span style=\"color: #0087ff; text-decoration-color: #0087ff\">Conv2D</span>)              │ (<span style=\"color: #00d7ff; text-decoration-color: #00d7ff\">None</span>, <span style=\"color: #00af00; text-decoration-color: #00af00\">25</span>, <span style=\"color: #00af00; text-decoration-color: #00af00\">2</span>, <span style=\"color: #00af00; text-decoration-color: #00af00\">1024</span>)    │     <span style=\"color: #00af00; text-decoration-color: #00af00\">9,438,208</span> │\n",
              "├─────────────────────────────────┼────────────────────────┼───────────────┤\n",
              "│ max_pooling2d_22 (<span style=\"color: #0087ff; text-decoration-color: #0087ff\">MaxPooling2D</span>) │ (<span style=\"color: #00d7ff; text-decoration-color: #00d7ff\">None</span>, <span style=\"color: #00af00; text-decoration-color: #00af00\">13</span>, <span style=\"color: #00af00; text-decoration-color: #00af00\">1</span>, <span style=\"color: #00af00; text-decoration-color: #00af00\">1024</span>)    │             <span style=\"color: #00af00; text-decoration-color: #00af00\">0</span> │\n",
              "├─────────────────────────────────┼────────────────────────┼───────────────┤\n",
              "│ dropout_24 (<span style=\"color: #0087ff; text-decoration-color: #0087ff\">Dropout</span>)            │ (<span style=\"color: #00d7ff; text-decoration-color: #00d7ff\">None</span>, <span style=\"color: #00af00; text-decoration-color: #00af00\">13</span>, <span style=\"color: #00af00; text-decoration-color: #00af00\">1</span>, <span style=\"color: #00af00; text-decoration-color: #00af00\">1024</span>)    │             <span style=\"color: #00af00; text-decoration-color: #00af00\">0</span> │\n",
              "├─────────────────────────────────┼────────────────────────┼───────────────┤\n",
              "│ conv2d_51 (<span style=\"color: #0087ff; text-decoration-color: #0087ff\">Conv2D</span>)              │ (<span style=\"color: #00d7ff; text-decoration-color: #00d7ff\">None</span>, <span style=\"color: #00af00; text-decoration-color: #00af00\">13</span>, <span style=\"color: #00af00; text-decoration-color: #00af00\">1</span>, <span style=\"color: #00af00; text-decoration-color: #00af00\">2048</span>)    │    <span style=\"color: #00af00; text-decoration-color: #00af00\">18,876,416</span> │\n",
              "├─────────────────────────────────┼────────────────────────┼───────────────┤\n",
              "│ conv2d_52 (<span style=\"color: #0087ff; text-decoration-color: #0087ff\">Conv2D</span>)              │ (<span style=\"color: #00d7ff; text-decoration-color: #00d7ff\">None</span>, <span style=\"color: #00af00; text-decoration-color: #00af00\">13</span>, <span style=\"color: #00af00; text-decoration-color: #00af00\">1</span>, <span style=\"color: #00af00; text-decoration-color: #00af00\">2048</span>)    │    <span style=\"color: #00af00; text-decoration-color: #00af00\">37,750,784</span> │\n",
              "├─────────────────────────────────┼────────────────────────┼───────────────┤\n",
              "│ max_pooling2d_23 (<span style=\"color: #0087ff; text-decoration-color: #0087ff\">MaxPooling2D</span>) │ (<span style=\"color: #00d7ff; text-decoration-color: #00d7ff\">None</span>, <span style=\"color: #00af00; text-decoration-color: #00af00\">7</span>, <span style=\"color: #00af00; text-decoration-color: #00af00\">1</span>, <span style=\"color: #00af00; text-decoration-color: #00af00\">2048</span>)     │             <span style=\"color: #00af00; text-decoration-color: #00af00\">0</span> │\n",
              "├─────────────────────────────────┼────────────────────────┼───────────────┤\n",
              "│ dropout_25 (<span style=\"color: #0087ff; text-decoration-color: #0087ff\">Dropout</span>)            │ (<span style=\"color: #00d7ff; text-decoration-color: #00d7ff\">None</span>, <span style=\"color: #00af00; text-decoration-color: #00af00\">7</span>, <span style=\"color: #00af00; text-decoration-color: #00af00\">1</span>, <span style=\"color: #00af00; text-decoration-color: #00af00\">2048</span>)     │             <span style=\"color: #00af00; text-decoration-color: #00af00\">0</span> │\n",
              "├─────────────────────────────────┼────────────────────────┼───────────────┤\n",
              "│ flatten_7 (<span style=\"color: #0087ff; text-decoration-color: #0087ff\">Flatten</span>)             │ (<span style=\"color: #00d7ff; text-decoration-color: #00d7ff\">None</span>, <span style=\"color: #00af00; text-decoration-color: #00af00\">14336</span>)          │             <span style=\"color: #00af00; text-decoration-color: #00af00\">0</span> │\n",
              "├─────────────────────────────────┼────────────────────────┼───────────────┤\n",
              "│ dense_14 (<span style=\"color: #0087ff; text-decoration-color: #0087ff\">Dense</span>)                │ (<span style=\"color: #00d7ff; text-decoration-color: #00d7ff\">None</span>, <span style=\"color: #00af00; text-decoration-color: #00af00\">1024</span>)           │    <span style=\"color: #00af00; text-decoration-color: #00af00\">14,681,088</span> │\n",
              "├─────────────────────────────────┼────────────────────────┼───────────────┤\n",
              "│ dropout_26 (<span style=\"color: #0087ff; text-decoration-color: #0087ff\">Dropout</span>)            │ (<span style=\"color: #00d7ff; text-decoration-color: #00d7ff\">None</span>, <span style=\"color: #00af00; text-decoration-color: #00af00\">1024</span>)           │             <span style=\"color: #00af00; text-decoration-color: #00af00\">0</span> │\n",
              "├─────────────────────────────────┼────────────────────────┼───────────────┤\n",
              "│ dense_15 (<span style=\"color: #0087ff; text-decoration-color: #0087ff\">Dense</span>)                │ (<span style=\"color: #00d7ff; text-decoration-color: #00d7ff\">None</span>, <span style=\"color: #00af00; text-decoration-color: #00af00\">5</span>)              │         <span style=\"color: #00af00; text-decoration-color: #00af00\">5,125</span> │\n",
              "└─────────────────────────────────┴────────────────────────┴───────────────┘\n",
              "</pre>\n"
            ]
          },
          "metadata": {}
        },
        {
          "output_type": "display_data",
          "data": {
            "text/plain": [
              "\u001b[1m Total params: \u001b[0m\u001b[38;5;34m87,979,013\u001b[0m (335.61 MB)\n"
            ],
            "text/html": [
              "<pre style=\"white-space:pre;overflow-x:auto;line-height:normal;font-family:Menlo,'DejaVu Sans Mono',consolas,'Courier New',monospace\"><span style=\"font-weight: bold\"> Total params: </span><span style=\"color: #00af00; text-decoration-color: #00af00\">87,979,013</span> (335.61 MB)\n",
              "</pre>\n"
            ]
          },
          "metadata": {}
        },
        {
          "output_type": "display_data",
          "data": {
            "text/plain": [
              "\u001b[1m Trainable params: \u001b[0m\u001b[38;5;34m87,979,013\u001b[0m (335.61 MB)\n"
            ],
            "text/html": [
              "<pre style=\"white-space:pre;overflow-x:auto;line-height:normal;font-family:Menlo,'DejaVu Sans Mono',consolas,'Courier New',monospace\"><span style=\"font-weight: bold\"> Trainable params: </span><span style=\"color: #00af00; text-decoration-color: #00af00\">87,979,013</span> (335.61 MB)\n",
              "</pre>\n"
            ]
          },
          "metadata": {}
        },
        {
          "output_type": "display_data",
          "data": {
            "text/plain": [
              "\u001b[1m Non-trainable params: \u001b[0m\u001b[38;5;34m0\u001b[0m (0.00 B)\n"
            ],
            "text/html": [
              "<pre style=\"white-space:pre;overflow-x:auto;line-height:normal;font-family:Menlo,'DejaVu Sans Mono',consolas,'Courier New',monospace\"><span style=\"font-weight: bold\"> Non-trainable params: </span><span style=\"color: #00af00; text-decoration-color: #00af00\">0</span> (0.00 B)\n",
              "</pre>\n"
            ]
          },
          "metadata": {}
        }
      ]
    },
    {
      "cell_type": "code",
      "source": [
        "# @title\n",
        "# LSTM\n",
        "input_shape = (13, 33, 32)  # (time, freq, channels)\n",
        "output_shape = 5\n",
        "\n",
        "lstm = keras.Sequential([\n",
        "    # Input shape: (51 time steps, 5 freq bins, 256 channels)\n",
        "    layers.Input(shape=input_shape),\n",
        "\n",
        "    # 1. Frequency-domain processing (applied per time step)\n",
        "    layers.TimeDistributed(layers.Conv1D(32, 3, activation='relu', padding='same')),\n",
        "    layers.TimeDistributed(layers.Conv1D(32, 3, activation='relu', padding='same')),\n",
        "    layers.TimeDistributed(layers.MaxPooling1D(2)),\n",
        "    #layers.TimeDistributed(layers.Dropout(0.1)),\n",
        "\n",
        "    # 2. Deeper frequency processing\n",
        "    layers.TimeDistributed(layers.Conv1D(64, 3, activation='relu', padding='same')),\n",
        "    layers.TimeDistributed(layers.Conv1D(64, 3, activation='relu', padding='same')),\n",
        "    layers.TimeDistributed(layers.MaxPooling1D(2)),\n",
        "    layers.TimeDistributed(layers.Dropout(0.1)),\n",
        "\n",
        "    layers.TimeDistributed(layers.Conv1D(128, 3, activation='relu', padding='same')),\n",
        "    layers.TimeDistributed(layers.Conv1D(128, 3, activation='relu', padding='same')),\n",
        "    layers.TimeDistributed(layers.MaxPooling1D(2, padding='same')),\n",
        "    layers.TimeDistributed(layers.Dropout(0.15)),\n",
        "\n",
        "    # 3. Prepare for LSTM - output will be (None, 51, remaining_features)\n",
        "    layers.TimeDistributed(layers.Flatten()),\n",
        "\n",
        "    # 4. Temporal processing\n",
        "    layers.Bidirectional(layers.LSTM(128, return_sequences=True)),\n",
        "    layers.Bidirectional(layers.LSTM(128)),\n",
        "    layers.Dropout(0.4),\n",
        "\n",
        "    # 5. Classifier\n",
        "    layers.Dense(128, activation='relu'),\n",
        "    layers.Dropout(0.4),\n",
        "    layers.Dense(output_shape, activation='softmax')\n",
        "])\n",
        "\n",
        "lstm.summary()"
      ],
      "metadata": {
        "colab": {
          "base_uri": "https://localhost:8080/",
          "height": 929
        },
        "collapsed": true,
        "id": "ymAmCFM9zLRd",
        "outputId": "90e81318-efa0-4db7-8da7-9b59b2bbde51"
      },
      "execution_count": null,
      "outputs": [
        {
          "output_type": "display_data",
          "data": {
            "text/plain": [
              "\u001b[1mModel: \"sequential_26\"\u001b[0m\n"
            ],
            "text/html": [
              "<pre style=\"white-space:pre;overflow-x:auto;line-height:normal;font-family:Menlo,'DejaVu Sans Mono',consolas,'Courier New',monospace\"><span style=\"font-weight: bold\">Model: \"sequential_26\"</span>\n",
              "</pre>\n"
            ]
          },
          "metadata": {}
        },
        {
          "output_type": "display_data",
          "data": {
            "text/plain": [
              "┏━━━━━━━━━━━━━━━━━━━━━━━━━━━━━━━━━┳━━━━━━━━━━━━━━━━━━━━━━━━┳━━━━━━━━━━━━━━━┓\n",
              "┃\u001b[1m \u001b[0m\u001b[1mLayer (type)                   \u001b[0m\u001b[1m \u001b[0m┃\u001b[1m \u001b[0m\u001b[1mOutput Shape          \u001b[0m\u001b[1m \u001b[0m┃\u001b[1m \u001b[0m\u001b[1m      Param #\u001b[0m\u001b[1m \u001b[0m┃\n",
              "┡━━━━━━━━━━━━━━━━━━━━━━━━━━━━━━━━━╇━━━━━━━━━━━━━━━━━━━━━━━━╇━━━━━━━━━━━━━━━┩\n",
              "│ time_distributed_221            │ (\u001b[38;5;45mNone\u001b[0m, \u001b[38;5;34m13\u001b[0m, \u001b[38;5;34m33\u001b[0m, \u001b[38;5;34m32\u001b[0m)     │         \u001b[38;5;34m3,104\u001b[0m │\n",
              "│ (\u001b[38;5;33mTimeDistributed\u001b[0m)               │                        │               │\n",
              "├─────────────────────────────────┼────────────────────────┼───────────────┤\n",
              "│ time_distributed_222            │ (\u001b[38;5;45mNone\u001b[0m, \u001b[38;5;34m13\u001b[0m, \u001b[38;5;34m33\u001b[0m, \u001b[38;5;34m32\u001b[0m)     │         \u001b[38;5;34m3,104\u001b[0m │\n",
              "│ (\u001b[38;5;33mTimeDistributed\u001b[0m)               │                        │               │\n",
              "├─────────────────────────────────┼────────────────────────┼───────────────┤\n",
              "│ time_distributed_223            │ (\u001b[38;5;45mNone\u001b[0m, \u001b[38;5;34m13\u001b[0m, \u001b[38;5;34m16\u001b[0m, \u001b[38;5;34m32\u001b[0m)     │             \u001b[38;5;34m0\u001b[0m │\n",
              "│ (\u001b[38;5;33mTimeDistributed\u001b[0m)               │                        │               │\n",
              "├─────────────────────────────────┼────────────────────────┼───────────────┤\n",
              "│ time_distributed_224            │ (\u001b[38;5;45mNone\u001b[0m, \u001b[38;5;34m13\u001b[0m, \u001b[38;5;34m16\u001b[0m, \u001b[38;5;34m64\u001b[0m)     │         \u001b[38;5;34m6,208\u001b[0m │\n",
              "│ (\u001b[38;5;33mTimeDistributed\u001b[0m)               │                        │               │\n",
              "├─────────────────────────────────┼────────────────────────┼───────────────┤\n",
              "│ time_distributed_225            │ (\u001b[38;5;45mNone\u001b[0m, \u001b[38;5;34m13\u001b[0m, \u001b[38;5;34m16\u001b[0m, \u001b[38;5;34m64\u001b[0m)     │        \u001b[38;5;34m12,352\u001b[0m │\n",
              "│ (\u001b[38;5;33mTimeDistributed\u001b[0m)               │                        │               │\n",
              "├─────────────────────────────────┼────────────────────────┼───────────────┤\n",
              "│ time_distributed_226            │ (\u001b[38;5;45mNone\u001b[0m, \u001b[38;5;34m13\u001b[0m, \u001b[38;5;34m8\u001b[0m, \u001b[38;5;34m64\u001b[0m)      │             \u001b[38;5;34m0\u001b[0m │\n",
              "│ (\u001b[38;5;33mTimeDistributed\u001b[0m)               │                        │               │\n",
              "├─────────────────────────────────┼────────────────────────┼───────────────┤\n",
              "│ time_distributed_227            │ (\u001b[38;5;45mNone\u001b[0m, \u001b[38;5;34m13\u001b[0m, \u001b[38;5;34m8\u001b[0m, \u001b[38;5;34m64\u001b[0m)      │             \u001b[38;5;34m0\u001b[0m │\n",
              "│ (\u001b[38;5;33mTimeDistributed\u001b[0m)               │                        │               │\n",
              "├─────────────────────────────────┼────────────────────────┼───────────────┤\n",
              "│ time_distributed_228            │ (\u001b[38;5;45mNone\u001b[0m, \u001b[38;5;34m13\u001b[0m, \u001b[38;5;34m8\u001b[0m, \u001b[38;5;34m128\u001b[0m)     │        \u001b[38;5;34m24,704\u001b[0m │\n",
              "│ (\u001b[38;5;33mTimeDistributed\u001b[0m)               │                        │               │\n",
              "├─────────────────────────────────┼────────────────────────┼───────────────┤\n",
              "│ time_distributed_229            │ (\u001b[38;5;45mNone\u001b[0m, \u001b[38;5;34m13\u001b[0m, \u001b[38;5;34m8\u001b[0m, \u001b[38;5;34m128\u001b[0m)     │        \u001b[38;5;34m49,280\u001b[0m │\n",
              "│ (\u001b[38;5;33mTimeDistributed\u001b[0m)               │                        │               │\n",
              "├─────────────────────────────────┼────────────────────────┼───────────────┤\n",
              "│ time_distributed_230            │ (\u001b[38;5;45mNone\u001b[0m, \u001b[38;5;34m13\u001b[0m, \u001b[38;5;34m4\u001b[0m, \u001b[38;5;34m128\u001b[0m)     │             \u001b[38;5;34m0\u001b[0m │\n",
              "│ (\u001b[38;5;33mTimeDistributed\u001b[0m)               │                        │               │\n",
              "├─────────────────────────────────┼────────────────────────┼───────────────┤\n",
              "│ time_distributed_231            │ (\u001b[38;5;45mNone\u001b[0m, \u001b[38;5;34m13\u001b[0m, \u001b[38;5;34m4\u001b[0m, \u001b[38;5;34m128\u001b[0m)     │             \u001b[38;5;34m0\u001b[0m │\n",
              "│ (\u001b[38;5;33mTimeDistributed\u001b[0m)               │                        │               │\n",
              "├─────────────────────────────────┼────────────────────────┼───────────────┤\n",
              "│ time_distributed_232            │ (\u001b[38;5;45mNone\u001b[0m, \u001b[38;5;34m13\u001b[0m, \u001b[38;5;34m512\u001b[0m)        │             \u001b[38;5;34m0\u001b[0m │\n",
              "│ (\u001b[38;5;33mTimeDistributed\u001b[0m)               │                        │               │\n",
              "├─────────────────────────────────┼────────────────────────┼───────────────┤\n",
              "│ bidirectional_30                │ (\u001b[38;5;45mNone\u001b[0m, \u001b[38;5;34m13\u001b[0m, \u001b[38;5;34m256\u001b[0m)        │       \u001b[38;5;34m656,384\u001b[0m │\n",
              "│ (\u001b[38;5;33mBidirectional\u001b[0m)                 │                        │               │\n",
              "├─────────────────────────────────┼────────────────────────┼───────────────┤\n",
              "│ bidirectional_31                │ (\u001b[38;5;45mNone\u001b[0m, \u001b[38;5;34m256\u001b[0m)            │       \u001b[38;5;34m394,240\u001b[0m │\n",
              "│ (\u001b[38;5;33mBidirectional\u001b[0m)                 │                        │               │\n",
              "├─────────────────────────────────┼────────────────────────┼───────────────┤\n",
              "│ dropout_105 (\u001b[38;5;33mDropout\u001b[0m)           │ (\u001b[38;5;45mNone\u001b[0m, \u001b[38;5;34m256\u001b[0m)            │             \u001b[38;5;34m0\u001b[0m │\n",
              "├─────────────────────────────────┼────────────────────────┼───────────────┤\n",
              "│ dense_52 (\u001b[38;5;33mDense\u001b[0m)                │ (\u001b[38;5;45mNone\u001b[0m, \u001b[38;5;34m128\u001b[0m)            │        \u001b[38;5;34m32,896\u001b[0m │\n",
              "├─────────────────────────────────┼────────────────────────┼───────────────┤\n",
              "│ dropout_106 (\u001b[38;5;33mDropout\u001b[0m)           │ (\u001b[38;5;45mNone\u001b[0m, \u001b[38;5;34m128\u001b[0m)            │             \u001b[38;5;34m0\u001b[0m │\n",
              "├─────────────────────────────────┼────────────────────────┼───────────────┤\n",
              "│ dense_53 (\u001b[38;5;33mDense\u001b[0m)                │ (\u001b[38;5;45mNone\u001b[0m, \u001b[38;5;34m5\u001b[0m)              │           \u001b[38;5;34m645\u001b[0m │\n",
              "└─────────────────────────────────┴────────────────────────┴───────────────┘\n"
            ],
            "text/html": [
              "<pre style=\"white-space:pre;overflow-x:auto;line-height:normal;font-family:Menlo,'DejaVu Sans Mono',consolas,'Courier New',monospace\">┏━━━━━━━━━━━━━━━━━━━━━━━━━━━━━━━━━┳━━━━━━━━━━━━━━━━━━━━━━━━┳━━━━━━━━━━━━━━━┓\n",
              "┃<span style=\"font-weight: bold\"> Layer (type)                    </span>┃<span style=\"font-weight: bold\"> Output Shape           </span>┃<span style=\"font-weight: bold\">       Param # </span>┃\n",
              "┡━━━━━━━━━━━━━━━━━━━━━━━━━━━━━━━━━╇━━━━━━━━━━━━━━━━━━━━━━━━╇━━━━━━━━━━━━━━━┩\n",
              "│ time_distributed_221            │ (<span style=\"color: #00d7ff; text-decoration-color: #00d7ff\">None</span>, <span style=\"color: #00af00; text-decoration-color: #00af00\">13</span>, <span style=\"color: #00af00; text-decoration-color: #00af00\">33</span>, <span style=\"color: #00af00; text-decoration-color: #00af00\">32</span>)     │         <span style=\"color: #00af00; text-decoration-color: #00af00\">3,104</span> │\n",
              "│ (<span style=\"color: #0087ff; text-decoration-color: #0087ff\">TimeDistributed</span>)               │                        │               │\n",
              "├─────────────────────────────────┼────────────────────────┼───────────────┤\n",
              "│ time_distributed_222            │ (<span style=\"color: #00d7ff; text-decoration-color: #00d7ff\">None</span>, <span style=\"color: #00af00; text-decoration-color: #00af00\">13</span>, <span style=\"color: #00af00; text-decoration-color: #00af00\">33</span>, <span style=\"color: #00af00; text-decoration-color: #00af00\">32</span>)     │         <span style=\"color: #00af00; text-decoration-color: #00af00\">3,104</span> │\n",
              "│ (<span style=\"color: #0087ff; text-decoration-color: #0087ff\">TimeDistributed</span>)               │                        │               │\n",
              "├─────────────────────────────────┼────────────────────────┼───────────────┤\n",
              "│ time_distributed_223            │ (<span style=\"color: #00d7ff; text-decoration-color: #00d7ff\">None</span>, <span style=\"color: #00af00; text-decoration-color: #00af00\">13</span>, <span style=\"color: #00af00; text-decoration-color: #00af00\">16</span>, <span style=\"color: #00af00; text-decoration-color: #00af00\">32</span>)     │             <span style=\"color: #00af00; text-decoration-color: #00af00\">0</span> │\n",
              "│ (<span style=\"color: #0087ff; text-decoration-color: #0087ff\">TimeDistributed</span>)               │                        │               │\n",
              "├─────────────────────────────────┼────────────────────────┼───────────────┤\n",
              "│ time_distributed_224            │ (<span style=\"color: #00d7ff; text-decoration-color: #00d7ff\">None</span>, <span style=\"color: #00af00; text-decoration-color: #00af00\">13</span>, <span style=\"color: #00af00; text-decoration-color: #00af00\">16</span>, <span style=\"color: #00af00; text-decoration-color: #00af00\">64</span>)     │         <span style=\"color: #00af00; text-decoration-color: #00af00\">6,208</span> │\n",
              "│ (<span style=\"color: #0087ff; text-decoration-color: #0087ff\">TimeDistributed</span>)               │                        │               │\n",
              "├─────────────────────────────────┼────────────────────────┼───────────────┤\n",
              "│ time_distributed_225            │ (<span style=\"color: #00d7ff; text-decoration-color: #00d7ff\">None</span>, <span style=\"color: #00af00; text-decoration-color: #00af00\">13</span>, <span style=\"color: #00af00; text-decoration-color: #00af00\">16</span>, <span style=\"color: #00af00; text-decoration-color: #00af00\">64</span>)     │        <span style=\"color: #00af00; text-decoration-color: #00af00\">12,352</span> │\n",
              "│ (<span style=\"color: #0087ff; text-decoration-color: #0087ff\">TimeDistributed</span>)               │                        │               │\n",
              "├─────────────────────────────────┼────────────────────────┼───────────────┤\n",
              "│ time_distributed_226            │ (<span style=\"color: #00d7ff; text-decoration-color: #00d7ff\">None</span>, <span style=\"color: #00af00; text-decoration-color: #00af00\">13</span>, <span style=\"color: #00af00; text-decoration-color: #00af00\">8</span>, <span style=\"color: #00af00; text-decoration-color: #00af00\">64</span>)      │             <span style=\"color: #00af00; text-decoration-color: #00af00\">0</span> │\n",
              "│ (<span style=\"color: #0087ff; text-decoration-color: #0087ff\">TimeDistributed</span>)               │                        │               │\n",
              "├─────────────────────────────────┼────────────────────────┼───────────────┤\n",
              "│ time_distributed_227            │ (<span style=\"color: #00d7ff; text-decoration-color: #00d7ff\">None</span>, <span style=\"color: #00af00; text-decoration-color: #00af00\">13</span>, <span style=\"color: #00af00; text-decoration-color: #00af00\">8</span>, <span style=\"color: #00af00; text-decoration-color: #00af00\">64</span>)      │             <span style=\"color: #00af00; text-decoration-color: #00af00\">0</span> │\n",
              "│ (<span style=\"color: #0087ff; text-decoration-color: #0087ff\">TimeDistributed</span>)               │                        │               │\n",
              "├─────────────────────────────────┼────────────────────────┼───────────────┤\n",
              "│ time_distributed_228            │ (<span style=\"color: #00d7ff; text-decoration-color: #00d7ff\">None</span>, <span style=\"color: #00af00; text-decoration-color: #00af00\">13</span>, <span style=\"color: #00af00; text-decoration-color: #00af00\">8</span>, <span style=\"color: #00af00; text-decoration-color: #00af00\">128</span>)     │        <span style=\"color: #00af00; text-decoration-color: #00af00\">24,704</span> │\n",
              "│ (<span style=\"color: #0087ff; text-decoration-color: #0087ff\">TimeDistributed</span>)               │                        │               │\n",
              "├─────────────────────────────────┼────────────────────────┼───────────────┤\n",
              "│ time_distributed_229            │ (<span style=\"color: #00d7ff; text-decoration-color: #00d7ff\">None</span>, <span style=\"color: #00af00; text-decoration-color: #00af00\">13</span>, <span style=\"color: #00af00; text-decoration-color: #00af00\">8</span>, <span style=\"color: #00af00; text-decoration-color: #00af00\">128</span>)     │        <span style=\"color: #00af00; text-decoration-color: #00af00\">49,280</span> │\n",
              "│ (<span style=\"color: #0087ff; text-decoration-color: #0087ff\">TimeDistributed</span>)               │                        │               │\n",
              "├─────────────────────────────────┼────────────────────────┼───────────────┤\n",
              "│ time_distributed_230            │ (<span style=\"color: #00d7ff; text-decoration-color: #00d7ff\">None</span>, <span style=\"color: #00af00; text-decoration-color: #00af00\">13</span>, <span style=\"color: #00af00; text-decoration-color: #00af00\">4</span>, <span style=\"color: #00af00; text-decoration-color: #00af00\">128</span>)     │             <span style=\"color: #00af00; text-decoration-color: #00af00\">0</span> │\n",
              "│ (<span style=\"color: #0087ff; text-decoration-color: #0087ff\">TimeDistributed</span>)               │                        │               │\n",
              "├─────────────────────────────────┼────────────────────────┼───────────────┤\n",
              "│ time_distributed_231            │ (<span style=\"color: #00d7ff; text-decoration-color: #00d7ff\">None</span>, <span style=\"color: #00af00; text-decoration-color: #00af00\">13</span>, <span style=\"color: #00af00; text-decoration-color: #00af00\">4</span>, <span style=\"color: #00af00; text-decoration-color: #00af00\">128</span>)     │             <span style=\"color: #00af00; text-decoration-color: #00af00\">0</span> │\n",
              "│ (<span style=\"color: #0087ff; text-decoration-color: #0087ff\">TimeDistributed</span>)               │                        │               │\n",
              "├─────────────────────────────────┼────────────────────────┼───────────────┤\n",
              "│ time_distributed_232            │ (<span style=\"color: #00d7ff; text-decoration-color: #00d7ff\">None</span>, <span style=\"color: #00af00; text-decoration-color: #00af00\">13</span>, <span style=\"color: #00af00; text-decoration-color: #00af00\">512</span>)        │             <span style=\"color: #00af00; text-decoration-color: #00af00\">0</span> │\n",
              "│ (<span style=\"color: #0087ff; text-decoration-color: #0087ff\">TimeDistributed</span>)               │                        │               │\n",
              "├─────────────────────────────────┼────────────────────────┼───────────────┤\n",
              "│ bidirectional_30                │ (<span style=\"color: #00d7ff; text-decoration-color: #00d7ff\">None</span>, <span style=\"color: #00af00; text-decoration-color: #00af00\">13</span>, <span style=\"color: #00af00; text-decoration-color: #00af00\">256</span>)        │       <span style=\"color: #00af00; text-decoration-color: #00af00\">656,384</span> │\n",
              "│ (<span style=\"color: #0087ff; text-decoration-color: #0087ff\">Bidirectional</span>)                 │                        │               │\n",
              "├─────────────────────────────────┼────────────────────────┼───────────────┤\n",
              "│ bidirectional_31                │ (<span style=\"color: #00d7ff; text-decoration-color: #00d7ff\">None</span>, <span style=\"color: #00af00; text-decoration-color: #00af00\">256</span>)            │       <span style=\"color: #00af00; text-decoration-color: #00af00\">394,240</span> │\n",
              "│ (<span style=\"color: #0087ff; text-decoration-color: #0087ff\">Bidirectional</span>)                 │                        │               │\n",
              "├─────────────────────────────────┼────────────────────────┼───────────────┤\n",
              "│ dropout_105 (<span style=\"color: #0087ff; text-decoration-color: #0087ff\">Dropout</span>)           │ (<span style=\"color: #00d7ff; text-decoration-color: #00d7ff\">None</span>, <span style=\"color: #00af00; text-decoration-color: #00af00\">256</span>)            │             <span style=\"color: #00af00; text-decoration-color: #00af00\">0</span> │\n",
              "├─────────────────────────────────┼────────────────────────┼───────────────┤\n",
              "│ dense_52 (<span style=\"color: #0087ff; text-decoration-color: #0087ff\">Dense</span>)                │ (<span style=\"color: #00d7ff; text-decoration-color: #00d7ff\">None</span>, <span style=\"color: #00af00; text-decoration-color: #00af00\">128</span>)            │        <span style=\"color: #00af00; text-decoration-color: #00af00\">32,896</span> │\n",
              "├─────────────────────────────────┼────────────────────────┼───────────────┤\n",
              "│ dropout_106 (<span style=\"color: #0087ff; text-decoration-color: #0087ff\">Dropout</span>)           │ (<span style=\"color: #00d7ff; text-decoration-color: #00d7ff\">None</span>, <span style=\"color: #00af00; text-decoration-color: #00af00\">128</span>)            │             <span style=\"color: #00af00; text-decoration-color: #00af00\">0</span> │\n",
              "├─────────────────────────────────┼────────────────────────┼───────────────┤\n",
              "│ dense_53 (<span style=\"color: #0087ff; text-decoration-color: #0087ff\">Dense</span>)                │ (<span style=\"color: #00d7ff; text-decoration-color: #00d7ff\">None</span>, <span style=\"color: #00af00; text-decoration-color: #00af00\">5</span>)              │           <span style=\"color: #00af00; text-decoration-color: #00af00\">645</span> │\n",
              "└─────────────────────────────────┴────────────────────────┴───────────────┘\n",
              "</pre>\n"
            ]
          },
          "metadata": {}
        },
        {
          "output_type": "display_data",
          "data": {
            "text/plain": [
              "\u001b[1m Total params: \u001b[0m\u001b[38;5;34m1,182,917\u001b[0m (4.51 MB)\n"
            ],
            "text/html": [
              "<pre style=\"white-space:pre;overflow-x:auto;line-height:normal;font-family:Menlo,'DejaVu Sans Mono',consolas,'Courier New',monospace\"><span style=\"font-weight: bold\"> Total params: </span><span style=\"color: #00af00; text-decoration-color: #00af00\">1,182,917</span> (4.51 MB)\n",
              "</pre>\n"
            ]
          },
          "metadata": {}
        },
        {
          "output_type": "display_data",
          "data": {
            "text/plain": [
              "\u001b[1m Trainable params: \u001b[0m\u001b[38;5;34m1,182,917\u001b[0m (4.51 MB)\n"
            ],
            "text/html": [
              "<pre style=\"white-space:pre;overflow-x:auto;line-height:normal;font-family:Menlo,'DejaVu Sans Mono',consolas,'Courier New',monospace\"><span style=\"font-weight: bold\"> Trainable params: </span><span style=\"color: #00af00; text-decoration-color: #00af00\">1,182,917</span> (4.51 MB)\n",
              "</pre>\n"
            ]
          },
          "metadata": {}
        },
        {
          "output_type": "display_data",
          "data": {
            "text/plain": [
              "\u001b[1m Non-trainable params: \u001b[0m\u001b[38;5;34m0\u001b[0m (0.00 B)\n"
            ],
            "text/html": [
              "<pre style=\"white-space:pre;overflow-x:auto;line-height:normal;font-family:Menlo,'DejaVu Sans Mono',consolas,'Courier New',monospace\"><span style=\"font-weight: bold\"> Non-trainable params: </span><span style=\"color: #00af00; text-decoration-color: #00af00\">0</span> (0.00 B)\n",
              "</pre>\n"
            ]
          },
          "metadata": {}
        }
      ]
    },
    {
      "cell_type": "code",
      "source": [
        "# training the model\n",
        "from tensorflow.keras.optimizers import Adam\n",
        "#y_train = tf.keras.utils.to_categorical(y, num_classes=5) # use if we want labels to be on-hot encoded\n",
        "\n",
        "optimizer = Adam(learning_rate=0.001, clipnorm=1.0)\n",
        "batch_size = 256\n",
        "epochs = 100\n",
        "early_stopping = tf.keras.callbacks.EarlyStopping(monitor='val_loss', patience=15,\n",
        "                                                  restore_best_weights=True)\n",
        "reduce_lr = tf.keras.callbacks.ReduceLROnPlateau(monitor='val_loss', factor=0.95,\n",
        "                              patience=5, min_lr=0.00001)\n",
        "\n",
        "cnn.compile(loss='sparse_categorical_crossentropy', optimizer=optimizer,\n",
        "              metrics=['accuracy'])\n",
        "hist = cnn.fit(X_train, y_train, callbacks=[early_stopping, reduce_lr],\n",
        "                 epochs=epochs, batch_size=batch_size, validation_split=0.1)"
      ],
      "metadata": {
        "colab": {
          "base_uri": "https://localhost:8080/"
        },
        "id": "nXDtr_nzvnHU",
        "outputId": "1fda0e15-699f-4b27-934d-15bdfa640341"
      },
      "execution_count": null,
      "outputs": [
        {
          "output_type": "stream",
          "name": "stdout",
          "text": [
            "Epoch 1/100\n",
            "\u001b[1m9/9\u001b[0m \u001b[32m━━━━━━━━━━━━━━━━━━━━\u001b[0m\u001b[37m\u001b[0m \u001b[1m21s\u001b[0m 1s/step - accuracy: 0.1888 - loss: 8490.3330 - val_accuracy: 0.2222 - val_loss: 1.6274 - learning_rate: 0.0010\n",
            "Epoch 2/100\n",
            "\u001b[1m9/9\u001b[0m \u001b[32m━━━━━━━━━━━━━━━━━━━━\u001b[0m\u001b[37m\u001b[0m \u001b[1m6s\u001b[0m 416ms/step - accuracy: 0.2205 - loss: 1.6330 - val_accuracy: 0.2063 - val_loss: 1.6163 - learning_rate: 0.0010\n",
            "Epoch 3/100\n",
            "\u001b[1m9/9\u001b[0m \u001b[32m━━━━━━━━━━━━━━━━━━━━\u001b[0m\u001b[37m\u001b[0m \u001b[1m4s\u001b[0m 477ms/step - accuracy: 0.2167 - loss: 1.6132 - val_accuracy: 0.2063 - val_loss: 1.6128 - learning_rate: 0.0010\n",
            "Epoch 4/100\n",
            "\u001b[1m9/9\u001b[0m \u001b[32m━━━━━━━━━━━━━━━━━━━━\u001b[0m\u001b[37m\u001b[0m \u001b[1m4s\u001b[0m 405ms/step - accuracy: 0.2277 - loss: 1.6675 - val_accuracy: 0.1984 - val_loss: 1.6071 - learning_rate: 0.0010\n",
            "Epoch 5/100\n",
            "\u001b[1m9/9\u001b[0m \u001b[32m━━━━━━━━━━━━━━━━━━━━\u001b[0m\u001b[37m\u001b[0m \u001b[1m3s\u001b[0m 362ms/step - accuracy: 0.2273 - loss: 1.6154 - val_accuracy: 0.2460 - val_loss: 1.6199 - learning_rate: 0.0010\n",
            "Epoch 6/100\n",
            "\u001b[1m9/9\u001b[0m \u001b[32m━━━━━━━━━━━━━━━━━━━━\u001b[0m\u001b[37m\u001b[0m \u001b[1m6s\u001b[0m 416ms/step - accuracy: 0.2292 - loss: 1.5971 - val_accuracy: 0.2778 - val_loss: 1.6065 - learning_rate: 0.0010\n",
            "Epoch 7/100\n",
            "\u001b[1m9/9\u001b[0m \u001b[32m━━━━━━━━━━━━━━━━━━━━\u001b[0m\u001b[37m\u001b[0m \u001b[1m4s\u001b[0m 408ms/step - accuracy: 0.2613 - loss: 1.5877 - val_accuracy: 0.2540 - val_loss: 1.6014 - learning_rate: 0.0010\n",
            "Epoch 8/100\n",
            "\u001b[1m9/9\u001b[0m \u001b[32m━━━━━━━━━━━━━━━━━━━━\u001b[0m\u001b[37m\u001b[0m \u001b[1m3s\u001b[0m 366ms/step - accuracy: 0.2843 - loss: 1.5769 - val_accuracy: 0.2222 - val_loss: 1.6116 - learning_rate: 0.0010\n",
            "Epoch 9/100\n",
            "\u001b[1m9/9\u001b[0m \u001b[32m━━━━━━━━━━━━━━━━━━━━\u001b[0m\u001b[37m\u001b[0m \u001b[1m5s\u001b[0m 367ms/step - accuracy: 0.2566 - loss: 1.5879 - val_accuracy: 0.2143 - val_loss: 1.6240 - learning_rate: 0.0010\n",
            "Epoch 10/100\n",
            "\u001b[1m9/9\u001b[0m \u001b[32m━━━━━━━━━━━━━━━━━━━━\u001b[0m\u001b[37m\u001b[0m \u001b[1m5s\u001b[0m 377ms/step - accuracy: 0.2627 - loss: 1.5917 - val_accuracy: 0.2222 - val_loss: 1.6299 - learning_rate: 0.0010\n",
            "Epoch 11/100\n",
            "\u001b[1m9/9\u001b[0m \u001b[32m━━━━━━━━━━━━━━━━━━━━\u001b[0m\u001b[37m\u001b[0m \u001b[1m5s\u001b[0m 412ms/step - accuracy: 0.2886 - loss: 1.5576 - val_accuracy: 0.2540 - val_loss: 1.5477 - learning_rate: 0.0010\n",
            "Epoch 12/100\n",
            "\u001b[1m9/9\u001b[0m \u001b[32m━━━━━━━━━━━━━━━━━━━━\u001b[0m\u001b[37m\u001b[0m \u001b[1m3s\u001b[0m 371ms/step - accuracy: 0.2916 - loss: 1.5429 - val_accuracy: 0.2778 - val_loss: 1.5632 - learning_rate: 0.0010\n",
            "Epoch 13/100\n",
            "\u001b[1m9/9\u001b[0m \u001b[32m━━━━━━━━━━━━━━━━━━━━\u001b[0m\u001b[37m\u001b[0m \u001b[1m6s\u001b[0m 415ms/step - accuracy: 0.2784 - loss: 1.5436 - val_accuracy: 0.2857 - val_loss: 1.5165 - learning_rate: 0.0010\n",
            "Epoch 14/100\n",
            "\u001b[1m9/9\u001b[0m \u001b[32m━━━━━━━━━━━━━━━━━━━━\u001b[0m\u001b[37m\u001b[0m \u001b[1m5s\u001b[0m 374ms/step - accuracy: 0.3002 - loss: 1.5097 - val_accuracy: 0.2698 - val_loss: 1.5896 - learning_rate: 0.0010\n",
            "Epoch 15/100\n",
            "\u001b[1m9/9\u001b[0m \u001b[32m━━━━━━━━━━━━━━━━━━━━\u001b[0m\u001b[37m\u001b[0m \u001b[1m4s\u001b[0m 398ms/step - accuracy: 0.3041 - loss: 1.5253 - val_accuracy: 0.2381 - val_loss: 1.5706 - learning_rate: 0.0010\n",
            "Epoch 16/100\n",
            "\u001b[1m9/9\u001b[0m \u001b[32m━━━━━━━━━━━━━━━━━━━━\u001b[0m\u001b[37m\u001b[0m \u001b[1m5s\u001b[0m 415ms/step - accuracy: 0.2894 - loss: 1.5840 - val_accuracy: 0.3333 - val_loss: 1.4985 - learning_rate: 0.0010\n",
            "Epoch 17/100\n",
            "\u001b[1m9/9\u001b[0m \u001b[32m━━━━━━━━━━━━━━━━━━━━\u001b[0m\u001b[37m\u001b[0m \u001b[1m5s\u001b[0m 368ms/step - accuracy: 0.3318 - loss: 1.4934 - val_accuracy: 0.3333 - val_loss: 1.5206 - learning_rate: 0.0010\n",
            "Epoch 18/100\n",
            "\u001b[1m9/9\u001b[0m \u001b[32m━━━━━━━━━━━━━━━━━━━━\u001b[0m\u001b[37m\u001b[0m \u001b[1m5s\u001b[0m 374ms/step - accuracy: 0.3279 - loss: 1.4733 - val_accuracy: 0.2460 - val_loss: 1.5788 - learning_rate: 0.0010\n",
            "Epoch 19/100\n",
            "\u001b[1m9/9\u001b[0m \u001b[32m━━━━━━━━━━━━━━━━━━━━\u001b[0m\u001b[37m\u001b[0m \u001b[1m4s\u001b[0m 486ms/step - accuracy: 0.2946 - loss: 1.5200 - val_accuracy: 0.3095 - val_loss: 1.4685 - learning_rate: 0.0010\n",
            "Epoch 20/100\n",
            "\u001b[1m9/9\u001b[0m \u001b[32m━━━━━━━━━━━━━━━━━━━━\u001b[0m\u001b[37m\u001b[0m \u001b[1m4s\u001b[0m 368ms/step - accuracy: 0.3599 - loss: 1.4577 - val_accuracy: 0.3175 - val_loss: 1.4960 - learning_rate: 0.0010\n",
            "Epoch 21/100\n",
            "\u001b[1m9/9\u001b[0m \u001b[32m━━━━━━━━━━━━━━━━━━━━\u001b[0m\u001b[37m\u001b[0m \u001b[1m3s\u001b[0m 369ms/step - accuracy: 0.3222 - loss: 1.4841 - val_accuracy: 0.3095 - val_loss: 1.4997 - learning_rate: 0.0010\n",
            "Epoch 22/100\n",
            "\u001b[1m9/9\u001b[0m \u001b[32m━━━━━━━━━━━━━━━━━━━━\u001b[0m\u001b[37m\u001b[0m \u001b[1m3s\u001b[0m 366ms/step - accuracy: 0.3273 - loss: 1.4670 - val_accuracy: 0.2460 - val_loss: 1.6500 - learning_rate: 0.0010\n",
            "Epoch 23/100\n",
            "\u001b[1m9/9\u001b[0m \u001b[32m━━━━━━━━━━━━━━━━━━━━\u001b[0m\u001b[37m\u001b[0m \u001b[1m5s\u001b[0m 364ms/step - accuracy: 0.2785 - loss: 1.5592 - val_accuracy: 0.2937 - val_loss: 1.4722 - learning_rate: 0.0010\n",
            "Epoch 24/100\n",
            "\u001b[1m9/9\u001b[0m \u001b[32m━━━━━━━━━━━━━━━━━━━━\u001b[0m\u001b[37m\u001b[0m \u001b[1m5s\u001b[0m 364ms/step - accuracy: 0.3482 - loss: 1.4441 - val_accuracy: 0.3413 - val_loss: 1.5035 - learning_rate: 0.0010\n",
            "Epoch 25/100\n",
            "\u001b[1m9/9\u001b[0m \u001b[32m━━━━━━━━━━━━━━━━━━━━\u001b[0m\u001b[37m\u001b[0m \u001b[1m3s\u001b[0m 363ms/step - accuracy: 0.3622 - loss: 1.4192 - val_accuracy: 0.3730 - val_loss: 1.4958 - learning_rate: 9.5000e-04\n",
            "Epoch 26/100\n",
            "\u001b[1m9/9\u001b[0m \u001b[32m━━━━━━━━━━━━━━━━━━━━\u001b[0m\u001b[37m\u001b[0m \u001b[1m3s\u001b[0m 365ms/step - accuracy: 0.3629 - loss: 1.4300 - val_accuracy: 0.3730 - val_loss: 1.4874 - learning_rate: 9.5000e-04\n",
            "Epoch 27/100\n",
            "\u001b[1m9/9\u001b[0m \u001b[32m━━━━━━━━━━━━━━━━━━━━\u001b[0m\u001b[37m\u001b[0m \u001b[1m3s\u001b[0m 367ms/step - accuracy: 0.4325 - loss: 1.3470 - val_accuracy: 0.3413 - val_loss: 1.5436 - learning_rate: 9.5000e-04\n",
            "Epoch 28/100\n",
            "\u001b[1m9/9\u001b[0m \u001b[32m━━━━━━━━━━━━━━━━━━━━\u001b[0m\u001b[37m\u001b[0m \u001b[1m3s\u001b[0m 367ms/step - accuracy: 0.4028 - loss: 1.3812 - val_accuracy: 0.2857 - val_loss: 1.6320 - learning_rate: 9.5000e-04\n",
            "Epoch 29/100\n",
            "\u001b[1m9/9\u001b[0m \u001b[32m━━━━━━━━━━━━━━━━━━━━\u001b[0m\u001b[37m\u001b[0m \u001b[1m5s\u001b[0m 363ms/step - accuracy: 0.3692 - loss: 1.4398 - val_accuracy: 0.3413 - val_loss: 1.4809 - learning_rate: 9.5000e-04\n",
            "Epoch 30/100\n",
            "\u001b[1m9/9\u001b[0m \u001b[32m━━━━━━━━━━━━━━━━━━━━\u001b[0m\u001b[37m\u001b[0m \u001b[1m3s\u001b[0m 363ms/step - accuracy: 0.4177 - loss: 1.3891 - val_accuracy: 0.3810 - val_loss: 1.4896 - learning_rate: 9.0250e-04\n",
            "Epoch 31/100\n",
            "\u001b[1m9/9\u001b[0m \u001b[32m━━━━━━━━━━━━━━━━━━━━\u001b[0m\u001b[37m\u001b[0m \u001b[1m5s\u001b[0m 363ms/step - accuracy: 0.4139 - loss: 1.3446 - val_accuracy: 0.3254 - val_loss: 1.5654 - learning_rate: 9.0250e-04\n",
            "Epoch 32/100\n",
            "\u001b[1m9/9\u001b[0m \u001b[32m━━━━━━━━━━━━━━━━━━━━\u001b[0m\u001b[37m\u001b[0m \u001b[1m3s\u001b[0m 364ms/step - accuracy: 0.4126 - loss: 1.3420 - val_accuracy: 0.3730 - val_loss: 1.5129 - learning_rate: 9.0250e-04\n",
            "Epoch 33/100\n",
            "\u001b[1m9/9\u001b[0m \u001b[32m━━━━━━━━━━━━━━━━━━━━\u001b[0m\u001b[37m\u001b[0m \u001b[1m5s\u001b[0m 366ms/step - accuracy: 0.4095 - loss: 1.3314 - val_accuracy: 0.3492 - val_loss: 1.4865 - learning_rate: 9.0250e-04\n",
            "Epoch 34/100\n",
            "\u001b[1m9/9\u001b[0m \u001b[32m━━━━━━━━━━━━━━━━━━━━\u001b[0m\u001b[37m\u001b[0m \u001b[1m5s\u001b[0m 365ms/step - accuracy: 0.4406 - loss: 1.2935 - val_accuracy: 0.3095 - val_loss: 1.6328 - learning_rate: 9.0250e-04\n"
          ]
        }
      ]
    },
    {
      "cell_type": "code",
      "execution_count": null,
      "metadata": {
        "colab": {
          "base_uri": "https://localhost:8080/",
          "height": 913
        },
        "id": "EMvarXO7HBAT",
        "outputId": "65b82e9c-e5d4-46f8-9665-9b26db0267fd"
      },
      "outputs": [
        {
          "output_type": "display_data",
          "data": {
            "text/plain": [
              "<Figure size 1000x600 with 1 Axes>"
            ],
            "image/png": "[encoded data removed]"
          },
          "metadata": {}
        },
        {
          "output_type": "display_data",
          "data": {
            "text/plain": [
              "<Figure size 1000x600 with 1 Axes>"
            ],
            "image/png": "[encoded data removed]"
          },
          "metadata": {}
        },
        {
          "output_type": "stream",
          "name": "stdout",
          "text": [
            "\u001b[1m10/10\u001b[0m \u001b[32m━━━━━━━━━━━━━━━━━━━━\u001b[0m\u001b[37m\u001b[0m \u001b[1m1s\u001b[0m 93ms/step\n",
            "0.31746031746031744\n"
          ]
        }
      ],
      "source": [
        "from sklearn.metrics import accuracy_score\n",
        "import pandas as pd\n",
        "\n",
        "history_df = pd.DataFrame(hist.history)\n",
        "\n",
        "# Plot training and validation accuracy\n",
        "plt.figure(figsize=(10, 6))\n",
        "plt.plot(history_df['accuracy'], label='Training Accuracy')\n",
        "plt.plot(history_df['val_accuracy'], linestyle='--', label='Validation Accuracy')\n",
        "plt.xlabel('Epochs')\n",
        "plt.ylabel('Accuracy')\n",
        "plt.title('Training and Validation Accuracy')\n",
        "plt.legend()\n",
        "plt.show()\n",
        "\n",
        "# Plot training and validation loss\n",
        "plt.figure(figsize=(10, 6))\n",
        "plt.plot(history_df['loss'], label='Training Loss')\n",
        "plt.plot(history_df['val_loss'], linestyle='--', label='Validation Loss')\n",
        "plt.xlabel('Epochs')\n",
        "plt.ylabel('Loss')\n",
        "plt.title('Training and Validation Loss')\n",
        "plt.ylim(0, 1.5)\n",
        "plt.legend()\n",
        "plt.show()\n",
        "\n",
        "y_pred =cnn.predict(X_test)\n",
        "y_pred_classes = np.argmax(y_pred, axis=1)\n",
        "accuracy = accuracy_score(y_test, y_pred_classes)\n",
        "print(accuracy)"
      ]
    },
    {
      "cell_type": "code",
      "source": [
        "# @title\n",
        "import tensorflow as tf\n",
        "from tensorflow.keras.layers import Layer\n",
        "\n",
        "# class to support creating spectrograms within tf\n",
        "class EEGSpectrogramLayer(Layer):\n",
        "    def __init__(self, fs=500, nperseg=100, noverlap=0, **kwargs):\n",
        "        super(EEGSpectrogramLayer, self).__init__(**kwargs)\n",
        "        self.fs = fs\n",
        "        self.nperseg = nperseg\n",
        "        self.noverlap = noverlap\n",
        "\n",
        "    def call(self, inputs):\n",
        "        def _compute_spec(x_np):\n",
        "            specs = []\n",
        "            for i in range(x_np.shape[0]):  # loop over neurons\n",
        "                f, t, Sxx = scipy.signal.spectrogram(\n",
        "                    x_np[i],\n",
        "                    fs=self.fs,\n",
        "                    nperseg=self.nperseg,\n",
        "                    noverlap=self.noverlap,\n",
        "                )\n",
        "                specs.append(Sxx)\n",
        "            return np.stack(specs, axis=-1)  # Shape: (freq, time, neurons)\n",
        "\n",
        "        specs = tf.numpy_function(_compute_spec, [inputs], tf.float32)\n",
        "        specs.set_shape([None, None, inputs.shape[0]])  # freq, time, channels\n",
        "        return specs\n"
      ],
      "metadata": {
        "id": "-BMO7LaFomgP",
        "cellView": "form"
      },
      "execution_count": null,
      "outputs": []
    },
    {
      "cell_type": "code",
      "source": [
        "'''Other ideas:\n",
        "Need to experiment with different numbers of classes.\n",
        "Can we edit Mike's functions to get more data for each dataset?\n",
        "\n",
        "pass data through BPF before making the spectorgram to get rid of anything more than 500 hz\n",
        "WE ARE USING LPFs NOT EEGs\n",
        "'''"
      ],
      "metadata": {
        "id": "p0r0Yv-cX6EA"
      },
      "execution_count": null,
      "outputs": []
    },
    {
      "cell_type": "code",
      "source": [
        "#specs = compute_eeg_spectrograms(epoched_total)\n",
        "specs_left = compute_eeg_spectrograms(epoched_left)\n",
        "specs_right = compute_eeg_spectrograms(epoched_right)\n",
        "#print(specs.shape)\n",
        "print(specs_left.shape)\n",
        "print(specs_right.shape)"
      ],
      "metadata": {
        "colab": {
          "base_uri": "https://localhost:8080/"
        },
        "id": "m0eZWPdoWcN2",
        "outputId": "6f653920-50c2-40b2-bcaa-46e4f83af54c"
      },
      "execution_count": null,
      "outputs": [
        {
          "output_type": "stream",
          "name": "stdout",
          "text": [
            "(775, 256, 51, 5)\n",
            "(800, 256, 51, 5)\n"
          ]
        }
      ]
    },
    {
      "cell_type": "code",
      "source": [
        "X_left = specs_left.transpose(0, 2, 3, 1)\n",
        "y_left = np.repeat(np.arange(0, 5), epoched_left.shape[2])\n",
        "X_right = specs_right.transpose(0, 2, 3, 1)\n",
        "y_right = np.repeat(np.arange(5, 10), epoched_right.shape[2])\n",
        "X_total = np.concatenate((X_left, X_right), axis=0)\n",
        "y_total = np.concatenate((y_left, y_right), axis=0)\n",
        "print(X_total.shape)\n",
        "print(y_total.shape)\n",
        "X_train, X_test, y_train, y_test = train_test_split(X_total, y_total, test_size=0.2, random_state=42)"
      ],
      "metadata": {
        "colab": {
          "base_uri": "https://localhost:8080/"
        },
        "id": "bwBALLCdOWFN",
        "outputId": "be294b73-d25d-4876-b0f4-20cb1fe84960"
      },
      "execution_count": null,
      "outputs": [
        {
          "output_type": "stream",
          "name": "stdout",
          "text": [
            "(1575, 51, 5, 256)\n",
            "(1575,)\n"
          ]
        }
      ]
    },
    {
      "cell_type": "code",
      "source": [
        "del specs_left, specs_right, X_left, X_right, y_left, y_right, X_total, y_total\n",
        "gc.collect()"
      ],
      "metadata": {
        "id": "Co9qst8kpr1F",
        "colab": {
          "base_uri": "https://localhost:8080/"
        },
        "outputId": "ce3b0047-3b59-411b-a5e8-c12f3d848ce1"
      },
      "execution_count": null,
      "outputs": [
        {
          "output_type": "execute_result",
          "data": {
            "text/plain": [
              "8098"
            ]
          },
          "metadata": {},
          "execution_count": 30
        }
      ]
    },
    {
      "cell_type": "code",
      "execution_count": null,
      "metadata": {
        "colab": {
          "base_uri": "https://localhost:8080/",
          "height": 356
        },
        "id": "ExtyBRO32rtK",
        "outputId": "d325e803-3068-45ba-905d-b39bac8e90e9",
        "collapsed": true
      },
      "outputs": [
        {
          "output_type": "error",
          "ename": "ValueError",
          "evalue": "Found input variables with inconsistent numbers of samples: [1280, 2560]",
          "traceback": [
            "\u001b[0;31m---------------------------------------------------------------------------\u001b[0m",
            "\u001b[0;31mValueError\u001b[0m                                Traceback (most recent call last)",
            "\u001b[0;32m<ipython-input-29-35e064ea7b92>\u001b[0m in \u001b[0;36m<cell line: 0>\u001b[0;34m()\u001b[0m\n\u001b[1;32m     27\u001b[0m \u001b[0my\u001b[0m \u001b[0;34m=\u001b[0m \u001b[0mnp\u001b[0m\u001b[0;34m.\u001b[0m\u001b[0mconcatenate\u001b[0m\u001b[0;34m(\u001b[0m\u001b[0;34m(\u001b[0m\u001b[0my_left\u001b[0m\u001b[0;34m,\u001b[0m \u001b[0my_right\u001b[0m\u001b[0;34m)\u001b[0m\u001b[0;34m,\u001b[0m \u001b[0maxis\u001b[0m\u001b[0;34m=\u001b[0m\u001b[0;36m0\u001b[0m\u001b[0;34m)\u001b[0m\u001b[0;34m\u001b[0m\u001b[0;34m\u001b[0m\u001b[0m\n\u001b[1;32m     28\u001b[0m \u001b[0;34m\u001b[0m\u001b[0m\n\u001b[0;32m---> 29\u001b[0;31m \u001b[0mX_train\u001b[0m\u001b[0;34m,\u001b[0m \u001b[0mX_test\u001b[0m\u001b[0;34m,\u001b[0m \u001b[0my_train\u001b[0m\u001b[0;34m,\u001b[0m \u001b[0my_test\u001b[0m \u001b[0;34m=\u001b[0m \u001b[0mtrain_test_split\u001b[0m\u001b[0;34m(\u001b[0m\u001b[0mepoched_total\u001b[0m\u001b[0;34m,\u001b[0m \u001b[0my\u001b[0m\u001b[0;34m,\u001b[0m \u001b[0mtest_size\u001b[0m\u001b[0;34m=\u001b[0m\u001b[0;36m0.2\u001b[0m\u001b[0;34m,\u001b[0m \u001b[0mrandom_state\u001b[0m\u001b[0;34m=\u001b[0m\u001b[0;36m42\u001b[0m\u001b[0;34m)\u001b[0m\u001b[0;34m\u001b[0m\u001b[0;34m\u001b[0m\u001b[0m\n\u001b[0m",
            "\u001b[0;32m/usr/local/lib/python3.11/dist-packages/sklearn/utils/_param_validation.py\u001b[0m in \u001b[0;36mwrapper\u001b[0;34m(*args, **kwargs)\u001b[0m\n\u001b[1;32m    214\u001b[0m                     )\n\u001b[1;32m    215\u001b[0m                 ):\n\u001b[0;32m--> 216\u001b[0;31m                     \u001b[0;32mreturn\u001b[0m \u001b[0mfunc\u001b[0m\u001b[0;34m(\u001b[0m\u001b[0;34m*\u001b[0m\u001b[0margs\u001b[0m\u001b[0;34m,\u001b[0m \u001b[0;34m**\u001b[0m\u001b[0mkwargs\u001b[0m\u001b[0;34m)\u001b[0m\u001b[0;34m\u001b[0m\u001b[0;34m\u001b[0m\u001b[0m\n\u001b[0m\u001b[1;32m    217\u001b[0m             \u001b[0;32mexcept\u001b[0m \u001b[0mInvalidParameterError\u001b[0m \u001b[0;32mas\u001b[0m \u001b[0me\u001b[0m\u001b[0;34m:\u001b[0m\u001b[0;34m\u001b[0m\u001b[0;34m\u001b[0m\u001b[0m\n\u001b[1;32m    218\u001b[0m                 \u001b[0;31m# When the function is just a wrapper around an estimator, we allow\u001b[0m\u001b[0;34m\u001b[0m\u001b[0;34m\u001b[0m\u001b[0m\n",
            "\u001b[0;32m/usr/local/lib/python3.11/dist-packages/sklearn/model_selection/_split.py\u001b[0m in \u001b[0;36mtrain_test_split\u001b[0;34m(test_size, train_size, random_state, shuffle, stratify, *arrays)\u001b[0m\n\u001b[1;32m   2846\u001b[0m         \u001b[0;32mraise\u001b[0m \u001b[0mValueError\u001b[0m\u001b[0;34m(\u001b[0m\u001b[0;34m\"At least one array required as input\"\u001b[0m\u001b[0;34m)\u001b[0m\u001b[0;34m\u001b[0m\u001b[0;34m\u001b[0m\u001b[0m\n\u001b[1;32m   2847\u001b[0m \u001b[0;34m\u001b[0m\u001b[0m\n\u001b[0;32m-> 2848\u001b[0;31m     \u001b[0marrays\u001b[0m \u001b[0;34m=\u001b[0m \u001b[0mindexable\u001b[0m\u001b[0;34m(\u001b[0m\u001b[0;34m*\u001b[0m\u001b[0marrays\u001b[0m\u001b[0;34m)\u001b[0m\u001b[0;34m\u001b[0m\u001b[0;34m\u001b[0m\u001b[0m\n\u001b[0m\u001b[1;32m   2849\u001b[0m \u001b[0;34m\u001b[0m\u001b[0m\n\u001b[1;32m   2850\u001b[0m     \u001b[0mn_samples\u001b[0m \u001b[0;34m=\u001b[0m \u001b[0m_num_samples\u001b[0m\u001b[0;34m(\u001b[0m\u001b[0marrays\u001b[0m\u001b[0;34m[\u001b[0m\u001b[0;36m0\u001b[0m\u001b[0;34m]\u001b[0m\u001b[0;34m)\u001b[0m\u001b[0;34m\u001b[0m\u001b[0;34m\u001b[0m\u001b[0m\n",
            "\u001b[0;32m/usr/local/lib/python3.11/dist-packages/sklearn/utils/validation.py\u001b[0m in \u001b[0;36mindexable\u001b[0;34m(*iterables)\u001b[0m\n\u001b[1;32m    530\u001b[0m \u001b[0;34m\u001b[0m\u001b[0m\n\u001b[1;32m    531\u001b[0m     \u001b[0mresult\u001b[0m \u001b[0;34m=\u001b[0m \u001b[0;34m[\u001b[0m\u001b[0m_make_indexable\u001b[0m\u001b[0;34m(\u001b[0m\u001b[0mX\u001b[0m\u001b[0;34m)\u001b[0m \u001b[0;32mfor\u001b[0m \u001b[0mX\u001b[0m \u001b[0;32min\u001b[0m \u001b[0miterables\u001b[0m\u001b[0;34m]\u001b[0m\u001b[0;34m\u001b[0m\u001b[0;34m\u001b[0m\u001b[0m\n\u001b[0;32m--> 532\u001b[0;31m     \u001b[0mcheck_consistent_length\u001b[0m\u001b[0;34m(\u001b[0m\u001b[0;34m*\u001b[0m\u001b[0mresult\u001b[0m\u001b[0;34m)\u001b[0m\u001b[0;34m\u001b[0m\u001b[0;34m\u001b[0m\u001b[0m\n\u001b[0m\u001b[1;32m    533\u001b[0m     \u001b[0;32mreturn\u001b[0m \u001b[0mresult\u001b[0m\u001b[0;34m\u001b[0m\u001b[0;34m\u001b[0m\u001b[0m\n\u001b[1;32m    534\u001b[0m \u001b[0;34m\u001b[0m\u001b[0m\n",
            "\u001b[0;32m/usr/local/lib/python3.11/dist-packages/sklearn/utils/validation.py\u001b[0m in \u001b[0;36mcheck_consistent_length\u001b[0;34m(*arrays)\u001b[0m\n\u001b[1;32m    473\u001b[0m     \u001b[0muniques\u001b[0m \u001b[0;34m=\u001b[0m \u001b[0mnp\u001b[0m\u001b[0;34m.\u001b[0m\u001b[0munique\u001b[0m\u001b[0;34m(\u001b[0m\u001b[0mlengths\u001b[0m\u001b[0;34m)\u001b[0m\u001b[0;34m\u001b[0m\u001b[0;34m\u001b[0m\u001b[0m\n\u001b[1;32m    474\u001b[0m     \u001b[0;32mif\u001b[0m \u001b[0mlen\u001b[0m\u001b[0;34m(\u001b[0m\u001b[0muniques\u001b[0m\u001b[0;34m)\u001b[0m \u001b[0;34m>\u001b[0m \u001b[0;36m1\u001b[0m\u001b[0;34m:\u001b[0m\u001b[0;34m\u001b[0m\u001b[0;34m\u001b[0m\u001b[0m\n\u001b[0;32m--> 475\u001b[0;31m         raise ValueError(\n\u001b[0m\u001b[1;32m    476\u001b[0m             \u001b[0;34m\"Found input variables with inconsistent numbers of samples: %r\"\u001b[0m\u001b[0;34m\u001b[0m\u001b[0;34m\u001b[0m\u001b[0m\n\u001b[1;32m    477\u001b[0m             \u001b[0;34m%\u001b[0m \u001b[0;34m[\u001b[0m\u001b[0mint\u001b[0m\u001b[0;34m(\u001b[0m\u001b[0ml\u001b[0m\u001b[0;34m)\u001b[0m \u001b[0;32mfor\u001b[0m \u001b[0ml\u001b[0m \u001b[0;32min\u001b[0m \u001b[0mlengths\u001b[0m\u001b[0;34m]\u001b[0m\u001b[0;34m\u001b[0m\u001b[0;34m\u001b[0m\u001b[0m\n",
            "\u001b[0;31mValueError\u001b[0m: Found input variables with inconsistent numbers of samples: [1280, 2560]"
          ]
        }
      ],
      "source": [
        "# @title\n",
        "#epoched_total = epoched_total.transpose(0, 3, 1, 2).reshape(-1, 508, total_trials)\n",
        "#y = np.repeat(np.arange(5), 256)\n",
        "#X = epoched_total.reshape(-1, 508, 35)  # Separates data by electrode\n",
        "#y = np.repeat(np.arange(5), 256)  # Labels: [0,0,0,...,1,1,1,...,4,4,4]\n",
        "\n",
        "#X = epoched.transpose(2, 3, 0, 1).reshape(-1, 256, 508)  # separates by trial\n",
        "#y = np.tile(np.arange(5), 35)  # Labels: [0, 1, 2, 3, 4, 0, 1, 2, ...]\n",
        "\n",
        "#print(\"New X shape:\", epoched_total.shape)  # (1280, 508, 35)\n",
        "#print(\"New y shape:\", y.shape)  # (1280,)\n",
        "#epoched_total = epoched_total[..., np.newaxis]\n",
        "\n",
        "#epoched_left = epoched_left.transpose(0, 3, 1, 2).reshape(-1, 508, epoched_left.shape[2])\n",
        "y_left = np.repeat(np.arange(0, 10, 2), 256)\n",
        "\n",
        "#epoched_right = epoched_right.transpose(0, 3, 1, 2).reshape(-1, 508, epoched_right.shape[2])\n",
        "y_right = np.repeat(np.arange(1, 10, 2), 256)\n",
        "\n",
        "min_trials = min(epoched_left.shape[2], epoched_right.shape[2])\n",
        "\n",
        "# Truncate both arrays to the minimum number of trials\n",
        "epoched_left = epoched_left[:, :, :min_trials]\n",
        "epoched_right = epoched_right[:, :, :min_trials]\n",
        "\n",
        "epoched_total = np.concatenate((epoched_left, epoched_right), axis=2)\n",
        "y = np.concatenate((y_left, y_right), axis=0)\n",
        "\n",
        "X_train, X_test, y_train, y_test = train_test_split(epoched_total, y, test_size=0.2, random_state=42)"
      ]
    },
    {
      "cell_type": "code",
      "source": [
        "# @title\n",
        "# 1D CNN architecture that trains directly on data loaded using Mike's functions\n",
        "\n",
        "input_shape = (508, total_trials)\n",
        "output_shape = 5\n",
        "\n",
        "model = keras.Sequential(\n",
        "    [\n",
        "        keras.Input(shape=input_shape),\n",
        "        layers.Conv1D(128, kernel_size=3, activation=\"relu\", padding=\"same\"),\n",
        "        layers.Conv1D(128, kernel_size=5, activation=\"relu\", padding=\"same\"),\n",
        "        layers.Conv1D(128, kernel_size=7, activation=\"relu\", padding=\"same\"),\n",
        "        layers.Dropout(0.75),\n",
        "        layers.MaxPooling1D(pool_size=3),\n",
        "        layers.Conv1D(256, kernel_size=3, activation=\"relu\", padding=\"same\"),\n",
        "        layers.Conv1D(256, kernel_size=5, activation=\"relu\", padding=\"same\"),\n",
        "        layers.Dropout(0.75),\n",
        "        layers.MaxPooling1D(pool_size=2),\n",
        "        layers.Conv1D(512, kernel_size=3, activation=\"relu\", padding=\"same\"),\n",
        "        layers.Dropout(0.75),\n",
        "        layers.MaxPooling1D(pool_size=2),\n",
        "        layers.Flatten(),\n",
        "        layers.Dense(512, activation=\"relu\"),\n",
        "        layers.Dropout(0.75),\n",
        "        layers.Dense(output_shape, activation=\"softmax\"),\n",
        "    ]\n",
        ")\n",
        "\n",
        "model.summary()"
      ],
      "metadata": {
        "colab": {
          "base_uri": "https://localhost:8080/",
          "height": 641
        },
        "id": "-eCdXRXWflYC",
        "outputId": "31056887-de1b-4b3e-9938-4a0e7af58e70",
        "collapsed": true,
        "cellView": "form"
      },
      "execution_count": null,
      "outputs": [
        {
          "output_type": "display_data",
          "data": {
            "text/plain": [
              "\u001b[1mModel: \"sequential_5\"\u001b[0m\n"
            ],
            "text/html": [
              "<pre style=\"white-space:pre;overflow-x:auto;line-height:normal;font-family:Menlo,'DejaVu Sans Mono',consolas,'Courier New',monospace\"><span style=\"font-weight: bold\">Model: \"sequential_5\"</span>\n",
              "</pre>\n"
            ]
          },
          "metadata": {}
        },
        {
          "output_type": "display_data",
          "data": {
            "text/plain": [
              "┏━━━━━━━━━━━━━━━━━━━━━━━━━━━━━━━━━━━━━━┳━━━━━━━━━━━━━━━━━━━━━━━━━━━━━┳━━━━━━━━━━━━━━━━━┓\n",
              "┃\u001b[1m \u001b[0m\u001b[1mLayer (type)                        \u001b[0m\u001b[1m \u001b[0m┃\u001b[1m \u001b[0m\u001b[1mOutput Shape               \u001b[0m\u001b[1m \u001b[0m┃\u001b[1m \u001b[0m\u001b[1m        Param #\u001b[0m\u001b[1m \u001b[0m┃\n",
              "┡━━━━━━━━━━━━━━━━━━━━━━━━━━━━━━━━━━━━━━╇━━━━━━━━━━━━━━━━━━━━━━━━━━━━━╇━━━━━━━━━━━━━━━━━┩\n",
              "│ conv1d (\u001b[38;5;33mConv1D\u001b[0m)                      │ (\u001b[38;5;45mNone\u001b[0m, \u001b[38;5;34m508\u001b[0m, \u001b[38;5;34m128\u001b[0m)            │         \u001b[38;5;34m121,088\u001b[0m │\n",
              "├──────────────────────────────────────┼─────────────────────────────┼─────────────────┤\n",
              "│ conv1d_1 (\u001b[38;5;33mConv1D\u001b[0m)                    │ (\u001b[38;5;45mNone\u001b[0m, \u001b[38;5;34m508\u001b[0m, \u001b[38;5;34m128\u001b[0m)            │          \u001b[38;5;34m82,048\u001b[0m │\n",
              "├──────────────────────────────────────┼─────────────────────────────┼─────────────────┤\n",
              "│ conv1d_2 (\u001b[38;5;33mConv1D\u001b[0m)                    │ (\u001b[38;5;45mNone\u001b[0m, \u001b[38;5;34m508\u001b[0m, \u001b[38;5;34m128\u001b[0m)            │         \u001b[38;5;34m114,816\u001b[0m │\n",
              "├──────────────────────────────────────┼─────────────────────────────┼─────────────────┤\n",
              "│ dropout_17 (\u001b[38;5;33mDropout\u001b[0m)                 │ (\u001b[38;5;45mNone\u001b[0m, \u001b[38;5;34m508\u001b[0m, \u001b[38;5;34m128\u001b[0m)            │               \u001b[38;5;34m0\u001b[0m │\n",
              "├──────────────────────────────────────┼─────────────────────────────┼─────────────────┤\n",
              "│ max_pooling1d (\u001b[38;5;33mMaxPooling1D\u001b[0m)         │ (\u001b[38;5;45mNone\u001b[0m, \u001b[38;5;34m169\u001b[0m, \u001b[38;5;34m128\u001b[0m)            │               \u001b[38;5;34m0\u001b[0m │\n",
              "├──────────────────────────────────────┼─────────────────────────────┼─────────────────┤\n",
              "│ conv1d_3 (\u001b[38;5;33mConv1D\u001b[0m)                    │ (\u001b[38;5;45mNone\u001b[0m, \u001b[38;5;34m169\u001b[0m, \u001b[38;5;34m256\u001b[0m)            │          \u001b[38;5;34m98,560\u001b[0m │\n",
              "├──────────────────────────────────────┼─────────────────────────────┼─────────────────┤\n",
              "│ conv1d_4 (\u001b[38;5;33mConv1D\u001b[0m)                    │ (\u001b[38;5;45mNone\u001b[0m, \u001b[38;5;34m169\u001b[0m, \u001b[38;5;34m256\u001b[0m)            │         \u001b[38;5;34m327,936\u001b[0m │\n",
              "├──────────────────────────────────────┼─────────────────────────────┼─────────────────┤\n",
              "│ dropout_18 (\u001b[38;5;33mDropout\u001b[0m)                 │ (\u001b[38;5;45mNone\u001b[0m, \u001b[38;5;34m169\u001b[0m, \u001b[38;5;34m256\u001b[0m)            │               \u001b[38;5;34m0\u001b[0m │\n",
              "├──────────────────────────────────────┼─────────────────────────────┼─────────────────┤\n",
              "│ max_pooling1d_1 (\u001b[38;5;33mMaxPooling1D\u001b[0m)       │ (\u001b[38;5;45mNone\u001b[0m, \u001b[38;5;34m84\u001b[0m, \u001b[38;5;34m256\u001b[0m)             │               \u001b[38;5;34m0\u001b[0m │\n",
              "├──────────────────────────────────────┼─────────────────────────────┼─────────────────┤\n",
              "│ conv1d_5 (\u001b[38;5;33mConv1D\u001b[0m)                    │ (\u001b[38;5;45mNone\u001b[0m, \u001b[38;5;34m84\u001b[0m, \u001b[38;5;34m512\u001b[0m)             │         \u001b[38;5;34m393,728\u001b[0m │\n",
              "├──────────────────────────────────────┼─────────────────────────────┼─────────────────┤\n",
              "│ dropout_19 (\u001b[38;5;33mDropout\u001b[0m)                 │ (\u001b[38;5;45mNone\u001b[0m, \u001b[38;5;34m84\u001b[0m, \u001b[38;5;34m512\u001b[0m)             │               \u001b[38;5;34m0\u001b[0m │\n",
              "├──────────────────────────────────────┼─────────────────────────────┼─────────────────┤\n",
              "│ max_pooling1d_2 (\u001b[38;5;33mMaxPooling1D\u001b[0m)       │ (\u001b[38;5;45mNone\u001b[0m, \u001b[38;5;34m42\u001b[0m, \u001b[38;5;34m512\u001b[0m)             │               \u001b[38;5;34m0\u001b[0m │\n",
              "├──────────────────────────────────────┼─────────────────────────────┼─────────────────┤\n",
              "│ flatten_5 (\u001b[38;5;33mFlatten\u001b[0m)                  │ (\u001b[38;5;45mNone\u001b[0m, \u001b[38;5;34m21504\u001b[0m)               │               \u001b[38;5;34m0\u001b[0m │\n",
              "├──────────────────────────────────────┼─────────────────────────────┼─────────────────┤\n",
              "│ dense_10 (\u001b[38;5;33mDense\u001b[0m)                     │ (\u001b[38;5;45mNone\u001b[0m, \u001b[38;5;34m512\u001b[0m)                 │      \u001b[38;5;34m11,010,560\u001b[0m │\n",
              "├──────────────────────────────────────┼─────────────────────────────┼─────────────────┤\n",
              "│ dropout_20 (\u001b[38;5;33mDropout\u001b[0m)                 │ (\u001b[38;5;45mNone\u001b[0m, \u001b[38;5;34m512\u001b[0m)                 │               \u001b[38;5;34m0\u001b[0m │\n",
              "├──────────────────────────────────────┼─────────────────────────────┼─────────────────┤\n",
              "│ dense_11 (\u001b[38;5;33mDense\u001b[0m)                     │ (\u001b[38;5;45mNone\u001b[0m, \u001b[38;5;34m5\u001b[0m)                   │           \u001b[38;5;34m2,565\u001b[0m │\n",
              "└──────────────────────────────────────┴─────────────────────────────┴─────────────────┘\n"
            ],
            "text/html": [
              "<pre style=\"white-space:pre;overflow-x:auto;line-height:normal;font-family:Menlo,'DejaVu Sans Mono',consolas,'Courier New',monospace\">┏━━━━━━━━━━━━━━━━━━━━━━━━━━━━━━━━━━━━━━┳━━━━━━━━━━━━━━━━━━━━━━━━━━━━━┳━━━━━━━━━━━━━━━━━┓\n",
              "┃<span style=\"font-weight: bold\"> Layer (type)                         </span>┃<span style=\"font-weight: bold\"> Output Shape                </span>┃<span style=\"font-weight: bold\">         Param # </span>┃\n",
              "┡━━━━━━━━━━━━━━━━━━━━━━━━━━━━━━━━━━━━━━╇━━━━━━━━━━━━━━━━━━━━━━━━━━━━━╇━━━━━━━━━━━━━━━━━┩\n",
              "│ conv1d (<span style=\"color: #0087ff; text-decoration-color: #0087ff\">Conv1D</span>)                      │ (<span style=\"color: #00d7ff; text-decoration-color: #00d7ff\">None</span>, <span style=\"color: #00af00; text-decoration-color: #00af00\">508</span>, <span style=\"color: #00af00; text-decoration-color: #00af00\">128</span>)            │         <span style=\"color: #00af00; text-decoration-color: #00af00\">121,088</span> │\n",
              "├──────────────────────────────────────┼─────────────────────────────┼─────────────────┤\n",
              "│ conv1d_1 (<span style=\"color: #0087ff; text-decoration-color: #0087ff\">Conv1D</span>)                    │ (<span style=\"color: #00d7ff; text-decoration-color: #00d7ff\">None</span>, <span style=\"color: #00af00; text-decoration-color: #00af00\">508</span>, <span style=\"color: #00af00; text-decoration-color: #00af00\">128</span>)            │          <span style=\"color: #00af00; text-decoration-color: #00af00\">82,048</span> │\n",
              "├──────────────────────────────────────┼─────────────────────────────┼─────────────────┤\n",
              "│ conv1d_2 (<span style=\"color: #0087ff; text-decoration-color: #0087ff\">Conv1D</span>)                    │ (<span style=\"color: #00d7ff; text-decoration-color: #00d7ff\">None</span>, <span style=\"color: #00af00; text-decoration-color: #00af00\">508</span>, <span style=\"color: #00af00; text-decoration-color: #00af00\">128</span>)            │         <span style=\"color: #00af00; text-decoration-color: #00af00\">114,816</span> │\n",
              "├──────────────────────────────────────┼─────────────────────────────┼─────────────────┤\n",
              "│ dropout_17 (<span style=\"color: #0087ff; text-decoration-color: #0087ff\">Dropout</span>)                 │ (<span style=\"color: #00d7ff; text-decoration-color: #00d7ff\">None</span>, <span style=\"color: #00af00; text-decoration-color: #00af00\">508</span>, <span style=\"color: #00af00; text-decoration-color: #00af00\">128</span>)            │               <span style=\"color: #00af00; text-decoration-color: #00af00\">0</span> │\n",
              "├──────────────────────────────────────┼─────────────────────────────┼─────────────────┤\n",
              "│ max_pooling1d (<span style=\"color: #0087ff; text-decoration-color: #0087ff\">MaxPooling1D</span>)         │ (<span style=\"color: #00d7ff; text-decoration-color: #00d7ff\">None</span>, <span style=\"color: #00af00; text-decoration-color: #00af00\">169</span>, <span style=\"color: #00af00; text-decoration-color: #00af00\">128</span>)            │               <span style=\"color: #00af00; text-decoration-color: #00af00\">0</span> │\n",
              "├──────────────────────────────────────┼─────────────────────────────┼─────────────────┤\n",
              "│ conv1d_3 (<span style=\"color: #0087ff; text-decoration-color: #0087ff\">Conv1D</span>)                    │ (<span style=\"color: #00d7ff; text-decoration-color: #00d7ff\">None</span>, <span style=\"color: #00af00; text-decoration-color: #00af00\">169</span>, <span style=\"color: #00af00; text-decoration-color: #00af00\">256</span>)            │          <span style=\"color: #00af00; text-decoration-color: #00af00\">98,560</span> │\n",
              "├──────────────────────────────────────┼─────────────────────────────┼─────────────────┤\n",
              "│ conv1d_4 (<span style=\"color: #0087ff; text-decoration-color: #0087ff\">Conv1D</span>)                    │ (<span style=\"color: #00d7ff; text-decoration-color: #00d7ff\">None</span>, <span style=\"color: #00af00; text-decoration-color: #00af00\">169</span>, <span style=\"color: #00af00; text-decoration-color: #00af00\">256</span>)            │         <span style=\"color: #00af00; text-decoration-color: #00af00\">327,936</span> │\n",
              "├──────────────────────────────────────┼─────────────────────────────┼─────────────────┤\n",
              "│ dropout_18 (<span style=\"color: #0087ff; text-decoration-color: #0087ff\">Dropout</span>)                 │ (<span style=\"color: #00d7ff; text-decoration-color: #00d7ff\">None</span>, <span style=\"color: #00af00; text-decoration-color: #00af00\">169</span>, <span style=\"color: #00af00; text-decoration-color: #00af00\">256</span>)            │               <span style=\"color: #00af00; text-decoration-color: #00af00\">0</span> │\n",
              "├──────────────────────────────────────┼─────────────────────────────┼─────────────────┤\n",
              "│ max_pooling1d_1 (<span style=\"color: #0087ff; text-decoration-color: #0087ff\">MaxPooling1D</span>)       │ (<span style=\"color: #00d7ff; text-decoration-color: #00d7ff\">None</span>, <span style=\"color: #00af00; text-decoration-color: #00af00\">84</span>, <span style=\"color: #00af00; text-decoration-color: #00af00\">256</span>)             │               <span style=\"color: #00af00; text-decoration-color: #00af00\">0</span> │\n",
              "├──────────────────────────────────────┼─────────────────────────────┼─────────────────┤\n",
              "│ conv1d_5 (<span style=\"color: #0087ff; text-decoration-color: #0087ff\">Conv1D</span>)                    │ (<span style=\"color: #00d7ff; text-decoration-color: #00d7ff\">None</span>, <span style=\"color: #00af00; text-decoration-color: #00af00\">84</span>, <span style=\"color: #00af00; text-decoration-color: #00af00\">512</span>)             │         <span style=\"color: #00af00; text-decoration-color: #00af00\">393,728</span> │\n",
              "├──────────────────────────────────────┼─────────────────────────────┼─────────────────┤\n",
              "│ dropout_19 (<span style=\"color: #0087ff; text-decoration-color: #0087ff\">Dropout</span>)                 │ (<span style=\"color: #00d7ff; text-decoration-color: #00d7ff\">None</span>, <span style=\"color: #00af00; text-decoration-color: #00af00\">84</span>, <span style=\"color: #00af00; text-decoration-color: #00af00\">512</span>)             │               <span style=\"color: #00af00; text-decoration-color: #00af00\">0</span> │\n",
              "├──────────────────────────────────────┼─────────────────────────────┼─────────────────┤\n",
              "│ max_pooling1d_2 (<span style=\"color: #0087ff; text-decoration-color: #0087ff\">MaxPooling1D</span>)       │ (<span style=\"color: #00d7ff; text-decoration-color: #00d7ff\">None</span>, <span style=\"color: #00af00; text-decoration-color: #00af00\">42</span>, <span style=\"color: #00af00; text-decoration-color: #00af00\">512</span>)             │               <span style=\"color: #00af00; text-decoration-color: #00af00\">0</span> │\n",
              "├──────────────────────────────────────┼─────────────────────────────┼─────────────────┤\n",
              "│ flatten_5 (<span style=\"color: #0087ff; text-decoration-color: #0087ff\">Flatten</span>)                  │ (<span style=\"color: #00d7ff; text-decoration-color: #00d7ff\">None</span>, <span style=\"color: #00af00; text-decoration-color: #00af00\">21504</span>)               │               <span style=\"color: #00af00; text-decoration-color: #00af00\">0</span> │\n",
              "├──────────────────────────────────────┼─────────────────────────────┼─────────────────┤\n",
              "│ dense_10 (<span style=\"color: #0087ff; text-decoration-color: #0087ff\">Dense</span>)                     │ (<span style=\"color: #00d7ff; text-decoration-color: #00d7ff\">None</span>, <span style=\"color: #00af00; text-decoration-color: #00af00\">512</span>)                 │      <span style=\"color: #00af00; text-decoration-color: #00af00\">11,010,560</span> │\n",
              "├──────────────────────────────────────┼─────────────────────────────┼─────────────────┤\n",
              "│ dropout_20 (<span style=\"color: #0087ff; text-decoration-color: #0087ff\">Dropout</span>)                 │ (<span style=\"color: #00d7ff; text-decoration-color: #00d7ff\">None</span>, <span style=\"color: #00af00; text-decoration-color: #00af00\">512</span>)                 │               <span style=\"color: #00af00; text-decoration-color: #00af00\">0</span> │\n",
              "├──────────────────────────────────────┼─────────────────────────────┼─────────────────┤\n",
              "│ dense_11 (<span style=\"color: #0087ff; text-decoration-color: #0087ff\">Dense</span>)                     │ (<span style=\"color: #00d7ff; text-decoration-color: #00d7ff\">None</span>, <span style=\"color: #00af00; text-decoration-color: #00af00\">5</span>)                   │           <span style=\"color: #00af00; text-decoration-color: #00af00\">2,565</span> │\n",
              "└──────────────────────────────────────┴─────────────────────────────┴─────────────────┘\n",
              "</pre>\n"
            ]
          },
          "metadata": {}
        },
        {
          "output_type": "display_data",
          "data": {
            "text/plain": [
              "\u001b[1m Total params: \u001b[0m\u001b[38;5;34m12,151,301\u001b[0m (46.35 MB)\n"
            ],
            "text/html": [
              "<pre style=\"white-space:pre;overflow-x:auto;line-height:normal;font-family:Menlo,'DejaVu Sans Mono',consolas,'Courier New',monospace\"><span style=\"font-weight: bold\"> Total params: </span><span style=\"color: #00af00; text-decoration-color: #00af00\">12,151,301</span> (46.35 MB)\n",
              "</pre>\n"
            ]
          },
          "metadata": {}
        },
        {
          "output_type": "display_data",
          "data": {
            "text/plain": [
              "\u001b[1m Trainable params: \u001b[0m\u001b[38;5;34m12,151,301\u001b[0m (46.35 MB)\n"
            ],
            "text/html": [
              "<pre style=\"white-space:pre;overflow-x:auto;line-height:normal;font-family:Menlo,'DejaVu Sans Mono',consolas,'Courier New',monospace\"><span style=\"font-weight: bold\"> Trainable params: </span><span style=\"color: #00af00; text-decoration-color: #00af00\">12,151,301</span> (46.35 MB)\n",
              "</pre>\n"
            ]
          },
          "metadata": {}
        },
        {
          "output_type": "display_data",
          "data": {
            "text/plain": [
              "\u001b[1m Non-trainable params: \u001b[0m\u001b[38;5;34m0\u001b[0m (0.00 B)\n"
            ],
            "text/html": [
              "<pre style=\"white-space:pre;overflow-x:auto;line-height:normal;font-family:Menlo,'DejaVu Sans Mono',consolas,'Courier New',monospace\"><span style=\"font-weight: bold\"> Non-trainable params: </span><span style=\"color: #00af00; text-decoration-color: #00af00\">0</span> (0.00 B)\n",
              "</pre>\n"
            ]
          },
          "metadata": {}
        }
      ]
    },
    {
      "cell_type": "code",
      "execution_count": null,
      "metadata": {
        "colab": {
          "base_uri": "https://localhost:8080/",
          "height": 641
        },
        "id": "tsJpkaFSBNE0",
        "outputId": "21c479a6-101b-485b-b20f-5338004e2a89"
      },
      "outputs": [
        {
          "output_type": "display_data",
          "data": {
            "text/plain": [
              "\u001b[1mModel: \"sequential_5\"\u001b[0m\n"
            ],
            "text/html": [
              "<pre style=\"white-space:pre;overflow-x:auto;line-height:normal;font-family:Menlo,'DejaVu Sans Mono',consolas,'Courier New',monospace\"><span style=\"font-weight: bold\">Model: \"sequential_5\"</span>\n",
              "</pre>\n"
            ]
          },
          "metadata": {}
        },
        {
          "output_type": "display_data",
          "data": {
            "text/plain": [
              "┏━━━━━━━━━━━━━━━━━━━━━━━━━━━━━━━━━┳━━━━━━━━━━━━━━━━━━━━━━━━┳━━━━━━━━━━━━━━━┓\n",
              "┃\u001b[1m \u001b[0m\u001b[1mLayer (type)                   \u001b[0m\u001b[1m \u001b[0m┃\u001b[1m \u001b[0m\u001b[1mOutput Shape          \u001b[0m\u001b[1m \u001b[0m┃\u001b[1m \u001b[0m\u001b[1m      Param #\u001b[0m\u001b[1m \u001b[0m┃\n",
              "┡━━━━━━━━━━━━━━━━━━━━━━━━━━━━━━━━━╇━━━━━━━━━━━━━━━━━━━━━━━━╇━━━━━━━━━━━━━━━┩\n",
              "│ conv2d_44 (\u001b[38;5;33mConv2D\u001b[0m)              │ (\u001b[38;5;45mNone\u001b[0m, \u001b[38;5;34m51\u001b[0m, \u001b[38;5;34m5\u001b[0m, \u001b[38;5;34m64\u001b[0m)      │       \u001b[38;5;34m147,520\u001b[0m │\n",
              "├─────────────────────────────────┼────────────────────────┼───────────────┤\n",
              "│ conv2d_45 (\u001b[38;5;33mConv2D\u001b[0m)              │ (\u001b[38;5;45mNone\u001b[0m, \u001b[38;5;34m51\u001b[0m, \u001b[38;5;34m5\u001b[0m, \u001b[38;5;34m64\u001b[0m)      │        \u001b[38;5;34m36,928\u001b[0m │\n",
              "├─────────────────────────────────┼────────────────────────┼───────────────┤\n",
              "│ max_pooling2d_22 (\u001b[38;5;33mMaxPooling2D\u001b[0m) │ (\u001b[38;5;45mNone\u001b[0m, \u001b[38;5;34m25\u001b[0m, \u001b[38;5;34m2\u001b[0m, \u001b[38;5;34m64\u001b[0m)      │             \u001b[38;5;34m0\u001b[0m │\n",
              "├─────────────────────────────────┼────────────────────────┼───────────────┤\n",
              "│ conv2d_46 (\u001b[38;5;33mConv2D\u001b[0m)              │ (\u001b[38;5;45mNone\u001b[0m, \u001b[38;5;34m25\u001b[0m, \u001b[38;5;34m2\u001b[0m, \u001b[38;5;34m128\u001b[0m)     │        \u001b[38;5;34m73,856\u001b[0m │\n",
              "├─────────────────────────────────┼────────────────────────┼───────────────┤\n",
              "│ conv2d_47 (\u001b[38;5;33mConv2D\u001b[0m)              │ (\u001b[38;5;45mNone\u001b[0m, \u001b[38;5;34m25\u001b[0m, \u001b[38;5;34m2\u001b[0m, \u001b[38;5;34m128\u001b[0m)     │       \u001b[38;5;34m147,584\u001b[0m │\n",
              "├─────────────────────────────────┼────────────────────────┼───────────────┤\n",
              "│ max_pooling2d_23 (\u001b[38;5;33mMaxPooling2D\u001b[0m) │ (\u001b[38;5;45mNone\u001b[0m, \u001b[38;5;34m12\u001b[0m, \u001b[38;5;34m1\u001b[0m, \u001b[38;5;34m128\u001b[0m)     │             \u001b[38;5;34m0\u001b[0m │\n",
              "├─────────────────────────────────┼────────────────────────┼───────────────┤\n",
              "│ conv2d_48 (\u001b[38;5;33mConv2D\u001b[0m)              │ (\u001b[38;5;45mNone\u001b[0m, \u001b[38;5;34m12\u001b[0m, \u001b[38;5;34m1\u001b[0m, \u001b[38;5;34m256\u001b[0m)     │       \u001b[38;5;34m295,168\u001b[0m │\n",
              "├─────────────────────────────────┼────────────────────────┼───────────────┤\n",
              "│ conv2d_49 (\u001b[38;5;33mConv2D\u001b[0m)              │ (\u001b[38;5;45mNone\u001b[0m, \u001b[38;5;34m12\u001b[0m, \u001b[38;5;34m1\u001b[0m, \u001b[38;5;34m256\u001b[0m)     │       \u001b[38;5;34m590,080\u001b[0m │\n",
              "├─────────────────────────────────┼────────────────────────┼───────────────┤\n",
              "│ max_pooling2d_24 (\u001b[38;5;33mMaxPooling2D\u001b[0m) │ (\u001b[38;5;45mNone\u001b[0m, \u001b[38;5;34m6\u001b[0m, \u001b[38;5;34m1\u001b[0m, \u001b[38;5;34m256\u001b[0m)      │             \u001b[38;5;34m0\u001b[0m │\n",
              "├─────────────────────────────────┼────────────────────────┼───────────────┤\n",
              "│ conv2d_50 (\u001b[38;5;33mConv2D\u001b[0m)              │ (\u001b[38;5;45mNone\u001b[0m, \u001b[38;5;34m6\u001b[0m, \u001b[38;5;34m1\u001b[0m, \u001b[38;5;34m512\u001b[0m)      │     \u001b[38;5;34m1,180,160\u001b[0m │\n",
              "├─────────────────────────────────┼────────────────────────┼───────────────┤\n",
              "│ conv2d_51 (\u001b[38;5;33mConv2D\u001b[0m)              │ (\u001b[38;5;45mNone\u001b[0m, \u001b[38;5;34m6\u001b[0m, \u001b[38;5;34m1\u001b[0m, \u001b[38;5;34m512\u001b[0m)      │     \u001b[38;5;34m2,359,808\u001b[0m │\n",
              "├─────────────────────────────────┼────────────────────────┼───────────────┤\n",
              "│ max_pooling2d_25 (\u001b[38;5;33mMaxPooling2D\u001b[0m) │ (\u001b[38;5;45mNone\u001b[0m, \u001b[38;5;34m3\u001b[0m, \u001b[38;5;34m1\u001b[0m, \u001b[38;5;34m512\u001b[0m)      │             \u001b[38;5;34m0\u001b[0m │\n",
              "├─────────────────────────────────┼────────────────────────┼───────────────┤\n",
              "│ flatten_5 (\u001b[38;5;33mFlatten\u001b[0m)             │ (\u001b[38;5;45mNone\u001b[0m, \u001b[38;5;34m1536\u001b[0m)           │             \u001b[38;5;34m0\u001b[0m │\n",
              "├─────────────────────────────────┼────────────────────────┼───────────────┤\n",
              "│ dense_10 (\u001b[38;5;33mDense\u001b[0m)                │ (\u001b[38;5;45mNone\u001b[0m, \u001b[38;5;34m128\u001b[0m)            │       \u001b[38;5;34m196,736\u001b[0m │\n",
              "├─────────────────────────────────┼────────────────────────┼───────────────┤\n",
              "│ dropout_5 (\u001b[38;5;33mDropout\u001b[0m)             │ (\u001b[38;5;45mNone\u001b[0m, \u001b[38;5;34m128\u001b[0m)            │             \u001b[38;5;34m0\u001b[0m │\n",
              "├─────────────────────────────────┼────────────────────────┼───────────────┤\n",
              "│ dense_11 (\u001b[38;5;33mDense\u001b[0m)                │ (\u001b[38;5;45mNone\u001b[0m, \u001b[38;5;34m10\u001b[0m)             │         \u001b[38;5;34m1,290\u001b[0m │\n",
              "└─────────────────────────────────┴────────────────────────┴───────────────┘\n"
            ],
            "text/html": [
              "<pre style=\"white-space:pre;overflow-x:auto;line-height:normal;font-family:Menlo,'DejaVu Sans Mono',consolas,'Courier New',monospace\">┏━━━━━━━━━━━━━━━━━━━━━━━━━━━━━━━━━┳━━━━━━━━━━━━━━━━━━━━━━━━┳━━━━━━━━━━━━━━━┓\n",
              "┃<span style=\"font-weight: bold\"> Layer (type)                    </span>┃<span style=\"font-weight: bold\"> Output Shape           </span>┃<span style=\"font-weight: bold\">       Param # </span>┃\n",
              "┡━━━━━━━━━━━━━━━━━━━━━━━━━━━━━━━━━╇━━━━━━━━━━━━━━━━━━━━━━━━╇━━━━━━━━━━━━━━━┩\n",
              "│ conv2d_44 (<span style=\"color: #0087ff; text-decoration-color: #0087ff\">Conv2D</span>)              │ (<span style=\"color: #00d7ff; text-decoration-color: #00d7ff\">None</span>, <span style=\"color: #00af00; text-decoration-color: #00af00\">51</span>, <span style=\"color: #00af00; text-decoration-color: #00af00\">5</span>, <span style=\"color: #00af00; text-decoration-color: #00af00\">64</span>)      │       <span style=\"color: #00af00; text-decoration-color: #00af00\">147,520</span> │\n",
              "├─────────────────────────────────┼────────────────────────┼───────────────┤\n",
              "│ conv2d_45 (<span style=\"color: #0087ff; text-decoration-color: #0087ff\">Conv2D</span>)              │ (<span style=\"color: #00d7ff; text-decoration-color: #00d7ff\">None</span>, <span style=\"color: #00af00; text-decoration-color: #00af00\">51</span>, <span style=\"color: #00af00; text-decoration-color: #00af00\">5</span>, <span style=\"color: #00af00; text-decoration-color: #00af00\">64</span>)      │        <span style=\"color: #00af00; text-decoration-color: #00af00\">36,928</span> │\n",
              "├─────────────────────────────────┼────────────────────────┼───────────────┤\n",
              "│ max_pooling2d_22 (<span style=\"color: #0087ff; text-decoration-color: #0087ff\">MaxPooling2D</span>) │ (<span style=\"color: #00d7ff; text-decoration-color: #00d7ff\">None</span>, <span style=\"color: #00af00; text-decoration-color: #00af00\">25</span>, <span style=\"color: #00af00; text-decoration-color: #00af00\">2</span>, <span style=\"color: #00af00; text-decoration-color: #00af00\">64</span>)      │             <span style=\"color: #00af00; text-decoration-color: #00af00\">0</span> │\n",
              "├─────────────────────────────────┼────────────────────────┼───────────────┤\n",
              "│ conv2d_46 (<span style=\"color: #0087ff; text-decoration-color: #0087ff\">Conv2D</span>)              │ (<span style=\"color: #00d7ff; text-decoration-color: #00d7ff\">None</span>, <span style=\"color: #00af00; text-decoration-color: #00af00\">25</span>, <span style=\"color: #00af00; text-decoration-color: #00af00\">2</span>, <span style=\"color: #00af00; text-decoration-color: #00af00\">128</span>)     │        <span style=\"color: #00af00; text-decoration-color: #00af00\">73,856</span> │\n",
              "├─────────────────────────────────┼────────────────────────┼───────────────┤\n",
              "│ conv2d_47 (<span style=\"color: #0087ff; text-decoration-color: #0087ff\">Conv2D</span>)              │ (<span style=\"color: #00d7ff; text-decoration-color: #00d7ff\">None</span>, <span style=\"color: #00af00; text-decoration-color: #00af00\">25</span>, <span style=\"color: #00af00; text-decoration-color: #00af00\">2</span>, <span style=\"color: #00af00; text-decoration-color: #00af00\">128</span>)     │       <span style=\"color: #00af00; text-decoration-color: #00af00\">147,584</span> │\n",
              "├─────────────────────────────────┼────────────────────────┼───────────────┤\n",
              "│ max_pooling2d_23 (<span style=\"color: #0087ff; text-decoration-color: #0087ff\">MaxPooling2D</span>) │ (<span style=\"color: #00d7ff; text-decoration-color: #00d7ff\">None</span>, <span style=\"color: #00af00; text-decoration-color: #00af00\">12</span>, <span style=\"color: #00af00; text-decoration-color: #00af00\">1</span>, <span style=\"color: #00af00; text-decoration-color: #00af00\">128</span>)     │             <span style=\"color: #00af00; text-decoration-color: #00af00\">0</span> │\n",
              "├─────────────────────────────────┼────────────────────────┼───────────────┤\n",
              "│ conv2d_48 (<span style=\"color: #0087ff; text-decoration-color: #0087ff\">Conv2D</span>)              │ (<span style=\"color: #00d7ff; text-decoration-color: #00d7ff\">None</span>, <span style=\"color: #00af00; text-decoration-color: #00af00\">12</span>, <span style=\"color: #00af00; text-decoration-color: #00af00\">1</span>, <span style=\"color: #00af00; text-decoration-color: #00af00\">256</span>)     │       <span style=\"color: #00af00; text-decoration-color: #00af00\">295,168</span> │\n",
              "├─────────────────────────────────┼────────────────────────┼───────────────┤\n",
              "│ conv2d_49 (<span style=\"color: #0087ff; text-decoration-color: #0087ff\">Conv2D</span>)              │ (<span style=\"color: #00d7ff; text-decoration-color: #00d7ff\">None</span>, <span style=\"color: #00af00; text-decoration-color: #00af00\">12</span>, <span style=\"color: #00af00; text-decoration-color: #00af00\">1</span>, <span style=\"color: #00af00; text-decoration-color: #00af00\">256</span>)     │       <span style=\"color: #00af00; text-decoration-color: #00af00\">590,080</span> │\n",
              "├─────────────────────────────────┼────────────────────────┼───────────────┤\n",
              "│ max_pooling2d_24 (<span style=\"color: #0087ff; text-decoration-color: #0087ff\">MaxPooling2D</span>) │ (<span style=\"color: #00d7ff; text-decoration-color: #00d7ff\">None</span>, <span style=\"color: #00af00; text-decoration-color: #00af00\">6</span>, <span style=\"color: #00af00; text-decoration-color: #00af00\">1</span>, <span style=\"color: #00af00; text-decoration-color: #00af00\">256</span>)      │             <span style=\"color: #00af00; text-decoration-color: #00af00\">0</span> │\n",
              "├─────────────────────────────────┼────────────────────────┼───────────────┤\n",
              "│ conv2d_50 (<span style=\"color: #0087ff; text-decoration-color: #0087ff\">Conv2D</span>)              │ (<span style=\"color: #00d7ff; text-decoration-color: #00d7ff\">None</span>, <span style=\"color: #00af00; text-decoration-color: #00af00\">6</span>, <span style=\"color: #00af00; text-decoration-color: #00af00\">1</span>, <span style=\"color: #00af00; text-decoration-color: #00af00\">512</span>)      │     <span style=\"color: #00af00; text-decoration-color: #00af00\">1,180,160</span> │\n",
              "├─────────────────────────────────┼────────────────────────┼───────────────┤\n",
              "│ conv2d_51 (<span style=\"color: #0087ff; text-decoration-color: #0087ff\">Conv2D</span>)              │ (<span style=\"color: #00d7ff; text-decoration-color: #00d7ff\">None</span>, <span style=\"color: #00af00; text-decoration-color: #00af00\">6</span>, <span style=\"color: #00af00; text-decoration-color: #00af00\">1</span>, <span style=\"color: #00af00; text-decoration-color: #00af00\">512</span>)      │     <span style=\"color: #00af00; text-decoration-color: #00af00\">2,359,808</span> │\n",
              "├─────────────────────────────────┼────────────────────────┼───────────────┤\n",
              "│ max_pooling2d_25 (<span style=\"color: #0087ff; text-decoration-color: #0087ff\">MaxPooling2D</span>) │ (<span style=\"color: #00d7ff; text-decoration-color: #00d7ff\">None</span>, <span style=\"color: #00af00; text-decoration-color: #00af00\">3</span>, <span style=\"color: #00af00; text-decoration-color: #00af00\">1</span>, <span style=\"color: #00af00; text-decoration-color: #00af00\">512</span>)      │             <span style=\"color: #00af00; text-decoration-color: #00af00\">0</span> │\n",
              "├─────────────────────────────────┼────────────────────────┼───────────────┤\n",
              "│ flatten_5 (<span style=\"color: #0087ff; text-decoration-color: #0087ff\">Flatten</span>)             │ (<span style=\"color: #00d7ff; text-decoration-color: #00d7ff\">None</span>, <span style=\"color: #00af00; text-decoration-color: #00af00\">1536</span>)           │             <span style=\"color: #00af00; text-decoration-color: #00af00\">0</span> │\n",
              "├─────────────────────────────────┼────────────────────────┼───────────────┤\n",
              "│ dense_10 (<span style=\"color: #0087ff; text-decoration-color: #0087ff\">Dense</span>)                │ (<span style=\"color: #00d7ff; text-decoration-color: #00d7ff\">None</span>, <span style=\"color: #00af00; text-decoration-color: #00af00\">128</span>)            │       <span style=\"color: #00af00; text-decoration-color: #00af00\">196,736</span> │\n",
              "├─────────────────────────────────┼────────────────────────┼───────────────┤\n",
              "│ dropout_5 (<span style=\"color: #0087ff; text-decoration-color: #0087ff\">Dropout</span>)             │ (<span style=\"color: #00d7ff; text-decoration-color: #00d7ff\">None</span>, <span style=\"color: #00af00; text-decoration-color: #00af00\">128</span>)            │             <span style=\"color: #00af00; text-decoration-color: #00af00\">0</span> │\n",
              "├─────────────────────────────────┼────────────────────────┼───────────────┤\n",
              "│ dense_11 (<span style=\"color: #0087ff; text-decoration-color: #0087ff\">Dense</span>)                │ (<span style=\"color: #00d7ff; text-decoration-color: #00d7ff\">None</span>, <span style=\"color: #00af00; text-decoration-color: #00af00\">10</span>)             │         <span style=\"color: #00af00; text-decoration-color: #00af00\">1,290</span> │\n",
              "└─────────────────────────────────┴────────────────────────┴───────────────┘\n",
              "</pre>\n"
            ]
          },
          "metadata": {}
        },
        {
          "output_type": "display_data",
          "data": {
            "text/plain": [
              "\u001b[1m Total params: \u001b[0m\u001b[38;5;34m5,029,130\u001b[0m (19.18 MB)\n"
            ],
            "text/html": [
              "<pre style=\"white-space:pre;overflow-x:auto;line-height:normal;font-family:Menlo,'DejaVu Sans Mono',consolas,'Courier New',monospace\"><span style=\"font-weight: bold\"> Total params: </span><span style=\"color: #00af00; text-decoration-color: #00af00\">5,029,130</span> (19.18 MB)\n",
              "</pre>\n"
            ]
          },
          "metadata": {}
        },
        {
          "output_type": "display_data",
          "data": {
            "text/plain": [
              "\u001b[1m Trainable params: \u001b[0m\u001b[38;5;34m5,029,130\u001b[0m (19.18 MB)\n"
            ],
            "text/html": [
              "<pre style=\"white-space:pre;overflow-x:auto;line-height:normal;font-family:Menlo,'DejaVu Sans Mono',consolas,'Courier New',monospace\"><span style=\"font-weight: bold\"> Trainable params: </span><span style=\"color: #00af00; text-decoration-color: #00af00\">5,029,130</span> (19.18 MB)\n",
              "</pre>\n"
            ]
          },
          "metadata": {}
        },
        {
          "output_type": "display_data",
          "data": {
            "text/plain": [
              "\u001b[1m Non-trainable params: \u001b[0m\u001b[38;5;34m0\u001b[0m (0.00 B)\n"
            ],
            "text/html": [
              "<pre style=\"white-space:pre;overflow-x:auto;line-height:normal;font-family:Menlo,'DejaVu Sans Mono',consolas,'Courier New',monospace\"><span style=\"font-weight: bold\"> Non-trainable params: </span><span style=\"color: #00af00; text-decoration-color: #00af00\">0</span> (0.00 B)\n",
              "</pre>\n"
            ]
          },
          "metadata": {}
        }
      ],
      "source": [
        "# 2D CNN for training on spectrograms\n",
        "input_shape = (51, 5, 256)\n",
        "output_shape = 10\n",
        "\n",
        "model = keras.Sequential(\n",
        "    [\n",
        "        keras.Input(shape=input_shape),\n",
        "        layers.Conv2D(64, kernel_size=(3, 3), activation=\"relu\", padding=\"same\"),\n",
        "        layers.Conv2D(64, kernel_size=(3, 3), activation=\"relu\", padding=\"same\"),\n",
        "        layers.MaxPooling2D(pool_size=(2, 2)),\n",
        "        #layers.Dropout(0.15),\n",
        "        layers.Conv2D(128, kernel_size=(3, 3), activation=\"relu\", padding=\"same\"),\n",
        "        layers.Conv2D(128, kernel_size=(3, 3), activation=\"relu\", padding=\"same\"),\n",
        "        layers.MaxPooling2D(pool_size=(2, 2)),\n",
        "        #layers.Dropout(0.15),\n",
        "        layers.Conv2D(256, kernel_size=(3, 3), activation=\"relu\", padding=\"same\"),\n",
        "        layers.Conv2D(256, kernel_size=(3, 3), activation=\"relu\", padding=\"same\"),\n",
        "        layers.MaxPooling2D(pool_size=(2, 2), padding='same'),\n",
        "        #layers.Dropout(0.15),\n",
        "        layers.Conv2D(512, kernel_size=(3, 3), activation=\"relu\", padding=\"same\"),\n",
        "        layers.Conv2D(512, kernel_size=(3, 3), activation=\"relu\", padding=\"same\"),\n",
        "        layers.MaxPooling2D(pool_size=(2, 2), padding='same'),\n",
        "        #layers.Dropout(0.15),\n",
        "        layers.Flatten(),\n",
        "        layers.Dense(128, activation=\"relu\"),\n",
        "        layers.Dropout(0.25),\n",
        "        layers.Dense(output_shape, activation=\"softmax\"),\n",
        "    ]\n",
        ")\n",
        "\n",
        "model.summary()"
      ]
    },
    {
      "cell_type": "code",
      "source": [
        "input_shape = (51, 5, 256)  # (time, freq, channels)\n",
        "output_shape = 10\n",
        "\n",
        "model = keras.Sequential([\n",
        "    # Input shape: (51 time steps, 5 freq bins, 256 channels)\n",
        "    layers.Input(shape=input_shape),\n",
        "\n",
        "    # 1. Frequency-domain processing (applied per time step)\n",
        "    layers.TimeDistributed(layers.Conv1D(32, 3, activation='relu', padding='same')),\n",
        "    layers.TimeDistributed(layers.Conv1D(32, 3, activation='relu', padding='same')),\n",
        "    layers.TimeDistributed(layers.MaxPooling1D(2)),\n",
        "    layers.TimeDistributed(layers.Dropout(0.2)),\n",
        "\n",
        "    # 2. Deeper frequency processing\n",
        "    layers.TimeDistributed(layers.Conv1D(64, 3, activation='relu', padding='same')),\n",
        "    layers.TimeDistributed(layers.Conv1D(64, 3, activation='relu', padding='same')),\n",
        "    layers.TimeDistributed(layers.MaxPooling1D(2)),\n",
        "    layers.TimeDistributed(layers.Dropout(0.25)),\n",
        "\n",
        "    layers.TimeDistributed(layers.Conv1D(128, 3, activation='relu', padding='same')),\n",
        "    layers.TimeDistributed(layers.Conv1D(128, 3, activation='relu', padding='same')),\n",
        "    layers.TimeDistributed(layers.MaxPooling1D(2, padding='same')),\n",
        "    layers.TimeDistributed(layers.Dropout(0.3)),\n",
        "\n",
        "    # 3. Prepare for LSTM - output will be (None, 51, remaining_features)\n",
        "    layers.TimeDistributed(layers.Flatten()),\n",
        "\n",
        "    # 4. Temporal processing\n",
        "    layers.Bidirectional(layers.LSTM(128, return_sequences=True)),\n",
        "    layers.Bidirectional(layers.LSTM(128)),\n",
        "    layers.Dropout(0.5),\n",
        "\n",
        "    # 5. Classifier\n",
        "    layers.Dense(256, activation='relu'),\n",
        "    layers.Dropout(0.1),\n",
        "    layers.Dense(output_shape, activation='softmax')\n",
        "])\n",
        "\n",
        "model.summary()"
      ],
      "metadata": {
        "colab": {
          "base_uri": "https://localhost:8080/",
          "height": 977
        },
        "id": "NLPjdmC3d5rG",
        "outputId": "66d6680f-f5da-4ed4-de4e-d940402698de"
      },
      "execution_count": null,
      "outputs": [
        {
          "output_type": "display_data",
          "data": {
            "text/plain": [
              "\u001b[1mModel: \"sequential_16\"\u001b[0m\n"
            ],
            "text/html": [
              "<pre style=\"white-space:pre;overflow-x:auto;line-height:normal;font-family:Menlo,'DejaVu Sans Mono',consolas,'Courier New',monospace\"><span style=\"font-weight: bold\">Model: \"sequential_16\"</span>\n",
              "</pre>\n"
            ]
          },
          "metadata": {}
        },
        {
          "output_type": "display_data",
          "data": {
            "text/plain": [
              "┏━━━━━━━━━━━━━━━━━━━━━━━━━━━━━━━━━┳━━━━━━━━━━━━━━━━━━━━━━━━┳━━━━━━━━━━━━━━━┓\n",
              "┃\u001b[1m \u001b[0m\u001b[1mLayer (type)                   \u001b[0m\u001b[1m \u001b[0m┃\u001b[1m \u001b[0m\u001b[1mOutput Shape          \u001b[0m\u001b[1m \u001b[0m┃\u001b[1m \u001b[0m\u001b[1m      Param #\u001b[0m\u001b[1m \u001b[0m┃\n",
              "┡━━━━━━━━━━━━━━━━━━━━━━━━━━━━━━━━━╇━━━━━━━━━━━━━━━━━━━━━━━━╇━━━━━━━━━━━━━━━┩\n",
              "│ time_distributed_112            │ (\u001b[38;5;45mNone\u001b[0m, \u001b[38;5;34m51\u001b[0m, \u001b[38;5;34m5\u001b[0m, \u001b[38;5;34m32\u001b[0m)      │        \u001b[38;5;34m24,608\u001b[0m │\n",
              "│ (\u001b[38;5;33mTimeDistributed\u001b[0m)               │                        │               │\n",
              "├─────────────────────────────────┼────────────────────────┼───────────────┤\n",
              "│ time_distributed_113            │ (\u001b[38;5;45mNone\u001b[0m, \u001b[38;5;34m51\u001b[0m, \u001b[38;5;34m5\u001b[0m, \u001b[38;5;34m32\u001b[0m)      │         \u001b[38;5;34m3,104\u001b[0m │\n",
              "│ (\u001b[38;5;33mTimeDistributed\u001b[0m)               │                        │               │\n",
              "├─────────────────────────────────┼────────────────────────┼───────────────┤\n",
              "│ time_distributed_114            │ (\u001b[38;5;45mNone\u001b[0m, \u001b[38;5;34m51\u001b[0m, \u001b[38;5;34m2\u001b[0m, \u001b[38;5;34m32\u001b[0m)      │             \u001b[38;5;34m0\u001b[0m │\n",
              "│ (\u001b[38;5;33mTimeDistributed\u001b[0m)               │                        │               │\n",
              "├─────────────────────────────────┼────────────────────────┼───────────────┤\n",
              "│ time_distributed_115            │ (\u001b[38;5;45mNone\u001b[0m, \u001b[38;5;34m51\u001b[0m, \u001b[38;5;34m2\u001b[0m, \u001b[38;5;34m32\u001b[0m)      │             \u001b[38;5;34m0\u001b[0m │\n",
              "│ (\u001b[38;5;33mTimeDistributed\u001b[0m)               │                        │               │\n",
              "├─────────────────────────────────┼────────────────────────┼───────────────┤\n",
              "│ time_distributed_116            │ (\u001b[38;5;45mNone\u001b[0m, \u001b[38;5;34m51\u001b[0m, \u001b[38;5;34m2\u001b[0m, \u001b[38;5;34m64\u001b[0m)      │         \u001b[38;5;34m6,208\u001b[0m │\n",
              "│ (\u001b[38;5;33mTimeDistributed\u001b[0m)               │                        │               │\n",
              "├─────────────────────────────────┼────────────────────────┼───────────────┤\n",
              "│ time_distributed_117            │ (\u001b[38;5;45mNone\u001b[0m, \u001b[38;5;34m51\u001b[0m, \u001b[38;5;34m2\u001b[0m, \u001b[38;5;34m64\u001b[0m)      │        \u001b[38;5;34m12,352\u001b[0m │\n",
              "│ (\u001b[38;5;33mTimeDistributed\u001b[0m)               │                        │               │\n",
              "├─────────────────────────────────┼────────────────────────┼───────────────┤\n",
              "│ time_distributed_118            │ (\u001b[38;5;45mNone\u001b[0m, \u001b[38;5;34m51\u001b[0m, \u001b[38;5;34m1\u001b[0m, \u001b[38;5;34m64\u001b[0m)      │             \u001b[38;5;34m0\u001b[0m │\n",
              "│ (\u001b[38;5;33mTimeDistributed\u001b[0m)               │                        │               │\n",
              "├─────────────────────────────────┼────────────────────────┼───────────────┤\n",
              "│ time_distributed_119            │ (\u001b[38;5;45mNone\u001b[0m, \u001b[38;5;34m51\u001b[0m, \u001b[38;5;34m1\u001b[0m, \u001b[38;5;34m64\u001b[0m)      │             \u001b[38;5;34m0\u001b[0m │\n",
              "│ (\u001b[38;5;33mTimeDistributed\u001b[0m)               │                        │               │\n",
              "├─────────────────────────────────┼────────────────────────┼───────────────┤\n",
              "│ time_distributed_120            │ (\u001b[38;5;45mNone\u001b[0m, \u001b[38;5;34m51\u001b[0m, \u001b[38;5;34m1\u001b[0m, \u001b[38;5;34m128\u001b[0m)     │        \u001b[38;5;34m24,704\u001b[0m │\n",
              "│ (\u001b[38;5;33mTimeDistributed\u001b[0m)               │                        │               │\n",
              "├─────────────────────────────────┼────────────────────────┼───────────────┤\n",
              "│ time_distributed_121            │ (\u001b[38;5;45mNone\u001b[0m, \u001b[38;5;34m51\u001b[0m, \u001b[38;5;34m1\u001b[0m, \u001b[38;5;34m128\u001b[0m)     │        \u001b[38;5;34m49,280\u001b[0m │\n",
              "│ (\u001b[38;5;33mTimeDistributed\u001b[0m)               │                        │               │\n",
              "├─────────────────────────────────┼────────────────────────┼───────────────┤\n",
              "│ time_distributed_122            │ (\u001b[38;5;45mNone\u001b[0m, \u001b[38;5;34m51\u001b[0m, \u001b[38;5;34m1\u001b[0m, \u001b[38;5;34m128\u001b[0m)     │             \u001b[38;5;34m0\u001b[0m │\n",
              "│ (\u001b[38;5;33mTimeDistributed\u001b[0m)               │                        │               │\n",
              "├─────────────────────────────────┼────────────────────────┼───────────────┤\n",
              "│ time_distributed_123            │ (\u001b[38;5;45mNone\u001b[0m, \u001b[38;5;34m51\u001b[0m, \u001b[38;5;34m1\u001b[0m, \u001b[38;5;34m128\u001b[0m)     │             \u001b[38;5;34m0\u001b[0m │\n",
              "│ (\u001b[38;5;33mTimeDistributed\u001b[0m)               │                        │               │\n",
              "├─────────────────────────────────┼────────────────────────┼───────────────┤\n",
              "│ time_distributed_124            │ (\u001b[38;5;45mNone\u001b[0m, \u001b[38;5;34m51\u001b[0m, \u001b[38;5;34m128\u001b[0m)        │             \u001b[38;5;34m0\u001b[0m │\n",
              "│ (\u001b[38;5;33mTimeDistributed\u001b[0m)               │                        │               │\n",
              "├─────────────────────────────────┼────────────────────────┼───────────────┤\n",
              "│ bidirectional_20                │ (\u001b[38;5;45mNone\u001b[0m, \u001b[38;5;34m51\u001b[0m, \u001b[38;5;34m256\u001b[0m)        │       \u001b[38;5;34m263,168\u001b[0m │\n",
              "│ (\u001b[38;5;33mBidirectional\u001b[0m)                 │                        │               │\n",
              "├─────────────────────────────────┼────────────────────────┼───────────────┤\n",
              "│ bidirectional_21                │ (\u001b[38;5;45mNone\u001b[0m, \u001b[38;5;34m256\u001b[0m)            │       \u001b[38;5;34m394,240\u001b[0m │\n",
              "│ (\u001b[38;5;33mBidirectional\u001b[0m)                 │                        │               │\n",
              "├─────────────────────────────────┼────────────────────────┼───────────────┤\n",
              "│ dropout_44 (\u001b[38;5;33mDropout\u001b[0m)            │ (\u001b[38;5;45mNone\u001b[0m, \u001b[38;5;34m256\u001b[0m)            │             \u001b[38;5;34m0\u001b[0m │\n",
              "├─────────────────────────────────┼────────────────────────┼───────────────┤\n",
              "│ dense_32 (\u001b[38;5;33mDense\u001b[0m)                │ (\u001b[38;5;45mNone\u001b[0m, \u001b[38;5;34m256\u001b[0m)            │        \u001b[38;5;34m65,792\u001b[0m │\n",
              "├─────────────────────────────────┼────────────────────────┼───────────────┤\n",
              "│ dropout_45 (\u001b[38;5;33mDropout\u001b[0m)            │ (\u001b[38;5;45mNone\u001b[0m, \u001b[38;5;34m256\u001b[0m)            │             \u001b[38;5;34m0\u001b[0m │\n",
              "├─────────────────────────────────┼────────────────────────┼───────────────┤\n",
              "│ dense_33 (\u001b[38;5;33mDense\u001b[0m)                │ (\u001b[38;5;45mNone\u001b[0m, \u001b[38;5;34m10\u001b[0m)             │         \u001b[38;5;34m2,570\u001b[0m │\n",
              "└─────────────────────────────────┴────────────────────────┴───────────────┘\n"
            ],
            "text/html": [
              "<pre style=\"white-space:pre;overflow-x:auto;line-height:normal;font-family:Menlo,'DejaVu Sans Mono',consolas,'Courier New',monospace\">┏━━━━━━━━━━━━━━━━━━━━━━━━━━━━━━━━━┳━━━━━━━━━━━━━━━━━━━━━━━━┳━━━━━━━━━━━━━━━┓\n",
              "┃<span style=\"font-weight: bold\"> Layer (type)                    </span>┃<span style=\"font-weight: bold\"> Output Shape           </span>┃<span style=\"font-weight: bold\">       Param # </span>┃\n",
              "┡━━━━━━━━━━━━━━━━━━━━━━━━━━━━━━━━━╇━━━━━━━━━━━━━━━━━━━━━━━━╇━━━━━━━━━━━━━━━┩\n",
              "│ time_distributed_112            │ (<span style=\"color: #00d7ff; text-decoration-color: #00d7ff\">None</span>, <span style=\"color: #00af00; text-decoration-color: #00af00\">51</span>, <span style=\"color: #00af00; text-decoration-color: #00af00\">5</span>, <span style=\"color: #00af00; text-decoration-color: #00af00\">32</span>)      │        <span style=\"color: #00af00; text-decoration-color: #00af00\">24,608</span> │\n",
              "│ (<span style=\"color: #0087ff; text-decoration-color: #0087ff\">TimeDistributed</span>)               │                        │               │\n",
              "├─────────────────────────────────┼────────────────────────┼───────────────┤\n",
              "│ time_distributed_113            │ (<span style=\"color: #00d7ff; text-decoration-color: #00d7ff\">None</span>, <span style=\"color: #00af00; text-decoration-color: #00af00\">51</span>, <span style=\"color: #00af00; text-decoration-color: #00af00\">5</span>, <span style=\"color: #00af00; text-decoration-color: #00af00\">32</span>)      │         <span style=\"color: #00af00; text-decoration-color: #00af00\">3,104</span> │\n",
              "│ (<span style=\"color: #0087ff; text-decoration-color: #0087ff\">TimeDistributed</span>)               │                        │               │\n",
              "├─────────────────────────────────┼────────────────────────┼───────────────┤\n",
              "│ time_distributed_114            │ (<span style=\"color: #00d7ff; text-decoration-color: #00d7ff\">None</span>, <span style=\"color: #00af00; text-decoration-color: #00af00\">51</span>, <span style=\"color: #00af00; text-decoration-color: #00af00\">2</span>, <span style=\"color: #00af00; text-decoration-color: #00af00\">32</span>)      │             <span style=\"color: #00af00; text-decoration-color: #00af00\">0</span> │\n",
              "│ (<span style=\"color: #0087ff; text-decoration-color: #0087ff\">TimeDistributed</span>)               │                        │               │\n",
              "├─────────────────────────────────┼────────────────────────┼───────────────┤\n",
              "│ time_distributed_115            │ (<span style=\"color: #00d7ff; text-decoration-color: #00d7ff\">None</span>, <span style=\"color: #00af00; text-decoration-color: #00af00\">51</span>, <span style=\"color: #00af00; text-decoration-color: #00af00\">2</span>, <span style=\"color: #00af00; text-decoration-color: #00af00\">32</span>)      │             <span style=\"color: #00af00; text-decoration-color: #00af00\">0</span> │\n",
              "│ (<span style=\"color: #0087ff; text-decoration-color: #0087ff\">TimeDistributed</span>)               │                        │               │\n",
              "├─────────────────────────────────┼────────────────────────┼───────────────┤\n",
              "│ time_distributed_116            │ (<span style=\"color: #00d7ff; text-decoration-color: #00d7ff\">None</span>, <span style=\"color: #00af00; text-decoration-color: #00af00\">51</span>, <span style=\"color: #00af00; text-decoration-color: #00af00\">2</span>, <span style=\"color: #00af00; text-decoration-color: #00af00\">64</span>)      │         <span style=\"color: #00af00; text-decoration-color: #00af00\">6,208</span> │\n",
              "│ (<span style=\"color: #0087ff; text-decoration-color: #0087ff\">TimeDistributed</span>)               │                        │               │\n",
              "├─────────────────────────────────┼────────────────────────┼───────────────┤\n",
              "│ time_distributed_117            │ (<span style=\"color: #00d7ff; text-decoration-color: #00d7ff\">None</span>, <span style=\"color: #00af00; text-decoration-color: #00af00\">51</span>, <span style=\"color: #00af00; text-decoration-color: #00af00\">2</span>, <span style=\"color: #00af00; text-decoration-color: #00af00\">64</span>)      │        <span style=\"color: #00af00; text-decoration-color: #00af00\">12,352</span> │\n",
              "│ (<span style=\"color: #0087ff; text-decoration-color: #0087ff\">TimeDistributed</span>)               │                        │               │\n",
              "├─────────────────────────────────┼────────────────────────┼───────────────┤\n",
              "│ time_distributed_118            │ (<span style=\"color: #00d7ff; text-decoration-color: #00d7ff\">None</span>, <span style=\"color: #00af00; text-decoration-color: #00af00\">51</span>, <span style=\"color: #00af00; text-decoration-color: #00af00\">1</span>, <span style=\"color: #00af00; text-decoration-color: #00af00\">64</span>)      │             <span style=\"color: #00af00; text-decoration-color: #00af00\">0</span> │\n",
              "│ (<span style=\"color: #0087ff; text-decoration-color: #0087ff\">TimeDistributed</span>)               │                        │               │\n",
              "├─────────────────────────────────┼────────────────────────┼───────────────┤\n",
              "│ time_distributed_119            │ (<span style=\"color: #00d7ff; text-decoration-color: #00d7ff\">None</span>, <span style=\"color: #00af00; text-decoration-color: #00af00\">51</span>, <span style=\"color: #00af00; text-decoration-color: #00af00\">1</span>, <span style=\"color: #00af00; text-decoration-color: #00af00\">64</span>)      │             <span style=\"color: #00af00; text-decoration-color: #00af00\">0</span> │\n",
              "│ (<span style=\"color: #0087ff; text-decoration-color: #0087ff\">TimeDistributed</span>)               │                        │               │\n",
              "├─────────────────────────────────┼────────────────────────┼───────────────┤\n",
              "│ time_distributed_120            │ (<span style=\"color: #00d7ff; text-decoration-color: #00d7ff\">None</span>, <span style=\"color: #00af00; text-decoration-color: #00af00\">51</span>, <span style=\"color: #00af00; text-decoration-color: #00af00\">1</span>, <span style=\"color: #00af00; text-decoration-color: #00af00\">128</span>)     │        <span style=\"color: #00af00; text-decoration-color: #00af00\">24,704</span> │\n",
              "│ (<span style=\"color: #0087ff; text-decoration-color: #0087ff\">TimeDistributed</span>)               │                        │               │\n",
              "├─────────────────────────────────┼────────────────────────┼───────────────┤\n",
              "│ time_distributed_121            │ (<span style=\"color: #00d7ff; text-decoration-color: #00d7ff\">None</span>, <span style=\"color: #00af00; text-decoration-color: #00af00\">51</span>, <span style=\"color: #00af00; text-decoration-color: #00af00\">1</span>, <span style=\"color: #00af00; text-decoration-color: #00af00\">128</span>)     │        <span style=\"color: #00af00; text-decoration-color: #00af00\">49,280</span> │\n",
              "│ (<span style=\"color: #0087ff; text-decoration-color: #0087ff\">TimeDistributed</span>)               │                        │               │\n",
              "├─────────────────────────────────┼────────────────────────┼───────────────┤\n",
              "│ time_distributed_122            │ (<span style=\"color: #00d7ff; text-decoration-color: #00d7ff\">None</span>, <span style=\"color: #00af00; text-decoration-color: #00af00\">51</span>, <span style=\"color: #00af00; text-decoration-color: #00af00\">1</span>, <span style=\"color: #00af00; text-decoration-color: #00af00\">128</span>)     │             <span style=\"color: #00af00; text-decoration-color: #00af00\">0</span> │\n",
              "│ (<span style=\"color: #0087ff; text-decoration-color: #0087ff\">TimeDistributed</span>)               │                        │               │\n",
              "├─────────────────────────────────┼────────────────────────┼───────────────┤\n",
              "│ time_distributed_123            │ (<span style=\"color: #00d7ff; text-decoration-color: #00d7ff\">None</span>, <span style=\"color: #00af00; text-decoration-color: #00af00\">51</span>, <span style=\"color: #00af00; text-decoration-color: #00af00\">1</span>, <span style=\"color: #00af00; text-decoration-color: #00af00\">128</span>)     │             <span style=\"color: #00af00; text-decoration-color: #00af00\">0</span> │\n",
              "│ (<span style=\"color: #0087ff; text-decoration-color: #0087ff\">TimeDistributed</span>)               │                        │               │\n",
              "├─────────────────────────────────┼────────────────────────┼───────────────┤\n",
              "│ time_distributed_124            │ (<span style=\"color: #00d7ff; text-decoration-color: #00d7ff\">None</span>, <span style=\"color: #00af00; text-decoration-color: #00af00\">51</span>, <span style=\"color: #00af00; text-decoration-color: #00af00\">128</span>)        │             <span style=\"color: #00af00; text-decoration-color: #00af00\">0</span> │\n",
              "│ (<span style=\"color: #0087ff; text-decoration-color: #0087ff\">TimeDistributed</span>)               │                        │               │\n",
              "├─────────────────────────────────┼────────────────────────┼───────────────┤\n",
              "│ bidirectional_20                │ (<span style=\"color: #00d7ff; text-decoration-color: #00d7ff\">None</span>, <span style=\"color: #00af00; text-decoration-color: #00af00\">51</span>, <span style=\"color: #00af00; text-decoration-color: #00af00\">256</span>)        │       <span style=\"color: #00af00; text-decoration-color: #00af00\">263,168</span> │\n",
              "│ (<span style=\"color: #0087ff; text-decoration-color: #0087ff\">Bidirectional</span>)                 │                        │               │\n",
              "├─────────────────────────────────┼────────────────────────┼───────────────┤\n",
              "│ bidirectional_21                │ (<span style=\"color: #00d7ff; text-decoration-color: #00d7ff\">None</span>, <span style=\"color: #00af00; text-decoration-color: #00af00\">256</span>)            │       <span style=\"color: #00af00; text-decoration-color: #00af00\">394,240</span> │\n",
              "│ (<span style=\"color: #0087ff; text-decoration-color: #0087ff\">Bidirectional</span>)                 │                        │               │\n",
              "├─────────────────────────────────┼────────────────────────┼───────────────┤\n",
              "│ dropout_44 (<span style=\"color: #0087ff; text-decoration-color: #0087ff\">Dropout</span>)            │ (<span style=\"color: #00d7ff; text-decoration-color: #00d7ff\">None</span>, <span style=\"color: #00af00; text-decoration-color: #00af00\">256</span>)            │             <span style=\"color: #00af00; text-decoration-color: #00af00\">0</span> │\n",
              "├─────────────────────────────────┼────────────────────────┼───────────────┤\n",
              "│ dense_32 (<span style=\"color: #0087ff; text-decoration-color: #0087ff\">Dense</span>)                │ (<span style=\"color: #00d7ff; text-decoration-color: #00d7ff\">None</span>, <span style=\"color: #00af00; text-decoration-color: #00af00\">256</span>)            │        <span style=\"color: #00af00; text-decoration-color: #00af00\">65,792</span> │\n",
              "├─────────────────────────────────┼────────────────────────┼───────────────┤\n",
              "│ dropout_45 (<span style=\"color: #0087ff; text-decoration-color: #0087ff\">Dropout</span>)            │ (<span style=\"color: #00d7ff; text-decoration-color: #00d7ff\">None</span>, <span style=\"color: #00af00; text-decoration-color: #00af00\">256</span>)            │             <span style=\"color: #00af00; text-decoration-color: #00af00\">0</span> │\n",
              "├─────────────────────────────────┼────────────────────────┼───────────────┤\n",
              "│ dense_33 (<span style=\"color: #0087ff; text-decoration-color: #0087ff\">Dense</span>)                │ (<span style=\"color: #00d7ff; text-decoration-color: #00d7ff\">None</span>, <span style=\"color: #00af00; text-decoration-color: #00af00\">10</span>)             │         <span style=\"color: #00af00; text-decoration-color: #00af00\">2,570</span> │\n",
              "└─────────────────────────────────┴────────────────────────┴───────────────┘\n",
              "</pre>\n"
            ]
          },
          "metadata": {}
        },
        {
          "output_type": "display_data",
          "data": {
            "text/plain": [
              "\u001b[1m Total params: \u001b[0m\u001b[38;5;34m846,026\u001b[0m (3.23 MB)\n"
            ],
            "text/html": [
              "<pre style=\"white-space:pre;overflow-x:auto;line-height:normal;font-family:Menlo,'DejaVu Sans Mono',consolas,'Courier New',monospace\"><span style=\"font-weight: bold\"> Total params: </span><span style=\"color: #00af00; text-decoration-color: #00af00\">846,026</span> (3.23 MB)\n",
              "</pre>\n"
            ]
          },
          "metadata": {}
        },
        {
          "output_type": "display_data",
          "data": {
            "text/plain": [
              "\u001b[1m Trainable params: \u001b[0m\u001b[38;5;34m846,026\u001b[0m (3.23 MB)\n"
            ],
            "text/html": [
              "<pre style=\"white-space:pre;overflow-x:auto;line-height:normal;font-family:Menlo,'DejaVu Sans Mono',consolas,'Courier New',monospace\"><span style=\"font-weight: bold\"> Trainable params: </span><span style=\"color: #00af00; text-decoration-color: #00af00\">846,026</span> (3.23 MB)\n",
              "</pre>\n"
            ]
          },
          "metadata": {}
        },
        {
          "output_type": "display_data",
          "data": {
            "text/plain": [
              "\u001b[1m Non-trainable params: \u001b[0m\u001b[38;5;34m0\u001b[0m (0.00 B)\n"
            ],
            "text/html": [
              "<pre style=\"white-space:pre;overflow-x:auto;line-height:normal;font-family:Menlo,'DejaVu Sans Mono',consolas,'Courier New',monospace\"><span style=\"font-weight: bold\"> Non-trainable params: </span><span style=\"color: #00af00; text-decoration-color: #00af00\">0</span> (0.00 B)\n",
              "</pre>\n"
            ]
          },
          "metadata": {}
        }
      ]
    },
    {
      "cell_type": "code",
      "execution_count": null,
      "metadata": {
        "colab": {
          "base_uri": "https://localhost:8080/"
        },
        "id": "kec_DzJNBeCl",
        "outputId": "61212c5d-f2d6-4d82-f3bd-4728f2158da6"
      },
      "outputs": [
        {
          "output_type": "stream",
          "name": "stdout",
          "text": [
            "Epoch 1/100\n",
            "\u001b[1m9/9\u001b[0m \u001b[32m━━━━━━━━━━━━━━━━━━━━\u001b[0m\u001b[37m\u001b[0m \u001b[1m70s\u001b[0m 2s/step - accuracy: 0.0838 - loss: 2.3207 - val_accuracy: 0.0873 - val_loss: 2.3091 - learning_rate: 0.0010\n",
            "Epoch 2/100\n",
            "\u001b[1m9/9\u001b[0m \u001b[32m━━━━━━━━━━━━━━━━━━━━\u001b[0m\u001b[37m\u001b[0m \u001b[1m9s\u001b[0m 156ms/step - accuracy: 0.1250 - loss: 2.3003 - val_accuracy: 0.0952 - val_loss: 2.2986 - learning_rate: 0.0010\n",
            "Epoch 3/100\n",
            "\u001b[1m9/9\u001b[0m \u001b[32m━━━━━━━━━━━━━━━━━━━━\u001b[0m\u001b[37m\u001b[0m \u001b[1m1s\u001b[0m 151ms/step - accuracy: 0.1022 - loss: 2.3014 - val_accuracy: 0.0714 - val_loss: 2.3046 - learning_rate: 0.0010\n",
            "Epoch 4/100\n",
            "\u001b[1m9/9\u001b[0m \u001b[32m━━━━━━━━━━━━━━━━━━━━\u001b[0m\u001b[37m\u001b[0m \u001b[1m1s\u001b[0m 162ms/step - accuracy: 0.1139 - loss: 2.2866 - val_accuracy: 0.1587 - val_loss: 2.2810 - learning_rate: 0.0010\n",
            "Epoch 5/100\n",
            "\u001b[1m9/9\u001b[0m \u001b[32m━━━━━━━━━━━━━━━━━━━━\u001b[0m\u001b[37m\u001b[0m \u001b[1m3s\u001b[0m 200ms/step - accuracy: 0.1470 - loss: 2.2490 - val_accuracy: 0.1270 - val_loss: 2.2095 - learning_rate: 0.0010\n",
            "Epoch 6/100\n",
            "\u001b[1m9/9\u001b[0m \u001b[32m━━━━━━━━━━━━━━━━━━━━\u001b[0m\u001b[37m\u001b[0m \u001b[1m2s\u001b[0m 196ms/step - accuracy: 0.1538 - loss: 2.2269 - val_accuracy: 0.1667 - val_loss: 2.1665 - learning_rate: 0.0010\n",
            "Epoch 7/100\n",
            "\u001b[1m9/9\u001b[0m \u001b[32m━━━━━━━━━━━━━━━━━━━━\u001b[0m\u001b[37m\u001b[0m \u001b[1m1s\u001b[0m 161ms/step - accuracy: 0.2023 - loss: 2.1761 - val_accuracy: 0.1508 - val_loss: 2.1641 - learning_rate: 0.0010\n",
            "Epoch 8/100\n",
            "\u001b[1m9/9\u001b[0m \u001b[32m━━━━━━━━━━━━━━━━━━━━\u001b[0m\u001b[37m\u001b[0m \u001b[1m1s\u001b[0m 160ms/step - accuracy: 0.1470 - loss: 2.1899 - val_accuracy: 0.1905 - val_loss: 2.0823 - learning_rate: 0.0010\n",
            "Epoch 9/100\n",
            "\u001b[1m9/9\u001b[0m \u001b[32m━━━━━━━━━━━━━━━━━━━━\u001b[0m\u001b[37m\u001b[0m \u001b[1m1s\u001b[0m 159ms/step - accuracy: 0.1822 - loss: 2.0809 - val_accuracy: 0.2460 - val_loss: 1.9849 - learning_rate: 0.0010\n",
            "Epoch 10/100\n",
            "\u001b[1m9/9\u001b[0m \u001b[32m━━━━━━━━━━━━━━━━━━━━\u001b[0m\u001b[37m\u001b[0m \u001b[1m2s\u001b[0m 151ms/step - accuracy: 0.2390 - loss: 1.9596 - val_accuracy: 0.2222 - val_loss: 1.9934 - learning_rate: 0.0010\n",
            "Epoch 11/100\n",
            "\u001b[1m9/9\u001b[0m \u001b[32m━━━━━━━━━━━━━━━━━━━━\u001b[0m\u001b[37m\u001b[0m \u001b[1m3s\u001b[0m 161ms/step - accuracy: 0.2335 - loss: 1.8846 - val_accuracy: 0.2619 - val_loss: 1.8793 - learning_rate: 0.0010\n",
            "Epoch 12/100\n",
            "\u001b[1m9/9\u001b[0m \u001b[32m━━━━━━━━━━━━━━━━━━━━\u001b[0m\u001b[37m\u001b[0m \u001b[1m3s\u001b[0m 203ms/step - accuracy: 0.2391 - loss: 1.8066 - val_accuracy: 0.2460 - val_loss: 1.8619 - learning_rate: 0.0010\n",
            "Epoch 13/100\n",
            "\u001b[1m9/9\u001b[0m \u001b[32m━━━━━━━━━━━━━━━━━━━━\u001b[0m\u001b[37m\u001b[0m \u001b[1m2s\u001b[0m 161ms/step - accuracy: 0.2839 - loss: 1.7664 - val_accuracy: 0.2460 - val_loss: 1.7940 - learning_rate: 0.0010\n",
            "Epoch 14/100\n",
            "\u001b[1m9/9\u001b[0m \u001b[32m━━━━━━━━━━━━━━━━━━━━\u001b[0m\u001b[37m\u001b[0m \u001b[1m1s\u001b[0m 147ms/step - accuracy: 0.3085 - loss: 1.7087 - val_accuracy: 0.3254 - val_loss: 1.7952 - learning_rate: 0.0010\n",
            "Epoch 15/100\n",
            "\u001b[1m9/9\u001b[0m \u001b[32m━━━━━━━━━━━━━━━━━━━━\u001b[0m\u001b[37m\u001b[0m \u001b[1m1s\u001b[0m 164ms/step - accuracy: 0.2785 - loss: 1.7315 - val_accuracy: 0.2937 - val_loss: 1.7777 - learning_rate: 0.0010\n",
            "Epoch 16/100\n",
            "\u001b[1m9/9\u001b[0m \u001b[32m━━━━━━━━━━━━━━━━━━━━\u001b[0m\u001b[37m\u001b[0m \u001b[1m1s\u001b[0m 163ms/step - accuracy: 0.3179 - loss: 1.6702 - val_accuracy: 0.3175 - val_loss: 1.7319 - learning_rate: 0.0010\n",
            "Epoch 17/100\n",
            "\u001b[1m9/9\u001b[0m \u001b[32m━━━━━━━━━━━━━━━━━━━━\u001b[0m\u001b[37m\u001b[0m \u001b[1m1s\u001b[0m 159ms/step - accuracy: 0.3394 - loss: 1.6244 - val_accuracy: 0.3095 - val_loss: 1.7602 - learning_rate: 0.0010\n",
            "Epoch 18/100\n",
            "\u001b[1m9/9\u001b[0m \u001b[32m━━━━━━━━━━━━━━━━━━━━\u001b[0m\u001b[37m\u001b[0m \u001b[1m3s\u001b[0m 162ms/step - accuracy: 0.3159 - loss: 1.5794 - val_accuracy: 0.3810 - val_loss: 1.7556 - learning_rate: 0.0010\n",
            "Epoch 19/100\n",
            "\u001b[1m9/9\u001b[0m \u001b[32m━━━━━━━━━━━━━━━━━━━━\u001b[0m\u001b[37m\u001b[0m \u001b[1m2s\u001b[0m 207ms/step - accuracy: 0.3849 - loss: 1.5062 - val_accuracy: 0.3175 - val_loss: 1.7562 - learning_rate: 0.0010\n",
            "Epoch 20/100\n",
            "\u001b[1m9/9\u001b[0m \u001b[32m━━━━━━━━━━━━━━━━━━━━\u001b[0m\u001b[37m\u001b[0m \u001b[1m2s\u001b[0m 166ms/step - accuracy: 0.3851 - loss: 1.4868 - val_accuracy: 0.3571 - val_loss: 1.7555 - learning_rate: 0.0010\n",
            "Epoch 21/100\n",
            "\u001b[1m9/9\u001b[0m \u001b[32m━━━━━━━━━━━━━━━━━━━━\u001b[0m\u001b[37m\u001b[0m \u001b[1m1s\u001b[0m 153ms/step - accuracy: 0.4460 - loss: 1.3804 - val_accuracy: 0.3413 - val_loss: 1.6271 - learning_rate: 0.0010\n",
            "Epoch 22/100\n",
            "\u001b[1m9/9\u001b[0m \u001b[32m━━━━━━━━━━━━━━━━━━━━\u001b[0m\u001b[37m\u001b[0m \u001b[1m1s\u001b[0m 151ms/step - accuracy: 0.4873 - loss: 1.3794 - val_accuracy: 0.3571 - val_loss: 1.6775 - learning_rate: 0.0010\n",
            "Epoch 23/100\n",
            "\u001b[1m9/9\u001b[0m \u001b[32m━━━━━━━━━━━━━━━━━━━━\u001b[0m\u001b[37m\u001b[0m \u001b[1m1s\u001b[0m 162ms/step - accuracy: 0.4621 - loss: 1.3692 - val_accuracy: 0.4444 - val_loss: 1.6185 - learning_rate: 0.0010\n",
            "Epoch 24/100\n",
            "\u001b[1m9/9\u001b[0m \u001b[32m━━━━━━━━━━━━━━━━━━━━\u001b[0m\u001b[37m\u001b[0m \u001b[1m2s\u001b[0m 153ms/step - accuracy: 0.4910 - loss: 1.3153 - val_accuracy: 0.4365 - val_loss: 1.5419 - learning_rate: 0.0010\n",
            "Epoch 25/100\n",
            "\u001b[1m9/9\u001b[0m \u001b[32m━━━━━━━━━━━━━━━━━━━━\u001b[0m\u001b[37m\u001b[0m \u001b[1m3s\u001b[0m 159ms/step - accuracy: 0.4946 - loss: 1.2639 - val_accuracy: 0.4127 - val_loss: 1.6745 - learning_rate: 0.0010\n",
            "Epoch 26/100\n",
            "\u001b[1m9/9\u001b[0m \u001b[32m━━━━━━━━━━━━━━━━━━━━\u001b[0m\u001b[37m\u001b[0m \u001b[1m3s\u001b[0m 182ms/step - accuracy: 0.4871 - loss: 1.3346 - val_accuracy: 0.3651 - val_loss: 1.6642 - learning_rate: 0.0010\n",
            "Epoch 27/100\n",
            "\u001b[1m9/9\u001b[0m \u001b[32m━━━━━━━━━━━━━━━━━━━━\u001b[0m\u001b[37m\u001b[0m \u001b[1m2s\u001b[0m 150ms/step - accuracy: 0.4513 - loss: 1.3689 - val_accuracy: 0.3492 - val_loss: 1.5990 - learning_rate: 0.0010\n",
            "Epoch 28/100\n",
            "\u001b[1m9/9\u001b[0m \u001b[32m━━━━━━━━━━━━━━━━━━━━\u001b[0m\u001b[37m\u001b[0m \u001b[1m3s\u001b[0m 164ms/step - accuracy: 0.4712 - loss: 1.3104 - val_accuracy: 0.3968 - val_loss: 1.5107 - learning_rate: 0.0010\n",
            "Epoch 29/100\n",
            "\u001b[1m9/9\u001b[0m \u001b[32m━━━━━━━━━━━━━━━━━━━━\u001b[0m\u001b[37m\u001b[0m \u001b[1m1s\u001b[0m 160ms/step - accuracy: 0.5252 - loss: 1.1831 - val_accuracy: 0.4206 - val_loss: 1.4799 - learning_rate: 0.0010\n",
            "Epoch 30/100\n",
            "\u001b[1m9/9\u001b[0m \u001b[32m━━━━━━━━━━━━━━━━━━━━\u001b[0m\u001b[37m\u001b[0m \u001b[1m3s\u001b[0m 158ms/step - accuracy: 0.5105 - loss: 1.2224 - val_accuracy: 0.4444 - val_loss: 1.5454 - learning_rate: 0.0010\n",
            "Epoch 31/100\n",
            "\u001b[1m9/9\u001b[0m \u001b[32m━━━━━━━━━━━━━━━━━━━━\u001b[0m\u001b[37m\u001b[0m \u001b[1m3s\u001b[0m 208ms/step - accuracy: 0.5587 - loss: 1.1289 - val_accuracy: 0.4365 - val_loss: 1.4606 - learning_rate: 0.0010\n",
            "Epoch 32/100\n",
            "\u001b[1m9/9\u001b[0m \u001b[32m━━━━━━━━━━━━━━━━━━━━\u001b[0m\u001b[37m\u001b[0m \u001b[1m2s\u001b[0m 166ms/step - accuracy: 0.5747 - loss: 1.0794 - val_accuracy: 0.4048 - val_loss: 1.4663 - learning_rate: 0.0010\n",
            "Epoch 33/100\n",
            "\u001b[1m9/9\u001b[0m \u001b[32m━━━━━━━━━━━━━━━━━━━━\u001b[0m\u001b[37m\u001b[0m \u001b[1m2s\u001b[0m 153ms/step - accuracy: 0.5455 - loss: 1.0993 - val_accuracy: 0.5079 - val_loss: 1.3230 - learning_rate: 0.0010\n",
            "Epoch 34/100\n",
            "\u001b[1m9/9\u001b[0m \u001b[32m━━━━━━━━━━━━━━━━━━━━\u001b[0m\u001b[37m\u001b[0m \u001b[1m3s\u001b[0m 159ms/step - accuracy: 0.5912 - loss: 0.9891 - val_accuracy: 0.5238 - val_loss: 1.3940 - learning_rate: 0.0010\n",
            "Epoch 35/100\n",
            "\u001b[1m9/9\u001b[0m \u001b[32m━━━━━━━━━━━━━━━━━━━━\u001b[0m\u001b[37m\u001b[0m \u001b[1m1s\u001b[0m 150ms/step - accuracy: 0.6398 - loss: 0.9505 - val_accuracy: 0.4841 - val_loss: 1.4383 - learning_rate: 0.0010\n",
            "Epoch 36/100\n",
            "\u001b[1m9/9\u001b[0m \u001b[32m━━━━━━━━━━━━━━━━━━━━\u001b[0m\u001b[37m\u001b[0m \u001b[1m1s\u001b[0m 150ms/step - accuracy: 0.6368 - loss: 0.9429 - val_accuracy: 0.5476 - val_loss: 1.3479 - learning_rate: 0.0010\n",
            "Epoch 37/100\n",
            "\u001b[1m9/9\u001b[0m \u001b[32m━━━━━━━━━━━━━━━━━━━━\u001b[0m\u001b[37m\u001b[0m \u001b[1m3s\u001b[0m 214ms/step - accuracy: 0.6113 - loss: 1.0042 - val_accuracy: 0.4603 - val_loss: 1.3903 - learning_rate: 0.0010\n",
            "Epoch 38/100\n",
            "\u001b[1m9/9\u001b[0m \u001b[32m━━━━━━━━━━━━━━━━━━━━\u001b[0m\u001b[37m\u001b[0m \u001b[1m2s\u001b[0m 176ms/step - accuracy: 0.6344 - loss: 0.9551 - val_accuracy: 0.4524 - val_loss: 1.6686 - learning_rate: 0.0010\n",
            "Epoch 39/100\n",
            "\u001b[1m9/9\u001b[0m \u001b[32m━━━━━━━━━━━━━━━━━━━━\u001b[0m\u001b[37m\u001b[0m \u001b[1m1s\u001b[0m 152ms/step - accuracy: 0.6034 - loss: 1.0483 - val_accuracy: 0.5000 - val_loss: 1.2647 - learning_rate: 9.5000e-04\n",
            "Epoch 40/100\n",
            "\u001b[1m9/9\u001b[0m \u001b[32m━━━━━━━━━━━━━━━━━━━━\u001b[0m\u001b[37m\u001b[0m \u001b[1m1s\u001b[0m 152ms/step - accuracy: 0.6460 - loss: 0.9229 - val_accuracy: 0.5079 - val_loss: 1.3255 - learning_rate: 9.5000e-04\n",
            "Epoch 41/100\n",
            "\u001b[1m9/9\u001b[0m \u001b[32m━━━━━━━━━━━━━━━━━━━━\u001b[0m\u001b[37m\u001b[0m \u001b[1m3s\u001b[0m 162ms/step - accuracy: 0.6287 - loss: 0.8699 - val_accuracy: 0.5159 - val_loss: 1.2806 - learning_rate: 9.5000e-04\n",
            "Epoch 42/100\n",
            "\u001b[1m9/9\u001b[0m \u001b[32m━━━━━━━━━━━━━━━━━━━━\u001b[0m\u001b[37m\u001b[0m \u001b[1m2s\u001b[0m 152ms/step - accuracy: 0.6670 - loss: 0.8245 - val_accuracy: 0.5635 - val_loss: 1.2826 - learning_rate: 9.5000e-04\n",
            "Epoch 43/100\n",
            "\u001b[1m9/9\u001b[0m \u001b[32m━━━━━━━━━━━━━━━━━━━━\u001b[0m\u001b[37m\u001b[0m \u001b[1m3s\u001b[0m 199ms/step - accuracy: 0.6969 - loss: 0.8086 - val_accuracy: 0.5794 - val_loss: 1.2841 - learning_rate: 9.5000e-04\n",
            "Epoch 44/100\n",
            "\u001b[1m9/9\u001b[0m \u001b[32m━━━━━━━━━━━━━━━━━━━━\u001b[0m\u001b[37m\u001b[0m \u001b[1m2s\u001b[0m 206ms/step - accuracy: 0.6824 - loss: 0.7699 - val_accuracy: 0.4921 - val_loss: 1.4004 - learning_rate: 9.5000e-04\n",
            "Epoch 45/100\n",
            "\u001b[1m9/9\u001b[0m \u001b[32m━━━━━━━━━━━━━━━━━━━━\u001b[0m\u001b[37m\u001b[0m \u001b[1m2s\u001b[0m 149ms/step - accuracy: 0.6667 - loss: 0.8504 - val_accuracy: 0.4921 - val_loss: 1.4119 - learning_rate: 9.0250e-04\n",
            "Epoch 46/100\n",
            "\u001b[1m9/9\u001b[0m \u001b[32m━━━━━━━━━━━━━━━━━━━━\u001b[0m\u001b[37m\u001b[0m \u001b[1m1s\u001b[0m 150ms/step - accuracy: 0.7074 - loss: 0.7524 - val_accuracy: 0.5714 - val_loss: 1.2809 - learning_rate: 9.0250e-04\n",
            "Epoch 47/100\n",
            "\u001b[1m9/9\u001b[0m \u001b[32m━━━━━━━━━━━━━━━━━━━━\u001b[0m\u001b[37m\u001b[0m \u001b[1m3s\u001b[0m 161ms/step - accuracy: 0.7036 - loss: 0.7547 - val_accuracy: 0.5317 - val_loss: 1.2721 - learning_rate: 9.0250e-04\n",
            "Epoch 48/100\n",
            "\u001b[1m9/9\u001b[0m \u001b[32m━━━━━━━━━━━━━━━━━━━━\u001b[0m\u001b[37m\u001b[0m \u001b[1m2s\u001b[0m 164ms/step - accuracy: 0.7421 - loss: 0.6878 - val_accuracy: 0.5794 - val_loss: 1.2239 - learning_rate: 9.0250e-04\n",
            "Epoch 49/100\n",
            "\u001b[1m9/9\u001b[0m \u001b[32m━━━━━━━━━━━━━━━━━━━━\u001b[0m\u001b[37m\u001b[0m \u001b[1m2s\u001b[0m 204ms/step - accuracy: 0.7362 - loss: 0.6963 - val_accuracy: 0.5476 - val_loss: 1.2813 - learning_rate: 9.0250e-04\n",
            "Epoch 50/100\n",
            "\u001b[1m9/9\u001b[0m \u001b[32m━━━━━━━━━━━━━━━━━━━━\u001b[0m\u001b[37m\u001b[0m \u001b[1m2s\u001b[0m 217ms/step - accuracy: 0.7154 - loss: 0.7236 - val_accuracy: 0.5556 - val_loss: 1.2492 - learning_rate: 9.0250e-04\n",
            "Epoch 51/100\n",
            "\u001b[1m9/9\u001b[0m \u001b[32m━━━━━━━━━━━━━━━━━━━━\u001b[0m\u001b[37m\u001b[0m \u001b[1m2s\u001b[0m 193ms/step - accuracy: 0.7857 - loss: 0.6444 - val_accuracy: 0.5397 - val_loss: 1.2548 - learning_rate: 9.0250e-04\n",
            "Epoch 52/100\n",
            "\u001b[1m9/9\u001b[0m \u001b[32m━━━━━━━━━━━━━━━━━━━━\u001b[0m\u001b[37m\u001b[0m \u001b[1m1s\u001b[0m 149ms/step - accuracy: 0.7214 - loss: 0.6911 - val_accuracy: 0.5714 - val_loss: 1.3619 - learning_rate: 9.0250e-04\n",
            "Epoch 53/100\n",
            "\u001b[1m9/9\u001b[0m \u001b[32m━━━━━━━━━━━━━━━━━━━━\u001b[0m\u001b[37m\u001b[0m \u001b[1m3s\u001b[0m 150ms/step - accuracy: 0.7411 - loss: 0.6487 - val_accuracy: 0.5635 - val_loss: 1.3957 - learning_rate: 9.0250e-04\n",
            "Epoch 54/100\n",
            "\u001b[1m9/9\u001b[0m \u001b[32m━━━━━━━━━━━━━━━━━━━━\u001b[0m\u001b[37m\u001b[0m \u001b[1m1s\u001b[0m 159ms/step - accuracy: 0.7659 - loss: 0.6130 - val_accuracy: 0.5714 - val_loss: 1.3082 - learning_rate: 8.5737e-04\n",
            "Epoch 55/100\n",
            "\u001b[1m9/9\u001b[0m \u001b[32m━━━━━━━━━━━━━━━━━━━━\u001b[0m\u001b[37m\u001b[0m \u001b[1m2s\u001b[0m 149ms/step - accuracy: 0.7637 - loss: 0.6083 - val_accuracy: 0.5873 - val_loss: 1.2123 - learning_rate: 8.5737e-04\n",
            "Epoch 56/100\n",
            "\u001b[1m9/9\u001b[0m \u001b[32m━━━━━━━━━━━━━━━━━━━━\u001b[0m\u001b[37m\u001b[0m \u001b[1m1s\u001b[0m 157ms/step - accuracy: 0.7770 - loss: 0.6048 - val_accuracy: 0.5476 - val_loss: 1.3773 - learning_rate: 8.5737e-04\n",
            "Epoch 57/100\n",
            "\u001b[1m9/9\u001b[0m \u001b[32m━━━━━━━━━━━━━━━━━━━━\u001b[0m\u001b[37m\u001b[0m \u001b[1m2s\u001b[0m 196ms/step - accuracy: 0.7483 - loss: 0.6536 - val_accuracy: 0.5317 - val_loss: 1.3670 - learning_rate: 8.5737e-04\n",
            "Epoch 58/100\n",
            "\u001b[1m9/9\u001b[0m \u001b[32m━━━━━━━━━━━━━━━━━━━━\u001b[0m\u001b[37m\u001b[0m \u001b[1m2s\u001b[0m 202ms/step - accuracy: 0.8032 - loss: 0.5372 - val_accuracy: 0.5317 - val_loss: 1.3914 - learning_rate: 8.5737e-04\n",
            "Epoch 59/100\n",
            "\u001b[1m9/9\u001b[0m \u001b[32m━━━━━━━━━━━━━━━━━━━━\u001b[0m\u001b[37m\u001b[0m \u001b[1m1s\u001b[0m 150ms/step - accuracy: 0.7596 - loss: 0.6251 - val_accuracy: 0.5317 - val_loss: 1.3024 - learning_rate: 8.5737e-04\n",
            "Epoch 60/100\n",
            "\u001b[1m9/9\u001b[0m \u001b[32m━━━━━━━━━━━━━━━━━━━━\u001b[0m\u001b[37m\u001b[0m \u001b[1m1s\u001b[0m 162ms/step - accuracy: 0.7778 - loss: 0.5348 - val_accuracy: 0.6032 - val_loss: 1.3033 - learning_rate: 8.5737e-04\n",
            "Epoch 61/100\n",
            "\u001b[1m9/9\u001b[0m \u001b[32m━━━━━━━━━━━━━━━━━━━━\u001b[0m\u001b[37m\u001b[0m \u001b[1m1s\u001b[0m 161ms/step - accuracy: 0.7772 - loss: 0.5672 - val_accuracy: 0.5635 - val_loss: 1.4407 - learning_rate: 8.1451e-04\n",
            "Epoch 62/100\n",
            "\u001b[1m9/9\u001b[0m \u001b[32m━━━━━━━━━━━━━━━━━━━━\u001b[0m\u001b[37m\u001b[0m \u001b[1m1s\u001b[0m 162ms/step - accuracy: 0.7845 - loss: 0.5577 - val_accuracy: 0.5317 - val_loss: 1.3562 - learning_rate: 8.1451e-04\n",
            "Epoch 63/100\n",
            "\u001b[1m9/9\u001b[0m \u001b[32m━━━━━━━━━━━━━━━━━━━━\u001b[0m\u001b[37m\u001b[0m \u001b[1m1s\u001b[0m 152ms/step - accuracy: 0.8161 - loss: 0.4922 - val_accuracy: 0.5635 - val_loss: 1.3359 - learning_rate: 8.1451e-04\n",
            "Epoch 64/100\n",
            "\u001b[1m9/9\u001b[0m \u001b[32m━━━━━━━━━━━━━━━━━━━━\u001b[0m\u001b[37m\u001b[0m \u001b[1m3s\u001b[0m 163ms/step - accuracy: 0.7872 - loss: 0.5607 - val_accuracy: 0.4921 - val_loss: 1.4601 - learning_rate: 8.1451e-04\n",
            "Epoch 65/100\n",
            "\u001b[1m9/9\u001b[0m \u001b[32m━━━━━━━━━━━━━━━━━━━━\u001b[0m\u001b[37m\u001b[0m \u001b[1m3s\u001b[0m 181ms/step - accuracy: 0.7566 - loss: 0.6116 - val_accuracy: 0.5873 - val_loss: 1.2202 - learning_rate: 8.1451e-04\n",
            "Epoch 66/100\n",
            "\u001b[1m9/9\u001b[0m \u001b[32m━━━━━━━━━━━━━━━━━━━━\u001b[0m\u001b[37m\u001b[0m \u001b[1m2s\u001b[0m 160ms/step - accuracy: 0.8050 - loss: 0.4960 - val_accuracy: 0.5714 - val_loss: 1.1995 - learning_rate: 7.7378e-04\n",
            "Epoch 67/100\n",
            "\u001b[1m9/9\u001b[0m \u001b[32m━━━━━━━━━━━━━━━━━━━━\u001b[0m\u001b[37m\u001b[0m \u001b[1m3s\u001b[0m 159ms/step - accuracy: 0.8021 - loss: 0.4993 - val_accuracy: 0.6032 - val_loss: 1.2609 - learning_rate: 7.7378e-04\n",
            "Epoch 68/100\n",
            "\u001b[1m9/9\u001b[0m \u001b[32m━━━━━━━━━━━━━━━━━━━━\u001b[0m\u001b[37m\u001b[0m \u001b[1m1s\u001b[0m 160ms/step - accuracy: 0.8016 - loss: 0.4959 - val_accuracy: 0.5873 - val_loss: 1.2799 - learning_rate: 7.7378e-04\n",
            "Epoch 69/100\n",
            "\u001b[1m9/9\u001b[0m \u001b[32m━━━━━━━━━━━━━━━━━━━━\u001b[0m\u001b[37m\u001b[0m \u001b[1m1s\u001b[0m 149ms/step - accuracy: 0.8162 - loss: 0.4925 - val_accuracy: 0.6111 - val_loss: 1.2067 - learning_rate: 7.7378e-04\n",
            "Epoch 70/100\n",
            "\u001b[1m9/9\u001b[0m \u001b[32m━━━━━━━━━━━━━━━━━━━━\u001b[0m\u001b[37m\u001b[0m \u001b[1m3s\u001b[0m 193ms/step - accuracy: 0.8387 - loss: 0.4357 - val_accuracy: 0.6111 - val_loss: 1.2270 - learning_rate: 7.7378e-04\n",
            "Epoch 71/100\n",
            "\u001b[1m9/9\u001b[0m \u001b[32m━━━━━━━━━━━━━━━━━━━━\u001b[0m\u001b[37m\u001b[0m \u001b[1m2s\u001b[0m 172ms/step - accuracy: 0.8117 - loss: 0.4772 - val_accuracy: 0.5952 - val_loss: 1.1966 - learning_rate: 7.7378e-04\n",
            "Epoch 72/100\n",
            "\u001b[1m9/9\u001b[0m \u001b[32m━━━━━━━━━━━━━━━━━━━━\u001b[0m\u001b[37m\u001b[0m \u001b[1m2s\u001b[0m 161ms/step - accuracy: 0.8142 - loss: 0.4198 - val_accuracy: 0.5952 - val_loss: 1.2603 - learning_rate: 7.7378e-04\n",
            "Epoch 73/100\n",
            "\u001b[1m9/9\u001b[0m \u001b[32m━━━━━━━━━━━━━━━━━━━━\u001b[0m\u001b[37m\u001b[0m \u001b[1m1s\u001b[0m 151ms/step - accuracy: 0.8319 - loss: 0.4316 - val_accuracy: 0.5794 - val_loss: 1.3430 - learning_rate: 7.7378e-04\n",
            "Epoch 74/100\n",
            "\u001b[1m9/9\u001b[0m \u001b[32m━━━━━━━━━━━━━━━━━━━━\u001b[0m\u001b[37m\u001b[0m \u001b[1m3s\u001b[0m 150ms/step - accuracy: 0.8237 - loss: 0.4307 - val_accuracy: 0.5556 - val_loss: 1.3726 - learning_rate: 7.7378e-04\n",
            "Epoch 75/100\n",
            "\u001b[1m9/9\u001b[0m \u001b[32m━━━━━━━━━━━━━━━━━━━━\u001b[0m\u001b[37m\u001b[0m \u001b[1m1s\u001b[0m 152ms/step - accuracy: 0.8496 - loss: 0.3848 - val_accuracy: 0.6270 - val_loss: 1.2436 - learning_rate: 7.7378e-04\n",
            "Epoch 76/100\n",
            "\u001b[1m9/9\u001b[0m \u001b[32m━━━━━━━━━━━━━━━━━━━━\u001b[0m\u001b[37m\u001b[0m \u001b[1m1s\u001b[0m 162ms/step - accuracy: 0.8387 - loss: 0.4241 - val_accuracy: 0.6349 - val_loss: 1.1878 - learning_rate: 7.7378e-04\n",
            "Epoch 77/100\n",
            "\u001b[1m9/9\u001b[0m \u001b[32m━━━━━━━━━━━━━━━━━━━━\u001b[0m\u001b[37m\u001b[0m \u001b[1m2s\u001b[0m 211ms/step - accuracy: 0.8150 - loss: 0.4538 - val_accuracy: 0.6190 - val_loss: 1.2626 - learning_rate: 7.7378e-04\n",
            "Epoch 78/100\n",
            "\u001b[1m9/9\u001b[0m \u001b[32m━━━━━━━━━━━━━━━━━━━━\u001b[0m\u001b[37m\u001b[0m \u001b[1m2s\u001b[0m 159ms/step - accuracy: 0.8270 - loss: 0.4452 - val_accuracy: 0.5794 - val_loss: 1.3228 - learning_rate: 7.7378e-04\n",
            "Epoch 79/100\n",
            "\u001b[1m9/9\u001b[0m \u001b[32m━━━━━━━━━━━━━━━━━━━━\u001b[0m\u001b[37m\u001b[0m \u001b[1m2s\u001b[0m 151ms/step - accuracy: 0.8456 - loss: 0.3986 - val_accuracy: 0.6032 - val_loss: 1.2649 - learning_rate: 7.7378e-04\n",
            "Epoch 80/100\n",
            "\u001b[1m9/9\u001b[0m \u001b[32m━━━━━━━━━━━━━━━━━━━━\u001b[0m\u001b[37m\u001b[0m \u001b[1m1s\u001b[0m 153ms/step - accuracy: 0.8477 - loss: 0.3603 - val_accuracy: 0.6190 - val_loss: 1.3620 - learning_rate: 7.7378e-04\n",
            "Epoch 81/100\n",
            "\u001b[1m9/9\u001b[0m \u001b[32m━━━━━━━━━━━━━━━━━━━━\u001b[0m\u001b[37m\u001b[0m \u001b[1m1s\u001b[0m 147ms/step - accuracy: 0.8195 - loss: 0.4304 - val_accuracy: 0.5873 - val_loss: 1.4790 - learning_rate: 7.7378e-04\n",
            "Epoch 82/100\n",
            "\u001b[1m9/9\u001b[0m \u001b[32m━━━━━━━━━━━━━━━━━━━━\u001b[0m\u001b[37m\u001b[0m \u001b[1m1s\u001b[0m 159ms/step - accuracy: 0.8604 - loss: 0.3316 - val_accuracy: 0.5397 - val_loss: 1.5936 - learning_rate: 7.3509e-04\n",
            "Epoch 83/100\n",
            "\u001b[1m9/9\u001b[0m \u001b[32m━━━━━━━━━━━━━━━━━━━━\u001b[0m\u001b[37m\u001b[0m \u001b[1m3s\u001b[0m 177ms/step - accuracy: 0.8245 - loss: 0.4235 - val_accuracy: 0.5952 - val_loss: 1.3448 - learning_rate: 7.3509e-04\n",
            "Epoch 84/100\n",
            "\u001b[1m9/9\u001b[0m \u001b[32m━━━━━━━━━━━━━━━━━━━━\u001b[0m\u001b[37m\u001b[0m \u001b[1m3s\u001b[0m 179ms/step - accuracy: 0.8265 - loss: 0.4341 - val_accuracy: 0.5635 - val_loss: 1.4586 - learning_rate: 7.3509e-04\n",
            "Epoch 85/100\n",
            "\u001b[1m9/9\u001b[0m \u001b[32m━━━━━━━━━━━━━━━━━━━━\u001b[0m\u001b[37m\u001b[0m \u001b[1m1s\u001b[0m 161ms/step - accuracy: 0.8086 - loss: 0.4790 - val_accuracy: 0.5238 - val_loss: 1.6965 - learning_rate: 7.3509e-04\n",
            "Epoch 86/100\n",
            "\u001b[1m9/9\u001b[0m \u001b[32m━━━━━━━━━━━━━━━━━━━━\u001b[0m\u001b[37m\u001b[0m \u001b[1m1s\u001b[0m 161ms/step - accuracy: 0.8123 - loss: 0.5304 - val_accuracy: 0.5952 - val_loss: 1.3915 - learning_rate: 7.3509e-04\n",
            "Epoch 87/100\n",
            "\u001b[1m9/9\u001b[0m \u001b[32m━━━━━━━━━━━━━━━━━━━━\u001b[0m\u001b[37m\u001b[0m \u001b[1m3s\u001b[0m 164ms/step - accuracy: 0.8385 - loss: 0.4021 - val_accuracy: 0.5794 - val_loss: 1.3286 - learning_rate: 6.9834e-04\n",
            "Epoch 88/100\n",
            "\u001b[1m9/9\u001b[0m \u001b[32m━━━━━━━━━━━━━━━━━━━━\u001b[0m\u001b[37m\u001b[0m \u001b[1m2s\u001b[0m 153ms/step - accuracy: 0.8522 - loss: 0.3928 - val_accuracy: 0.6111 - val_loss: 1.1877 - learning_rate: 6.9834e-04\n",
            "Epoch 89/100\n",
            "\u001b[1m9/9\u001b[0m \u001b[32m━━━━━━━━━━━━━━━━━━━━\u001b[0m\u001b[37m\u001b[0m \u001b[1m2s\u001b[0m 169ms/step - accuracy: 0.8511 - loss: 0.3830 - val_accuracy: 0.5794 - val_loss: 1.2690 - learning_rate: 6.9834e-04\n",
            "Epoch 90/100\n",
            "\u001b[1m9/9\u001b[0m \u001b[32m━━━━━━━━━━━━━━━━━━━━\u001b[0m\u001b[37m\u001b[0m \u001b[1m2s\u001b[0m 201ms/step - accuracy: 0.8630 - loss: 0.3700 - val_accuracy: 0.6190 - val_loss: 1.2378 - learning_rate: 6.9834e-04\n",
            "Epoch 91/100\n",
            "\u001b[1m9/9\u001b[0m \u001b[32m━━━━━━━━━━━━━━━━━━━━\u001b[0m\u001b[37m\u001b[0m \u001b[1m2s\u001b[0m 149ms/step - accuracy: 0.8800 - loss: 0.3178 - val_accuracy: 0.5317 - val_loss: 1.4332 - learning_rate: 6.9834e-04\n",
            "Epoch 92/100\n",
            "\u001b[1m9/9\u001b[0m \u001b[32m━━━━━━━━━━━━━━━━━━━━\u001b[0m\u001b[37m\u001b[0m \u001b[1m1s\u001b[0m 159ms/step - accuracy: 0.8836 - loss: 0.3201 - val_accuracy: 0.5873 - val_loss: 1.4202 - learning_rate: 6.6342e-04\n",
            "Epoch 93/100\n",
            "\u001b[1m9/9\u001b[0m \u001b[32m━━━━━━━━━━━━━━━━━━━━\u001b[0m\u001b[37m\u001b[0m \u001b[1m3s\u001b[0m 159ms/step - accuracy: 0.8799 - loss: 0.3071 - val_accuracy: 0.6429 - val_loss: 1.2546 - learning_rate: 6.6342e-04\n",
            "Epoch 94/100\n",
            "\u001b[1m9/9\u001b[0m \u001b[32m━━━━━━━━━━━━━━━━━━━━\u001b[0m\u001b[37m\u001b[0m \u001b[1m3s\u001b[0m 159ms/step - accuracy: 0.8799 - loss: 0.3149 - val_accuracy: 0.6270 - val_loss: 1.2801 - learning_rate: 6.6342e-04\n",
            "Epoch 95/100\n",
            "\u001b[1m9/9\u001b[0m \u001b[32m━━━━━━━━━━━━━━━━━━━━\u001b[0m\u001b[37m\u001b[0m \u001b[1m3s\u001b[0m 180ms/step - accuracy: 0.8915 - loss: 0.2799 - val_accuracy: 0.6270 - val_loss: 1.2930 - learning_rate: 6.6342e-04\n",
            "Epoch 96/100\n",
            "\u001b[1m9/9\u001b[0m \u001b[32m━━━━━━━━━━━━━━━━━━━━\u001b[0m\u001b[37m\u001b[0m \u001b[1m2s\u001b[0m 215ms/step - accuracy: 0.8895 - loss: 0.2874 - val_accuracy: 0.5635 - val_loss: 1.4807 - learning_rate: 6.6342e-04\n",
            "Epoch 97/100\n",
            "\u001b[1m9/9\u001b[0m \u001b[32m━━━━━━━━━━━━━━━━━━━━\u001b[0m\u001b[37m\u001b[0m \u001b[1m2s\u001b[0m 162ms/step - accuracy: 0.8684 - loss: 0.3269 - val_accuracy: 0.6270 - val_loss: 1.2870 - learning_rate: 6.3025e-04\n",
            "Epoch 98/100\n",
            "\u001b[1m9/9\u001b[0m \u001b[32m━━━━━━━━━━━━━━━━━━━━\u001b[0m\u001b[37m\u001b[0m \u001b[1m2s\u001b[0m 152ms/step - accuracy: 0.8827 - loss: 0.2838 - val_accuracy: 0.6429 - val_loss: 1.2853 - learning_rate: 6.3025e-04\n",
            "Epoch 99/100\n",
            "\u001b[1m9/9\u001b[0m \u001b[32m━━━━━━━━━━━━━━━━━━━━\u001b[0m\u001b[37m\u001b[0m \u001b[1m3s\u001b[0m 159ms/step - accuracy: 0.8993 - loss: 0.2667 - val_accuracy: 0.6587 - val_loss: 1.3089 - learning_rate: 6.3025e-04\n",
            "Epoch 100/100\n",
            "\u001b[1m9/9\u001b[0m \u001b[32m━━━━━━━━━━━━━━━━━━━━\u001b[0m\u001b[37m\u001b[0m \u001b[1m1s\u001b[0m 162ms/step - accuracy: 0.9029 - loss: 0.2465 - val_accuracy: 0.6349 - val_loss: 1.4577 - learning_rate: 6.3025e-04\n"
          ]
        }
      ],
      "source": [
        "# training the model\n",
        "from tensorflow.keras.optimizers import Adam\n",
        "#y_train = tf.keras.utils.to_categorical(y, num_classes=5) # use if we want labels to be on-hot encoded\n",
        "\n",
        "optimizer = Adam(learning_rate=0.001, clipnorm=1.0)\n",
        "batch_size = 128\n",
        "epochs = 100\n",
        "early_stopping = tf.keras.callbacks.EarlyStopping(monitor='val_loss', patience=15,\n",
        "                                                  restore_best_weights=True)\n",
        "reduce_lr = tf.keras.callbacks.ReduceLROnPlateau(monitor='val_loss', factor=0.95,\n",
        "                              patience=5, min_lr=0.00001)\n",
        "\n",
        "model.compile(loss='sparse_categorical_crossentropy', optimizer=optimizer,\n",
        "              metrics=['accuracy'])\n",
        "hist = model.fit(X_train, y_train, callbacks=[early_stopping, reduce_lr],\n",
        "                 epochs=epochs, batch_size=batch_size, validation_split=0.10)"
      ]
    },
    {
      "cell_type": "code",
      "source": [
        "'''\n",
        "Saving best spectorgram results here\n",
        "separating labels for left and right top accuracy is 56.8%\n",
        "10 labels and LSTM -best is 67.9%\n",
        "generally got about 80% with different models using all data and 5 classes\n",
        "'''\n",
        "best_spec_accuracy = accuracy_score(y_test, y_pred_classes)\n",
        "print(best_spec_accuracy)"
      ],
      "metadata": {
        "colab": {
          "base_uri": "https://localhost:8080/"
        },
        "id": "yNws4QPSXFaL",
        "outputId": "47535ce3-82c2-4ea6-c483-38d139f15759"
      },
      "execution_count": null,
      "outputs": [
        {
          "output_type": "stream",
          "name": "stdout",
          "text": [
            "0.7968253968253968\n"
          ]
        }
      ]
    },
    {
      "cell_type": "code",
      "execution_count": null,
      "metadata": {
        "colab": {
          "base_uri": "https://localhost:8080/"
        },
        "id": "NHFry7SJ-WCZ",
        "outputId": "3967cbee-a3f9-4804-c02c-bd37bff10639"
      },
      "outputs": [
        {
          "output_type": "stream",
          "name": "stdout",
          "text": [
            "0.86328125\n"
          ]
        }
      ],
      "source": [
        "''' Saving metrics of best accuracy\n",
        " combining all datasets, X is separated by electron\n",
        " note: with 10 million parameters got 86.7% accuracy\n",
        " and with 5 million 86.3%\n",
        "\n",
        "optimizer = Adam(learning_rate=0.001, clipnorm=1.0)\n",
        "batch_size = 128\n",
        "epochs = 100\n",
        "early_stopping = tf.keras.callbacks.EarlyStopping(monitor='val_loss', patience=15,\n",
        "                                                  restore_best_weights=True)\n",
        "reduce_lr = tf.keras.callbacks.ReduceLROnPlateau(monitor='val_loss', factor=0.85,\n",
        "                              patience=10, min_lr=0.00001)\n",
        "\n",
        "model.compile(loss='sparse_categorical_crossentropy', optimizer=optimizer,\n",
        "              metrics=['accuracy'])\n",
        "hist = model.fit(X_train, y_train, callbacks=[early_stopping, reduce_lr],\n",
        "                 epochs=epochs, batch_size=batch_size, validation_split=0.10)\n",
        "model = keras.Sequential(\n",
        "    [\n",
        "        keras.Input(shape=input_shape),\n",
        "        layers.Conv2D(16, kernel_size=(3, 3), activation=\"relu\", padding=\"same\"),\n",
        "        layers.Conv2D(16, kernel_size=(3, 3), activation=\"relu\", padding=\"same\"),\n",
        "        layers.MaxPooling2D(pool_size=(2, 2)),\n",
        "        layers.Dropout(0.05),\n",
        "        layers.Conv2D(32, kernel_size=(3, 3), activation=\"relu\", padding=\"same\"),\n",
        "        layers.Conv2D(32, kernel_size=(3, 3), activation=\"relu\", padding=\"same\"),\n",
        "        layers.MaxPooling2D(pool_size=(2, 2)),\n",
        "        layers.Dropout(0.05),\n",
        "        layers.Conv2D(64, kernel_size=(3, 3), activation=\"relu\", padding=\"same\"),\n",
        "        layers.Conv2D(64, kernel_size=(3, 3), activation=\"relu\", padding=\"same\"),\n",
        "        layers.MaxPooling2D(pool_size=(2, 2)),\n",
        "        layers.Dropout(0.05),\n",
        "        layers.Flatten(),\n",
        "        layers.Dense(32, activation=\"relu\"),\n",
        "        layers.Dropout(0.10),\n",
        "        layers.Dense(output_shape, activation=\"softmax\"),\n",
        "    ]\n",
        ")'''\n",
        "\n",
        "best_accuracy = accuracy_score(y_test, y_pred_classes)\n",
        "print(best_accuracy)"
      ]
    },
    {
      "cell_type": "code",
      "source": [
        "# Best accuracies for differnet parameter numbers\n",
        "# Note: 5 and 10 million use 2D\n",
        "best_5_million = 0.863\n",
        "best_10_million = 0.867\n",
        "best_12_million = 0.82\n",
        "best_3_million = 0.852\n",
        "best_1_1_million = 0.84\n",
        "best_780K = 0.848\n",
        "best_600K = 0.852\n",
        "best_550K = 0.84\n",
        "best_376K = 0.848\n",
        "best_285K = 0.82\n",
        "# Overfitting seems to be less of a problem around here\n",
        "best_200K = 0.84\n",
        "best_98K = 0.796\n",
        "best_76K = 0.793\n",
        "best_54K = 0.801\n",
        "best_37K = 0.77\n",
        "best_26K = 0.84\n",
        "best_15K =  0.781\n",
        "best_12K = 0.801\n",
        "best_4K = 0.738"
      ],
      "metadata": {
        "id": "wWBcF4drwMyU"
      },
      "execution_count": null,
      "outputs": []
    },
    {
      "cell_type": "code",
      "source": [
        "# Code to save model if/when needed\n",
        "import pickle\n",
        "\n",
        "save_path = '/content/drive/MyDrive/grid_search_84.pkl' # Remember to change file name\n",
        "\n",
        "with open(save_path, 'wb') as file:\n",
        "    pickle.dump(opt_model, file)"
      ],
      "metadata": {
        "id": "smRFBK9MNuEK"
      },
      "execution_count": null,
      "outputs": []
    },
    {
      "cell_type": "code",
      "source": [
        "#  New FFT functions\n",
        "from scipy.signal import spectrogram\n",
        "print(epoched_total.shape)\n",
        "X_multichannel = epoched_total.reshape(1575, 508, 256, 1) #.reshape(130048, 175, 1) Ensure the shape matches (508, 35, 1)\n",
        "\n",
        "X = epoched_total.transpose(2, 3, 0, 1).reshape(-1, 256, 508)  # (175, 256, 508)\n",
        "y_multichannel = np.tile(np.arange(5), 315)  # Labels: [0, 1, 2, 3, 4, 0, 1, 2, ...]\n",
        "\n",
        "print(\"New X shape:\", X_multichannel.shape)  # (175, 256, 508)\n",
        "print(\"New y shape:\", y_multichannel.shape)  # (175,)\n",
        "\n",
        "def compute_eeg_fft_spectrogram(eeg_data, fs=250, window_size=25, step_size=10, fmax=50):\n",
        "  num_channels, num_samples = eeg_data.shape\n",
        "  freqs = np.fft.rfftfreq(window_size, d=1/fs)\n",
        "  max_bin = np.argmax(freqs > fmax) if np.any(freqs > fmax) else len(freqs)\n",
        "  num_windows = (num_samples - window_size) // step_size + 1\n",
        "  spec = np.zeros((num_channels, max_bin, num_windows))\n",
        "\n",
        "  for ch in range(num_channels):\n",
        "    for i in range(num_windows):\n",
        "      start = i * step_size\n",
        "      end = start + window_size\n",
        "      segment = eeg_data[ch, start:end]\n",
        "      fft_vals = np.abs(rfft(segment))[:max_bin]\n",
        "      spec[ch, :, i] = fft_vals\n",
        "\n",
        "  return spec, freqs[:max_bin]\n",
        "\n",
        "fmax = 50\n",
        "\n",
        "ffts_images = []\n",
        "for i in range(X.shape[0]):# Get a longer EEG window (1 second)\n",
        "  real_epoched = X[i, :, :, 0].T  # (channels, samples)\n",
        "\n",
        "  fft_img = compute_eeg_fft_spectrogram(real_epoched, fs=250, window_size=25, step_size=10, fmax=50)[0]\n",
        "  ffts_images.append(fft_img)\n",
        "\n",
        "plt.figure(figsize=(10, 6))\n",
        "plt.imshow( np.log1p(spectrogram[0]), origin='lower', aspect='auto',\n",
        "    cmap='viridis', extent=[0, spectrogram.shape[2], 0, spectrogram.shape[1]])\n",
        "plt.title(f\"Spectrogram - Channel {ch_idx}\")\n",
        "plt.xlabel(\"Time Window\")\n",
        "plt.ylabel(\"Frequency (Hz)\")\n",
        "plt.colorbar(label=\"Log Magnitude\")\n",
        "plt.tight_layout()\n",
        "plt.show()"
      ],
      "metadata": {
        "id": "j5LO-2AC6G20",
        "colab": {
          "base_uri": "https://localhost:8080/",
          "height": 280
        },
        "outputId": "6022bac6-5378-4115-9d3f-e234a44ae910"
      },
      "execution_count": null,
      "outputs": [
        {
          "output_type": "stream",
          "name": "stdout",
          "text": [
            "(256, 508, 315, 5)\n",
            "New X shape: (1575, 508, 256, 1)\n",
            "New y shape: (1575,)\n"
          ]
        },
        {
          "output_type": "error",
          "ename": "IndexError",
          "evalue": "too many indices for array: array is 3-dimensional, but 4 were indexed",
          "traceback": [
            "\u001b[0;31m---------------------------------------------------------------------------\u001b[0m",
            "\u001b[0;31mIndexError\u001b[0m                                Traceback (most recent call last)",
            "\u001b[0;32m<ipython-input-15-3af68b53fa92>\u001b[0m in \u001b[0;36m<cell line: 0>\u001b[0;34m()\u001b[0m\n\u001b[1;32m     31\u001b[0m \u001b[0mffts_images\u001b[0m \u001b[0;34m=\u001b[0m \u001b[0;34m[\u001b[0m\u001b[0;34m]\u001b[0m\u001b[0;34m\u001b[0m\u001b[0;34m\u001b[0m\u001b[0m\n\u001b[1;32m     32\u001b[0m \u001b[0;32mfor\u001b[0m \u001b[0mi\u001b[0m \u001b[0;32min\u001b[0m \u001b[0mrange\u001b[0m\u001b[0;34m(\u001b[0m\u001b[0mX\u001b[0m\u001b[0;34m.\u001b[0m\u001b[0mshape\u001b[0m\u001b[0;34m[\u001b[0m\u001b[0;36m0\u001b[0m\u001b[0;34m]\u001b[0m\u001b[0;34m)\u001b[0m\u001b[0;34m:\u001b[0m\u001b[0;31m# Get a longer EEG window (1 second)\u001b[0m\u001b[0;34m\u001b[0m\u001b[0;34m\u001b[0m\u001b[0m\n\u001b[0;32m---> 33\u001b[0;31m   \u001b[0mreal_epoched\u001b[0m \u001b[0;34m=\u001b[0m \u001b[0mX\u001b[0m\u001b[0;34m[\u001b[0m\u001b[0mi\u001b[0m\u001b[0;34m,\u001b[0m \u001b[0;34m:\u001b[0m\u001b[0;34m,\u001b[0m \u001b[0;34m:\u001b[0m\u001b[0;34m,\u001b[0m \u001b[0;36m0\u001b[0m\u001b[0;34m]\u001b[0m\u001b[0;34m.\u001b[0m\u001b[0mT\u001b[0m  \u001b[0;31m# (channels, samples)\u001b[0m\u001b[0;34m\u001b[0m\u001b[0;34m\u001b[0m\u001b[0m\n\u001b[0m\u001b[1;32m     34\u001b[0m \u001b[0;34m\u001b[0m\u001b[0m\n\u001b[1;32m     35\u001b[0m   \u001b[0mfft_img\u001b[0m \u001b[0;34m=\u001b[0m \u001b[0mcompute_eeg_fft_spectrogram\u001b[0m\u001b[0;34m(\u001b[0m\u001b[0mreal_epoched\u001b[0m\u001b[0;34m,\u001b[0m \u001b[0mfs\u001b[0m\u001b[0;34m=\u001b[0m\u001b[0;36m250\u001b[0m\u001b[0;34m,\u001b[0m \u001b[0mwindow_size\u001b[0m\u001b[0;34m=\u001b[0m\u001b[0;36m25\u001b[0m\u001b[0;34m,\u001b[0m \u001b[0mstep_size\u001b[0m\u001b[0;34m=\u001b[0m\u001b[0;36m10\u001b[0m\u001b[0;34m,\u001b[0m \u001b[0mfmax\u001b[0m\u001b[0;34m=\u001b[0m\u001b[0;36m50\u001b[0m\u001b[0;34m)\u001b[0m\u001b[0;34m[\u001b[0m\u001b[0;36m0\u001b[0m\u001b[0;34m]\u001b[0m\u001b[0;34m\u001b[0m\u001b[0;34m\u001b[0m\u001b[0m\n",
            "\u001b[0;31mIndexError\u001b[0m: too many indices for array: array is 3-dimensional, but 4 were indexed"
          ]
        }
      ]
    }
  ],
  "metadata": {
    "accelerator": "GPU",
    "colab": {
      "gpuType": "T4",
      "provenance": []
    },
    "kernelspec": {
      "display_name": "Python 3",
      "name": "python3"
    },
    "language_info": {
      "name": "python"
    }
  },
  "nbformat": 4,
  "nbformat_minor": 0
}